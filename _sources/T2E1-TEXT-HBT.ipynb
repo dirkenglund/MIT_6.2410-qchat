{
 "cells": [
  {
   "cell_type": "markdown",
   "id": "20ec57f4",
   "metadata": {
    "tags": [
     "remove-cell"
    ]
   },
   "source": [
    "# Latex Headers\n",
    "\n",
    " - Ensure proper support for certain latex notation\n",
    " - Code below\n",
    "\n",
    "$$\\newcommand{\\ket}[1]{\\left|{#1}\\right\\rangle}$$\n",
    "$$\\newcommand{\\bra}[1]{\\left\\langle{#1}\\right|}$$\n",
    "$$\\newcommand{\\braket}[2]{\\left\\langle{#1}\\middle|{#2}\\right\\rangle}$$\n",
    "$$\\newcommand{\\adagger}[0]{\\hat{a}^{\\dagger}}$$\n",
    "$$\\newcommand{\\ahat}[0]{\\hat{a}}$$\n",
    "$$\\newcommand{\\bdagger}[0]{\\hat{b}^{\\dagger}}$$\n",
    "$$\\newcommand{\\bhat}[0]{\\hat{b}}$$\n",
    "$$\\newcommand{\\cdagger}[0]{\\hat{c}^{\\dagger}}$$\n",
    "$$\\newcommand{\\chat}[0]{\\hat{c}}$$\n",
    "$$\\newcommand{\\ddagger}[0]{\\hat{d}^{\\dagger}}$$\n",
    "$$\\newcommand{\\dhat}[0]{\\hat{d}}$$\n",
    "$$\\newcommand{\\edagger}[0]{\\hat{e}^{\\dagger}}$$\n",
    "$$\\newcommand{\\ehat}[0]{\\hat{e}}$$\n",
    "$$\\newcommand{\\fdagger}[0]{\\hat{f}^{\\dagger}}$$\n",
    "$$\\newcommand{\\fhat}[0]{\\hat{f}}$$\n",
    "$$\\newcommand{\\gtwo}[0]{g^{(2)}}$$"
   ]
  },
  {
   "cell_type": "markdown",
   "id": "1b0db2bc",
   "metadata": {
    "tags": []
   },
   "source": [
    "# TEXT - Introduction to single photons with the quED (Week 1)\n",
    "In this text, we're going to go over some of the basics of working with single photons, especially how they relate to the quED experimental setup. We'll start with a single photon source, which you'll be using in the lab. Then we'll talk about how to detect single photons.\n",
    "\n",
    "Next, we're going to treat photons as indicidual particles, and we'll show how to verify that a source is indeed producing single photons. You'll reproduce that experiment in the lab.\n",
    "\n",
    "Finally, as time allows, we'll look at single-photon interference.\n",
    "\n",
    "1. [Source: Spontaneous Parametric Down-Conversion](#spdc)\n",
    "1. [Detection: Avalanche Photodiode](#apd)\n",
    "1. [Hanbury Brown-Twiss & Second order coherence $g^{(2)}$](#hbt)\n",
    "    1. classical\n",
    "    1. quantum"
   ]
  },
  {
   "cell_type": "markdown",
   "id": "cc3edb3d",
   "metadata": {},
   "source": [
    "## Single photon source: Spontaneous Parametric Down-Conversion (SPDC) <a id='spdc'></a>\n",
    "\n",
    "First, let's take a high level overview of how spontaneous parametric down conversion (SPDC) works. SPDC occurs when a pump photon is converted into 2 photons of less energy. Traditionally, one output photon is called the signal and the other is called the idler.\n",
    "\n",
    "\n",
    "###  Phase Matching Conditions\n",
    "One important feature of SPDC is the fact that it always obeys energy conservation: the energy of a pump photon before SPDC occurs is equal to the sum of the signal and idler photons after SPDC occurs.\n",
    "\n",
    ":::{figure-md} EnergyConservation\n",
    "<img src=\"FIGURES/quED/spdc_energyconsevation.png\" width=\"200\">\n",
    "\n",
    "Image from HC Photonics.\n",
    ":::\n",
    "\n",
    "\n",
    "Another important feature is that the momentum after SPDC must be the same as the momentum before SPDC to satisfy conservation of momentum.\n",
    "\n",
    "\n",
    ":::{figure-md} MomentumConservation\n",
    "<img src=\"FIGURES/quED/spdc_momentum.png\" width=\"300\">\n",
    "\n",
    "Image from Couteau's review paper.\n",
    ":::\n",
    "\n",
    "\n",
    "Recall that momentum is a vector, so the magnitude **and** direction need to be maintained. This is why we see that the signal and idler photons in the quED are non-colinear (they travel in different directions): their sum still matches the pump photons.\n",
    "\n",
    "Matching the momentum is an a challening part of generating SPDC. As you recall, $\\overrightarrow{k} = \\frac{2\\pi n}{\\lambda}$ where $n$, the index of refraction, is a function of $\\lambda$, the wavelength of the light. Choosing a material that has the appropriate index at the relevant wavelengths is challenging and involves looking at the dispersion relation, shown in figure {numref}`IndexMatching`.\n",
    "\n",
    "\n",
    "\n",
    ":::{figure-md} IndexMatching\n",
    "<img src=\"FIGURES/quED/spdc_index.png\" width=\"300\">\n",
    "\n",
    "Image from HC Photonics\n",
    ":::\n",
    "\n",
    "Additionally,matching the indices requires using different polarization for the photons, leading to different types of SPDC.\n",
    "\n",
    ":::{figure-md} SPDCTypes\n",
    "<img src=\"FIGURES/quED/spdc_types.png\" width=\"300\">\n",
    "\n",
    "Image from HC Photonics\n",
    ":::\n",
    "\n",
    "Knowing the types of SPDC is important when designing an SPDC source, but it's also important when *using* the SPDC source. The quED source is from Type 1 SPDC, as show in figure {numref} `quEDSPDCcone`, an image from the quTools manual for the quED. Look at how the output from the crystal is a series of cones concentric around the pump laser. When collecting the light from the SPDC output, it's important to make sure that the collection is of matching pairs from the same cone. Practically, the way to achieve that is by maximizing the the coincidence counts and not just the singles.\n",
    "\n",
    ":::{figure-md} quEDSPDCcone\n",
    "<img src=\"FIGURES/quED/manual_SPDC.jpg\" width=\"300\">\n",
    "\n",
    "Image from quED Manual\n",
    ":::"
   ]
  },
  {
   "cell_type": "markdown",
   "id": "c13e8bc0",
   "metadata": {
    "jp-MarkdownHeadingCollapsed": true,
    "tags": []
   },
   "source": [
    "### Wave equation\n",
    "In terms of the quantum optics, it's valuable to look at how SPDC can be described mathematically. First, let's consider the initial state of the system before SPDC occurs. We have a very powerful pump beam, which we express as a number state with $N_p$ photons. The signal and idler states are both vacuums, which are number states with 0 photons in them. So the initial state is given by\n",
    "\n",
    "$$|\\psi\\rangle = |0_s,0_i,N_p\\rangle$$\n",
    "\n",
    "SPDC has a Hamiltonian that is in the form of\n",
    "\n",
    "$$\\hat{H}_{SPDC} = i\\hbar\\kappa \\hat{a}^{\\dagger}_i\\hat{a}^{\\dagger}_s\\hat{a}_p e^{-i\\Delta\\overrightarrow{k} \\cdot\\overrightarrow{r} + i\\Delta\\omega t} + conjugate$$\n",
    "\n",
    "Here we see that SPDC annihilates a pump photon ($\\hat{a}_p$) and creates a signal ($\\hat{a}^{\\dagger}_s$) and idler ($\\hat{a}^{\\dagger}_i$) photon. $\\kappa$ is very small, so the output state can be approximated as:\n",
    "\n",
    "$$|\\psi\\rangle = C_0|0_s,0_i,N_p\\rangle + \\kappa C_1e^{-i\\Delta\\overrightarrow{k}\\cdot\\overrightarrow{r}}|1_s,1_i,N_p - 1\\rangle$$\n",
    "\n",
    "Here, $C_0$ and $C_1$ are coefficients for getting a normalized wavefunction. Based on the approximations made, $C_0 >> C_1$. Additionally, $\\kappa$ is a parameter based on the specific SPDC setup. \n",
    "\n",
    "$$\\kappa = \\frac{2}{3}\\frac{d_{eff}}{\\epsilon_0V}\\sqrt{\\frac{\\omega_p\\omega_i\\omega_s}{2\\epsilon_0V}}$$\n",
    "\n",
    "$d_{eff}$ is the effective nonlinearity factor of the crystal and is given in (picometers)(Volts)$^{-1}$, the permitivity of free space $\\epsilon_0$ is $8.854e^{-12}$ (Coulombs)(Volt)$^{-1}$ (meter)$^{-1}$.$V$ is the quantization volume, and the various $\\omega$ are the frequencies of the pump, signal, and idler. This evaluation of $\\kappa$ is simplified, not capturing all ways the different experimental setup can affect the amplitude of the SPDC output. The important part is the proportionality to $d_{eff}$ which is on the order of $1$ pm/V.  \n",
    "\n",
    "### Classical Nonlinear optics\n",
    "\n",
    "Briefly, SPDC is a fundamentally quantum process: it can't be described by classical nonlinear optics. In classical nonlinear optics, parametric ampification is the process where you combine a source with frequency $\\omega_p$ and another source frequency with $\\omega_i$ in a nonlinear crystal to generate a field at $\\omega_s = \\omega_p - \\omega_i$ and amplify the field at $\\omega_i$. This is similar to SPDC in that you're generating light at a wavelength longer than the pump, but it's disimilar in that it *requires* a non-zero input at $\\omega_i$. This is what makes SPDC spontaneous: the output at the signal and idler aren't stimulated by any input because the input is in the vacuum state.\n",
    "\n",
    "### Further reading\n",
    "\n",
    "For a good overview of SPDC with additional details, this [Review Article](https://doi.org/10.1080/00107514.2018.1488463 'DOI') is recommended. Additionally, for more information about designing a system to produce SPDC, the [HC Photonics PPLN GUIDE: Overview](https://www.hcphotonics.com/ppln-guide-overview) is very informative. For nonlinear optics, Robert W. Boyd's *Nonlinear Optics* is an excellent textbook."
   ]
  },
  {
   "cell_type": "markdown",
   "id": "4649d6e1",
   "metadata": {
    "jp-MarkdownHeadingCollapsed": true,
    "tags": []
   },
   "source": [
    "### Detection <a id='apd'></a>\n",
    "\n",
    "The detectors in this class will mostly be treated as a black box: you put in some photons, you get out a count of the photons. However, if you've never worked with photodetectors, it can be helpful to look briefly at how detectors work.\n",
    "\n",
    "Briefly, a photodetector uses a photodiode to generate a photocurrent, which can be amplified or measured directly. The high level understanding is that you shine a light on a device, and the light is absorbed and creates a current. Figure {numref} `Detector` below shows a basic cartoon of the process. A photodiode is a semiconductor device based on a crystal structure. In this type of crystal structure, one region has mobile electrons while another has mobile positive charges, called holes. When an incident photon (energy $h\\nu$) has enough energy to overcome the bandgap energy $E_g$, it can excite an electron and a hole enough that an applied voltage will move the charge carriers. This movement of charge generates a photocurrent.\n",
    "\n",
    ":::{figure-md} Detector\n",
    "<img src=\"FIGURES/quED/detector.jpg\" width=\"600\">\n",
    "\n",
    "Image from Saleh and Teich.\n",
    ":::\n",
    "\n",
    "Our particular device are avalanche photodetectors (APD). What makes them special is that they're designed so that once an incident photon excites an electron and hole, that electron and hole excite an additional electron and hole, which excites an additional electron an hole. This creates an \"avalanche\" effect and makes it possible to measure single photons."
   ]
  },
  {
   "cell_type": "markdown",
   "id": "ec9d38dd",
   "metadata": {},
   "source": [
    "## Second order coherence - $\\gtwo$(0)<a id='hbt'></a>\n",
    "\n",
    "Now that you know more about the source and detectors we have available, let's look at our first experiment to measure the second order coherence, $\\gtwo$. $\\gtwo$ is an important parameter when describing a light source, giving us information about how close the actual source is to an ideal.\n",
    "\n",
    "Let's first review the mechanics of a beamsplitter, an essential component in this measurement."
   ]
  },
  {
   "cell_type": "markdown",
   "id": "08c3cabb",
   "metadata": {},
   "source": [
    "### Recall a beamsplitter\n",
    "\n",
    "Consider a lossless 50/50 beamsplitter with indpendent inputs $\\ahat$ and $\\bhat$. The outputs $\\chat$ and $\\dhat$ are defined as\n",
    "\n",
    "$$\\chat = \\frac{1}{\\sqrt{2}}\\ahat + \\frac{1}{\\sqrt{2}}\\bhat$$\n",
    "$$\\dhat = \\frac{1}{\\sqrt{2}}\\ahat - \\frac{1}{\\sqrt{2}}\\bhat$$\n",
    "\n",
    ":::{figure-md} Beamsplitter\n",
    "<img src=\"FIGURES/quED/beamsplitter.png\" width=\"600\">\n",
    "\n",
    "A beamsplitter.\n",
    ":::\n",
    "\n",
    "The operators of each field $\\ahat$ and $\\bhat$ satisfy the boson commutation relations\n",
    "\n",
    "$$[\\ahat,\\adagger] = \\ahat\\adagger - \\adagger\\ahat = [\\bhat,\\bdagger] = 1$$\n",
    " \n",
    " and that $\\ahat$ and $\\bhat$ are independent fields, ie\n",
    " \n",
    " $$[\\ahat,\\bdagger] = [\\bhat,\\adagger] = 0$$\n",
    " \n",
    "You can verify that the outputs follow the same pattern and that the commutation relations are maintained.\n",
    " \n",
    " $$[\\chat,\\cdagger] = [\\dhat,\\ddagger] = 1$$\n",
    " \n",
    " and\n",
    " \n",
    "  $$[\\chat,\\ddagger] = [\\dhat,\\cdagger] = 0$$"
   ]
  },
  {
   "cell_type": "markdown",
   "id": "a1f02089",
   "metadata": {},
   "source": [
    "### Hanbury Brown-Twiss (HBT) Experiment\n",
    "\n",
    "The Hanbury Brown-Twiss (HBT) experiment was first conducted by astronomers, but it's now used in quantum optics. The schematic is show below. There's a 50-50 beamsplitter, and only one input port, $\\ahat$ has light shining in. The other input port, $\\bhat$ is in a vacuum state. The measurement is taken by putting detectors at the output ports $\\chat$ and $\\dhat$ and measuring the singles and coincidences.\n",
    "\n",
    ":::{figure-md} HBTSchematic\n",
    "<img src=\"FIGURES/quED/HBT_cartoon.png\" width=\"600\">\n",
    "\n",
    "Schematic of the HBT setup.\n",
    ":::\n",
    "\n",
    "First, let's look at the experiment in one particular case, when the input light is in the single photon number state."
   ]
  },
  {
   "cell_type": "markdown",
   "id": "78a22f4a",
   "metadata": {},
   "source": [
    "### Coincidence with a single photon\n",
    "Specifically, we want to know how often we get a photon at both $\\chat$ and $\\dhat$ simultaneously. We call this a *coincidence* meaning an event where 2 (or more) detection events occur within a short period of time (on the scale of  a few nanoseconds) on 2 separate detectors. Looking at coincidences is an important measurement in quantum optics.\n",
    "\n",
    "What is the coincidence of $\\chat$ and $\\dhat$?\n",
    "\n",
    "$$\\langle n_c n_d\\rangle = {}_b\\langle0|{}_a\\langle1|\\hat{n}_c\\hat{n}_d|1\\rangle_a|0\\rangle_b$$\n",
    "$$ = {}_b\\langle0|{}_a\\langle1|\\frac{1}{\\sqrt{2}}(\\adagger + \\bdagger)\\frac{1}{\\sqrt{2}}(\\ahat + \\bhat)\\frac{1}{\\sqrt{2}}(\\adagger - \\bdagger)\\frac{1}{\\sqrt{2}}(\\ahat - \\bhat)|1\\rangle_a|0\\rangle_b$$ \n",
    "$$ = \\frac{1}{4}{}_b\\langle0|{}_a\\langle1|(\\adagger\\ahat + \\adagger\\bhat + \\bdagger\\ahat + \\bdagger\\bhat)(\\adagger\\ahat - \\adagger\\bhat - \\bdagger\\ahat + \\bdagger\\bhat)|1\\rangle_a|0\\rangle_b$$ \n",
    "$$ = \\frac{1}{4}{}_b\\langle0|{}_a\\langle1|(\\adagger\\ahat\\adagger\\ahat - \\adagger\\bhat\\bdagger\\ahat|1\\rangle_a|0\\rangle_b$$ \n",
    "$$ = \\frac{1}{4}{}_b\\langle0|{}_a\\langle1|(\\hat{n}_a^2 - \\hat{n}_a(1 + \\hat{n}_b)|1\\rangle_a|0\\rangle_b$$ \n",
    "$$ = \\frac{1}{4}{}_a\\langle1|\\hat{n}_a(\\hat{n}_a - 1)|1\\rangle_a$$ \n",
    "$$ = 0 $$\n",
    "\n",
    "So we see in the case with a single photon input into a beamsplitter we expect 0 coincidences. Conceptually this makes sense: a single photon can only go through one of 2 paths in the beamsplitter. If we look at both outputs of the beamsplitter at the same time, we should only see a click on one of the outputs.\n",
    "\n",
    "The video below works through this math step by step, in case you'd like to see how the operator math can be evaluated.\n",
    "\n",
    "<iframe src=\"https://drive.google.com/file/d/1mwGIT02T_--aJ-tp_Cb0yPVsnxI6hhyQ/preview\" width=\"640\" height=\"480\" allow=\"autoplay\"></iframe>"
   ]
  },
  {
   "cell_type": "markdown",
   "id": "4f0ba5db",
   "metadata": {},
   "source": [
    "### Second order time coherence\n",
    "\n",
    "The above exercise is a necessary step for finding the *second-order coherence*. The most general case assumes the detectors record events at slightly different times, ie the detection time at detector c is $t_c$ while the detection at detector d is $t_d$. This allows us to account for situations where the detectors are slightly different distances away from the beamsplitter.\n",
    "\n",
    "$$\\gtwo(t_c,t_d) = \\frac{\\langle\\hat{n}_c(t_c)\\hat{n}_d(t_d)\\rangle}{\\langle\\hat{n}_c(t_c)\\rangle\\langle\\hat{n}_d(t_d)\\rangle}$$\n",
    "\n",
    "If, as above, $\\bhat$ is in a vacuum state, for and $t_c = t_d$, we can simplify to\n",
    "\n",
    "$$\\gtwo(0) = \\frac{\\langle\\hat{n}_a(\\hat{n}_a -1)\\rangle}{\\langle\\hat{n}_a\\rangle^2}$$\n",
    "\n",
    "Clearly, for the case of $\\ahat$ being in the $|1\\rangle$ state, we find $g^{(2)}(0) = 0 $.\n"
   ]
  },
  {
   "cell_type": "markdown",
   "id": "0b3daff5",
   "metadata": {
    "jp-MarkdownHeadingCollapsed": true,
    "tags": []
   },
   "source": [
    "### Heralded single-photon source\n",
    "\n",
    "The set-up we'll see in the lab, however, isn't a case with single photons. SPDC is a *heralded* single photon source. That means that if an idler photon is generated, it's extremely likely we'll measure a corresponding signal photon. Due to issues like multiple pair emissions in the crystal and detector-related issues like dark counts and stray light, it's not a 100% correlation, but the probability is still very high.\n",
    "\n",
    "The result is that the $\\gtwo$ we're interested in is conditioned on detecting an idler photon in the other arm, as in the image below. That is to say that we only want to look for coincidences between the two signal detectors when there is also a detection event in the idler detector.\n",
    "\n",
    ":::{figure-md} Heralded HBT\n",
    "<img src=\"FIGURES/quED/HBT_heralded.png\" width=\"400\">\n",
    "\n",
    "Image from quTools.\n",
    ":::\n",
    "\n",
    "The $\\gtwo$ measurement is now conditioned on the idler detection at time $t_i$, which we is expressed the following\n",
    "\n",
    "$$\\gtwo(t_c,t_d|t_i) = \\frac{\\langle\\hat{n}_c(t_c)\\hat{n}_d(t_d)\\rangle_{pm}}{\\langle\\hat{n}_c(t_c)\\rangle_{pm}\\langle\\hat{n}_d(t_d)\\rangle_{pm}}$$\n",
    "\n",
    "where the \"pm\" subscript tells us to wait post-measurement to select which detections to use. The formal math is worked out in [Bocquillon et al, PRA 79 035801 (2009)](http://dx.doi.org/10.1103/PhysRevA.79.035801) and [Razavi et al, JPhysB 42 114013 (2009)](http://stacks.iop.org/JPhysB/42/114013), but we're going to approach this conceptually.\n",
    "\n",
    "First, let's look at the numerator term, $N = \\langle\\hat{n}_c(t_c)\\hat{n}_d(t_d)\\rangle_{pm}$. Effectively, we're saying that we're looking at coincidences at c and d only in the case we make a measurement at i. So, that means we're looking for three-fold coincidences $\\langle\\hat{n}_c\\hat{n}_d\\hat{n}_i\\rangle$. \n",
    "\n",
    "We want to normalize this to what we would expect if we were measuring uncorrelated light. For detector $j$ where $j = c, d, i$, we say that the measured singles, $N_j$, over a measurement time $T$ is equal to the probability of getting a count, $p_j$, multiplied by the number of coincidence bins, $\\frac{T}{\\Delta_w}$ where $\\Delta_w$ is the coincidence bin width. That is\n",
    "\n",
    "$$N_j = p_j \\cdot \\frac{T}{\\Delta_w}$$\n",
    "\n",
    "Now, for uncorrelated light sources, we expect the probability of three-fold coincidences over time $T$ to be equal to the product of the probabilities\n",
    "\n",
    "$$p^a_{icd} = p_i \\cdot p_c \\cdot p_d = N_c \\cdot \\frac{\\Delta_w}{T} \\cdot N_d \\cdot \\frac{\\Delta_w}{T} \\cdot N_i \\cdot \\frac{\\Delta_w}{T} = N_c N_d N_i (\\frac{\\Delta_w}{T})^3$$\n",
    "\n",
    "However, our setup makes it easier for us to measure two-fold coincidences. So, let's consider the probability of a three fold coincidence in the following way:\n",
    "\n",
    "$$p^a_{icd} = p^a_{ic} \\cdot p_d = p^a_{ic} \\cdot \\frac{p_i}{p_i} \\cdot p_d = \\frac{p^a_{ic}p^a_{id}}{p_i}$$ \n",
    "\n",
    "Similarly as above, we're assuming that the expected number of coincidences $N_{12}$ over time $T$ with coincidence window $\\Delta_w$ is given by $N_{12} = p_{12} \\cdot \\frac{T}{\\Delta_w}$, which means that\n",
    "\n",
    "$$ p^a_{icd} = \\frac{N_{ic} \\frac{\\Delta_w}{T} N_{id} \\frac{\\Delta_w}{T}}{N_i\\frac{\\Delta_w}{T}}  = \\frac{N_{ic}N_{id}}{N_i}\\frac{\\Delta_w}{T}$$ \n",
    "\n",
    "Now we have an expression for $p^a_{icd}$ which gives us the probability of getting a three-fold coincidence during coincidence window $\\Delta_w$. This expression is in the form of $\\Delta_w$, total measurement time $T$, and the number of two-fold coincidences $N_{ic}$ and $N_{id}$ as well as the total number of idler counts in that time, $N_i$. Now, to get from the probability to the expected valued, we multiply by the total number of coincidence bins over our measurement time, $\\frac{T}{\\Delta_w}$, which gives us the following:\n",
    "\n",
    "$$N^a_{icd} = \\frac{N_{ic}N_{id}}{N_i}\\frac{\\Delta_w}{T} \\cdot \\frac{T}{\\Delta_w} = \\frac{N_{ic}N_{id}}{N_i}$$\n",
    "\n",
    "Now, going back to $\\gtwo$, we now take the ratio of our measured $N_{icd}$ compared to what we expect for independet light sources, and we get\n",
    "\n",
    "$$\\gtwo(0) = \\frac{N_{icd}N_i}{N_{ic}N_{id}}$$\n",
    "\n",
    "\n",
    "The video below is a lecture that nicely walks through how you look at the $\\gtwo(0)$ measurement of a heralded source. The relevant part is about 20 minutes long, and it's based on straighforward probability and developing physical intuition about the HBT experiment.\n",
    "\n",
    "<iframe width=\"560\" height=\"315\" src=\"https://www.youtube-nocookie.com/embed/4zsd31E2n4w?start=635\" title=\"YouTube video player\" frameborder=\"0\" allow=\"accelerometer; autoplay; clipboard-write; encrypted-media; gyroscope; picture-in-picture; web-share\" allowfullscreen></iframe>"
   ]
  },
  {
   "cell_type": "markdown",
   "id": "2b7096d8-ee4f-446c-a828-039c3440ebf8",
   "metadata": {
    "id": "yunGc95UrfWc"
   },
   "source": [
    "##  Simulation by QuTip\n",
    "We can model the SPDC process and squeezed light via the formalism of the degenerate parametric amplifier."
   ]
  },
  {
   "cell_type": "code",
   "execution_count": 3,
   "id": "339ccc2e-0962-4655-a431-0354fd7e0c8b",
   "metadata": {
    "colab": {
     "base_uri": "https://localhost:8080/"
    },
    "id": "THsLINEVxCft",
    "outputId": "c1f6f3b0-cefc-4942-93e7-25977c2b86a7"
   },
   "outputs": [
    {
     "name": "stdout",
     "output_type": "stream",
     "text": [
      "Requirement already satisfied: qutip in /home/dkeathley/anaconda3/lib/python3.8/site-packages (4.7.1)\n",
      "Requirement already satisfied: numpy>=1.16.6 in /home/dkeathley/anaconda3/lib/python3.8/site-packages (from qutip) (1.23.5)\n",
      "Requirement already satisfied: packaging in /home/dkeathley/anaconda3/lib/python3.8/site-packages (from qutip) (21.3)\n",
      "Requirement already satisfied: scipy>=1.0 in /home/dkeathley/anaconda3/lib/python3.8/site-packages (from qutip) (1.9.3)\n",
      "Requirement already satisfied: pyparsing!=3.0.5,>=2.0.2 in /home/dkeathley/anaconda3/lib/python3.8/site-packages (from packaging->qutip) (3.0.9)\n"
     ]
    }
   ],
   "source": [
    "!pip install qutip\n",
    "\n",
    "from qutip import *\n",
    "\n",
    "%matplotlib inline\n",
    "import matplotlib.pyplot as plt\n",
    "from matplotlib import cm\n",
    "import numpy as np\n",
    "from numpy import *\n",
    "# install QuTip\n"
   ]
  },
  {
   "cell_type": "markdown",
   "id": "829f52eb-1d91-4d68-ab68-df3466e67721",
   "metadata": {
    "id": "q_fwmVAr0MFi"
   },
   "source": [
    "Operators and Hamiltonian\n",
    "-------------------------"
   ]
  },
  {
   "cell_type": "markdown",
   "id": "bf005f34-0410-4522-8940-b61e7aa33100",
   "metadata": {
    "id": "yh55dTMQjRM4"
   },
   "source": [
    "In the following code, we set the parameters chi, N1, and N2, which are used to define the system's operators a, na, b, and nb. These operators represent the annihilation and number operators for two distinct modes of the system.\n",
    "\n",
    "The tensor() function is used to create composite operators that act on the joint Hilbert space of the two modes. The destroy() and num() functions create the annihilation and number operators, respectively.\n",
    "\n",
    "We obtain the interaction Hamiltonian Hab from the expection of the pump laser field $$| \\alpha_p\\rangle = D(\\alpha_p) |0\\rangle $$ where the displacement operator $$D(\\alpha_p)$$ creates the coherent state in mode p. Let's assume  $$\\alpha_p \\in \\mathbb{R} $$ to avoid some math tedium. Then, in the interaction picture,\n",
    "\n",
    "$$\n",
    "\\begin{aligned}\n",
    "H_{ab} &= \\langle \\alpha_p | H_{abp} | \\alpha_p \\rangle \\\\\n",
    "&= -i \\chi_2 (a b \\alpha_p^* - a^{\\dagger} b^{\\dagger} \\alpha_p) \\\\\n",
    "&= -i \\chi_2 \\alpha_p (a b - a^{\\dagger} b^{\\dagger}) \\\\\n",
    "&= -i \\hbar \\frac{\\chi}{2} (a b - a^{\\dagger} b^{\\dagger})\n",
    "\\end{aligned}\n",
    "$$\n",
    "\n",
    "where we define\n",
    "\n",
    "$$\n",
    "\\chi \\equiv \\frac{2 \\chi_2 |\\alpha_p|}{\\hbar}.\n",
    "$$\n",
    "\n",
    "Here, we explicitly factored out the $\\hbar$ term to simplify the subsequent math since that $\\hbar$ will be canceled by the $\\hbar$ in the denominator of the time dependent Schrodinger equation, $\\frac{\\partial}{\\partial t} |\\psi(t)\\rangle = -\\frac{i}{\\hbar} H |\\psi(t)\\rangle$.\n",
    "\n",
    "By default, the unit of time in Qutip is set to dimensionless, so $\\hbar$ is used to convert between dimensionless time and physical time.\n",
    " \n"
   ]
  },
  {
   "cell_type": "code",
   "execution_count": 4,
   "id": "0846c07c-fa8a-4ae8-9b8a-915c1af52198",
   "metadata": {
    "colab": {
     "base_uri": "https://localhost:8080/"
    },
    "id": "4x_UB-G30MFi",
    "outputId": "3b2b86f0-223e-41b7-ae2c-5b775b8ad20f"
   },
   "outputs": [
    {
     "name": "stdout",
     "output_type": "stream",
     "text": [
      "9.992292869760638e-07\n"
     ]
    }
   ],
   "source": [
    "#Constants\n",
    "hbar=6.67e-34/(2*pi)\n",
    "eps0=8.85e-12\n",
    "c=3e8\n",
    "#Parameters\n",
    "phase_matching_bandwidth=1e13 # approximate in Hz\n",
    "n_refr = 2.2\n",
    "beam_power=1e-2 # in Watts\n",
    "beam_area=1e-5**2 # in m^2\n",
    "pump_intensity=beam_power/beam_area\n",
    "alpha_p = pow(2*pump_intensity/(c*eps0*n_refr),1/2)\n",
    "\n",
    "#presentation parameters\n",
    "plot_fontsize=12\n",
    "\n",
    "#print(alpha_p)\n",
    "chi2=2.7e-12 # (2.7 pm/V according to https://www.unitedcrystals.com/BBOProp.html) \n",
    "#chi = 0.2\n",
    "chi = 2*chi2*alpha_p/hbar\n",
    "print(chi*hbar)\n",
    "N1 = 30\n",
    "N2 = 30\n",
    "\n",
    "\n",
    "# definitions of operators \n",
    "a  = tensor(destroy(N1), qeye(N2))\n",
    "na = tensor(num(N1),     qeye(N2)) \n",
    "b  = tensor(qeye(N1),    destroy(N2))\n",
    "nb = tensor(qeye(N1),    num(N2)) \n",
    "\n",
    "#We obtain the following interaction Hamiltonian on the three fields $$a,b,p$$ after tracing out the pump field \n",
    "# the fully quantum 3-wave mixing Hamiltonion would be H_abp = chi2 * (a * b * p.dag() + a.dag() * b.dag() * p)\n",
    "\n",
    "Hab = - 1j* hbar *chi * (a * b - a.dag() * b.dag())/2\n",
    "\n"
   ]
  },
  {
   "cell_type": "markdown",
   "id": "5ddb8786-eb23-4b9e-83c0-03c511d4f2e7",
   "metadata": {
    "id": "LVphDfno0MFj"
   },
   "source": [
    "Initial state and state evolution\n",
    "---------"
   ]
  },
  {
   "cell_type": "markdown",
   "id": "224ee888-295b-4b07-996b-07ddc218246a",
   "metadata": {
    "id": "qpoMvK2Wp-6k"
   },
   "source": [
    "In the following, we'll will: \n",
    "* initialize the input state psi0 of modes a and b, which are both in the vacuum state \n",
    "* tlist: tlist is a list of times that specifies the times at which the system should be evaluated during the evolution. In the example, tlist is created using the numpy function linspace, which generates an array of evenly spaced values over a specified interval. \n",
    "\n",
    "* c_ops is a list of collapse operators that describe the sources of decoherence and dissipation in the system. Collapse operators represent the interactions of the system with its environment that cause transitions between the energy eigenstates of the system.\n",
    "* e_ops is a python list storing observables. Here, the e_ops list is empty, which means that there are no observables being monitored during the evolution of the system.\n",
    "\n",
    "* We use the function mesolve from the Qutip library to solve the [quantum master equation ](https://https://en.wikipedia.org/wiki/Quantum_master_equation) to find the time evolution of the system. The function takes as input the Hamiltonian Hab, the initial state psi0, the list of times tlist, the list of collapse operators c_ops, and the list of observables e_ops. The function returns an object output that contains information about the time evolution of the system, such as the states of the system at each time in tlist.\n",
    "\n",
    "\n",
    "\n",
    "In the example, the c_ops list is empty, which means that there are no sources of decoherence or dissipation in the system. As a result, the evolution of the system is purely unitary and described by the Hamiltonian $H_{ab}$. \n",
    "\n",
    "The following code uses a python dictionary data structure to conveniently store operators and expected values. In anticipation of correlation values to be considered below, we're including those in our dictionary as well.  "
   ]
  },
  {
   "cell_type": "code",
   "execution_count": 5,
   "id": "0795f8b7-437a-4721-b281-7162c3430caa",
   "metadata": {
    "id": "fb8FYt73L_mU"
   },
   "outputs": [],
   "source": [
    "# start in the ground (vacuum) state\n",
    "psi0 = tensor(basis(N1,0), basis(N2,0)) # initial state in the vacuum\n",
    "# REVISION: to allow for some background light contamination (room lights, fluorescence, etc), let's actually start in a thermal state with mean photon number..\n",
    "# REVISION2: with thermal state, the code has to do density matrix evolution which is super slow. let's approximate by equally bright coherent state (which is an equally good approximation as there may be some laser background etc)\n",
    "#psi0= tensor(thermal_dm(N1, background_photons),thermal_dm(N2, background_photons))\n",
    "#psi0= tensor(displace(N1,sqrt(background_photons)),displace(N2,sqrt(background_photons)))*psi0\n",
    "#psi0= tensor(displace(N1,sqrt(background_photons)),displace(N2,sqrt(background_photons)))*psi0\n",
    "theta=0\n",
    "background_photons=1e-20\n",
    "psi0=cos(theta)**2*psi0 +sin(theta)**2 * tensor(displace(N1,sqrt(background_photons)),qeye(N2))*psi0\n",
    "           \n",
    "tlist = np.linspace(0, 1000, 1000) # tlist is a list of times that specifies the times at which the system should be evaluated during the evolution. In the example, tlist is created using the numpy function linspace, which generates an array of evenly spaced values over a specified interval.\n",
    "c_ops = [] # c_ops is a list of collapse operators that describe the sources of decoherence and dissipation in the system. Collapse operators represent the interactions of the system with its environment that cause transitions between the energy eigenstates of the system.\n",
    "e_ops = [] # e_ops is a python list storing observables. Here, the e_ops list is empty, which means that there are no observables being monitored during the evolution of the system\n",
    "psi_out = mesolve(Hab, psi0, tlist, c_ops, e_ops)\n",
    "\n",
    "ops_dict = {\n",
    "  \"na\": a.dag() * a,\n",
    "  \"na_squared\": (a.dag() * a)**2,\n",
    "  \"nb\": b.dag() * b,\n",
    "  \"nb_squared\": (b.dag() * b)**2,\n",
    "}\n",
    "\n",
    "expected_vals_dict = {key: np.zeros(len(psi_out.states)) for key in ops_dict.keys()}\n",
    "\n",
    "for idx, psi in enumerate(psi_out.states):\n",
    "  for key in ops_dict.keys():\n",
    "    expected_vals_dict[key][idx] = expect(ops_dict[key], psi)\n"
   ]
  },
  {
   "cell_type": "markdown",
   "id": "489b7322-e3d1-400e-8354-0a38a3d3cc0e",
   "metadata": {
    "id": "EOyImgiw3onf"
   },
   "source": [
    "Let's study $|\\psi_{out} \\rangle$ by plotting four subplots that show the average number of photons in each mode a and b, as well as their fluctuations, as a function of time. The subplots are labeled with the corresponding quantities and the x-axis of all subplots is shared."
   ]
  },
  {
   "cell_type": "code",
   "execution_count": 6,
   "id": "fc29d523-546c-474e-a3b4-5a0db742d56e",
   "metadata": {
    "colab": {
     "base_uri": "https://localhost:8080/",
     "height": 603
    },
    "id": "QR7ztOqDAtpl",
    "outputId": "84252a57-16ed-43d9-b82e-8b6fbb3730f0"
   },
   "outputs": [
    {
     "name": "stdout",
     "output_type": "stream",
     "text": [
      "max_photon_flux_a=phase_matching_bandwidth * max(<ada>)= 2.5e+06 photons/sec\n"
     ]
    },
    {
     "data": {
      "image/png": "[encoded data removed]",
      "text/plain": [
       "<Figure size 1200x800 with 4 Axes>"
      ]
     },
     "metadata": {},
     "output_type": "display_data"
    }
   ],
   "source": [
    "fig, axes = plt.subplots(2, 2, sharex=True, figsize=(12,8))\n",
    "\n",
    "lines = [\n",
    "    [axes[0,0].plot(tlist, expected_vals_dict[\"na\"], 'rx', linewidth=2), r'$\\langle \\psi_{out}| n_a| \\psi_{out} \\rangle \\equiv \\langle \\psi_{out}| a^\\dagger a | \\psi_{out} \\rangle \\equiv \\langle a^\\dagger a \\rangle$'],\n",
    "    [axes[0,1].plot(tlist, expected_vals_dict[\"nb\"], 'bx', linewidth=2), r'$\\langle n_b \\rangle$'],\n",
    "    [axes[1,0].plot(tlist, np.sqrt(expected_vals_dict[\"na_squared\"] - expected_vals_dict[\"na\"]**2), 'rx', linewidth=2), r'$\\sqrt{\\langle( n_a - \\langle n_a \\rangle )^{2} \\rangle }$'],\n",
    "    [axes[1,1].plot(tlist, np.sqrt(expected_vals_dict[\"nb_squared\"] - expected_vals_dict[\"nb\"]**2), 'bx', linewidth=2), r'$\\sqrt{\\langle( n_b -\\langle n_b \\rangle)^{2}\\rangle }$'],\n",
    "    [axes[1,0].plot(tlist, np.sqrt(expected_vals_dict[\"na\"]**2+expected_vals_dict[\"na\"]), 'k-', linewidth=2), r'$\\sqrt{\\langle n_a \\rangle + \\langle n_a \\rangle^{2} }$'],\n",
    "    [axes[1,1].plot(tlist, np.sqrt(expected_vals_dict[\"nb_squared\"]), 'k-', linewidth=2), r'$\\sqrt{\\langle n_b \\rangle + \\langle n_b \\rangle^{2} }$']\n",
    "]\n",
    "\n",
    "for idx, line in enumerate(lines[:4]):\n",
    "    line[0][0].set_label(line[1])\n",
    "    axes[idx//2, idx%2].legend()\n",
    "    \n",
    "print(\"max_photon_flux_a=phase_matching_bandwidth * max(<ada>)= {:.1e} photons/sec\".format(phase_matching_bandwidth * max(expected_vals_dict[\"na\"])))\n",
    "\n",
    "fig.tight_layout()\n"
   ]
  },
  {
   "cell_type": "markdown",
   "id": "28250802-7df1-40ea-8e81-0e68ae4425c0",
   "metadata": {
    "id": "iOqrIWrv0MFk"
   },
   "source": [
    "State evolution in Fock-state basis\n",
    "-----------------------\n",
    "Next, we will plot the photon distributions of two quantum optical modes a and b at selected times. The time indices are spaced over Ntsamples time steps and are stored in the t_idx_vec list. \n",
    "\n",
    "The following subplots show the state evolution (note the plots have shared horizontal and vertical axes). We represent the photon distributions as bar plots on the subplots. "
   ]
  },
  {
   "cell_type": "code",
   "execution_count": 7,
   "id": "093090d1-84df-45cc-a380-c4143deb378d",
   "metadata": {
    "colab": {
     "base_uri": "https://localhost:8080/",
     "height": 419,
     "referenced_widgets": [
      "42c809220f3f49988b043c1645f5c77b",
      "c79dde1bed7a4b82a607e0bac138e459",
      "88f8dfd97a7948b0adc113cbd5f7ed20",
      "317a7a572f5348639b6dbd4801f5ab05",
      "e4c1e8d813304b3eba38e0c545850c17",
      "f5bb3eade0f240d79d7dab39194d3fb2",
      "c79caeaa04d745a389909b23fd2e9d7d"
     ]
    },
    "id": "2MupTXjl7QaN",
    "outputId": "ead0c6ea-1b77-48ea-d84e-06b4954b279a"
   },
   "outputs": [
    {
     "data": {
      "application/vnd.jupyter.widget-view+json": {
       "model_id": "a1df28401de84e07a4ecae96177f302a",
       "version_major": 2,
       "version_minor": 0
      },
      "text/plain": [
       "interactive(children=(IntSlider(value=30, description='t', max=999), Output()), _dom_classes=('widget-interact…"
      ]
     },
     "metadata": {},
     "output_type": "display_data"
    },
    {
     "data": {
      "text/plain": [
       "<function __main__.update_plot(t)>"
      ]
     },
     "execution_count": 7,
     "metadata": {},
     "output_type": "execute_result"
    }
   ],
   "source": [
    "import ipywidgets as widgets\n",
    "from IPython.display import display\n",
    "\n",
    "xmin,xmax = 0,5\n",
    "\n",
    "def update_plot(t):\n",
    "    fig, axes = plt.subplots(1, 2, figsize=(8, 5))\n",
    "    psia = ptrace(psi_out.states[t], 0)\n",
    "    psib = ptrace(psi_out.states[t], 1)\n",
    "    bar_vals_a = real(psia.diag())\n",
    "    bar_vals_b = real(psib.diag())\n",
    "#    max_val = max(bar_vals_a.max(), bar_vals_b.max())\n",
    "    max_val = max(bar_vals_a[1:].max(), bar_vals_b[1:].max()) # ignore first entry P(0) which is always gonna be large\n",
    "    axes[0].bar(range(N1), bar_vals_a)\n",
    "    axes[1].bar(range(N2), bar_vals_b)\n",
    "    axes[0].set_ylabel('$P(n)$')\n",
    "    axes[1].set_ylabel('$P(n)$')\n",
    "    axes[0].set_xlabel('$n_a$')\n",
    "    axes[1].set_xlabel('$n_b$')\n",
    "    axes[0].set_yscale('log')\n",
    "    axes[1].set_yscale('log')\n",
    "    axes[0].set_ylim(bottom=10**-8, top=bar_vals_a[1]*1.2)\n",
    "    axes[1].set_ylim(bottom=10**-8, top=bar_vals_a[1]*1.2)\n",
    "    axes[1].set_xlim(xmin,xmax)\n",
    "    axes[0].set_xlim(xmin,xmax)\n",
    "\n",
    "    fig.tight_layout()\n",
    "\n",
    "t_selector = widgets.FloatSlider(\n",
    "    min=0,\n",
    "    max=floor(len(tlist)/2),\n",
    "    step=1,\n",
    "    value=0,\n",
    "    description='Time index:',\n",
    "    continuous_update=False\n",
    ")\n",
    "\n",
    "#display(t_selector)\n",
    "widgets.interact(update_plot, t=widgets.IntSlider(min=0, max=len(tlist)-1, step=1, value=30))\n"
   ]
  },
  {
   "cell_type": "markdown",
   "id": "33e7e991-eb27-42bd-9b03-0540ac5f368b",
   "metadata": {
    "id": "aWppEEmw0MFl"
   },
   "source": [
    "## Photon numer statistics"
   ]
  },
  {
   "cell_type": "markdown",
   "id": "976e6e2f-ff75-453e-b090-6d1bc5155de9",
   "metadata": {
    "id": "E_lvJLVEgQS5"
   },
   "source": [
    "The following code updates the dictionary \"ops_dict\" by adding entries for the observables being monitored during the evolution of the system. These observables are the second-order coherence terms of the two harmonic oscillators, represented by the combinations of creation and annihilation operators. With self-evident notation, these are \"ad_ad_a_a\", \"bd_bd_b_b\", and \"ad_a_bd_b\".\n",
    "\n",
    "The code then initializes the dictionary \"expected_vals_dict\" to store the expected values of these observables over time. This is done by creating an array of zeros with length equal to the number of times at which the system is evaluated during its evolution.\n",
    "\n",
    "Finally, the code computes the expected values of the observables by iterating over the states in the output of the mesolve function and using the expect function from Qutip to compute the expected values at each time step. These expected values are stored in the corresponding entries of the \"expected_vals_dict\" dictionary."
   ]
  },
  {
   "cell_type": "code",
   "execution_count": 11,
   "id": "1f32c328-faa2-42b6-929f-459ec6408166",
   "metadata": {
    "id": "TU40J8tVI9ta"
   },
   "outputs": [],
   "source": [
    "ops_dict.update({\n",
    "  \"ad_ad_a_a\": a.dag() * a.dag() * a * a,\n",
    "  \"bd_bd_b_b\": b.dag() * b.dag() * b * b,\n",
    "  \"ad_a_bd_b\": a.dag() * a * b.dag() * b\n",
    "  #\"ad_a_bd_b\": a.dag() * b.dag() * a * b\n",
    "\n",
    "})\n",
    "for key in ops_dict:\n",
    "    expected_vals_dict[key] = np.zeros(len(psi_out.states))\n",
    "\n",
    "for idx, psi in enumerate(psi_out.states):\n",
    "  for key in ops_dict:\n",
    "    expected_vals_dict[key][idx] = expect(ops_dict[key], psi)"
   ]
  },
  {
   "cell_type": "markdown",
   "id": "e777495f-a912-4950-aec7-6c0b4a396e75",
   "metadata": {
    "id": "Dw9JdvLz0MFl"
   },
   "source": [
    "### Second-order coherence functions\n",
    "\n",
    "Walls and Milburn, page 79: Classical fields satisfy the Cauchy-Schwartz inequality evaluated at the same time $t$ on both detectors, i.e., $$ \\langle \\psi_{out}(t) | a_1^{\\dagger} a_1 a_2^{\\dagger}  a_2 | \\psi_{out}(t) \\rangle \\leq \\langle (a_1^{\\dagger})^{2}  (a_1)^{2}  \\rangle_t $$, or equivalently \n",
    "\n",
    "$$(g_{12}^{(2)})_{t}^2 \\leq (g_{1}^{(2)}g_{2}^{(2)})_{t}$$.\n",
    "\n",
    "Plotting the correlation functions, we see a strong violation of the Cauchy-Schwartz inequality in the weak-pump limit. In fact, the photon correlations of the squeezed fields produced from a vacuum passing through the parametric amplifier are not just strongly nonclassical but actually saturate the bound on the maximum allowed by quantum mechanics. "
   ]
  },
  {
   "cell_type": "code",
   "execution_count": 9,
   "id": "adbcefb8-1ef5-459c-bfa8-bb31694ef0d9",
   "metadata": {
    "colab": {
     "base_uri": "https://localhost:8080/",
     "height": 369
    },
    "id": "qE7ZYSMxXaeJ",
    "outputId": "4f4028b1-7aa2-4286-f30d-24466f92d289"
   },
   "outputs": [
    {
     "data": {
      "image/png": "[encoded data removed]",
      "text/plain": [
       "<Figure size 800x500 with 4 Axes>"
      ]
     },
     "metadata": {},
     "output_type": "display_data"
    }
   ],
   "source": [
    "fig, axes = plt.subplots(2, 2, figsize=(8,5))\n",
    "background=1e-30\n",
    "quantities_dict = {\n",
    "  \"g_aa\": [r'$g_{11}^{(2)}(t)$', ((expected_vals_dict[\"ad_ad_a_a\"])/(background**2+expected_vals_dict[\"na\"]**2))],  ## NOTE : I'm not happy yet about about the way i'm dealing with background in the code; will get back to this later\n",
    "  \"g_bb\": [r'$g_{bb}^{(2)}(t)$', ((expected_vals_dict[\"bd_bd_b_b\"])/(background**2+expected_vals_dict[\"nb\"]**2))],\n",
    "  \"g_ab\": [r'$g_{ab}^{(2)}(t)$', ((expected_vals_dict[\"ad_a_bd_b\"])/(background**2+expected_vals_dict[\"na\"]*expected_vals_dict[\"nb\"]))],\n",
    "  \"g_ab_squared\": [r'$(g_{ab}^{(2)}(t)))^{2}$', ((expected_vals_dict[\"ad_a_bd_b\"])/(background**2+expected_vals_dict[\"na\"]*expected_vals_dict[\"nb\"]))**2]\n",
    "\n",
    "}\n",
    "\n",
    "for idx, (quantity_key, (ylabel, data)) in enumerate(quantities_dict.items()):\n",
    "    line = axes[idx//2, idx%2].plot(tlist, data, 'rx', linewidth=2)\n",
    "    axes[idx//2, idx%2].set_xlabel(\"$t$\", fontsize=plot_fontsize)\n",
    "    axes[idx//2, idx%2].set_xlim(1, 20) # t=0 is not physical\n",
    "    axes[idx//2, idx%2].set_ylabel(ylabel, fontsize=plot_fontsize)\n",
    "#    axes[idx//2, idx%2].set_yscale(\"log\")\n",
    "\n",
    "\n",
    "\n",
    "\n",
    "fig.tight_layout()\n",
    "\n",
    "\n"
   ]
  },
  {
   "cell_type": "code",
   "execution_count": 10,
   "id": "03b1ea95-fae0-4571-8b71-2d518bbde71d",
   "metadata": {
    "id": "cQDI4mssn5yw"
   },
   "outputs": [
    {
     "ename": "NameError",
     "evalue": "name 'G1' is not defined",
     "output_type": "error",
     "traceback": [
      "\u001b[0;31m---------------------------------------------------------------------------\u001b[0m",
      "\u001b[0;31mNameError\u001b[0m                                 Traceback (most recent call last)",
      "\u001b[0;32m/tmp/ipykernel_3899413/2021380601.py\u001b[0m in \u001b[0;36m<cell line: 10>\u001b[0;34m()\u001b[0m\n\u001b[1;32m      8\u001b[0m \u001b[0;34m\u001b[0m\u001b[0m\n\u001b[1;32m      9\u001b[0m \u001b[0mn_th\u001b[0m \u001b[0;34m=\u001b[0m \u001b[0mbackground_photons\u001b[0m  \u001b[0;31m# bath temperature in terms of excitation number\u001b[0m\u001b[0;34m\u001b[0m\u001b[0;34m\u001b[0m\u001b[0m\n\u001b[0;32m---> 10\u001b[0;31m \u001b[0mc_ops\u001b[0m \u001b[0;34m=\u001b[0m \u001b[0;34m[\u001b[0m\u001b[0msqrt\u001b[0m\u001b[0;34m(\u001b[0m\u001b[0mG1\u001b[0m\u001b[0;34m*\u001b[0m\u001b[0;34m(\u001b[0m\u001b[0;36m1\u001b[0m\u001b[0;34m+\u001b[0m\u001b[0mn_th\u001b[0m\u001b[0;34m)\u001b[0m\u001b[0;34m)\u001b[0m \u001b[0;34m*\u001b[0m \u001b[0ma\u001b[0m\u001b[0;34m,\u001b[0m \u001b[0msqrt\u001b[0m\u001b[0;34m(\u001b[0m\u001b[0mG1\u001b[0m\u001b[0;34m*\u001b[0m\u001b[0mn_th\u001b[0m\u001b[0;34m)\u001b[0m \u001b[0;34m*\u001b[0m \u001b[0ma\u001b[0m\u001b[0;34m.\u001b[0m\u001b[0mdag\u001b[0m\u001b[0;34m(\u001b[0m\u001b[0;34m)\u001b[0m\u001b[0;34m]\u001b[0m\u001b[0;34m\u001b[0m\u001b[0;34m\u001b[0m\u001b[0m\n\u001b[0m\u001b[1;32m     11\u001b[0m \u001b[0;34m\u001b[0m\u001b[0m\n\u001b[1;32m     12\u001b[0m \u001b[0;34m\u001b[0m\u001b[0m\n",
      "\u001b[0;31mNameError\u001b[0m: name 'G1' is not defined"
     ]
    }
   ],
   "source": [
    "def correlation_ss_gtt(H, tlist, c_ops, a_op, b_op, c_op, d_op, rho0=None):\n",
    "    return mesolve(H, d_op * rho0 * a_op, tlist, c_ops, [b_op * c_op]).expect[0]\n",
    "\n",
    "# calculate the two-time correlation functions\n",
    "taulist = np.linspace(0, 40, 40)\n",
    "t=5\n",
    "rho0 = ket2dm(psi_out.states[t])\n",
    "\n",
    "n_th = background_photons  # bath temperature in terms of excitation number\n",
    "c_ops = [sqrt(G1*(1+n_th)) * a, sqrt(G1*n_th) * a.dag()]\n",
    "\n",
    "\n",
    "G2_aa = correlation_ss_gtt(Hab, taulist, c_ops, a.dag(), a, a.dag(), a, rho0=rho0)\n",
    "G2_bb = correlation_ss_gtt(Hab, taulist, c_ops, b.dag(), b, b.dag(), b, rho0=rho0)\n",
    "G2_ab = correlation_ss_gtt(Hab, taulist, c_ops, a.dag(), b, a, b.dag(), rho0=rho0)\n"
   ]
  },
  {
   "cell_type": "code",
   "execution_count": 12,
   "id": "579e3457-d1d5-4c65-aaf9-9dcd82681daa",
   "metadata": {
    "colab": {
     "base_uri": "https://localhost:8080/",
     "height": 1000
    },
    "id": "hknsYXnPeVcO",
    "outputId": "720d7857-f371-4a87-85f6-3fbcfd9ba7cc"
   },
   "outputs": [
    {
     "ename": "NameError",
     "evalue": "name 'G2_aa' is not defined",
     "output_type": "error",
     "traceback": [
      "\u001b[0;31m---------------------------------------------------------------------------\u001b[0m",
      "\u001b[0;31mNameError\u001b[0m                                 Traceback (most recent call last)",
      "\u001b[0;32m/tmp/ipykernel_3899413/1497944109.py\u001b[0m in \u001b[0;36m<cell line: 2>\u001b[0;34m()\u001b[0m\n\u001b[1;32m      1\u001b[0m \u001b[0;31m# normalize with n to obtain g2\u001b[0m\u001b[0;34m\u001b[0m\u001b[0;34m\u001b[0m\u001b[0;34m\u001b[0m\u001b[0m\n\u001b[0;32m----> 2\u001b[0;31m \u001b[0mg2_aa\u001b[0m \u001b[0;34m=\u001b[0m \u001b[0mG2_aa\u001b[0m \u001b[0;34m/\u001b[0m \u001b[0mexpected_vals_dict\u001b[0m\u001b[0;34m[\u001b[0m\u001b[0;34m\"na\"\u001b[0m\u001b[0;34m]\u001b[0m\u001b[0;34m[\u001b[0m\u001b[0mt\u001b[0m\u001b[0;34m]\u001b[0m\u001b[0;34m**\u001b[0m\u001b[0;36m2\u001b[0m\u001b[0;34m\u001b[0m\u001b[0;34m\u001b[0m\u001b[0m\n\u001b[0m\u001b[1;32m      3\u001b[0m \u001b[0mg2_bb\u001b[0m \u001b[0;34m=\u001b[0m \u001b[0mG2_bb\u001b[0m \u001b[0;34m/\u001b[0m \u001b[0mexpected_vals_dict\u001b[0m\u001b[0;34m[\u001b[0m\u001b[0;34m\"nb\"\u001b[0m\u001b[0;34m]\u001b[0m\u001b[0;34m[\u001b[0m\u001b[0mt\u001b[0m\u001b[0;34m]\u001b[0m\u001b[0;34m**\u001b[0m\u001b[0;36m2\u001b[0m\u001b[0;34m\u001b[0m\u001b[0;34m\u001b[0m\u001b[0m\n\u001b[1;32m      4\u001b[0m \u001b[0mg2_ab\u001b[0m \u001b[0;34m=\u001b[0m \u001b[0mG2_ab\u001b[0m \u001b[0;34m/\u001b[0m \u001b[0;34m(\u001b[0m\u001b[0mexpected_vals_dict\u001b[0m\u001b[0;34m[\u001b[0m\u001b[0;34m\"na\"\u001b[0m\u001b[0;34m]\u001b[0m\u001b[0;34m[\u001b[0m\u001b[0mt\u001b[0m\u001b[0;34m]\u001b[0m\u001b[0;34m*\u001b[0m\u001b[0mexpected_vals_dict\u001b[0m\u001b[0;34m[\u001b[0m\u001b[0;34m\"nb\"\u001b[0m\u001b[0;34m]\u001b[0m\u001b[0;34m[\u001b[0m\u001b[0mt\u001b[0m\u001b[0;34m]\u001b[0m\u001b[0;34m)\u001b[0m\u001b[0;34m\u001b[0m\u001b[0;34m\u001b[0m\u001b[0m\n\u001b[1;32m      5\u001b[0m \u001b[0;34m\u001b[0m\u001b[0m\n",
      "\u001b[0;31mNameError\u001b[0m: name 'G2_aa' is not defined"
     ]
    }
   ],
   "source": [
    "\n",
    "# normalize with n to obtain g2\n",
    "g2_aa = G2_aa / expected_vals_dict[\"na\"][t]**2\n",
    "g2_bb = G2_bb / expected_vals_dict[\"nb\"][t]**2\n",
    "g2_ab = G2_ab / (expected_vals_dict[\"na\"][t]*expected_vals_dict[\"nb\"][t])\n",
    "\n",
    "# plot the two-time correlation functions\n",
    "fig, axes = plt.subplots(3, 1, sharex=True, figsize=(12,18))\n",
    "\n",
    "axes[0].plot(taulist, real(g2_aa), 'b', label=r'$g_{aa}^{(2)}(\\tau)$')\n",
    "axes[1].plot(taulist, real(g2_bb), 'b', label=r'$g_{bb}^{(2)}(\\tau)$')\n",
    "axes[2].plot(taulist, real(g2_ab), 'b', label=r'$g_{ab}^{(2)}(\\tau)$')\n",
    "\n",
    "axes[0].legend(loc=0)\n",
    "axes[1].legend(loc=0)\n",
    "axes[2].legend(loc=0)\n",
    "\n",
    "axes[2].set_xlabel(r'$\\tau$');\n"
   ]
  },
  {
   "cell_type": "code",
   "execution_count": null,
   "id": "2d7cf6a7-905c-4e2f-92a0-b59701dc3d22",
   "metadata": {
    "colab": {
     "base_uri": "https://localhost:8080/",
     "height": 242
    },
    "id": "Id96g8iIlhjq",
    "outputId": "e47e6915-be73-48e5-9c31-6ecb527e59b2"
   },
   "outputs": [
    {
     "ename": "NameError",
     "evalue": "ignored",
     "output_type": "error",
     "traceback": [
      "\u001b[0;31m---------------------------------------------------------------------------\u001b[0m",
      "\u001b[0;31mNameError\u001b[0m                                 Traceback (most recent call last)",
      "\u001b[0;32m<ipython-input-8-2a3757e7fbe8>\u001b[0m in \u001b[0;36m<module>\u001b[0;34m\u001b[0m\n\u001b[1;32m      1\u001b[0m \u001b[0;31m# Define the two-time correlation function for field a\u001b[0m\u001b[0;34m\u001b[0m\u001b[0;34m\u001b[0m\u001b[0;34m\u001b[0m\u001b[0m\n\u001b[0;32m----> 2\u001b[0;31m \u001b[0mG2_aa\u001b[0m \u001b[0;34m=\u001b[0m \u001b[0mcorrelation_ss_gtt\u001b[0m\u001b[0;34m(\u001b[0m\u001b[0mH\u001b[0m\u001b[0;34m,\u001b[0m \u001b[0mtaulist\u001b[0m\u001b[0;34m,\u001b[0m \u001b[0mc_ops\u001b[0m\u001b[0;34m,\u001b[0m \u001b[0ma\u001b[0m\u001b[0;34m.\u001b[0m\u001b[0mdag\u001b[0m\u001b[0;34m(\u001b[0m\u001b[0;34m)\u001b[0m\u001b[0;34m,\u001b[0m \u001b[0ma\u001b[0m\u001b[0;34m.\u001b[0m\u001b[0mdag\u001b[0m\u001b[0;34m(\u001b[0m\u001b[0;34m)\u001b[0m\u001b[0;34m,\u001b[0m \u001b[0ma\u001b[0m\u001b[0;34m,\u001b[0m \u001b[0ma\u001b[0m\u001b[0;34m,\u001b[0m \u001b[0mrho0\u001b[0m\u001b[0;34m=\u001b[0m\u001b[0mrho0\u001b[0m\u001b[0;34m)\u001b[0m\u001b[0;34m\u001b[0m\u001b[0;34m\u001b[0m\u001b[0m\n\u001b[0m\u001b[1;32m      3\u001b[0m \u001b[0mg2_aa\u001b[0m \u001b[0;34m=\u001b[0m \u001b[0mG2_aa\u001b[0m \u001b[0;34m/\u001b[0m \u001b[0;34m(\u001b[0m\u001b[0mexpected_vals_dict\u001b[0m\u001b[0;34m[\u001b[0m\u001b[0;34m\"na\"\u001b[0m\u001b[0;34m]\u001b[0m\u001b[0;34m**\u001b[0m\u001b[0;36m2\u001b[0m\u001b[0;34m)\u001b[0m\u001b[0;34m\u001b[0m\u001b[0;34m\u001b[0m\u001b[0m\n\u001b[1;32m      4\u001b[0m \u001b[0;34m\u001b[0m\u001b[0m\n\u001b[1;32m      5\u001b[0m \u001b[0;31m# Define the two-time correlation function for field b\u001b[0m\u001b[0;34m\u001b[0m\u001b[0;34m\u001b[0m\u001b[0;34m\u001b[0m\u001b[0m\n",
      "\u001b[0;31mNameError\u001b[0m: name 'correlation_ss_gtt' is not defined"
     ]
    }
   ],
   "source": [
    "# Define the two-time correlation function for field a\n",
    "G2_aa = correlation_ss_gtt(H, taulist, c_ops, a.dag(), a.dag(), a, a, rho0=rho0)\n",
    "g2_aa = G2_aa / (expected_vals_dict[\"na\"]**2)\n",
    "\n",
    "# Define the two-time correlation function for field b\n",
    "G2_bb = correlation_ss_gtt(H, taulist, c_ops, b.dag(), b.dag(), b, b, rho0=rho0)\n",
    "g2_bb = G2_bb / (expected_vals_dict[\"nb\"]**2)\n",
    "\n",
    "# Define the two-time cross-correlation function for fields a and b\n",
    "G2_ab = correlation_ss_gtt(H, taulist, c_ops, a.dag(), b.dag(), a, b, rho0=rho0)\n",
    "g2_ab = G2_ab / (expected_vals_dict[\"na\"] * expected_vals_dict[\"nb\"])\n",
    "\n",
    "# Plot the two-time correlation functions\n",
    "fig, axes = plt.subplots(3, 1, sharex=True, figsize=(12,9))\n",
    "\n",
    "axes[0].plot(taulist, real(g2_aa), 'r', label=r'$g_{aa}^{(2)}(\\tau)$')\n",
    "axes[1].plot(taulist, real(g2_bb), 'b', label=r'$g_{bb}^{(2)}(\\tau)$')\n",
    "axes[2].plot(taulist, real(g2_ab), 'g', label=r'$g_{ab}^{(2)}(\\tau)$')\n",
    "\n",
    "for ax in axes:\n",
    "    ax.legend(loc=0)\n",
    "    ax.set_xlabel(r'$\\tau$')\n",
    "\n",
    "fig.tight_layout()\n"
   ]
  },
  {
   "cell_type": "markdown",
   "id": "6a523f6c",
   "metadata": {},
   "source": [
    "## Sources and further reading\n",
    "\n",
    "\n",
    "* [Review Article](https://doi.org/10.1080/00107514.2018.1488463)\n",
    "* [HC Photonics PPLN GUIDE: Overview](https://www.hcphotonics.com/ppln-guide-overview)\n",
    "* [quED Manual](https://www.qutools.com/files/quED/quED_manual.pdf)\n",
    "* Saleh and Teich, *Fundamentals of Photonics*\n",
    "* [Bocquillon et al, PRA 79 035801 (200p](http://dx.doi.org/10.1103/PhysRevA.79.035801\n",
    "* [Razavi et al, JPhysB 42 114013 (2009)](http://stacks.iop.org/JPhysB/42/114013)\n",
    "* [Thorn et al, Am Jo of Phys 72, 1210-1219 (2004)](https://aapt.scitation.org/doi/10.1119/1.1737397)\n",
    "* quTools HBT manual: https://www.qutools.com/files/quED/quED-HBT/quED-HBT-manual.pdf\n",
    "* quTools secret HBT manual: https://www.qutools.com/files/quED/worksheets/qutools_HBT.pdf\n",
    "* [M. Beck, J. Opt. Soc. Am. B 24, 2972-2978 (2007)]https://opg.optica.org/josab/abstract.cfm?URI=josab-24-12-2972\n",
    "* Loudon, *The Quantum Theory of Light*\n",
    "* Fox, *Quantum Optics: An Introduction*\n",
    "* Gerry and Knight, *Introductory Quantum Optics*"
   ]
  },
  {
   "cell_type": "markdown",
   "id": "ea0add6a",
   "metadata": {},
   "source": [
    "## Pre-Lab Questions\n",
    "\n",
    "Before coming to the lab for the HBT experiment, please complete these pre-lab questions and be ready to *show your work*. If you have questions, ask the instructor before starting the lab.\n",
    "\n",
    "1. What is $\\gtwo(0)$ for a number state with 2 photons? What about with 3 photons? Generalize this to Fock state $\\ket{n}$ with n photons and plot $\\gtwo(0)$ as a function of n.\n",
    "1. What is $\\gtwo(0)$ for a coherent state $\\ket{\\alpha}$?\n",
    "1. *Bonus* Consider the case of a 50-50 beamsplitter with inputs $\\ahat$ and $\\bhat$ and outputs $\\chat$ and $\\dhat$. $\\ahat$ is in the $\\ket{1}$ state while $\\bhat$ is in the vacuum state. Find the variance of the coincidences $\\chat$ and $\\dhat$ where the variance of an operator $\\hat{o}$ is given by  $\\langle(\\Delta\\hat{o})^2\\rangle = \\langle\\hat{o}^2\\rangle -\\langle\\hat{o}\\rangle^2$."
   ]
  }
 ],
 "metadata": {
  "kernelspec": {
   "display_name": "Python 3 (ipykernel)",
   "language": "python",
   "name": "python3"
  },
  "language_info": {
   "codemirror_mode": {
    "name": "ipython",
    "version": 3
   },
   "file_extension": ".py",
   "mimetype": "text/x-python",
   "name": "python",
   "nbconvert_exporter": "python",
   "pygments_lexer": "ipython3",
   "version": "3.8.15"
  },
  "widgets": {
   "application/vnd.jupyter.widget-state+json": {
    "state": {
     "0385fb9c4ce34c599e6dd864c1451f02": {
      "model_module": "@jupyter-widgets/base",
      "model_module_version": "1.2.0",
      "model_name": "LayoutModel",
      "state": {}
     },
     "0d10a09b8df34ac69fec3859c3fd4eb2": {
      "model_module": "@jupyter-widgets/base",
      "model_module_version": "1.2.0",
      "model_name": "LayoutModel",
      "state": {}
     },
     "1a8f245b932b41488c64e775c6243adb": {
      "model_module": "@jupyter-widgets/controls",
      "model_module_version": "1.5.0",
      "model_name": "SliderStyleModel",
      "state": {
       "description_width": ""
      }
     },
     "1bd894211add4ef6b5aa97e6e086d385": {
      "model_module": "@jupyter-widgets/base",
      "model_module_version": "1.2.0",
      "model_name": "LayoutModel",
      "state": {}
     },
     "6764da1eddb34ed6850a3f25badab2e5": {
      "model_module": "@jupyter-widgets/controls",
      "model_module_version": "1.5.0",
      "model_name": "FloatSliderModel",
      "state": {
       "continuous_update": false,
       "description": "Time index:",
       "layout": "IPY_MODEL_0d10a09b8df34ac69fec3859c3fd4eb2",
       "max": 500,
       "style": "IPY_MODEL_1a8f245b932b41488c64e775c6243adb"
      }
     },
     "a1df28401de84e07a4ecae96177f302a": {
      "model_module": "@jupyter-widgets/controls",
      "model_module_version": "1.5.0",
      "model_name": "VBoxModel",
      "state": {
       "_dom_classes": [
        "widget-interact"
       ],
       "children": [
        "IPY_MODEL_ff6425cfa46246f78154a32778513167",
        "IPY_MODEL_aa747bb609424c1691a92564896ab38d"
       ],
       "layout": "IPY_MODEL_cbbfd9d5c4fc44c8bcedcd99d13ae2e5"
      }
     },
     "aa747bb609424c1691a92564896ab38d": {
      "model_module": "@jupyter-widgets/output",
      "model_module_version": "1.0.0",
      "model_name": "OutputModel",
      "state": {
       "layout": "IPY_MODEL_1bd894211add4ef6b5aa97e6e086d385",
       "outputs": [
        {
         "data": {
          "image/png": "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\n",
          "text/plain": "<Figure size 800x500 with 2 Axes>"
         },
         "metadata": {},
         "output_type": "display_data"
        }
       ]
      }
     },
     "c94b01a245a54c34987accf2b3bef70e": {
      "model_module": "@jupyter-widgets/controls",
      "model_module_version": "1.5.0",
      "model_name": "SliderStyleModel",
      "state": {
       "description_width": ""
      }
     },
     "cbbfd9d5c4fc44c8bcedcd99d13ae2e5": {
      "model_module": "@jupyter-widgets/base",
      "model_module_version": "1.2.0",
      "model_name": "LayoutModel",
      "state": {}
     },
     "ff6425cfa46246f78154a32778513167": {
      "model_module": "@jupyter-widgets/controls",
      "model_module_version": "1.5.0",
      "model_name": "IntSliderModel",
      "state": {
       "description": "t",
       "layout": "IPY_MODEL_0385fb9c4ce34c599e6dd864c1451f02",
       "max": 999,
       "style": "IPY_MODEL_c94b01a245a54c34987accf2b3bef70e",
       "value": 30
      }
     }
    },
    "version_major": 2,
    "version_minor": 0
   }
  }
 },
 "nbformat": 4,
 "nbformat_minor": 5
}
