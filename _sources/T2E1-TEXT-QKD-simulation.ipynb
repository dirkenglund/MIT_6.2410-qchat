{
 "cells": [
  {
   "cell_type": "markdown",
   "metadata": {},
   "source": [
    "# PRELAB: Quantum-Key Distribution with BB84\n",
    "Name\n",
    "\n",
    "Date"
   ]
  },
  {
   "cell_type": "markdown",
   "metadata": {},
   "source": [
    "## Pre-Lab\n",
    "\n",
    "#### Worked Problem #1 - entangled photon generation\n",
    "For example: Quantum states of outputs of Type 0, 1, 2 SPDC.\n",
    "For example: If I tell you the pump has $\\lambda_p$ and the signal is $\\lambda_s$, can you tell me $\\lambda_i$ of the idler? (Energy conservation)"
   ]
  },
  {
   "cell_type": "markdown",
   "metadata": {},
   "source": [
    "#### Worked Problem #2 - One time pad encryption\n",
    "In order to use OTP, you need a key that's the same length as the message. Additionally, you need a new key for every message you want to encrypt and send: the protocol is only secure when each pad is used only once.\n",
    "\n",
    "Encrypting and decrypting a message is simple: bitwise XOR with the key. If you XOR the raw message with the key, you get the ciphertext. Then if you XOR the cypher test with the key, you get the initial message back."
   ]
  },
  {
   "cell_type": "code",
   "execution_count": 1,
   "metadata": {},
   "outputs": [
    {
     "name": "stdout",
     "output_type": "stream",
     "text": [
      "Message: [0 0 0 1 1 1 1 1 0 0]\n",
      "Key    : [1 0 0 0 1 0 1 0 1 0]\n",
      "Now XOR those to get the cyphertext:\n",
      "Cypher : [1 0 0 1 0 1 0 1 1 0]\n",
      "To recover the original message, you XOR the key and the cypher\n",
      "Key    : [1 0 0 0 1 0 1 0 1 0]\n",
      "Cypher : [1 0 0 1 0 1 0 1 1 0]\n",
      "The recovered message after decryption is\n",
      "Decrypt: [0 0 0 1 1 1 1 1 0 0]\n",
      "Compare with original message\n",
      "Message: [0 0 0 1 1 1 1 1 0 0]\n"
     ]
    }
   ],
   "source": [
    "import numpy as np\n",
    "\n",
    "LENGTH = 10;\n",
    "# Generate a random message\n",
    "mess = np.random.randint(low = 0, high = 2, size = (LENGTH,))\n",
    "\n",
    "# Generate a random key\n",
    "key = np.random.randint(low = 0, high = 2, size = (LENGTH,))\n",
    "\n",
    "# Generate the cypher text by performing bitwise XOR on the key and the message\n",
    "cypher = mess^key\n",
    "\n",
    "# Recover the original message by performing bitwise XOR on the cypher\n",
    "# and the key\n",
    "recover = cypher^key\n",
    "\n",
    "print(\"Message: % s\" %(mess))\n",
    "print(\"Key    : % s\" %(key))\n",
    "print(\"Now XOR those to get the cyphertext:\")\n",
    "print(\"Cypher : % s\" %(cypher))\n",
    "print(\"To recover the original message, you XOR the key and the cypher\")\n",
    "print(\"Key    : % s\" %(key))\n",
    "print(\"Cypher : % s\" %(cypher))\n",
    "print(\"The recovered message after decryption is\")\n",
    "print(\"Decrypt: % s\" %(recover))\n",
    "print(\"Compare with original message\")\n",
    "print(\"Message: % s\" %(mess))"
   ]
  },
  {
   "cell_type": "markdown",
   "metadata": {},
   "source": [
    "#### Worked Problem #3 - Alice and Bob estimate the error\n",
    "My code isn't necessarily the most pedagogically useful - do we want to make this easier for students to parse?"
   ]
  },
  {
   "cell_type": "code",
   "execution_count": 2,
   "metadata": {
    "scrolled": true
   },
   "outputs": [
    {
     "name": "stdout",
     "output_type": "stream",
     "text": [
      "Alice sent Bob  1000 bits\n",
      "Bob received  909 bits\n",
      "They used the same basis in 407 of those bits\n",
      "This resulted in a total of 396 bits without errors\n",
      "The BER was   2.70E-02\n",
      "Eve got 48 bits\n"
     ]
    }
   ],
   "source": [
    "import numpy as np\n",
    "import random\n",
    "\n",
    "# How many photons does Alice send?\n",
    "NN = 1000\n",
    "\n",
    "# What is the transmission between Alice and Bob? \n",
    "# Transmission of 1 implies there's no loss at all\n",
    "# Transmission of 0 implies Eve is blocking the Alice to Bob channel\n",
    "TT = 0.9\n",
    "\n",
    "# How often does Eve listen in? 0 is never, 1 is always\n",
    "FE = 0.1\n",
    "\n",
    "# Initialize arrays\n",
    "\n",
    "# What bits did Alice's transmitted message send?\n",
    "bits_tx = np.zeros((NN)) - 1\n",
    "# What polarization did Alice use?\n",
    "pol_tx = np.zeros((NN)) - 1\n",
    "\n",
    "# Did the photon make it?\n",
    "photon_rx = np.zeros((NN)) - 1\n",
    "# Bob's measurement basis\n",
    "pol_rx = np.zeros((NN)) - 1\n",
    "# Bob's received photons\n",
    "bits_rx = np.zeros((NN)) - 1\n",
    "\n",
    "# Did Eve interefere?\n",
    "Eve_rx = np.zeros((NN)) - 1\n",
    "Eve_pol = np.zeros((NN)) - 1\n",
    "Eve_bit = np.zeros((NN)) - 1\n",
    "\n",
    "\n",
    "\n",
    "for i in range (NN):\n",
    "    # Alice generates a random bit to send\n",
    "    bit_A = random.randint(0,1)\n",
    "    bits_tx[i] = bit_A\n",
    "    # Now she selects a basis\n",
    "    bas_A = random.randint(0,1)\n",
    "    pol_tx[i] = bas_A\n",
    "    \n",
    "   # Now decide if Eve does something\n",
    "    if random.random() <= FE: # if Eve -DOES- decide to eavesdrop & send\n",
    "        Eve_rx[i] = 1 # Record that this is an occurence of Eve eavesdropping\n",
    "        Eve_bas = random.randint(0,1) # She randomly selects a basis\n",
    "        Eve_pol[i] = Eve_bas\n",
    "        if Eve_bas == bas_A: # If her basis matches Alice's\n",
    "            Eve_bit[i] = bit_A # Then she recovers the bit perfectly\n",
    "        else:\n",
    "            Eve_bit[i] = random.randint(0,1) # otherwise, it's a coin toss   \n",
    "        bit_rx = Eve_bit[i] # Now the bit Bob receives will be the bit Eve sends\n",
    "        bas_rx = Eve_bas # In the basis that Eve sends\n",
    "    else: # If Eve isn't measuring and sending out photons\n",
    "        pho_E = 0 # Mark this as no Eve involvement\n",
    "        bit_rx = bit_A # The bit Bob receives is ths bit Alice sends\n",
    "        bas_rx = bas_A # in the basis in which Alice sent it\n",
    "        \n",
    "    # If the photon makes it through the loss channel\n",
    "    if random.random() <= TT:\n",
    "        photon_rx[i] = 1\n",
    "        bas_B = random.randint(0,1) # Bob randomly selects a basis\n",
    "        pol_rx[i] = bas_B\n",
    "        if bas_B == bas_rx:\n",
    "            bit_B = bit_rx\n",
    "        else:\n",
    "            bit_B = random.randint(0,1)\n",
    "        bits_rx[i] = bit_B\n",
    "    else:\n",
    "        photon_rx[i] = 0;\n",
    "\n",
    "# now do some processing\n",
    "\n",
    "\n",
    "# First limit ourselves to cases where Alice and Bob used the same bases\n",
    "ix = np.array([np.where(pol_tx == pol_rx)])\n",
    "bits_tx_sifted = np.array(bits_tx[ix])\n",
    "bits_tx_sifted = bits_tx_sifted[0,0]\n",
    "bits_rx_sifted = np.array(bits_rx[ix])\n",
    "bits_rx_sifted = bits_rx_sifted[0,0]\n",
    "\n",
    "# Now look bit error rate (BER)\n",
    "errors = (bits_tx_sifted != bits_rx_sifted).astype(int)\n",
    "errors_total = errors.sum()\n",
    "usable_key = ix.size - errors_total\n",
    "BER = 1.0/ix.size * errors.sum()\n",
    "\n",
    "# What did Eve get?\n",
    "ixe = np.array([np.where((Eve_rx ==1) & (Eve_pol == pol_tx))])\n",
    "\n",
    "\n",
    "print(\"Alice sent Bob % d bits\"% NN)\n",
    "print(\"Bob received % d bits\"% photon_rx.sum())\n",
    "print(\"They used the same basis in %d of those bits\" %ix.size)\n",
    "print(\"This resulted in a total of %d bits without errors\" %usable_key)\n",
    "print(\"The BER was %10.2E\" %BER)\n",
    "print(\"Eve got %d bits\" %ixe.size)\n",
    "\n"
   ]
  },
  {
   "cell_type": "markdown",
   "metadata": {},
   "source": [
    "Based on this code, we see that as Eve listens in more often, she receives more bits of the key. Alice and Bob can see a difference in the BER as Eve listens in more often. When Eve listens every time, the BER is > 20%. When Eve never listens in, the BER is 0 (ie no errors).\n",
    "_Do we want them to plot BER as a function of how often Eve listens in?_"
   ]
  },
  {
   "cell_type": "markdown",
   "metadata": {},
   "source": [
    "#### Worked Problem #4 - ThorLabs QKD analogy\n",
    "QKD's security is based on the No Cloning Theorem, and the classical light source sends more than one photon per pulse. So, Eve can siphon off some light and then you're hosed."
   ]
  }
 ],
 "metadata": {
  "kernelspec": {
   "display_name": "Python 3 (ipykernel)",
   "language": "python",
   "name": "python3"
  },
  "language_info": {
   "codemirror_mode": {
    "name": "ipython",
    "version": 3
   },
   "file_extension": ".py",
   "mimetype": "text/x-python",
   "name": "python",
   "nbconvert_exporter": "python",
   "pygments_lexer": "ipython3",
   "version": "3.8.15"
  },
  "widgets": {
   "application/vnd.jupyter.widget-state+json": {
    "state": {},
    "version_major": 2,
    "version_minor": 0
   }
  }
 },
 "nbformat": 4,
 "nbformat_minor": 4
}
