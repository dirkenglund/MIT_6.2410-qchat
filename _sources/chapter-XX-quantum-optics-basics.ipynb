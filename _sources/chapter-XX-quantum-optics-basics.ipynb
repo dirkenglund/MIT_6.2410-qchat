{
 "cells": [
  {
   "cell_type": "markdown",
   "id": "4acd6b52",
   "metadata": {
    "tags": [
     "remove-cell"
    ]
   },
   "source": [
    "# Latex Headers\n",
    "\n",
    "$$\\newcommand{\\ket}[1]{\\left|{#1}\\right\\rangle}$$\n",
    "$$\\newcommand{\\bra}[1]{\\left\\langle{#1}\\right|}$$\n",
    "$$\\newcommand{\\braket}[2]{\\left\\langle{#1}\\middle|{#2}\\right\\rangle}$$\n",
    "$$\\newcommand{\\adagger}[0]{\\hat{a}^{\\dagger}}$$\n",
    "$$\\newcommand{\\ahat}[0]{\\hat{a}}$$"
   ]
  },
  {
   "cell_type": "markdown",
   "id": "c5d25ec6",
   "metadata": {
    "incorrectly_encoded_metadata": "tags=[\"remove-cell\"] jp-MarkdownHeadingCollapsed=true jp-MarkdownHeadingCollapsed=true tags=[] jp-MarkdownHeadingCollapsed=true",
    "tags": [
     "remove-cell"
    ]
   },
   "source": [
    "# Cell Width Adjust\n",
    "\n",
    " - Execute the code below to adjust the width of the cells when editing.  \n",
    " - These cells will not be published to the book and are for editing convenience."
   ]
  },
  {
   "cell_type": "code",
   "execution_count": 1,
   "id": "2774ac30",
   "metadata": {
    "tags": [
     "remove-cell"
    ]
   },
   "outputs": [
    {
     "data": {
      "text/html": [
       "<style>.jp-CodeCell .jp-Cell-inputWrapper { width: 70% !important;  margin: 0 auto; }</style>"
      ],
      "text/plain": [
       "<IPython.core.display.HTML object>"
      ]
     },
     "metadata": {},
     "output_type": "display_data"
    },
    {
     "data": {
      "text/html": [
       "<style>.jp-MarkdownCell .jp-Cell-inputWrapper { width: 70% !important;  margin: 0 auto; }</style>"
      ],
      "text/plain": [
       "<IPython.core.display.HTML object>"
      ]
     },
     "metadata": {},
     "output_type": "display_data"
    },
    {
     "data": {
      "text/html": [
       "<style>.jp-Cell-outputWrapper { width: 70% !important;  margin: 0 auto; }</style>"
      ],
      "text/plain": [
       "<IPython.core.display.HTML object>"
      ]
     },
     "metadata": {},
     "output_type": "display_data"
    }
   ],
   "source": [
    "width = 70 #Width as a percentage of the screen\n",
    "\n",
    "from IPython.display import display, HTML\n",
    "display(HTML(\"<style>.jp-CodeCell .jp-Cell-inputWrapper { width: \"+str(width)+\"% !important;  margin: 0 auto; }</style>\"))\n",
    "display(HTML(\"<style>.jp-MarkdownCell .jp-Cell-inputWrapper { width: \"+str(width)+\"% !important;  margin: 0 auto; }</style>\"))\n",
    "display(HTML(\"<style>.jp-Cell-outputWrapper { width: \"+str(width)+\"% !important;  margin: 0 auto; }</style>\"))"
   ]
  },
  {
   "cell_type": "markdown",
   "id": "aa70f9b2",
   "metadata": {},
   "source": [
    "# The Basics of Quantum Optics\n",
    "\n",
    "This course is about how we can leverage quantum systems as engineers.  As such it is not intended to be a course focused purely on the physics of quantum systems.  \n",
    "\n",
    "In this course we will focus our attention on how to engineer quantum systems to securely transmit information, perform sensitive measurements, and compute among other things.  This will require us to develop a proficiency in understanding how quantum signals are generated, transmitted, and received.  It will also require us to understand the limitations of measurements, and how to account for noise.\n",
    "\n",
    "While we will introduce several quantum engineering platforms in this course, a large number of concepts will be taught through the lens of quantum optics.  This chapter overviews basic concepts in quantum optics that will be drawn on throughout the course.  It should be used as both review and reference material.  For those interested in going deeper than the surface level overview we present here, references are provided at various points."
   ]
  },
  {
   "cell_type": "markdown",
   "id": "80291b29",
   "metadata": {},
   "source": [
    "## Optical Modes\n",
    "\n",
    "Often we deal with optical signals whose fields oscillate at a single angular frequency $\\omega$.  At any given frequency, an optical signal can be written as a summation of modes.  These modes are distinguished by a variety of properties, such as their wave-vector $\\mathbf{k}$ or polarization (e.g. linear horizontal, linear vertical, right-hand circular, etc.).  \n",
    "\n",
    "In most cases, each input or output signal populates a single mode."
   ]
  },
  {
   "cell_type": "markdown",
   "id": "78370958",
   "metadata": {},
   "source": [
    "## The Vacuum State $\\ket{0}$\n",
    "\n",
    "The vacuum state represents the condition that no photon populates any mode.  This can be expanded as:\n",
    "\n",
    "$\\ket{0} = \\ket{0}_a\\ket{0}_b\\ldots\\ket{0}_m\\ket{0}_n\\ldots$,\n",
    "\n",
    "where, for example, $\\ket{0}_n$ represents zero photons for mode $n$.  \n",
    "\n",
    "Here, we have labeled the modes $a$, $b$, $c$, $\\ldots$ for convenience, but it should be noted that there can be infinite number of possible modes."
   ]
  },
  {
   "cell_type": "markdown",
   "id": "89ea379a",
   "metadata": {},
   "source": [
    "## Photon Number States: $\\ket{N}$\n",
    "\n",
    "Number states are those that represent a mode populated with a precise number of photons.  Such states are ubiquitous in quantum engineering applications.     \n",
    "\n",
    "For instance, a single photon in mode $m$ can be written as:\n",
    "\n",
    "$\\ket{1}_m = \\ket{0}_a\\ket{0}_b\\ldots\\ket{0}_l\\ket{1}_m\\ket{0}_n\\ldots$.\n",
    "\n",
    "Likewise, for N-photons in mode $m$:\n",
    "\n",
    "$\\ket{N}_m = \\ket{0}_a\\ket{0}_b\\ldots\\ket{0}_l\\ket{N}_m\\ket{0}_n\\ldots$."
   ]
  },
  {
   "cell_type": "markdown",
   "id": "01062192",
   "metadata": {},
   "source": [
    "## The Creation Operator: $\\adagger$\n",
    "\n",
    "The creation operator acts to increase the photon number in a particular mode by 1. For instance:\n",
    "\n",
    "$\\adagger_m \\ket{0}_m = \\ket{1}_m$\n",
    "\n",
    "More generally:\n",
    "\n",
    "$\\adagger_m \\ket{N}_m = \\sqrt{N + 1}\\ket{N + 1}$"
   ]
  },
  {
   "cell_type": "markdown",
   "id": "cde76ebf",
   "metadata": {},
   "source": [
    "## The Annihilation Operator: $\\ahat$\n",
    "\n",
    "The annihilation operator acts to decrease the photon number in a particular mode by 1.  For instance:\n",
    "\n",
    "$\\ahat_m \\ket{1}_m = \\ket{0}_m$.\n",
    "\n",
    "More generally:\n",
    "\n",
    "$\\ahat_m \\ket{N}_m = \\sqrt{N}\\ket{N - 1}$.\n",
    "\n",
    "Note that:\n",
    "\n",
    "$\\ahat_m \\ket{0}_m = 0$"
   ]
  },
  {
   "cell_type": "markdown",
   "id": "c9d9e06c",
   "metadata": {},
   "source": [
    "## The Number Operator: $\\hat{N} = \\adagger\\ahat$\n",
    "\n",
    "As the name implies, the number operator relates to the number of photons contained within a mode.  It is related to the annihilation and creation operators:\n",
    "\n",
    "$\\hat{N}_m = \\adagger_m\\ahat_m$.  \n",
    "\n",
    "Often times we are interested in the time-averaged number of photons in a state.  For instance, consider the state $\\ket{\\psi_m}.  The time averaged number of photons in this state would then be:\n",
    "\n",
    "$\\bra{\\psi}_m\\hat{N}_m\\ket{\\psi}_m$.  \n",
    "\n",
    "Using the properties of $\\ahat$ and $\\adagger$, you can easily show that:\n",
    "\n",
    "$\\bra{N}_m \\hat{N}_m \\ket{N}_m = N$."
   ]
  },
  {
   "cell_type": "markdown",
   "id": "a09f3ef6",
   "metadata": {},
   "source": [
    "## The Field Operators\n",
    "\n",
    "The annihilation and creation operators are also intrinsically related to the electric field of a state.  In fact, they arise as a result of quantizing the electric field.  \n",
    "\n",
    "```{note}\n",
    "The quantization of the electromagnetic field is discussed in many textbooks.  For instance, see the treatment in Ref. {cite:p}`townsendModernApproachQuantum2000`.  \n",
    "```\n",
    "\n",
    "The operator relating to the \"in-phase\" component of the electric field is expressed as:\n",
    "\n",
    "$$\\hat{A}^{(1)} = \\frac{\\adagger + \\ahat}{2}$$,\n",
    "\n",
    "and that relating to the \"quadrature\" component of the electric field as:\n",
    "\n",
    "$$\\hat{A}^{(2)} = \\frac{\\adagger - \\ahat}{2i}$$\n",
    "\n",
    "Taking the expectation of either $\\hat{A}^{(1)}$ or $\\hat{A}^{(2)}$ provides the time-averaged output of the in-phase and quadrature components of the field respectively."
   ]
  },
  {
   "cell_type": "markdown",
   "id": "d1621ddd",
   "metadata": {},
   "source": [
    "## Mean and Standard Deviation Observables\n",
    "\n",
    "A general concept of note is the determination of mean and standard deviation of an observable, such as photon number or field value.  As engineers, we are often just as concerned about noise and its reduction as we are about the signal itself.\n",
    "\n",
    "The mean of an observable can be found by taking its expectation given the current state of the system $\\ket{\\psi}$.  For example, the mean photon number would be:\n",
    "\n",
    "$$ \\langle N \\rangle =  \\bra{\\psi}\\hat{N}\\ket{\\psi}$$.\n",
    "\n",
    "The standard deviation $\\Delta N$ is found through the relation:\n",
    "\n",
    "$$\\langle \\Delta N^2 \\rangle = \\bra{\\psi} \\hat{N}^2 \\ket{\\psi} - \\langle N \\rangle^2$$\n",
    "\n",
    "Calculation of such quantities are very important as they allow us to determine signal-to-noise ratios in our systems that are critical to their real-world operation.\n",
    "\n",
    "```{note}\n",
    "Note the similarity to the approach from how such values are obtained for standard random variables in statistics.  For example, see the definitions for [standard deviation](https://en.wikipedia.org/wiki/Standard_deviation) and [variance](https://en.wikipedia.org/wiki/Variance). \n",
    "```"
   ]
  },
  {
   "cell_type": "markdown",
   "id": "0249ee4a",
   "metadata": {},
   "source": [
    "## References\n",
    "\n",
    "```{bibliography}\n",
    ":style: unsrt\n",
    "```"
   ]
  }
 ],
 "metadata": {
  "jupytext": {
   "formats": "ipynb,md:myst",
   "text_representation": {
    "extension": ".md",
    "format_name": "myst",
    "format_version": 0.13,
    "jupytext_version": "1.11.5"
   }
  },
  "kernelspec": {
   "display_name": "Python 3 (ipykernel)",
   "language": "python",
   "name": "python3"
  },
  "language_info": {
   "codemirror_mode": {
    "name": "ipython",
    "version": 3
   },
   "file_extension": ".py",
   "mimetype": "text/x-python",
   "name": "python",
   "nbconvert_exporter": "python",
   "pygments_lexer": "ipython3",
   "version": "3.8.12"
  },
  "source_map": [
   15,
   25,
   32,
   41,
   51,
   59,
   71,
   85,
   97,
   113,
   129,
   149,
   169
  ]
 },
 "nbformat": 4,
 "nbformat_minor": 5
}