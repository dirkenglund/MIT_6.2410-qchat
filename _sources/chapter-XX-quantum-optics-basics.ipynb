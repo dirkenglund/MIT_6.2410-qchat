{
 "cells": [
  {
   "cell_type": "markdown",
   "id": "e0cce23d",
   "metadata": {
    "tags": [
     "remove-cell"
    ]
   },
   "source": [
    "# Latex Headers\n",
    "\n",
    "$$\\newcommand{\\ket}[1]{\\left|{#1}\\right\\rangle}$$\n",
    "$$\\newcommand{\\bra}[1]{\\left\\langle{#1}\\right|}$$\n",
    "$$\\newcommand{\\braket}[2]{\\left\\langle{#1}\\middle|{#2}\\right\\rangle}$$\n",
    "$$\\newcommand{\\adagger}[0]{\\hat{a}^{\\dagger}}$$\n",
    "$$\\newcommand{\\ahat}[0]{\\hat{a}}$$"
   ]
  },
  {
   "cell_type": "markdown",
   "id": "38219e87",
   "metadata": {
    "incorrectly_encoded_metadata": "tags=[\"remove-cell\"] jp-MarkdownHeadingCollapsed=true jp-MarkdownHeadingCollapsed=true tags=[] jp-MarkdownHeadingCollapsed=true",
    "tags": [
     "remove-cell"
    ]
   },
   "source": [
    "# Cell Width Adjust\n",
    "\n",
    " - Execute the code below to adjust the width of the cells when editing.  \n",
    " - These cells will not be published to the book and are for editing convenience."
   ]
  },
  {
   "cell_type": "code",
   "execution_count": 1,
   "id": "59b816f7",
   "metadata": {
    "tags": [
     "remove-cell"
    ]
   },
   "outputs": [
    {
     "data": {
      "text/html": [
       "<style>.jp-CodeCell .jp-Cell-inputWrapper { width: 70% !important;  margin: 0 auto; }</style>"
      ],
      "text/plain": [
       "<IPython.core.display.HTML object>"
      ]
     },
     "metadata": {},
     "output_type": "display_data"
    },
    {
     "data": {
      "text/html": [
       "<style>.jp-MarkdownCell .jp-Cell-inputWrapper { width: 70% !important;  margin: 0 auto; }</style>"
      ],
      "text/plain": [
       "<IPython.core.display.HTML object>"
      ]
     },
     "metadata": {},
     "output_type": "display_data"
    },
    {
     "data": {
      "text/html": [
       "<style>.jp-Cell-outputWrapper { width: 70% !important;  margin: 0 auto; }</style>"
      ],
      "text/plain": [
       "<IPython.core.display.HTML object>"
      ]
     },
     "metadata": {},
     "output_type": "display_data"
    }
   ],
   "source": [
    "width = 70 #Width as a percentage of the screen\n",
    "\n",
    "from IPython.display import display, HTML\n",
    "display(HTML(\"<style>.jp-CodeCell .jp-Cell-inputWrapper { width: \"+str(width)+\"% !important;  margin: 0 auto; }</style>\"))\n",
    "display(HTML(\"<style>.jp-MarkdownCell .jp-Cell-inputWrapper { width: \"+str(width)+\"% !important;  margin: 0 auto; }</style>\"))\n",
    "display(HTML(\"<style>.jp-Cell-outputWrapper { width: \"+str(width)+\"% !important;  margin: 0 auto; }</style>\"))"
   ]
  },
  {
   "cell_type": "markdown",
   "id": "51ed98f1",
   "metadata": {},
   "source": [
    "# The Basics of Quantum Optics\n",
    "\n",
    "This course is about how we can leverage quantum systems as engineers.  As such it is not intended to be a course focused purely on the physics of quantum systems.  \n",
    "\n",
    "In this course we will focus our attention on how to engineer quantum systems to securely transmit information, perform sensitive measurements, and compute among other things.  This will require us to develop a proficiency in understanding how quantum signals are generated, transmitted, and received.  It will also require us to understand the limitations of measurements, and how to account for noise.\n",
    "\n",
    "While we will introduce several quantum engineering platforms in this course, a large number of concepts will be taught through the lens of quantum optics.  This chapter overviews basic concepts in quantum optics that will be drawn on throughout the course.  It should be used as both review and reference material.  For those interested in going deeper than the surface level overview we present here, references are provided at various points."
   ]
  },
  {
   "cell_type": "markdown",
   "id": "e5ac8df1",
   "metadata": {},
   "source": [
    "## Optical Modes\n",
    "\n",
    "Often we deal with optical signals whose fields oscillate at a single angular frequency $\\omega$.  At any given frequency, an optical signal can be written as a summation of modes.  These modes are distinguished by a variety of properties, such as their wave-vector $\\mathbf{k}$ or polarization (e.g. linear horizontal, linear vertical, right-hand circular, etc.).  \n",
    "\n",
    "In most cases, each input or output signal populates a single mode."
   ]
  },
  {
   "cell_type": "markdown",
   "id": "f66d788b",
   "metadata": {},
   "source": [
    "## The Vacuum State $\\ket{0}$\n",
    "\n",
    "The vacuum state represents the condition that no photon populates any mode.  This can be expanded as:\n",
    "\n",
    "$\\ket{0} = \\ket{0}_a\\ket{0}_b\\ldots\\ket{0}_m\\ket{0}_n\\ldots$,\n",
    "\n",
    "where, for example, $\\ket{0}_n$ represents zero photons for mode $n$.  \n",
    "\n",
    "Here, we have labeled the modes $a$, $b$, $c$, $\\ldots$ for convenience, but it should be noted that there can be infinite number of possible modes."
   ]
  },
  {
   "cell_type": "markdown",
   "id": "79096829",
   "metadata": {},
   "source": [
    "## Photon Number States: $\\ket{N}$\n",
    "\n",
    "Number states are those that represent a mode populated with a precise number of photons.  Such states are ubiquitous in quantum engineering applications.     \n",
    "\n",
    "For instance, a single photon in mode $m$ can be written as:\n",
    "\n",
    "$\\ket{1}_m = \\ket{0}_a\\ket{0}_b\\ldots\\ket{0}_l\\ket{1}_m\\ket{0}_n\\ldots$.\n",
    "\n",
    "Likewise, for N-photons in mode $m$:\n",
    "\n",
    "$\\ket{N}_m = \\ket{0}_a\\ket{0}_b\\ldots\\ket{0}_l\\ket{N}_m\\ket{0}_n\\ldots$."
   ]
  },
  {
   "cell_type": "markdown",
   "id": "175b62fd",
   "metadata": {},
   "source": [
    "## The Creation Operator: $\\adagger$\n",
    "\n",
    "The creation operator acts to increase the photon number in a particular mode by 1. For instance:\n",
    "\n",
    "$\\adagger_m \\ket{0}_m = \\ket{1}_m$\n",
    "\n",
    "More generally:\n",
    "\n",
    "$\\adagger_m \\ket{N}_m = \\sqrt{N + 1}\\ket{N + 1}$"
   ]
  },
  {
   "cell_type": "markdown",
   "id": "2945408e",
   "metadata": {},
   "source": [
    "## The Annihilation Operator: $\\ahat$\n",
    "\n",
    "The annihilation operator acts to decrease the photon number in a particular mode by 1.  For instance:\n",
    "\n",
    "$$\\ahat_m \\ket{1}_m = \\ket{0}_m.$$\n",
    "\n",
    "More generally:\n",
    "\n",
    "$$\\ahat_m \\ket{N}_m = \\sqrt{N}\\ket{N - 1}.$$\n",
    "\n",
    "Note that:\n",
    "\n",
    "$$\\ahat_m \\ket{0}_m = 0.$$"
   ]
  },
  {
   "cell_type": "markdown",
   "id": "8ca33931",
   "metadata": {},
   "source": [
    "## The Number Operator: $\\hat{N} = \\adagger\\ahat$\n",
    "\n",
    "As the name implies, the number operator relates to the number of photons contained within a mode.  It is related to the annihilation and creation operators:\n",
    "\n",
    "$\\hat{N}_m = \\adagger_m\\ahat_m$.  \n",
    "\n",
    "Often times we are interested in the time-averaged number of photons in a state.  For instance, consider the state $\\ket{\\psi_m}.  The time averaged number of photons in this state would then be:\n",
    "\n",
    "$\\bra{\\psi}_m\\hat{N}_m\\ket{\\psi}_m$.  \n",
    "\n",
    "Using the properties of $\\ahat$ and $\\adagger$, you can easily show that:\n",
    "\n",
    "$\\bra{N}_m \\hat{N}_m \\ket{N}_m = N$."
   ]
  },
  {
   "cell_type": "markdown",
   "id": "e981fecc",
   "metadata": {},
   "source": [
    "## The Field Operators\n",
    "\n",
    "The annihilation and creation operators are also intrinsically related to the electric field of a state.  In fact, they arise as a result of quantizing the electric field.  \n",
    "\n",
    "```{note}\n",
    "The quantization of the electromagnetic field is discussed in many textbooks.  For instance, see the treatment in Ref. {cite:p}`townsendModernApproachQuantum2000`.  \n",
    "```\n",
    "\n",
    "The operator relating to the \"in-phase\" component of the electric field is expressed as:\n",
    "\n",
    "$$\\hat{A}^{(1)} = \\frac{\\adagger + \\ahat}{2},$$\n",
    "\n",
    "and that relating to the \"quadrature\" component of the electric field as:\n",
    "\n",
    "$$\\hat{A}^{(2)} = \\frac{\\adagger - \\ahat}{2i}.$$\n",
    "\n",
    "Taking the expectation of either $\\hat{A}^{(1)}$ or $\\hat{A}^{(2)}$ provides the time-averaged output of the in-phase and quadrature components of the field respectively.  \n",
    "\n",
    "Note that it can be useful to define the more general form:\n",
    "\n",
    "$$\\hat{A}^{(\\theta)} = \\frac{\\ahat e^{-i\\theta} + \\adagger e^{i\\theta}}{2}$$\n",
    "\n",
    "where $\\hat{A}^{(1)} = \\hat{A}^{(\\theta)}(0)$, and $\\hat{A}^{(2)} = \\hat{A}^{(\\theta)}(\\pi/2)$"
   ]
  },
  {
   "cell_type": "markdown",
   "id": "5747818e",
   "metadata": {},
   "source": [
    "## Mean and Standard Deviation Observables\n",
    "\n",
    "A general concept of note is the determination of mean and standard deviation of an observable, such as photon number or field value.  As engineers, we are often just as concerned about noise and its reduction as we are about the signal itself.\n",
    "\n",
    "The mean of an observable can be found by taking its expectation given the current state of the system $\\ket{\\psi}$.  For example, the mean photon number would be:\n",
    "\n",
    "$$ \\langle N \\rangle =  \\bra{\\psi}\\hat{N}\\ket{\\psi}.$$\n",
    "\n",
    "The standard deviation $\\Delta N$ is found through the relation:\n",
    "\n",
    "$$\\langle \\Delta N^2 \\rangle = \\bra{\\psi} \\hat{N}^2 \\ket{\\psi} - \\langle N \\rangle^2.$$\n",
    "\n",
    "Calculation of such quantities are very important as they allow us to determine signal-to-noise ratios in our systems that are critical to their real-world operation.\n",
    "\n",
    "```{note}\n",
    "The approach above follows directly from how such values are obtained for random variables in statistics.  For example, see the definitions for [standard deviation](https://en.wikipedia.org/wiki/Standard_deviation) and [variance](https://en.wikipedia.org/wiki/Variance). \n",
    "```"
   ]
  },
  {
   "cell_type": "markdown",
   "id": "1510d73e",
   "metadata": {},
   "source": [
    "## Common State Types and Their Properties\n",
    "\n",
    "### The number state $\\ket{N}$\n",
    "\n",
    "As per its name, the number state contains a well-defined number of photons, such that \n",
    "\n",
    "$$N = \\bra{N}\\hat{N}\\ket{N}.$$\n",
    "\n",
    "The standard deviation of this photon number $\\Delta N = 0$.  \n",
    "\n",
    "What can be quite odd about such a state is that despite the fact that the photon number is unrestricted, the average field is always 0.  That is:\n",
    "\n",
    "$$\\langle \\hat{A}^{(1)} \\rangle = \\langle \\hat{A}^{(2)} \\rangle = 0.$$\n",
    "\n",
    "However, the standard deviation of the fields are certainly not zero, with:\n",
    "\n",
    "$$\\Delta A^{(\\theta)} = \\sqrt{2N + 1}/2.$$\n",
    "\n",
    "So, while these states carry a very well-defined amount of energy ($N\\hbar\\omega$), they carry it in fields that fluctuate wildly in time, with no net mean field.\n",
    "\n",
    "A useful way to visualize quantum fields is to make a two-dimensional plot with $A^{(1)}$ on the $x$-axis, and $A^{(2)}$ on the $y$-axis.  In this configuration, $\\theta$ is then the angle going counter-clockwise from the $x$-axis.  Then, you mark the region whos center is the mean value of $A^{(1)}$ and $A^{(2)}$ of the state, with a width of $2\\Delta A^{(\\theta)}$ for each value of $\\theta$.  This allows a quick visual representation of both the average value and uncertainty of the fields of any given state."
   ]
  },
  {
   "cell_type": "code",
   "execution_count": 2,
   "id": "73ded6e2",
   "metadata": {
    "tags": [
     "hide-input"
    ]
   },
   "outputs": [
    {
     "data": {
      "image/png": "[encoded data removed]",
      "text/plain": [
       "<Figure size 720x720 with 1 Axes>"
      ]
     },
     "metadata": {
      "filenames": {
       "image/png": "/home/dkeathley/Dropbox (MIT)/org/PROJECT-ATTACHMENTS/work/JUPYTER-BOOK-6.157-laboratory-for-quantum-information-science-2022-04-27-07-26/_build/jupyter_execute/chapter-XX-quantum-optics-basics_13_0.png"
      },
      "needs_background": "light"
     },
     "output_type": "display_data"
    }
   ],
   "source": [
    "import matplotlib.pyplot as plt\n",
    "import numpy as np\n",
    "import matplotlib.patches as mpatches\n",
    "\n",
    "fig = plt.figure()\n",
    "ax = fig.add_subplot()\n",
    "\n",
    "A = 0\n",
    "phi = 0\n",
    "delA = np.sqrt(2*4 + 1)/2\n",
    "\n",
    "\n",
    "A1 = A*np.cos(phi)\n",
    "A2 = A*np.sin(phi)\n",
    "\n",
    "\n",
    "# add a circle\n",
    "patch = mpatches.Ellipse((A1, A2), width=delA*2, height=delA*2, ec=\"none\", color='tab:blue')\n",
    "ax.add_patch(patch)\n",
    "ax.set_xlim(-5.1, 5.1)\n",
    "ax.set_ylim(-5.1, 5.1)\n",
    "\n",
    "ax.set_xlabel('$A^{(1)}$', fontsize=15)\n",
    "ax.set_ylabel('$A^{(2)}$', fontsize=15)\n",
    "\n",
    "ax.axvline(0, color='black', linestyle='--')\n",
    "ax.axhline(0, color='black', linestyle='--')\n",
    "\n",
    "ax.tick_params(labelsize=13) \n",
    "\n",
    "plt.gca().set_aspect('equal')\n",
    "\n",
    "fig.set_size_inches(10, 10)"
   ]
  },
  {
   "cell_type": "markdown",
   "id": "c47d17c4",
   "metadata": {
    "tags": []
   },
   "source": [
    "### The coherent state $\\ket{\\alpha}$"
   ]
  },
  {
   "cell_type": "markdown",
   "id": "cba5250a",
   "metadata": {},
   "source": [
    "If you have ever seen the interference of laser light with itself, you know that it cannot be described by a pure number state.  Strong laser light has a very well-defined phase and can exhibit interference over very long delays.  It turns out that this kind of light is well described by a coherrent state $\\ket{\\alpha}$, where $\\alpha$ is a complex number whos amplitude relates to the electric field strength, and whos phase relates to the phase offset of the electromagnetic wave.  \n",
    "\n",
    "An interesting and useful fact is that a coherent state is nothing more than a distribution of number states all added together in a particular way.  For instance, a classical state populating the $m^\\text{th}$ mode is represented as:\n",
    "\n",
    "$$ \\ket{\\alpha}_m = e^{-|\\alpha|^2/2} \\sum_n \\frac{\\alpha^n}{\\sqrt{n!}} \\ket{n}_m. $$\n",
    "\n",
    "We leave it as an exercise to show that\n",
    "\n",
    "$$ \\ahat_m \\ket{\\alpha}_m = \\alpha \\ket{\\alpha}_m, $$\n",
    "\n",
    "and\n",
    "\n",
    "$$ \\bra{\\alpha}_m \\adagger_m = \\alpha^* \\bra{\\alpha}_m.  $$\n",
    "\n",
    "This makes working with coherent states very easy, so long as you put all expressions in \"normal order\", meaning annihilation operators always before creation operators when multiplied out.\n",
    "\n",
    "```{important}\n",
    "Remember that in quantum operators do not necessarily commute.  In particular, the creation and annihilation operators do not commute.  This means that we cannot simply move the annihilation operators to the left of creation operators.  \n",
    "\n",
    "So how do we put things in normal order?  We take advantage of the commutation relation\n",
    "\n",
    "$$ [\\ahat, \\adagger] = \\ahat\\adagger - \\adagger\\ahat = 1. $$\n",
    "\n",
    "For example, take \n",
    "\n",
    "$$\\hat{N}^2 = \\adagger\\ahat\\adagger\\ahat = \\adagger\\ahat + \\adagger\\adagger\\ahat\\ahat,$$\n",
    "\n",
    "where we have used the commutation relation to achieve the final expression in normal order.\n",
    "```\n",
    "\n",
    "Now we have that \n",
    "\n",
    "\n",
    "Using this fact, it is easy to then show that the average photon is\n",
    "\n",
    "$$ N = |\\alpha|^2, $$\n",
    "\n",
    "and that the the standard deviation is"
   ]
  },
  {
   "cell_type": "code",
   "execution_count": 3,
   "id": "5c1fb910",
   "metadata": {
    "tags": [
     "hide-input"
    ]
   },
   "outputs": [
    {
     "data": {
      "image/png": "[encoded data removed]",
      "text/plain": [
       "<Figure size 720x720 with 1 Axes>"
      ]
     },
     "metadata": {
      "filenames": {
       "image/png": "/home/dkeathley/Dropbox (MIT)/org/PROJECT-ATTACHMENTS/work/JUPYTER-BOOK-6.157-laboratory-for-quantum-information-science-2022-04-27-07-26/_build/jupyter_execute/chapter-XX-quantum-optics-basics_16_0.png"
      },
      "needs_background": "light"
     },
     "output_type": "display_data"
    }
   ],
   "source": [
    "import matplotlib.pyplot as plt\n",
    "import numpy as np\n",
    "import matplotlib.patches as mpatches\n",
    "\n",
    "fig = plt.figure()\n",
    "ax = fig.add_subplot()\n",
    "\n",
    "A = 4\n",
    "phi = np.pi/4\n",
    "delA = 1/2\n",
    "\n",
    "#Determine projection onto A1 and A2 for center\n",
    "A1 = A*np.cos(phi)\n",
    "A2 = A*np.sin(phi)\n",
    "\n",
    "# add a circle\n",
    "patch = mpatches.Ellipse((A1, A2), width=delA*2, height=delA*2, ec=\"none\", color='tab:blue')\n",
    "ax.add_patch(patch)\n",
    "ax.set_xlim(-4.1, 4.1)\n",
    "ax.set_ylim(-4.1, 4.1)\n",
    "\n",
    "ax.set_xlabel('$A^{(1)}$', fontsize=15)\n",
    "ax.set_ylabel('$A^{(2)}$', fontsize=15)\n",
    "\n",
    "ax.axvline(0, color='black', linestyle='--')\n",
    "ax.axhline(0, color='black', linestyle='--')\n",
    "\n",
    "ax.tick_params(labelsize=13) \n",
    "\n",
    "plt.gca().set_aspect('equal')\n",
    "\n",
    "fig.set_size_inches(10, 10)"
   ]
  },
  {
   "cell_type": "markdown",
   "id": "a1e5bcb0",
   "metadata": {},
   "source": [
    "## References\n",
    "\n",
    "```{bibliography}\n",
    ":style: unsrt\n",
    "```"
   ]
  }
 ],
 "metadata": {
  "jupytext": {
   "formats": "ipynb,md:myst",
   "text_representation": {
    "extension": ".md",
    "format_name": "myst",
    "format_version": 0.13,
    "jupytext_version": "1.11.5"
   }
  },
  "kernelspec": {
   "display_name": "Python 3 (ipykernel)",
   "language": "python",
   "name": "python3"
  },
  "language_info": {
   "codemirror_mode": {
    "name": "ipython",
    "version": 3
   },
   "file_extension": ".py",
   "mimetype": "text/x-python",
   "name": "python",
   "nbconvert_exporter": "python",
   "pygments_lexer": "ipython3",
   "version": "3.8.12"
  },
  "source_map": [
   15,
   25,
   32,
   41,
   51,
   59,
   71,
   85,
   97,
   113,
   129,
   155,
   175,
   199,
   237,
   241,
   284,
   319
  ]
 },
 "nbformat": 4,
 "nbformat_minor": 5
}