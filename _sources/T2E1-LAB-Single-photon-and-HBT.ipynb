{
 "cells": [
  {
   "cell_type": "markdown",
   "id": "66104312",
   "metadata": {},
   "source": [
    "# LAB: Hanbury - Brown Twiss Lab\n",
    "\n",
    "\n",
    "[HBT on QuTools](https://qutools.com/qued/qued-sample-experiments/sample-experiments-particle-nature-of-photons/)\n",
    "\n",
    "#### **From the pre-lab** Look at your pre-lab write-up of the HBT. Use the information about \n",
    " * loss of the system\n",
    " * efficiency of APD\n",
    " * specs on the 50/50 beam splitter (loss, is it 50/50?)\n",
    " * singles/second from the source\n",
    "to estimate what you expect to see for singles for each of the detectors in the HBT set-up.\n",
    "\n",
    "#### Questions to answer\n",
    "What is the expected g2 of a heralded single photon source?\n",
    "\n",
    "What g2 do you expect to see?\n",
    "\n",
    "How would you set-up the experiment with the tools you have?\n",
    "\n",
    "#### Procedure\n",
    "Set up the HBT experiment. Record your measurements for singles, 2 fold coindcidences, and 3 fold coincidences. Calculate g2.\n",
    "\n",
    "Repeat the measurement until you converge on a mean and variance for your g2.\n",
    "\n",
    "Repeat at different pump currents: 10 mA, 25 mA, 40 mA. How does g2 differ? Why do think that happens?\n",
    "\n",
    "What happens when you change your integration time from 0.1 seconds to 1 second to 20 seconds? Which one do you think provides the most accurate g2? Why?\n",
    "\n"
   ]
  }
 ],
 "metadata": {
  "kernelspec": {
   "display_name": "Python 3 (ipykernel)",
   "language": "python",
   "name": "python3"
  },
  "language_info": {
   "codemirror_mode": {
    "name": "ipython",
    "version": 3
   },
   "file_extension": ".py",
   "mimetype": "text/x-python",
   "name": "python",
   "nbconvert_exporter": "python",
   "pygments_lexer": "ipython3",
   "version": "3.8.15"
  },
  "widgets": {
   "application/vnd.jupyter.widget-state+json": {
    "state": {},
    "version_major": 2,
    "version_minor": 0
   }
  }
 },
 "nbformat": 4,
 "nbformat_minor": 5
}
