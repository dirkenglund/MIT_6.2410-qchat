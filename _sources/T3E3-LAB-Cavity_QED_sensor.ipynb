{
 "cells": [
  {
   "cell_type": "markdown",
   "metadata": {
    "id": "x6MQPbNMbqQY"
   },
   "source": [
    "# LAB -- Solid State Spins\n"
   ]
  },
  {
   "cell_type": "markdown",
   "metadata": {
    "id": "aHwos0ieb4j_"
   },
   "source": [
    "* Introduction\n",
    "\n",
    "\n",
    "\n",
    "\n",
    "\n",
    "* Pre-lab reading: Read the introduction to the quTools quNV experiment [here](https://qutools.com/qunv/) \n"
   ]
  },
  {
   "cell_type": "markdown",
   "metadata": {
    "id": "iwHXluh08SmP"
   },
   "source": [
    "\n",
    "\n",
    "```\n",
    "# This is formatted as code\n",
    "```\n",
    "\n",
    "\n",
    "## Cavity-coupled quantum electrodynamic (QED) sensor\n",
    " Hanfeng Wang, Matthew E. Trusheim, and Dirk Englund - Dec. 2022"
   ]
  },
  {
   "cell_type": "markdown",
   "metadata": {
    "id": "aOvqnQzUSR_P"
   },
   "source": []
  },
  {
   "cell_type": "markdown",
   "metadata": {
    "id": "h-h8-gj-L2a1"
   },
   "source": [
    "Resonators for electromagnetic fields in the range of 1-100 GHz are essential in a range of quantum technologies, including superconducting quantum computers, microwave-optical quantum information interfaces, as well as sensors. Here, we consider microwave cavities coupled to ensembles of electron and nuclear spins associated with nitrogen vacancy (NV) centers in diamond. Following the discovery of coherent quantum dynamics of NV centers in the late 1990s, NV centers have emerged as leading quantum sensors for quantities ranging from electromagnetic fields to temperature, strain, rotation (gyroscopes), and have even been proposed for exotic schemes like dark matter detection. The key advantages of NV centers in sensing applications, over other electron spin systems, are their long coherence times and avaible optical polarization at room temperature.\n",
    "\n",
    "Suggested reading for this laboratory on hybrid systems of microwave cavities coupled to NV spin ensembles specifically:\n",
    "-- 1 ) [E. Eisenach et al, Cavity-enhanced microwave readout of a solid-state spin sensor](https://www.nature.com/articles/s41467-021-21256-7)\n",
    " \n",
    "-- [optional] [JF Barry et. al. Sensitivity optimization for NV-diamond magnetometry](https://https://journals.aps.org/rmp/abstract/10.1103/RevModPhys.92.015004)\n",
    "\n",
    "-- [optional] [ D. Fahey et. al., Steady-state microwave mode cooling with a diamond NV ensemble](https://https://arxiv.org/abs/2203.03462)\n",
    "\n",
    "\n",
    "-- [ME Trusheim et. al. A Polariton-Stabilized Spin Clock\n",
    "](https://arxiv.org/abs/2009.02427)\n",
    "\n",
    "\n",
    "Upon optical excitation, nonradiative decay through a spin-state-dependent intersystem crossing produces spin-state-dependent fluorescence contrast and polarize NV spin to m_s = 0 ground state. A common way for NV spin readout relies on detecting this spin-state-dependent fluorescence. However, due to the low photon detection efficiency (C~0.015) for NV ensemble, the NV magnetic sensitivity is limited by the photon-shot-noise-limit. \n",
    "\n",
    "One way to solve this problem is to use NV-cavity coupling, where we couple NV centers to another system (cavity in this case) and read the NV resonance frequency by via the cavity mode."
   ]
  },
  {
   "cell_type": "markdown",
   "metadata": {
    "id": "UJCnNlSlbnFg"
   },
   "source": [
    "\n",
    "\n",
    "1.   List item\n",
    "2.   List item\n",
    "\n",
    "\n",
    "\n"
   ]
  },
  {
   "cell_type": "markdown",
   "metadata": {
    "id": "cT-RzoV-H4pn"
   },
   "source": [
    "![Setup_drawing.png](FIGURES/T3E3-spins-setup.png)"
   ]
  },
  {
   "cell_type": "code",
   "execution_count": 6,
   "metadata": {
    "colab": {
     "base_uri": "https://localhost:8080/",
     "height": 455,
     "referenced_widgets": [
      "f0db5fba6cfe4d39aae2f7fc991d5116",
      "10a56053fae94f99aff2722622f9eecb",
      "7bcf5ee46e0048508ac0e9a59f9bed72",
      "07a17197e9354636b8694d1edcadea10",
      "9e0034a5e13a4e15b88b29eabcd92b63",
      "4a566c54ac0844b0858b1fe7ba650b41",
      "6ed63505a3d54c89a53a22c87ac48f21",
      "ab08ae8e90ca4047b07256e96b02890c",
      "1cd36b1161ea4a53b4343f03abea3a47",
      "08b7f072e63945cf9487bfb15cc8115f",
      "65ab193e661a4a61ae3b54a49cc0946e",
      "076ffb57fd3640bb9cf12be5a25ea20d",
      "fb528c3f114f49909a11e9cc974856a1",
      "52f771e756734d55bad71864eb698d3a",
      "9a8f5cf9c7e7417cbcb3519e28af2e8c",
      "2d277657c8a942c08822085e318940b2",
      "6684dc2eb33046b5b9f5b6f5d17985ac",
      "9f8d3179368e4b9989e9cc0563f002fa",
      "0e1446942ed24d369f8b94e0c2b4c197"
     ]
    },
    "executionInfo": {
     "elapsed": 616,
     "status": "ok",
     "timestamp": 1672691531869,
     "user": {
      "displayName": "Donnie Keathley",
      "userId": "12999748697637083576"
     },
     "user_tz": 300
    },
    "id": "j5nfjvYNm923",
    "outputId": "210f5027-a6c6-4526-97c6-3b8b6cea989e"
   },
   "outputs": [
    {
     "data": {
      "application/vnd.jupyter.widget-view+json": {
       "model_id": "73c53811a564466d9aae52e7c4cd2174",
       "version_major": 2,
       "version_minor": 0
      },
      "text/plain": [
       "interactive(children=(FloatSlider(value=0.01, description='g0_in', max=1.0, min=0.01), FloatSlider(value=70.0,…"
      ]
     },
     "metadata": {},
     "output_type": "display_data"
    },
    {
     "data": {
      "image/png": "[encoded data removed]",
      "text/plain": [
       "<Figure size 432x288 with 8 Axes>"
      ]
     },
     "metadata": {
      "needs_background": "light"
     },
     "output_type": "display_data"
    }
   ],
   "source": [
    "import numpy as np\n",
    "import matplotlib.pyplot as plt\n",
    "import ipywidgets as widgets\n",
    "from ipywidgets import HBox, VBox\n",
    "from IPython.display import display\n",
    "%matplotlib inline\n",
    "\n",
    "@widgets.interact_manual(\n",
    "    g0_in=(0.01, 1.),kc0_in=(1., 1000.),kc1_in=(1., 1000.),ks_in=(1., 1000.))\n",
    "def runFunc(g0_in=0.01, kc0_in = 70, kc1_in = 111, ks_in = 308):\n",
    "    kc0 = 2*np.pi*kc0_in; #kHz  Cavity linewidth\n",
    "    kc1 = 2*np.pi*kc1_in; #kHz   Cavity-loop coupling (output coupling)\n",
    "\n",
    "    ks = 2*np.pi*ks_in; #kHz  Spin coherence time\n",
    "\n",
    "\n",
    "    density_NVs = 5; #PPM Density of NV centers in the diamond, given in ppm\n",
    "    diamondDensity = 1.76e29; # atoms/m^3 Atomic density of diamond\n",
    "    density_NVs_SI = density_NVs*1e-6*diamondDensity; # NV/m^3\n",
    "\n",
    "    diamond_sample_dim_x=3e-3; # m Diamond spatial dimensions, assuming cuboid\n",
    "    diamond_sample_dim_y=3e-3; # m\n",
    "    diamond_sample_dim_z=0.5e-3; # m\n",
    "    diamond_sample_volume = diamond_sample_dim_x*diamond_sample_dim_y*diamond_sample_dim_z; \n",
    "\n",
    "    N_NVs= density_NVs_SI*diamond_sample_volume ; # the number of NVs in the diamond\n",
    "\n",
    "    g0 = g0_in*1e-3; #kHz   Coupling strength for single spin, see referenced papers  \n",
    "\n",
    "    geff = g0*np.sqrt(N_NVs); # Total coupling scales as sqrt(N)\n",
    "\n",
    "\n",
    "    kc = kc0 + kc1; # Total cavity loss\n",
    "\n",
    "    xnum = 101; # number of points to plot in x\n",
    "    ynum = 121;\n",
    "\n",
    "    # initialize sweep parameters \n",
    "    wdc = np.linspace(-0.8,0.8,num=xnum)*1e3*2*np.pi;  #kHz  Detuning of the probe frequency and cavity frequency\n",
    "    wsc = np.linspace(-7.4,7.4,num=ynum)*1e3*2*np.pi;  #kHz  Detuning of the spin frequency and cavity frequency\n",
    "\n",
    "    # initialize output ararys\n",
    "    inphaseOut = np.zeros((xnum,ynum));\n",
    "    quadratureOut = np.zeros((xnum,ynum));\n",
    "\n",
    "    for ii in range(xnum):\n",
    "\n",
    "      for jj in range(ynum):\n",
    "\n",
    "        wds = wdc[ii]-wsc[jj]; #spin-cavity detuning\n",
    "\n",
    "        # Cavity reflection signal from references\n",
    "        refOutput = -1 + kc1/(kc/2+1j*wdc[ii]+pow(geff,2)/(ks/2+1j*wds)); \n",
    "        inphaseOut[ii][jj] = np.real(refOutput); # In-phase part of the cavity signal \n",
    "        quadratureOut[ii][jj] = np.imag(refOutput);  # Quadrature part of the cavity signal \n",
    "\n",
    "    y, x = np.meshgrid(np.linspace(-7.4,7.4,num=ynum), np.linspace(-0.8,0.8,num=xnum),)\n",
    "    fig, figAxes = plt.subplots(2,2,sharex='all', sharey='all')\n",
    "    ax1 = figAxes[0,0];\n",
    "    ax2 = figAxes[0,1];\n",
    "    ax3 = figAxes[1,0];\n",
    "    ax4 = figAxes[1,1];\n",
    "\n",
    "\n",
    "    c = ax1.pcolormesh(y, x, quadratureOut)\n",
    "    ax1.set_title('Q')\n",
    "    #ax1.set_xlabel('fsc (MHz)')\n",
    "    ax1.set_ylabel('fdc (MHz)')\n",
    "    fig.colorbar(c, ax=ax1)\n",
    "\n",
    "    c = ax2.pcolormesh(y, x, inphaseOut)\n",
    "    ax2.set_title('I')\n",
    "    #ax2.set_xlabel('fsc (MHz)')\n",
    "    #ax2.set_ylabel('fdc (MHz)')\n",
    "    fig.colorbar(c, ax=ax2)\n",
    "\n",
    "    c = ax3.pcolormesh(y, x, np.sqrt(pow(quadratureOut,2)+pow(inphaseOut,2)))\n",
    "    ax3.set_title('P')\n",
    "    ax3.set_xlabel('fsc (MHz)')\n",
    "    ax3.set_ylabel('fdc (MHz)')\n",
    "    fig.colorbar(c, ax=ax3)\n",
    "\n",
    "    c = ax4.pcolormesh(y, x, np.arctan( np.divide(quadratureOut,inphaseOut)))\n",
    "    ax4.set_title('Phi')\n",
    "    ax4.set_xlabel('fsc (MHz)')\n",
    "    #ax4.set_ylabel('fdc (MHz)')\n",
    "    fig.colorbar(c, ax=ax4)\n",
    "\n",
    "    plt.show()      \n",
    "\n",
    "runFunc()"
   ]
  },
  {
   "cell_type": "markdown",
   "metadata": {
    "id": "zWHBJQbnAQT0"
   },
   "source": [
    "## Minimum detectable magnetic field\n",
    "\n",
    "[background in Ref. X, page Y [[add hyperlink]]\n",
    "\n",
    "Here is the sensitivity analysis for cavity-coupled sensor. In the ideal case, the spin-projection-limit sensitivity is propotional to the inverse of the square root of the number of spins (N). However, the NV decoherence time and dephasing time will decrease during the increase of the NV number. Therefore, the sensivitity will decrease sharply in the large-N regime. The script below calculated the spin-projection-limit sensitivity and photon-shot-noise-limit with different number of spins.\n",
    "\n",
    "The script below also include the cavity-coupled spin sensor. The scale of the sensitivity in the low-N regime is linear with the 1/N rather than 1/sqrt(N), which offers the possibility for this sensor to go below the spin-projection-limit sensitivity. "
   ]
  },
  {
   "cell_type": "markdown",
   "metadata": {
    "id": "J9H_qc3zKjea"
   },
   "source": [
    "[[ choose here parameters that students can actually modify in the laboratory: i.e., microwave driving power, optical pump power; bias point of microwave readout signal [\\omega_probe] ]]"
   ]
  },
  {
   "cell_type": "code",
   "execution_count": 7,
   "metadata": {
    "colab": {
     "base_uri": "https://localhost:8080/",
     "height": 301
    },
    "executionInfo": {
     "elapsed": 1864,
     "status": "ok",
     "timestamp": 1670090617765,
     "user": {
      "displayName": "Dirk Englund",
      "userId": "13834429622441934993"
     },
     "user_tz": 300
    },
    "id": "BiSCF6cP7-yW",
    "outputId": "ef5d0c69-e14c-4019-fc5f-43bcfdfb3887"
   },
   "outputs": [
    {
     "data": {
      "text/plain": [
       "Text(0, 0.5, 'Sensitivity (T/\\\\sqrt(Hz))')"
      ]
     },
     "execution_count": 7,
     "metadata": {},
     "output_type": "execute_result"
    },
    {
     "data": {
      "image/png": "[encoded data removed]",
      "text/plain": [
       "<Figure size 432x288 with 1 Axes>"
      ]
     },
     "metadata": {
      "needs_background": "light"
     },
     "output_type": "display_data"
    }
   ],
   "source": [
    "import numpy as np\n",
    "import matplotlib.pyplot as plt\n",
    "\n",
    "Delta = 2e6;\n",
    "f = 0.1;\n",
    "\n",
    "Sphi = 1e-9; # phase noise\n",
    "\n",
    "Q = 3e4;  # Quality factor\n",
    "\n",
    "hbar = 1.05e-34;  \n",
    "\n",
    "gs = 2; \n",
    "\n",
    "muB = 9.27e-24; \n",
    "\n",
    "rho = np.logspace(8,20,40)*1e6;\n",
    "\n",
    "Tc = 1/3.3e-19/(rho*(0.95/0.05));\n",
    "\n",
    "T2c = 300e-6;\n",
    "\n",
    "T2 = 1/(1/T2c+1/Tc);\n",
    "\n",
    "mu0 = 4*np.pi*1e-7;\n",
    "\n",
    "C = 0.015;\n",
    "\n",
    "etaB = 8 * pow((hbar/gs/muB),3) * Delta/np.pi/Q/T2 * Sphi * 1/mu0/hbar/rho *1/f * np.exp(pow((T2/T2c),3))* np.exp(T2/Tc)* np.sqrt(1+1e-6/T2);\n",
    "\n",
    "eta = hbar/muB/gs * np.pi * np.exp(pow((T2/T2c),3))/C/np.sqrt(rho*T2) * np.exp(T2/Tc) * np.sqrt(1+1e-6/T2);\n",
    "\n",
    "eta_proj = hbar/muB/gs * np.pi * np.exp(pow((T2/T2c),3))/np.sqrt(rho*T2) * np.exp(T2/Tc) * np.sqrt(1+1e-6/T2);\n",
    "\n",
    "fig,ax = plt.subplots()\n",
    "\n",
    "ax.loglog(rho/1e6,eta*1/np.sqrt(3e-3*3e-3*0.5e-3),label='Photon shot noise limit')\n",
    "\n",
    "ax.loglog(rho/1e6,eta_proj*1/np.sqrt(3e-3*3e-3*0.5e-3),label='Spin projection limit')\n",
    "\n",
    "ax.loglog(rho/1e6,etaB,label='Cavity readout sensitivity')\n",
    "\n",
    "ax.legend()\n",
    "\n",
    "ax.set_xlabel('NV Density (cm^{-3})')\n",
    "ax.set_ylabel('Sensitivity (T/\\sqrt(Hz))')\n",
    "\n",
    "\n"
   ]
  },
  {
   "cell_type": "markdown",
   "metadata": {
    "id": "MJhN-scd8R9e"
   },
   "source": [
    "## Lab aims\n",
    "\n",
    "\n",
    "**Aim 1: Characterizatin of the NV-cavity QED apparatus**\n",
    "\n",
    "\n",
    "\n",
    "**A1.1: Test the cavity Q and frequency with digital twin**\n",
    "\n",
    "Put numbers into Digital Twin based on [E. Eisenach et al, Cavity-enhanced microwave readout of a solid-state spin sensor](https://www.nature.com/articles/s41467-021-21256-7). Reproduce curves in the publication. \n",
    "\n",
    "\n",
    "**A1.2: Cavity Experiment** \n",
    "\n",
    "1. Find cavity resonance frequency. Connect vector network analyzer (VNA) to the cavity and detect S12 reflection signal. Move the position of the loop to critical couple the loop and the cavity. Get the cavity resonance frequency based on the VNA signal. \n",
    "\n",
    "2. Analysis the cavity resonance signal. Disconnect the VNA and connect the signal generator (SG) to the circuit. Sweep the frequency near the cavity resonance frequency. Compare the experimental data and simulations from Digital Twin by setting N=0. Get the cavity linewidth κc with the model. \n",
    "\n",
    "3. NV-cavity coupling. Turn on the laser and set the power to 8 W. Set the microwave power to -17 dBm and sweep the SG frequency and the voltage (current) in the Helmholtz coil. Use the Digital Twin to check your data and get the coupling strength g_{eff} and spin linewidth κs. \n",
    "\n",
    "\n",
    "**A1.3: Power dependence**\n",
    "\n",
    "Set laser power to be 8 W, and microwave power to be P_opt=[-30,-25,-20,-15,-10,-5,0,5,10] dBm. Plot the refection signal for each microwave power. Compare your result with [E. Eisenach et al, Cavity-enhanced microwave readout of a solid-state spin sensor](https://www.nature.com/articles/s41467-021-21256-7). \n",
    "\n",
    "**Aim 2: Magnetic field sensitivity**\n",
    "\n",
    "Now think about how we can make use of the NV-cavity coupling system. A straightforward thing mentioned before is the magnetometry. \n",
    "\n",
    "**A2.1 Sensitivity calculation**\n",
    "\n",
    "Based on your understanding on the project, write codes to calculate the maximum senstivity you can achieve using the parameters you get from Digital Twin and experiments. \n",
    "\n",
    "**A2.2 Power depedence**\n",
    "\n",
    "Think about how this power dependence is related to the magnetic field sensitivity. Calculated it from the Digital Twin model and compare with the experiment data. \n",
    "\n"
   ]
  }
 ],
 "metadata": {
  "colab": {
   "provenance": []
  },
  "kernelspec": {
   "display_name": "Python 3 (ipykernel)",
   "language": "python",
   "name": "python3"
  },
  "language_info": {
   "codemirror_mode": {
    "name": "ipython",
    "version": 3
   },
   "file_extension": ".py",
   "mimetype": "text/x-python",
   "name": "python",
   "nbconvert_exporter": "python",
   "pygments_lexer": "ipython3",
   "version": "3.8.13"
  },
  "widgets": {
   "application/vnd.jupyter.widget-state+json": {
    "state": {
     "075387f89a3c4e5394ca5af5169a302e": {
      "model_module": "@jupyter-widgets/base",
      "model_module_version": "1.2.0",
      "model_name": "LayoutModel",
      "state": {}
     },
     "0a60c23c99d4457884a1cf372d76694c": {
      "model_module": "@jupyter-widgets/base",
      "model_module_version": "1.2.0",
      "model_name": "LayoutModel",
      "state": {}
     },
     "17650c40164347d08171339f1ef812f0": {
      "model_module": "@jupyter-widgets/base",
      "model_module_version": "1.2.0",
      "model_name": "LayoutModel",
      "state": {}
     },
     "1a9b919feaad40069ba4248bebac723d": {
      "model_module": "@jupyter-widgets/base",
      "model_module_version": "1.2.0",
      "model_name": "LayoutModel",
      "state": {}
     },
     "1c18f269694e4a22ab5c225c93a70540": {
      "model_module": "@jupyter-widgets/controls",
      "model_module_version": "1.5.0",
      "model_name": "ButtonModel",
      "state": {
       "description": "Run Interact",
       "layout": "IPY_MODEL_a2a083da69974259a9b617bb4a58f8a0",
       "style": "IPY_MODEL_20883d790e0d483b8ad6539b04d7cd88"
      }
     },
     "20883d790e0d483b8ad6539b04d7cd88": {
      "model_module": "@jupyter-widgets/controls",
      "model_module_version": "1.5.0",
      "model_name": "ButtonStyleModel",
      "state": {}
     },
     "237b125c1dc54da287af34ef49db8dc7": {
      "model_module": "@jupyter-widgets/base",
      "model_module_version": "1.2.0",
      "model_name": "LayoutModel",
      "state": {}
     },
     "27f6e446ffb94772a490b4bd6d3f2d72": {
      "model_module": "@jupyter-widgets/output",
      "model_module_version": "1.0.0",
      "model_name": "OutputModel",
      "state": {
       "layout": "IPY_MODEL_afcd0da9c40541858ef2201990143c0e"
      }
     },
     "2c548d0077bb4d17a008b7d9af06937a": {
      "model_module": "@jupyter-widgets/controls",
      "model_module_version": "1.5.0",
      "model_name": "SliderStyleModel",
      "state": {
       "description_width": ""
      }
     },
     "3007aa92168e43f9a30bb785b4fbed28": {
      "model_module": "@jupyter-widgets/base",
      "model_module_version": "1.2.0",
      "model_name": "LayoutModel",
      "state": {}
     },
     "360c71b7538d40ea8120eea4fec8e013": {
      "model_module": "@jupyter-widgets/controls",
      "model_module_version": "1.5.0",
      "model_name": "FloatSliderModel",
      "state": {
       "description": "ks_in",
       "layout": "IPY_MODEL_cd851ee7ab7f4e4f8a31979244dc26d2",
       "max": 1000,
       "min": 1,
       "step": 0.1,
       "style": "IPY_MODEL_fed180a21bc5455a8092740a12c3158e",
       "value": 308
      }
     },
     "3660336f18404432a7458853f242a9a6": {
      "model_module": "@jupyter-widgets/base",
      "model_module_version": "1.2.0",
      "model_name": "LayoutModel",
      "state": {}
     },
     "398c0fe23e094792be0b2fa19b4bf6bb": {
      "model_module": "@jupyter-widgets/controls",
      "model_module_version": "1.5.0",
      "model_name": "SliderStyleModel",
      "state": {
       "description_width": ""
      }
     },
     "3c31179d4e914b42b1c7ab9789fa15bb": {
      "model_module": "@jupyter-widgets/controls",
      "model_module_version": "1.5.0",
      "model_name": "SliderStyleModel",
      "state": {
       "description_width": ""
      }
     },
     "3ea0d6e240cf48f88249735f2dbb9678": {
      "model_module": "@jupyter-widgets/base",
      "model_module_version": "1.2.0",
      "model_name": "LayoutModel",
      "state": {}
     },
     "4072797bbd58426fad051421ce9a8f84": {
      "model_module": "@jupyter-widgets/output",
      "model_module_version": "1.0.0",
      "model_name": "OutputModel",
      "state": {
       "layout": "IPY_MODEL_3007aa92168e43f9a30bb785b4fbed28"
      }
     },
     "4646df8733d244e0b26243c74046fdd9": {
      "model_module": "@jupyter-widgets/controls",
      "model_module_version": "1.5.0",
      "model_name": "SliderStyleModel",
      "state": {
       "description_width": ""
      }
     },
     "4827aa6c712b4a728896879607801e6d": {
      "model_module": "@jupyter-widgets/output",
      "model_module_version": "1.0.0",
      "model_name": "OutputModel",
      "state": {
       "layout": "IPY_MODEL_f30c96b2263d4276929b60068a0ce5a0"
      }
     },
     "4b99f81dc9644ed4a854d3196b2f5e6c": {
      "model_module": "@jupyter-widgets/controls",
      "model_module_version": "1.5.0",
      "model_name": "VBoxModel",
      "state": {
       "_dom_classes": [
        "widget-interact"
       ],
       "children": [
        "IPY_MODEL_99badf50dd2d47d9a4831c7e92046f70",
        "IPY_MODEL_68f1953cc6194d42bc88dbdd2b1b25a2",
        "IPY_MODEL_81f9e5dd7c9f4a7d9103764446239eeb",
        "IPY_MODEL_360c71b7538d40ea8120eea4fec8e013",
        "IPY_MODEL_4de5157b7fc54cb1b5d39e18b6febdf8",
        "IPY_MODEL_e58efed613c9400da55455dd22eea824"
       ],
       "layout": "IPY_MODEL_825229260c384185bcdd00eeb640619e"
      }
     },
     "4c3c96feecc144119e2d6a543579672a": {
      "model_module": "@jupyter-widgets/base",
      "model_module_version": "1.2.0",
      "model_name": "LayoutModel",
      "state": {}
     },
     "4de5157b7fc54cb1b5d39e18b6febdf8": {
      "model_module": "@jupyter-widgets/controls",
      "model_module_version": "1.5.0",
      "model_name": "ButtonModel",
      "state": {
       "description": "Run Interact",
       "layout": "IPY_MODEL_3ea0d6e240cf48f88249735f2dbb9678",
       "style": "IPY_MODEL_59198e571afd4b39a29083961d31020e"
      }
     },
     "56e0a3dcd8bd4668b344c18d8dbe2564": {
      "model_module": "@jupyter-widgets/controls",
      "model_module_version": "1.5.0",
      "model_name": "VBoxModel",
      "state": {
       "_dom_classes": [
        "widget-interact"
       ],
       "children": [
        "IPY_MODEL_a2c5427571df4462ae1eb3cca9e584c8",
        "IPY_MODEL_bfef4338dc594d4dbda4ae94397d8a63",
        "IPY_MODEL_8fba615aac374b649a6233551f7c14d1",
        "IPY_MODEL_57871301dfe9400f98e6012ca70c01da",
        "IPY_MODEL_6331904d5e7e4ef49aac12a7a177a4e5",
        "IPY_MODEL_4827aa6c712b4a728896879607801e6d"
       ],
       "layout": "IPY_MODEL_f67f6c8bc59045cfb056ec2b5b3718c2"
      }
     },
     "57871301dfe9400f98e6012ca70c01da": {
      "model_module": "@jupyter-widgets/controls",
      "model_module_version": "1.5.0",
      "model_name": "FloatSliderModel",
      "state": {
       "description": "ks_in",
       "layout": "IPY_MODEL_dbc09020b7b54dc6bc68c76422c80758",
       "max": 1000,
       "min": 1,
       "step": 0.1,
       "style": "IPY_MODEL_4646df8733d244e0b26243c74046fdd9",
       "value": 308
      }
     },
     "59198e571afd4b39a29083961d31020e": {
      "model_module": "@jupyter-widgets/controls",
      "model_module_version": "1.5.0",
      "model_name": "ButtonStyleModel",
      "state": {}
     },
     "5b060eca9fc94e3bb42a6a1d500af8c4": {
      "model_module": "@jupyter-widgets/base",
      "model_module_version": "1.2.0",
      "model_name": "LayoutModel",
      "state": {}
     },
     "60d3b2d540d74fe59d481f5e11659c0d": {
      "model_module": "@jupyter-widgets/controls",
      "model_module_version": "1.5.0",
      "model_name": "FloatSliderModel",
      "state": {
       "description": "kc1_in",
       "layout": "IPY_MODEL_b39b20e6387449438e14c41c1c86726e",
       "max": 1000,
       "min": 1,
       "step": 0.1,
       "style": "IPY_MODEL_2c548d0077bb4d17a008b7d9af06937a",
       "value": 111
      }
     },
     "6155bc9b165d43ee91cd410ef11ed841": {
      "model_module": "@jupyter-widgets/base",
      "model_module_version": "1.2.0",
      "model_name": "LayoutModel",
      "state": {}
     },
     "6331904d5e7e4ef49aac12a7a177a4e5": {
      "model_module": "@jupyter-widgets/controls",
      "model_module_version": "1.5.0",
      "model_name": "ButtonModel",
      "state": {
       "description": "Run Interact",
       "layout": "IPY_MODEL_075387f89a3c4e5394ca5af5169a302e",
       "style": "IPY_MODEL_7f9d86e3ddb54bdea09cd8c91fbd9340"
      }
     },
     "64353f1b1605448183ce54125974db7b": {
      "model_module": "@jupyter-widgets/controls",
      "model_module_version": "1.5.0",
      "model_name": "SliderStyleModel",
      "state": {
       "description_width": ""
      }
     },
     "68f1953cc6194d42bc88dbdd2b1b25a2": {
      "model_module": "@jupyter-widgets/controls",
      "model_module_version": "1.5.0",
      "model_name": "FloatSliderModel",
      "state": {
       "description": "kc0_in",
       "layout": "IPY_MODEL_237b125c1dc54da287af34ef49db8dc7",
       "max": 1000,
       "min": 1,
       "step": 0.1,
       "style": "IPY_MODEL_398c0fe23e094792be0b2fa19b4bf6bb",
       "value": 70
      }
     },
     "7317ffbe4c3e46e1a9839bc8fc243186": {
      "model_module": "@jupyter-widgets/controls",
      "model_module_version": "1.5.0",
      "model_name": "FloatSliderModel",
      "state": {
       "description": "ks_in",
       "layout": "IPY_MODEL_0a60c23c99d4457884a1cf372d76694c",
       "max": 1000,
       "min": 1,
       "step": 0.1,
       "style": "IPY_MODEL_ad82442724124994929aa387a1c01302",
       "value": 308
      }
     },
     "73c53811a564466d9aae52e7c4cd2174": {
      "model_module": "@jupyter-widgets/controls",
      "model_module_version": "1.5.0",
      "model_name": "VBoxModel",
      "state": {
       "_dom_classes": [
        "widget-interact"
       ],
       "children": [
        "IPY_MODEL_d94b14d7c8ea4056869d5258ede13abf",
        "IPY_MODEL_b88ae1adf25141348f3de0a2b32f4218",
        "IPY_MODEL_60d3b2d540d74fe59d481f5e11659c0d",
        "IPY_MODEL_897d002ae936486d9c3bbea6fabca711",
        "IPY_MODEL_8f95ff69ec9549c3be5ff4c0494ed96c",
        "IPY_MODEL_4072797bbd58426fad051421ce9a8f84"
       ],
       "layout": "IPY_MODEL_a2b9691d9e0f403e9cd6afa8f08a4acf"
      }
     },
     "7901b18ca64a40ab873214f4373e6028": {
      "model_module": "@jupyter-widgets/base",
      "model_module_version": "1.2.0",
      "model_name": "LayoutModel",
      "state": {}
     },
     "7f9d86e3ddb54bdea09cd8c91fbd9340": {
      "model_module": "@jupyter-widgets/controls",
      "model_module_version": "1.5.0",
      "model_name": "ButtonStyleModel",
      "state": {}
     },
     "7ff879622d274c2a9041b78b5f838b34": {
      "model_module": "@jupyter-widgets/base",
      "model_module_version": "1.2.0",
      "model_name": "LayoutModel",
      "state": {}
     },
     "81f9e5dd7c9f4a7d9103764446239eeb": {
      "model_module": "@jupyter-widgets/controls",
      "model_module_version": "1.5.0",
      "model_name": "FloatSliderModel",
      "state": {
       "description": "kc1_in",
       "layout": "IPY_MODEL_6155bc9b165d43ee91cd410ef11ed841",
       "max": 1000,
       "min": 1,
       "step": 0.1,
       "style": "IPY_MODEL_a1415eb7baa94c17914a41174de9a206",
       "value": 111
      }
     },
     "825229260c384185bcdd00eeb640619e": {
      "model_module": "@jupyter-widgets/base",
      "model_module_version": "1.2.0",
      "model_name": "LayoutModel",
      "state": {}
     },
     "897d002ae936486d9c3bbea6fabca711": {
      "model_module": "@jupyter-widgets/controls",
      "model_module_version": "1.5.0",
      "model_name": "FloatSliderModel",
      "state": {
       "description": "ks_in",
       "layout": "IPY_MODEL_89b9051b80cb4ed58c85e4da4e972733",
       "max": 1000,
       "min": 1,
       "step": 0.1,
       "style": "IPY_MODEL_c0ff0559293f48e380f86d87122458bc",
       "value": 308
      }
     },
     "89b9051b80cb4ed58c85e4da4e972733": {
      "model_module": "@jupyter-widgets/base",
      "model_module_version": "1.2.0",
      "model_name": "LayoutModel",
      "state": {}
     },
     "8f5feb099a6f47ab9066b110183db356": {
      "model_module": "@jupyter-widgets/base",
      "model_module_version": "1.2.0",
      "model_name": "LayoutModel",
      "state": {}
     },
     "8f95ff69ec9549c3be5ff4c0494ed96c": {
      "model_module": "@jupyter-widgets/controls",
      "model_module_version": "1.5.0",
      "model_name": "ButtonModel",
      "state": {
       "description": "Run Interact",
       "layout": "IPY_MODEL_8f5feb099a6f47ab9066b110183db356",
       "style": "IPY_MODEL_dbd2fc34638d407696966e9ec1141598"
      }
     },
     "8fba615aac374b649a6233551f7c14d1": {
      "model_module": "@jupyter-widgets/controls",
      "model_module_version": "1.5.0",
      "model_name": "FloatSliderModel",
      "state": {
       "description": "kc1_in",
       "layout": "IPY_MODEL_17650c40164347d08171339f1ef812f0",
       "max": 1000,
       "min": 1,
       "step": 0.1,
       "style": "IPY_MODEL_eca6daba93ab41b292c5c4acb7f98f0a",
       "value": 111
      }
     },
     "90dcc173977a486fb05ad1fdc193d50a": {
      "model_module": "@jupyter-widgets/controls",
      "model_module_version": "1.5.0",
      "model_name": "FloatSliderModel",
      "state": {
       "description": "g0_in",
       "layout": "IPY_MODEL_7901b18ca64a40ab873214f4373e6028",
       "max": 1,
       "min": 0.01,
       "step": 0.1,
       "style": "IPY_MODEL_c0398d42dcf84957a520857dc0a96835",
       "value": 0.01
      }
     },
     "938dfc25458c462883c6ec6e83c28e35": {
      "model_module": "@jupyter-widgets/controls",
      "model_module_version": "1.5.0",
      "model_name": "SliderStyleModel",
      "state": {
       "description_width": ""
      }
     },
     "99badf50dd2d47d9a4831c7e92046f70": {
      "model_module": "@jupyter-widgets/controls",
      "model_module_version": "1.5.0",
      "model_name": "FloatSliderModel",
      "state": {
       "description": "g0_in",
       "layout": "IPY_MODEL_edf5e987b43146d285d1b46e995d7925",
       "max": 1,
       "min": 0.01,
       "step": 0.1,
       "style": "IPY_MODEL_b21737f91f6b4332825b3c43acc0dd7b",
       "value": 0.01
      }
     },
     "a1415eb7baa94c17914a41174de9a206": {
      "model_module": "@jupyter-widgets/controls",
      "model_module_version": "1.5.0",
      "model_name": "SliderStyleModel",
      "state": {
       "description_width": ""
      }
     },
     "a2a083da69974259a9b617bb4a58f8a0": {
      "model_module": "@jupyter-widgets/base",
      "model_module_version": "1.2.0",
      "model_name": "LayoutModel",
      "state": {}
     },
     "a2b9691d9e0f403e9cd6afa8f08a4acf": {
      "model_module": "@jupyter-widgets/base",
      "model_module_version": "1.2.0",
      "model_name": "LayoutModel",
      "state": {}
     },
     "a2c5427571df4462ae1eb3cca9e584c8": {
      "model_module": "@jupyter-widgets/controls",
      "model_module_version": "1.5.0",
      "model_name": "FloatSliderModel",
      "state": {
       "description": "g0_in",
       "layout": "IPY_MODEL_b8ce80ea62de4997a660df339e046068",
       "max": 1,
       "min": 0.01,
       "step": 0.1,
       "style": "IPY_MODEL_64353f1b1605448183ce54125974db7b",
       "value": 0.01
      }
     },
     "ad82442724124994929aa387a1c01302": {
      "model_module": "@jupyter-widgets/controls",
      "model_module_version": "1.5.0",
      "model_name": "SliderStyleModel",
      "state": {
       "description_width": ""
      }
     },
     "afcd0da9c40541858ef2201990143c0e": {
      "model_module": "@jupyter-widgets/base",
      "model_module_version": "1.2.0",
      "model_name": "LayoutModel",
      "state": {}
     },
     "b21737f91f6b4332825b3c43acc0dd7b": {
      "model_module": "@jupyter-widgets/controls",
      "model_module_version": "1.5.0",
      "model_name": "SliderStyleModel",
      "state": {
       "description_width": ""
      }
     },
     "b39b20e6387449438e14c41c1c86726e": {
      "model_module": "@jupyter-widgets/base",
      "model_module_version": "1.2.0",
      "model_name": "LayoutModel",
      "state": {}
     },
     "b88ae1adf25141348f3de0a2b32f4218": {
      "model_module": "@jupyter-widgets/controls",
      "model_module_version": "1.5.0",
      "model_name": "FloatSliderModel",
      "state": {
       "description": "kc0_in",
       "layout": "IPY_MODEL_e70306e6886f48afb93dfb5069296484",
       "max": 1000,
       "min": 1,
       "step": 0.1,
       "style": "IPY_MODEL_ccbf2d0d587041be8f2c36bea2af88c6",
       "value": 70
      }
     },
     "b8ce80ea62de4997a660df339e046068": {
      "model_module": "@jupyter-widgets/base",
      "model_module_version": "1.2.0",
      "model_name": "LayoutModel",
      "state": {}
     },
     "bfef4338dc594d4dbda4ae94397d8a63": {
      "model_module": "@jupyter-widgets/controls",
      "model_module_version": "1.5.0",
      "model_name": "FloatSliderModel",
      "state": {
       "description": "kc0_in",
       "layout": "IPY_MODEL_e0a898ada83644dc862c75b8406169a3",
       "max": 1000,
       "min": 1,
       "step": 0.1,
       "style": "IPY_MODEL_3c31179d4e914b42b1c7ab9789fa15bb",
       "value": 70
      }
     },
     "c0398d42dcf84957a520857dc0a96835": {
      "model_module": "@jupyter-widgets/controls",
      "model_module_version": "1.5.0",
      "model_name": "SliderStyleModel",
      "state": {
       "description_width": ""
      }
     },
     "c0ff0559293f48e380f86d87122458bc": {
      "model_module": "@jupyter-widgets/controls",
      "model_module_version": "1.5.0",
      "model_name": "SliderStyleModel",
      "state": {
       "description_width": ""
      }
     },
     "c44e90a411ea404aa128f4501976b615": {
      "model_module": "@jupyter-widgets/controls",
      "model_module_version": "1.5.0",
      "model_name": "FloatSliderModel",
      "state": {
       "description": "kc0_in",
       "layout": "IPY_MODEL_4c3c96feecc144119e2d6a543579672a",
       "max": 1000,
       "min": 1,
       "step": 0.1,
       "style": "IPY_MODEL_938dfc25458c462883c6ec6e83c28e35",
       "value": 70
      }
     },
     "c9dc8b93ca7c45c29f959eb3d5a424f6": {
      "model_module": "@jupyter-widgets/controls",
      "model_module_version": "1.5.0",
      "model_name": "FloatSliderModel",
      "state": {
       "description": "kc1_in",
       "layout": "IPY_MODEL_1a9b919feaad40069ba4248bebac723d",
       "max": 1000,
       "min": 1,
       "step": 0.1,
       "style": "IPY_MODEL_e76c9285239e4f9ea1282c5fca69aeaf",
       "value": 111
      }
     },
     "ccbf2d0d587041be8f2c36bea2af88c6": {
      "model_module": "@jupyter-widgets/controls",
      "model_module_version": "1.5.0",
      "model_name": "SliderStyleModel",
      "state": {
       "description_width": ""
      }
     },
     "cd851ee7ab7f4e4f8a31979244dc26d2": {
      "model_module": "@jupyter-widgets/base",
      "model_module_version": "1.2.0",
      "model_name": "LayoutModel",
      "state": {}
     },
     "d94b14d7c8ea4056869d5258ede13abf": {
      "model_module": "@jupyter-widgets/controls",
      "model_module_version": "1.5.0",
      "model_name": "FloatSliderModel",
      "state": {
       "description": "g0_in",
       "layout": "IPY_MODEL_7ff879622d274c2a9041b78b5f838b34",
       "max": 1,
       "min": 0.01,
       "step": 0.1,
       "style": "IPY_MODEL_dba59780c05d49b0bbdd9a56e2ab9feb",
       "value": 0.01
      }
     },
     "dba59780c05d49b0bbdd9a56e2ab9feb": {
      "model_module": "@jupyter-widgets/controls",
      "model_module_version": "1.5.0",
      "model_name": "SliderStyleModel",
      "state": {
       "description_width": ""
      }
     },
     "dbc09020b7b54dc6bc68c76422c80758": {
      "model_module": "@jupyter-widgets/base",
      "model_module_version": "1.2.0",
      "model_name": "LayoutModel",
      "state": {}
     },
     "dbd2fc34638d407696966e9ec1141598": {
      "model_module": "@jupyter-widgets/controls",
      "model_module_version": "1.5.0",
      "model_name": "ButtonStyleModel",
      "state": {}
     },
     "de439994d7fa47d4a517ddc51fdb698f": {
      "model_module": "@jupyter-widgets/controls",
      "model_module_version": "1.5.0",
      "model_name": "VBoxModel",
      "state": {
       "_dom_classes": [
        "widget-interact"
       ],
       "children": [
        "IPY_MODEL_90dcc173977a486fb05ad1fdc193d50a",
        "IPY_MODEL_c44e90a411ea404aa128f4501976b615",
        "IPY_MODEL_c9dc8b93ca7c45c29f959eb3d5a424f6",
        "IPY_MODEL_7317ffbe4c3e46e1a9839bc8fc243186",
        "IPY_MODEL_1c18f269694e4a22ab5c225c93a70540",
        "IPY_MODEL_27f6e446ffb94772a490b4bd6d3f2d72"
       ],
       "layout": "IPY_MODEL_5b060eca9fc94e3bb42a6a1d500af8c4"
      }
     },
     "e0a898ada83644dc862c75b8406169a3": {
      "model_module": "@jupyter-widgets/base",
      "model_module_version": "1.2.0",
      "model_name": "LayoutModel",
      "state": {}
     },
     "e58efed613c9400da55455dd22eea824": {
      "model_module": "@jupyter-widgets/output",
      "model_module_version": "1.0.0",
      "model_name": "OutputModel",
      "state": {
       "layout": "IPY_MODEL_3660336f18404432a7458853f242a9a6",
       "outputs": [
        {
         "data": {
          "image/png": "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\n",
          "text/plain": "<Figure size 432x288 with 8 Axes>"
         },
         "metadata": {
          "needs_background": "light"
         },
         "output_type": "display_data"
        }
       ]
      }
     },
     "e70306e6886f48afb93dfb5069296484": {
      "model_module": "@jupyter-widgets/base",
      "model_module_version": "1.2.0",
      "model_name": "LayoutModel",
      "state": {}
     },
     "e76c9285239e4f9ea1282c5fca69aeaf": {
      "model_module": "@jupyter-widgets/controls",
      "model_module_version": "1.5.0",
      "model_name": "SliderStyleModel",
      "state": {
       "description_width": ""
      }
     },
     "eca6daba93ab41b292c5c4acb7f98f0a": {
      "model_module": "@jupyter-widgets/controls",
      "model_module_version": "1.5.0",
      "model_name": "SliderStyleModel",
      "state": {
       "description_width": ""
      }
     },
     "edf5e987b43146d285d1b46e995d7925": {
      "model_module": "@jupyter-widgets/base",
      "model_module_version": "1.2.0",
      "model_name": "LayoutModel",
      "state": {}
     },
     "f30c96b2263d4276929b60068a0ce5a0": {
      "model_module": "@jupyter-widgets/base",
      "model_module_version": "1.2.0",
      "model_name": "LayoutModel",
      "state": {}
     },
     "f67f6c8bc59045cfb056ec2b5b3718c2": {
      "model_module": "@jupyter-widgets/base",
      "model_module_version": "1.2.0",
      "model_name": "LayoutModel",
      "state": {}
     },
     "fed180a21bc5455a8092740a12c3158e": {
      "model_module": "@jupyter-widgets/controls",
      "model_module_version": "1.5.0",
      "model_name": "SliderStyleModel",
      "state": {
       "description_width": ""
      }
     }
    },
    "version_major": 2,
    "version_minor": 0
   }
  }
 },
 "nbformat": 4,
 "nbformat_minor": 4
}
