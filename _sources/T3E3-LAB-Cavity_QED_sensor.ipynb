{
 "cells": [
  {
   "cell_type": "markdown",
   "metadata": {
    "id": "x6MQPbNMbqQY"
   },
   "source": [
    "# LAB: Solid State Spin Laboratory\n"
   ]
  },
  {
   "cell_type": "markdown",
   "metadata": {
    "id": "aHwos0ieb4j_"
   },
   "source": [
    "* Introduction\n",
    "\n",
    "\n",
    "\n",
    "\n",
    "\n",
    "* Pre-lab reading: Read the introduction to the quTools quNV experiment [here](https://qutools.com/qunv/) \n"
   ]
  },
  {
   "cell_type": "markdown",
   "metadata": {
    "id": "iwHXluh08SmP"
   },
   "source": [
    "## Cavity-coupled quantum electrodynamic (QED) sensor\n",
    " Hanfeng Wang, Matthew E. Trusheim, and Dirk Englund - Dec. 2022"
   ]
  },
  {
   "cell_type": "markdown",
   "metadata": {
    "id": "h-h8-gj-L2a1"
   },
   "source": [
    "Resonators for electromagnetic fields in the range of 1-100 GHz are essential in a range of quantum technologies, including superconducting quantum computers, microwave-optical quantum information interfaces, as well as sensors. Here, we consider microwave cavities coupled to ensembles of electron and nuclear spins associated with nitrogen vacancy (NV) centers in diamond. Following the discovery of coherent quantum dynamics of NV centers in the late 1990s, NV centers have emerged as leading quantum sensors for quantities ranging from electromagnetic fields to temperature, strain, rotation (gyroscopes), and have even been proposed for exotic schemes like dark matter detection. The key advantages of NV centers in sensing applications, over other electron spin systems, are their long coherence times and avaible optical polarization at room temperature.\n",
    "\n",
    "Suggested reading for this laboratory on hybrid systems of microwave cavities coupled to NV spin ensembles specifically:\n",
    "-- 1 ) [E. Eisenach et al, Cavity-enhanced microwave readout of a solid-state spin sensor](https://www.nature.com/articles/s41467-021-21256-7)\n",
    " \n",
    "-- [optional] [JF Barry et. al. Sensitivity optimization for NV-diamond magnetometry](https://https://journals.aps.org/rmp/abstract/10.1103/RevModPhys.92.015004)\n",
    "\n",
    "-- [optional] [ D. Fahey et. al., Steady-state microwave mode cooling with a diamond NV ensemble](https://https://arxiv.org/abs/2203.03462)\n",
    "\n",
    "\n",
    "-- [ME Trusheim et. al. A Polariton-Stabilized Spin Clock\n",
    "](https://arxiv.org/abs/2009.02427)\n",
    "\n",
    "\n",
    "Upon optical excitation, nonradiative decay through a spin-state-dependent intersystem crossing produces spin-state-dependent fluorescence contrast and polarize NV spin to m_s = 0 ground state. A common way for NV spin readout relies on detecting this spin-state-dependent fluorescence. However, due to the low photon detection efficiency (C~0.015) for NV ensemble, the NV magnetic sensitivity is limited by the photon-shot-noise-limit. \n",
    "\n",
    "One way to solve this problem is to use NV-cavity coupling, where we couple NV centers to another system (cavity in this case) and read the NV resonance frequency by via the cavity mode."
   ]
  },
  {
   "cell_type": "markdown",
   "metadata": {
    "id": "UJCnNlSlbnFg"
   },
   "source": [
    "\n",
    "\n",
    "1.   List item\n",
    "2.   List item\n",
    "\n",
    "\n",
    "\n"
   ]
  },
  {
   "cell_type": "markdown",
   "metadata": {
    "id": "cT-RzoV-H4pn"
   },
   "source": [
    ":::{figure-md} cavity-QED-setup\n",
    "<img src=\"https://drive.google.com/uc?export=view&id=1GHuXwtSyHI6-wn5o7Llhv7QndVyWUVbk\" alt=\"HOM-setup\" class=\"bg-primary mb-1\" width=\"800px\">\n",
    "\n",
    "Experimental setup for studying quantum spins. \n",
    ":::"
   ]
  },
  {
   "cell_type": "code",
   "execution_count": null,
   "metadata": {
    "colab": {
     "base_uri": "https://localhost:8080/",
     "height": 455,
     "referenced_widgets": [
      "f0db5fba6cfe4d39aae2f7fc991d5116",
      "10a56053fae94f99aff2722622f9eecb",
      "7bcf5ee46e0048508ac0e9a59f9bed72",
      "07a17197e9354636b8694d1edcadea10",
      "9e0034a5e13a4e15b88b29eabcd92b63",
      "4a566c54ac0844b0858b1fe7ba650b41",
      "6ed63505a3d54c89a53a22c87ac48f21",
      "ab08ae8e90ca4047b07256e96b02890c",
      "1cd36b1161ea4a53b4343f03abea3a47",
      "08b7f072e63945cf9487bfb15cc8115f",
      "65ab193e661a4a61ae3b54a49cc0946e",
      "076ffb57fd3640bb9cf12be5a25ea20d",
      "fb528c3f114f49909a11e9cc974856a1",
      "52f771e756734d55bad71864eb698d3a",
      "9a8f5cf9c7e7417cbcb3519e28af2e8c",
      "2d277657c8a942c08822085e318940b2",
      "6684dc2eb33046b5b9f5b6f5d17985ac",
      "9f8d3179368e4b9989e9cc0563f002fa",
      "0e1446942ed24d369f8b94e0c2b4c197"
     ]
    },
    "executionInfo": {
     "elapsed": 616,
     "status": "ok",
     "timestamp": 1672691531869,
     "user": {
      "displayName": "Donnie Keathley",
      "userId": "12999748697637083576"
     },
     "user_tz": 300
    },
    "id": "j5nfjvYNm923",
    "outputId": "210f5027-a6c6-4526-97c6-3b8b6cea989e"
   },
   "outputs": [
    {
     "data": {
      "application/vnd.jupyter.widget-view+json": {
       "model_id": "f0db5fba6cfe4d39aae2f7fc991d5116",
       "version_major": 2,
       "version_minor": 0
      },
      "text/plain": [
       "interactive(children=(FloatSlider(value=0.01, description='g0_in', max=1.0, min=0.01), FloatSlider(value=70.0,…"
      ]
     },
     "metadata": {},
     "output_type": "display_data"
    }
   ],
   "source": [
    "import numpy as np\n",
    "import matplotlib.pyplot as plt\n",
    "import ipywidgets as widgets\n",
    "from ipywidgets import HBox, VBox\n",
    "from IPython.display import display\n",
    "%matplotlib inline\n",
    "\n",
    "@widgets.interact_manual(\n",
    "    g0_in=(0.01, 1.),kc0_in=(1., 1000.),kc1_in=(1., 1000.),ks_in=(1., 1000.))\n",
    "def runFunc(g0_in=0.01, kc0_in = 70, kc1_in = 111, ks_in = 308):\n",
    "    kc0 = 2*np.pi*kc0_in; #kHz  Cavity linewidth\n",
    "    kc1 = 2*np.pi*kc1_in; #kHz   Cavity-loop coupling (output coupling)\n",
    "\n",
    "    ks = 2*np.pi*ks_in; #kHz  Spin coherence time\n",
    "\n",
    "\n",
    "    density_NVs = 5; #PPM Density of NV centers in the diamond, given in ppm\n",
    "    diamondDensity = 1.76e29; # atoms/m^3 Atomic density of diamond\n",
    "    density_NVs_SI = density_NVs*1e-6*diamondDensity; # NV/m^3\n",
    "\n",
    "    diamond_sample_dim_x=3e-3; # m Diamond spatial dimensions, assuming cuboid\n",
    "    diamond_sample_dim_y=3e-3; # m\n",
    "    diamond_sample_dim_z=0.5e-3; # m\n",
    "    diamond_sample_volume = diamond_sample_dim_x*diamond_sample_dim_y*diamond_sample_dim_z; \n",
    "\n",
    "    N_NVs= density_NVs_SI*diamond_sample_volume ; # the number of NVs in the diamond\n",
    "\n",
    "    g0 = g0_in*1e-3; #kHz   Coupling strength for single spin, see referenced papers  \n",
    "\n",
    "    geff = g0*np.sqrt(N_NVs); # Total coupling scales as sqrt(N)\n",
    "\n",
    "\n",
    "    kc = kc0 + kc1; # Total cavity loss\n",
    "\n",
    "    xnum = 101; # number of points to plot in x\n",
    "    ynum = 121;\n",
    "\n",
    "    # initialize sweep parameters \n",
    "    wdc = np.linspace(-0.8,0.8,num=xnum)*1e3*2*np.pi;  #kHz  Detuning of the probe frequency and cavity frequency\n",
    "    wsc = np.linspace(-7.4,7.4,num=ynum)*1e3*2*np.pi;  #kHz  Detuning of the spin frequency and cavity frequency\n",
    "\n",
    "    # initialize output ararys\n",
    "    inphaseOut = np.zeros((xnum,ynum));\n",
    "    quadratureOut = np.zeros((xnum,ynum));\n",
    "\n",
    "    for ii in range(xnum):\n",
    "\n",
    "      for jj in range(ynum):\n",
    "\n",
    "        wds = wdc[ii]-wsc[jj]; #spin-cavity detuning\n",
    "\n",
    "        # Cavity reflection signal from references\n",
    "        refOutput = -1 + kc1/(kc/2+1j*wdc[ii]+pow(geff,2)/(ks/2+1j*wds)); \n",
    "        inphaseOut[ii][jj] = np.real(refOutput); # In-phase part of the cavity signal \n",
    "        quadratureOut[ii][jj] = np.imag(refOutput);  # Quadrature part of the cavity signal \n",
    "\n",
    "    y, x = np.meshgrid(np.linspace(-7.4,7.4,num=ynum), np.linspace(-0.8,0.8,num=xnum),)\n",
    "    fig, figAxes = plt.subplots(2,2,sharex='all', sharey='all')\n",
    "    ax1 = figAxes[0,0];\n",
    "    ax2 = figAxes[0,1];\n",
    "    ax3 = figAxes[1,0];\n",
    "    ax4 = figAxes[1,1];\n",
    "\n",
    "\n",
    "    c = ax1.pcolormesh(y, x, quadratureOut)\n",
    "    ax1.set_title('Q')\n",
    "    #ax1.set_xlabel('fsc (MHz)')\n",
    "    ax1.set_ylabel('fdc (MHz)')\n",
    "    fig.colorbar(c, ax=ax1)\n",
    "\n",
    "    c = ax2.pcolormesh(y, x, inphaseOut)\n",
    "    ax2.set_title('I')\n",
    "    #ax2.set_xlabel('fsc (MHz)')\n",
    "    #ax2.set_ylabel('fdc (MHz)')\n",
    "    fig.colorbar(c, ax=ax2)\n",
    "\n",
    "    c = ax3.pcolormesh(y, x, np.sqrt(pow(quadratureOut,2)+pow(inphaseOut,2)))\n",
    "    ax3.set_title('P')\n",
    "    ax3.set_xlabel('fsc (MHz)')\n",
    "    ax3.set_ylabel('fdc (MHz)')\n",
    "    fig.colorbar(c, ax=ax3)\n",
    "\n",
    "    c = ax4.pcolormesh(y, x, np.arctan( np.divide(quadratureOut,inphaseOut)))\n",
    "    ax4.set_title('Phi')\n",
    "    ax4.set_xlabel('fsc (MHz)')\n",
    "    #ax4.set_ylabel('fdc (MHz)')\n",
    "    fig.colorbar(c, ax=ax4)\n",
    "\n",
    "    plt.show()      \n"
   ]
  },
  {
   "cell_type": "markdown",
   "metadata": {
    "id": "zWHBJQbnAQT0"
   },
   "source": [
    "## Minimum detectable magnetic field\n",
    "\n",
    "[background in Ref. X, page Y [[add hyperlink]]\n",
    "\n",
    "Here is the sensitivity analysis for cavity-coupled sensor. In the ideal case, the spin-projection-limit sensitivity is propotional to the inverse of the square root of the number of spins (N). However, the NV decoherence time and dephasing time will decrease during the increase of the NV number. Therefore, the sensivitity will decrease sharply in the large-N regime. The script below calculated the spin-projection-limit sensitivity and photon-shot-noise-limit with different number of spins.\n",
    "\n",
    "The script below also include the cavity-coupled spin sensor. The scale of the sensitivity in the low-N regime is linear with the 1/N rather than 1/sqrt(N), which offers the possibility for this sensor to go below the spin-projection-limit sensitivity. "
   ]
  },
  {
   "cell_type": "markdown",
   "metadata": {
    "id": "J9H_qc3zKjea"
   },
   "source": [
    "[[ choose here parameters that students can actually modify in the laboratory: i.e., microwave driving power, optical pump power; bias point of microwave readout signal [\\omega_probe] ]]"
   ]
  },
  {
   "cell_type": "code",
   "execution_count": null,
   "metadata": {
    "colab": {
     "base_uri": "https://localhost:8080/",
     "height": 301
    },
    "executionInfo": {
     "elapsed": 1864,
     "status": "ok",
     "timestamp": 1670090617765,
     "user": {
      "displayName": "Dirk Englund",
      "userId": "13834429622441934993"
     },
     "user_tz": 300
    },
    "id": "BiSCF6cP7-yW",
    "outputId": "ef5d0c69-e14c-4019-fc5f-43bcfdfb3887"
   },
   "outputs": [
    {
     "data": {
      "text/plain": [
       "Text(0, 0.5, 'Sensitivity (T/\\\\sqrt(Hz))')"
      ]
     },
     "execution_count": 9,
     "metadata": {},
     "output_type": "execute_result"
    },
    {
     "data": {
      "image/png": "[encoded data removed]",
      "text/plain": [
       "<Figure size 432x288 with 1 Axes>"
      ]
     },
     "metadata": {
      "needs_background": "light"
     },
     "output_type": "display_data"
    }
   ],
   "source": [
    "import numpy as np\n",
    "import matplotlib.pyplot as plt\n",
    "\n",
    "Delta = 2e6;\n",
    "f = 0.1;\n",
    "\n",
    "Sphi = 1e-9; # phase noise\n",
    "\n",
    "Q = 3e4;  # Quality factor\n",
    "\n",
    "hbar = 1.05e-34;  \n",
    "\n",
    "gs = 2; \n",
    "\n",
    "muB = 9.27e-24; \n",
    "\n",
    "rho = np.logspace(8,20,40)*1e6;\n",
    "\n",
    "Tc = 1/3.3e-19/(rho*(0.95/0.05));\n",
    "\n",
    "T2c = 300e-6;\n",
    "\n",
    "T2 = 1/(1/T2c+1/Tc);\n",
    "\n",
    "mu0 = 4*np.pi*1e-7;\n",
    "\n",
    "C = 0.015;\n",
    "\n",
    "etaB = 8 * pow((hbar/gs/muB),3) * Delta/np.pi/Q/T2 * Sphi * 1/mu0/hbar/rho *1/f * np.exp(pow((T2/T2c),3))* np.exp(T2/Tc)* np.sqrt(1+1e-6/T2);\n",
    "\n",
    "eta = hbar/muB/gs * np.pi * np.exp(pow((T2/T2c),3))/C/np.sqrt(rho*T2) * np.exp(T2/Tc) * np.sqrt(1+1e-6/T2);\n",
    "\n",
    "eta_proj = hbar/muB/gs * np.pi * np.exp(pow((T2/T2c),3))/np.sqrt(rho*T2) * np.exp(T2/Tc) * np.sqrt(1+1e-6/T2);\n",
    "\n",
    "fig,ax = plt.subplots()\n",
    "\n",
    "ax.loglog(rho/1e6,eta*1/np.sqrt(3e-3*3e-3*0.5e-3),label='Photon shot noise limit')\n",
    "\n",
    "ax.loglog(rho/1e6,eta_proj*1/np.sqrt(3e-3*3e-3*0.5e-3),label='Spin projection limit')\n",
    "\n",
    "ax.loglog(rho/1e6,etaB,label='Cavity readout sensitivity')\n",
    "\n",
    "ax.legend()\n",
    "\n",
    "ax.set_xlabel('NV Density (cm^{-3})')\n",
    "ax.set_ylabel('Sensitivity (T/\\sqrt(Hz))')\n",
    "\n",
    "\n"
   ]
  },
  {
   "cell_type": "markdown",
   "metadata": {
    "id": "MJhN-scd8R9e"
   },
   "source": [
    "## Lab aims\n",
    "\n",
    "\n",
    "**Aim 1: Characterizatin of the NV-cavity QED apparatus**\n",
    "\n",
    "\n",
    "\n",
    "**A1.1: Test the cavity Q and frequency with digital twin**\n",
    "\n",
    "Put numbers into Digital Twin based on [E. Eisenach et al, Cavity-enhanced microwave readout of a solid-state spin sensor](https://www.nature.com/articles/s41467-021-21256-7). Reproduce curves in the publication. \n",
    "\n",
    "\n",
    "**A1.2: Cavity Experiment** \n",
    "\n",
    "1. Find cavity resonance frequency. Connect vector network analyzer (VNA) to the cavity and detect S12 reflection signal. Move the position of the loop to critical couple the loop and the cavity. Get the cavity resonance frequency based on the VNA signal. \n",
    "\n",
    "2. Analysis the cavity resonance signal. Disconnect the VNA and connect the signal generator (SG) to the circuit. Sweep the frequency near the cavity resonance frequency. Compare the experimental data and simulations from Digital Twin by setting N=0. Get the cavity linewidth κc with the model. \n",
    "\n",
    "3. NV-cavity coupling. Turn on the laser and set the power to 8 W. Set the microwave power to -17 dBm and sweep the SG frequency and the voltage (current) in the Helmholtz coil. Use the Digital Twin to check your data and get the coupling strength g_{eff} and spin linewidth κs. \n",
    "\n",
    "\n",
    "**A1.3: Power dependence**\n",
    "\n",
    "Set laser power to be 8 W, and microwave power to be P_opt=[-30,-25,-20,-15,-10,-5,0,5,10] dBm. Plot the refection signal for each microwave power. Compare your result with [E. Eisenach et al, Cavity-enhanced microwave readout of a solid-state spin sensor](https://www.nature.com/articles/s41467-021-21256-7). \n",
    "\n",
    "**Aim 2: Magnetic field sensitivity**\n",
    "\n",
    "Now think about how we can make use of the NV-cavity coupling system. A straightforward thing mentioned before is the magnetometry. \n",
    "\n",
    "**A2.1 Sensitivity calculation**\n",
    "\n",
    "Based on your understanding on the project, write codes to calculate the maximum senstivity you can achieve using the parameters you get from Digital Twin and experiments. \n",
    "\n",
    "**A2.2 Power depedence**\n",
    "\n",
    "Think about how this power dependence is related to the magnetic field sensitivity. Calculated it from the Digital Twin model and compare with the experiment data. \n",
    "\n"
   ]
  },
  {
   "cell_type": "code",
   "execution_count": null,
   "metadata": {
    "id": "urSGPTkwbUgC"
   },
   "outputs": [],
   "source": []
  }
 ],
 "metadata": {
  "colab": {
   "provenance": []
  },
  "kernelspec": {
   "display_name": "Python 3 (ipykernel)",
   "language": "python",
   "name": "python3"
  },
  "language_info": {
   "codemirror_mode": {
    "name": "ipython",
    "version": 3
   },
   "file_extension": ".py",
   "mimetype": "text/x-python",
   "name": "python",
   "nbconvert_exporter": "python",
   "pygments_lexer": "ipython3",
   "version": "3.8.15"
  },
  "widgets": {
   "application/vnd.jupyter.widget-state+json": {
    "state": {},
    "version_major": 2,
    "version_minor": 0
   }
  }
 },
 "nbformat": 4,
 "nbformat_minor": 4
}
