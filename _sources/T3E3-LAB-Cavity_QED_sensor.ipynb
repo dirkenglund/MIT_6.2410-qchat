{
 "cells": [
  {
   "cell_type": "markdown",
   "metadata": {
    "id": "x6MQPbNMbqQY"
   },
   "source": [
    "# LAB -- Solid State Spins\n"
   ]
  },
  {
   "cell_type": "markdown",
   "metadata": {
    "id": "aHwos0ieb4j_"
   },
   "source": [
    "* Introduction\n",
    "\n",
    "\n",
    "\n",
    "\n",
    "\n",
    "* Pre-lab reading: Read the introduction to the quTools quNV experiment [here](https://qutools.com/qunv/) \n"
   ]
  },
  {
   "cell_type": "markdown",
   "metadata": {
    "id": "iwHXluh08SmP"
   },
   "source": [
    "\n",
    "\n",
    "```\n",
    "# This is formatted as code\n",
    "```\n",
    "\n",
    "\n",
    "## Cavity-coupled quantum electrodynamic (QED) sensor\n",
    " Hanfeng Wang, Matthew E. Trusheim, and Dirk Englund - Dec. 2022"
   ]
  },
  {
   "cell_type": "markdown",
   "metadata": {
    "id": "aOvqnQzUSR_P"
   },
   "source": []
  },
  {
   "cell_type": "markdown",
   "metadata": {
    "id": "h-h8-gj-L2a1"
   },
   "source": [
    "Resonators for electromagnetic fields in the range of 1-100 GHz are essential in a range of quantum technologies, including superconducting quantum computers, microwave-optical quantum information interfaces, as well as sensors. Here, we consider microwave cavities coupled to ensembles of electron and nuclear spins associated with nitrogen vacancy (NV) centers in diamond. Following the discovery of coherent quantum dynamics of NV centers in the late 1990s, NV centers have emerged as leading quantum sensors for quantities ranging from electromagnetic fields to temperature, strain, rotation (gyroscopes), and have even been proposed for exotic schemes like dark matter detection. The key advantages of NV centers in sensing applications, over other electron spin systems, are their long coherence times and avaible optical polarization at room temperature.\n",
    "\n",
    "Suggested reading for this laboratory on hybrid systems of microwave cavities coupled to NV spin ensembles specifically:\n",
    "-- 1 ) [E. Eisenach et al, Cavity-enhanced microwave readout of a solid-state spin sensor](https://www.nature.com/articles/s41467-021-21256-7)\n",
    " \n",
    "-- [optional] [JF Barry et. al. Sensitivity optimization for NV-diamond magnetometry](https://https://journals.aps.org/rmp/abstract/10.1103/RevModPhys.92.015004)\n",
    "\n",
    "-- [optional] [ D. Fahey et. al., Steady-state microwave mode cooling with a diamond NV ensemble](https://https://arxiv.org/abs/2203.03462)\n",
    "\n",
    "\n",
    "-- [ME Trusheim et. al. A Polariton-Stabilized Spin Clock\n",
    "](https://arxiv.org/abs/2009.02427)\n",
    "\n",
    "\n",
    "Upon optical excitation, nonradiative decay through a spin-state-dependent intersystem crossing produces spin-state-dependent fluorescence contrast and polarize NV spin to m_s = 0 ground state. A common way for NV spin readout relies on detecting this spin-state-dependent fluorescence. However, due to the low photon detection efficiency (C~0.015) for NV ensemble, the NV magnetic sensitivity is limited by the photon-shot-noise-limit. \n",
    "\n",
    "One way to solve this problem is to use NV-cavity coupling, where we couple NV centers to another system (cavity in this case) and read the NV resonance frequency by via the cavity mode."
   ]
  },
  {
   "cell_type": "markdown",
   "metadata": {
    "id": "UJCnNlSlbnFg"
   },
   "source": [
    "\n",
    "\n",
    "1.   List item\n",
    "2.   List item\n",
    "\n",
    "\n",
    "\n"
   ]
  },
  {
   "cell_type": "markdown",
   "metadata": {
    "id": "cT-RzoV-H4pn"
   },
   "source": [
    "![Setup_drawing.png](FIGURES/T3E3-spins-setup.png)"
   ]
  },
  {
   "cell_type": "code",
   "execution_count": 5,
   "metadata": {
    "colab": {
     "base_uri": "https://localhost:8080/",
     "height": 455,
     "referenced_widgets": [
      "f0db5fba6cfe4d39aae2f7fc991d5116",
      "10a56053fae94f99aff2722622f9eecb",
      "7bcf5ee46e0048508ac0e9a59f9bed72",
      "07a17197e9354636b8694d1edcadea10",
      "9e0034a5e13a4e15b88b29eabcd92b63",
      "4a566c54ac0844b0858b1fe7ba650b41",
      "6ed63505a3d54c89a53a22c87ac48f21",
      "ab08ae8e90ca4047b07256e96b02890c",
      "1cd36b1161ea4a53b4343f03abea3a47",
      "08b7f072e63945cf9487bfb15cc8115f",
      "65ab193e661a4a61ae3b54a49cc0946e",
      "076ffb57fd3640bb9cf12be5a25ea20d",
      "fb528c3f114f49909a11e9cc974856a1",
      "52f771e756734d55bad71864eb698d3a",
      "9a8f5cf9c7e7417cbcb3519e28af2e8c",
      "2d277657c8a942c08822085e318940b2",
      "6684dc2eb33046b5b9f5b6f5d17985ac",
      "9f8d3179368e4b9989e9cc0563f002fa",
      "0e1446942ed24d369f8b94e0c2b4c197"
     ]
    },
    "executionInfo": {
     "elapsed": 616,
     "status": "ok",
     "timestamp": 1672691531869,
     "user": {
      "displayName": "Donnie Keathley",
      "userId": "12999748697637083576"
     },
     "user_tz": 300
    },
    "id": "j5nfjvYNm923",
    "outputId": "210f5027-a6c6-4526-97c6-3b8b6cea989e"
   },
   "outputs": [
    {
     "data": {
      "application/vnd.jupyter.widget-view+json": {
       "model_id": "5680574f2dde4e3a95022f1fa2b99af7",
       "version_major": 2,
       "version_minor": 0
      },
      "text/plain": [
       "interactive(children=(FloatSlider(value=0.01, description='g0_in', max=1.0, min=0.01), FloatSlider(value=70.0,…"
      ]
     },
     "metadata": {},
     "output_type": "display_data"
    }
   ],
   "source": [
    "import numpy as np\n",
    "import matplotlib.pyplot as plt\n",
    "import ipywidgets as widgets\n",
    "from ipywidgets import HBox, VBox\n",
    "from IPython.display import display\n",
    "%matplotlib inline\n",
    "\n",
    "@widgets.interact_manual(\n",
    "    g0_in=(0.01, 1.),kc0_in=(1., 1000.),kc1_in=(1., 1000.),ks_in=(1., 1000.))\n",
    "def runFunc(g0_in=0.01, kc0_in = 70, kc1_in = 111, ks_in = 308):\n",
    "    kc0 = 2*np.pi*kc0_in; #kHz  Cavity linewidth\n",
    "    kc1 = 2*np.pi*kc1_in; #kHz   Cavity-loop coupling (output coupling)\n",
    "\n",
    "    ks = 2*np.pi*ks_in; #kHz  Spin coherence time\n",
    "\n",
    "\n",
    "    density_NVs = 5; #PPM Density of NV centers in the diamond, given in ppm\n",
    "    diamondDensity = 1.76e29; # atoms/m^3 Atomic density of diamond\n",
    "    density_NVs_SI = density_NVs*1e-6*diamondDensity; # NV/m^3\n",
    "\n",
    "    diamond_sample_dim_x=3e-3; # m Diamond spatial dimensions, assuming cuboid\n",
    "    diamond_sample_dim_y=3e-3; # m\n",
    "    diamond_sample_dim_z=0.5e-3; # m\n",
    "    diamond_sample_volume = diamond_sample_dim_x*diamond_sample_dim_y*diamond_sample_dim_z; \n",
    "\n",
    "    N_NVs= density_NVs_SI*diamond_sample_volume ; # the number of NVs in the diamond\n",
    "\n",
    "    g0 = g0_in*1e-3; #kHz   Coupling strength for single spin, see referenced papers  \n",
    "\n",
    "    geff = g0*np.sqrt(N_NVs); # Total coupling scales as sqrt(N)\n",
    "\n",
    "\n",
    "    kc = kc0 + kc1; # Total cavity loss\n",
    "\n",
    "    xnum = 101; # number of points to plot in x\n",
    "    ynum = 121;\n",
    "\n",
    "    # initialize sweep parameters \n",
    "    wdc = np.linspace(-0.8,0.8,num=xnum)*1e3*2*np.pi;  #kHz  Detuning of the probe frequency and cavity frequency\n",
    "    wsc = np.linspace(-7.4,7.4,num=ynum)*1e3*2*np.pi;  #kHz  Detuning of the spin frequency and cavity frequency\n",
    "\n",
    "    # initialize output ararys\n",
    "    inphaseOut = np.zeros((xnum,ynum));\n",
    "    quadratureOut = np.zeros((xnum,ynum));\n",
    "\n",
    "    for ii in range(xnum):\n",
    "\n",
    "      for jj in range(ynum):\n",
    "\n",
    "        wds = wdc[ii]-wsc[jj]; #spin-cavity detuning\n",
    "\n",
    "        # Cavity reflection signal from references\n",
    "        refOutput = -1 + kc1/(kc/2+1j*wdc[ii]+pow(geff,2)/(ks/2+1j*wds)); \n",
    "        inphaseOut[ii][jj] = np.real(refOutput); # In-phase part of the cavity signal \n",
    "        quadratureOut[ii][jj] = np.imag(refOutput);  # Quadrature part of the cavity signal \n",
    "\n",
    "    y, x = np.meshgrid(np.linspace(-7.4,7.4,num=ynum), np.linspace(-0.8,0.8,num=xnum),)\n",
    "    fig, figAxes = plt.subplots(2,2,sharex='all', sharey='all')\n",
    "    ax1 = figAxes[0,0];\n",
    "    ax2 = figAxes[0,1];\n",
    "    ax3 = figAxes[1,0];\n",
    "    ax4 = figAxes[1,1];\n",
    "\n",
    "\n",
    "    c = ax1.pcolormesh(y, x, quadratureOut)\n",
    "    ax1.set_title('Q')\n",
    "    #ax1.set_xlabel('fsc (MHz)')\n",
    "    ax1.set_ylabel('fdc (MHz)')\n",
    "    fig.colorbar(c, ax=ax1)\n",
    "\n",
    "    c = ax2.pcolormesh(y, x, inphaseOut)\n",
    "    ax2.set_title('I')\n",
    "    #ax2.set_xlabel('fsc (MHz)')\n",
    "    #ax2.set_ylabel('fdc (MHz)')\n",
    "    fig.colorbar(c, ax=ax2)\n",
    "\n",
    "    c = ax3.pcolormesh(y, x, np.sqrt(pow(quadratureOut,2)+pow(inphaseOut,2)))\n",
    "    ax3.set_title('P')\n",
    "    ax3.set_xlabel('fsc (MHz)')\n",
    "    ax3.set_ylabel('fdc (MHz)')\n",
    "    fig.colorbar(c, ax=ax3)\n",
    "\n",
    "    c = ax4.pcolormesh(y, x, np.arctan( np.divide(quadratureOut,inphaseOut)))\n",
    "    ax4.set_title('Phi')\n",
    "    ax4.set_xlabel('fsc (MHz)')\n",
    "    #ax4.set_ylabel('fdc (MHz)')\n",
    "    fig.colorbar(c, ax=ax4)\n",
    "\n",
    "    plt.show()      \n"
   ]
  },
  {
   "cell_type": "markdown",
   "metadata": {
    "id": "zWHBJQbnAQT0"
   },
   "source": [
    "## Minimum detectable magnetic field\n",
    "\n",
    "[background in Ref. X, page Y [[add hyperlink]]\n",
    "\n",
    "Here is the sensitivity analysis for cavity-coupled sensor. In the ideal case, the spin-projection-limit sensitivity is propotional to the inverse of the square root of the number of spins (N). However, the NV decoherence time and dephasing time will decrease during the increase of the NV number. Therefore, the sensivitity will decrease sharply in the large-N regime. The script below calculated the spin-projection-limit sensitivity and photon-shot-noise-limit with different number of spins.\n",
    "\n",
    "The script below also include the cavity-coupled spin sensor. The scale of the sensitivity in the low-N regime is linear with the 1/N rather than 1/sqrt(N), which offers the possibility for this sensor to go below the spin-projection-limit sensitivity. "
   ]
  },
  {
   "cell_type": "markdown",
   "metadata": {
    "id": "J9H_qc3zKjea"
   },
   "source": [
    "[[ choose here parameters that students can actually modify in the laboratory: i.e., microwave driving power, optical pump power; bias point of microwave readout signal [\\omega_probe] ]]"
   ]
  },
  {
   "cell_type": "code",
   "execution_count": 6,
   "metadata": {
    "colab": {
     "base_uri": "https://localhost:8080/",
     "height": 301
    },
    "executionInfo": {
     "elapsed": 1864,
     "status": "ok",
     "timestamp": 1670090617765,
     "user": {
      "displayName": "Dirk Englund",
      "userId": "13834429622441934993"
     },
     "user_tz": 300
    },
    "id": "BiSCF6cP7-yW",
    "outputId": "ef5d0c69-e14c-4019-fc5f-43bcfdfb3887"
   },
   "outputs": [
    {
     "data": {
      "text/plain": [
       "Text(0, 0.5, 'Sensitivity (T/\\\\sqrt(Hz))')"
      ]
     },
     "execution_count": 6,
     "metadata": {},
     "output_type": "execute_result"
    },
    {
     "data": {
      "image/png": "[encoded data removed]",
      "text/plain": [
       "<Figure size 432x288 with 1 Axes>"
      ]
     },
     "metadata": {
      "needs_background": "light"
     },
     "output_type": "display_data"
    }
   ],
   "source": [
    "import numpy as np\n",
    "import matplotlib.pyplot as plt\n",
    "\n",
    "Delta = 2e6;\n",
    "f = 0.1;\n",
    "\n",
    "Sphi = 1e-9; # phase noise\n",
    "\n",
    "Q = 3e4;  # Quality factor\n",
    "\n",
    "hbar = 1.05e-34;  \n",
    "\n",
    "gs = 2; \n",
    "\n",
    "muB = 9.27e-24; \n",
    "\n",
    "rho = np.logspace(8,20,40)*1e6;\n",
    "\n",
    "Tc = 1/3.3e-19/(rho*(0.95/0.05));\n",
    "\n",
    "T2c = 300e-6;\n",
    "\n",
    "T2 = 1/(1/T2c+1/Tc);\n",
    "\n",
    "mu0 = 4*np.pi*1e-7;\n",
    "\n",
    "C = 0.015;\n",
    "\n",
    "etaB = 8 * pow((hbar/gs/muB),3) * Delta/np.pi/Q/T2 * Sphi * 1/mu0/hbar/rho *1/f * np.exp(pow((T2/T2c),3))* np.exp(T2/Tc)* np.sqrt(1+1e-6/T2);\n",
    "\n",
    "eta = hbar/muB/gs * np.pi * np.exp(pow((T2/T2c),3))/C/np.sqrt(rho*T2) * np.exp(T2/Tc) * np.sqrt(1+1e-6/T2);\n",
    "\n",
    "eta_proj = hbar/muB/gs * np.pi * np.exp(pow((T2/T2c),3))/np.sqrt(rho*T2) * np.exp(T2/Tc) * np.sqrt(1+1e-6/T2);\n",
    "\n",
    "fig,ax = plt.subplots()\n",
    "\n",
    "ax.loglog(rho/1e6,eta*1/np.sqrt(3e-3*3e-3*0.5e-3),label='Photon shot noise limit')\n",
    "\n",
    "ax.loglog(rho/1e6,eta_proj*1/np.sqrt(3e-3*3e-3*0.5e-3),label='Spin projection limit')\n",
    "\n",
    "ax.loglog(rho/1e6,etaB,label='Cavity readout sensitivity')\n",
    "\n",
    "ax.legend()\n",
    "\n",
    "ax.set_xlabel('NV Density (cm^{-3})')\n",
    "ax.set_ylabel('Sensitivity (T/\\sqrt(Hz))')\n",
    "\n",
    "\n"
   ]
  },
  {
   "cell_type": "markdown",
   "metadata": {
    "id": "MJhN-scd8R9e"
   },
   "source": [
    "## Lab aims\n",
    "\n",
    "\n",
    "**Aim 1: Characterizatin of the NV-cavity QED apparatus**\n",
    "\n",
    "\n",
    "\n",
    "**A1.1: Test the cavity Q and frequency with digital twin**\n",
    "\n",
    "Put numbers into Digital Twin based on [E. Eisenach et al, Cavity-enhanced microwave readout of a solid-state spin sensor](https://www.nature.com/articles/s41467-021-21256-7). Reproduce curves in the publication. \n",
    "\n",
    "\n",
    "**A1.2: Cavity Experiment** \n",
    "\n",
    "1. Find cavity resonance frequency. Connect vector network analyzer (VNA) to the cavity and detect S12 reflection signal. Move the position of the loop to critical couple the loop and the cavity. Get the cavity resonance frequency based on the VNA signal. \n",
    "\n",
    "2. Analysis the cavity resonance signal. Disconnect the VNA and connect the signal generator (SG) to the circuit. Sweep the frequency near the cavity resonance frequency. Compare the experimental data and simulations from Digital Twin by setting N=0. Get the cavity linewidth κc with the model. \n",
    "\n",
    "3. NV-cavity coupling. Turn on the laser and set the power to 8 W. Set the microwave power to -17 dBm and sweep the SG frequency and the voltage (current) in the Helmholtz coil. Use the Digital Twin to check your data and get the coupling strength g_{eff} and spin linewidth κs. \n",
    "\n",
    "\n",
    "**A1.3: Power dependence**\n",
    "\n",
    "Set laser power to be 8 W, and microwave power to be P_opt=[-30,-25,-20,-15,-10,-5,0,5,10] dBm. Plot the refection signal for each microwave power. Compare your result with [E. Eisenach et al, Cavity-enhanced microwave readout of a solid-state spin sensor](https://www.nature.com/articles/s41467-021-21256-7). \n",
    "\n",
    "**Aim 2: Magnetic field sensitivity**\n",
    "\n",
    "Now think about how we can make use of the NV-cavity coupling system. A straightforward thing mentioned before is the magnetometry. \n",
    "\n",
    "**A2.1 Sensitivity calculation**\n",
    "\n",
    "Based on your understanding on the project, write codes to calculate the maximum senstivity you can achieve using the parameters you get from Digital Twin and experiments. \n",
    "\n",
    "**A2.2 Power depedence**\n",
    "\n",
    "Think about how this power dependence is related to the magnetic field sensitivity. Calculated it from the Digital Twin model and compare with the experiment data. \n",
    "\n"
   ]
  }
 ],
 "metadata": {
  "colab": {
   "provenance": []
  },
  "kernelspec": {
   "display_name": "Python 3 (ipykernel)",
   "language": "python",
   "name": "python3"
  },
  "language_info": {
   "codemirror_mode": {
    "name": "ipython",
    "version": 3
   },
   "file_extension": ".py",
   "mimetype": "text/x-python",
   "name": "python",
   "nbconvert_exporter": "python",
   "pygments_lexer": "ipython3",
   "version": "3.8.13"
  },
  "widgets": {
   "application/vnd.jupyter.widget-state+json": {
    "state": {
     "01ab4e865e114438ba5b442b05d59b8d": {
      "model_module": "@jupyter-widgets/base",
      "model_module_version": "1.2.0",
      "model_name": "LayoutModel",
      "state": {}
     },
     "049b8c128da244278cf3831b384ccc97": {
      "model_module": "@jupyter-widgets/base",
      "model_module_version": "1.2.0",
      "model_name": "LayoutModel",
      "state": {}
     },
     "0b7cab39e7e64a3ebd31e1bfc0e253f3": {
      "model_module": "@jupyter-widgets/base",
      "model_module_version": "1.2.0",
      "model_name": "LayoutModel",
      "state": {}
     },
     "108c16efbb4b40c89e4061f595ce9524": {
      "model_module": "@jupyter-widgets/base",
      "model_module_version": "1.2.0",
      "model_name": "LayoutModel",
      "state": {}
     },
     "12f5662a4508439b94208ab298736f1d": {
      "model_module": "@jupyter-widgets/controls",
      "model_module_version": "1.5.0",
      "model_name": "FloatSliderModel",
      "state": {
       "description": "ks_in",
       "layout": "IPY_MODEL_d599b5a00b594dd0b666fe38e136db76",
       "max": 1000,
       "min": 1,
       "step": 0.1,
       "style": "IPY_MODEL_585156b2534b445f85861a981a969da6",
       "value": 308
      }
     },
     "1317c4637af54c14a56e19d2d76d72c9": {
      "model_module": "@jupyter-widgets/controls",
      "model_module_version": "1.5.0",
      "model_name": "ButtonStyleModel",
      "state": {}
     },
     "1321e38beaa645c597b357f4b6761133": {
      "model_module": "@jupyter-widgets/controls",
      "model_module_version": "1.5.0",
      "model_name": "SliderStyleModel",
      "state": {
       "description_width": ""
      }
     },
     "19315da5ab3c44dba35c6c35f14e04ed": {
      "model_module": "@jupyter-widgets/controls",
      "model_module_version": "1.5.0",
      "model_name": "ButtonModel",
      "state": {
       "description": "Run Interact",
       "layout": "IPY_MODEL_049b8c128da244278cf3831b384ccc97",
       "style": "IPY_MODEL_d8bfb3ce17d949798b6c272610363db2"
      }
     },
     "1d27de55377745178a9e434cb1333ad7": {
      "model_module": "@jupyter-widgets/controls",
      "model_module_version": "1.5.0",
      "model_name": "FloatSliderModel",
      "state": {
       "description": "kc1_in",
       "layout": "IPY_MODEL_1f54c93880594acd821bb3eea6fc896b",
       "max": 1000,
       "min": 1,
       "step": 0.1,
       "style": "IPY_MODEL_36c7ca4fbb754a039d0eee3a3f4d699c",
       "value": 111
      }
     },
     "1f54c93880594acd821bb3eea6fc896b": {
      "model_module": "@jupyter-widgets/base",
      "model_module_version": "1.2.0",
      "model_name": "LayoutModel",
      "state": {}
     },
     "203869b979a64f2a9e900f272b9f6a3c": {
      "model_module": "@jupyter-widgets/controls",
      "model_module_version": "1.5.0",
      "model_name": "ButtonModel",
      "state": {
       "description": "Run Interact",
       "layout": "IPY_MODEL_b5cbebaeb4e44b108064a6170d13f0d4",
       "style": "IPY_MODEL_1317c4637af54c14a56e19d2d76d72c9"
      }
     },
     "2320710cd33d42d9a29cefd9663ee8ca": {
      "model_module": "@jupyter-widgets/controls",
      "model_module_version": "1.5.0",
      "model_name": "FloatSliderModel",
      "state": {
       "description": "kc0_in",
       "layout": "IPY_MODEL_f9a7f1cde0a845b4a845b3bfcdbe3244",
       "max": 1000,
       "min": 1,
       "step": 0.1,
       "style": "IPY_MODEL_b5f264b8bcac483caf0ed67db4c4c98c",
       "value": 70
      }
     },
     "234347cd7366479e9999c7eedfce9e38": {
      "model_module": "@jupyter-widgets/controls",
      "model_module_version": "1.5.0",
      "model_name": "FloatSliderModel",
      "state": {
       "description": "kc0_in",
       "layout": "IPY_MODEL_d09b5c24b1f44b448060882d99685afe",
       "max": 1000,
       "min": 1,
       "step": 0.1,
       "style": "IPY_MODEL_8088f509cb8945ef8ac4ad364138c75a",
       "value": 146
      }
     },
     "2969aef629604d3798eaa1787e72a6b6": {
      "model_module": "@jupyter-widgets/controls",
      "model_module_version": "1.5.0",
      "model_name": "ButtonStyleModel",
      "state": {}
     },
     "36c7ca4fbb754a039d0eee3a3f4d699c": {
      "model_module": "@jupyter-widgets/controls",
      "model_module_version": "1.5.0",
      "model_name": "SliderStyleModel",
      "state": {
       "description_width": ""
      }
     },
     "4787348b690c462a9a0fd27349994fdb": {
      "model_module": "@jupyter-widgets/base",
      "model_module_version": "1.2.0",
      "model_name": "LayoutModel",
      "state": {}
     },
     "4aed3c4275144cf397f194e6222de568": {
      "model_module": "@jupyter-widgets/controls",
      "model_module_version": "1.5.0",
      "model_name": "FloatSliderModel",
      "state": {
       "description": "g0_in",
       "layout": "IPY_MODEL_eb65dcf9e7ea44f5b92c5b8b06823844",
       "max": 1,
       "min": 0.01,
       "step": 0.1,
       "style": "IPY_MODEL_5364506110134b28a0ffe44e8816be11",
       "value": 0.11
      }
     },
     "5364506110134b28a0ffe44e8816be11": {
      "model_module": "@jupyter-widgets/controls",
      "model_module_version": "1.5.0",
      "model_name": "SliderStyleModel",
      "state": {
       "description_width": ""
      }
     },
     "5680574f2dde4e3a95022f1fa2b99af7": {
      "model_module": "@jupyter-widgets/controls",
      "model_module_version": "1.5.0",
      "model_name": "VBoxModel",
      "state": {
       "_dom_classes": [
        "widget-interact"
       ],
       "children": [
        "IPY_MODEL_4aed3c4275144cf397f194e6222de568",
        "IPY_MODEL_234347cd7366479e9999c7eedfce9e38",
        "IPY_MODEL_6dd3b556c71d4c37b9323adbc427ee80",
        "IPY_MODEL_12f5662a4508439b94208ab298736f1d",
        "IPY_MODEL_a785884f7c424bba8d441f0101d5b9a6",
        "IPY_MODEL_b5d322ac1ca4444a98418549b77101bf"
       ],
       "layout": "IPY_MODEL_6adf3cbe2af54baa8cd74c832e30285c"
      }
     },
     "585156b2534b445f85861a981a969da6": {
      "model_module": "@jupyter-widgets/controls",
      "model_module_version": "1.5.0",
      "model_name": "SliderStyleModel",
      "state": {
       "description_width": ""
      }
     },
     "589524bf60374f0eb4efaa4e7d8998a2": {
      "model_module": "@jupyter-widgets/base",
      "model_module_version": "1.2.0",
      "model_name": "LayoutModel",
      "state": {}
     },
     "5b7901479b9943189ab9d3eefaf32e5e": {
      "model_module": "@jupyter-widgets/controls",
      "model_module_version": "1.5.0",
      "model_name": "FloatSliderModel",
      "state": {
       "description": "kc0_in",
       "layout": "IPY_MODEL_80db18710da04683ac34d770458b054a",
       "max": 1000,
       "min": 1,
       "step": 0.1,
       "style": "IPY_MODEL_d8c7ecc5fc9445a4812f6815f467881e",
       "value": 70
      }
     },
     "5bad1ca992c14ed7a1559c0e5564de1b": {
      "model_module": "@jupyter-widgets/base",
      "model_module_version": "1.2.0",
      "model_name": "LayoutModel",
      "state": {}
     },
     "6adf3cbe2af54baa8cd74c832e30285c": {
      "model_module": "@jupyter-widgets/base",
      "model_module_version": "1.2.0",
      "model_name": "LayoutModel",
      "state": {}
     },
     "6dd3b556c71d4c37b9323adbc427ee80": {
      "model_module": "@jupyter-widgets/controls",
      "model_module_version": "1.5.0",
      "model_name": "FloatSliderModel",
      "state": {
       "description": "kc1_in",
       "layout": "IPY_MODEL_c1b45d3539454e15882fb04c5f894d5a",
       "max": 1000,
       "min": 1,
       "step": 0.1,
       "style": "IPY_MODEL_1321e38beaa645c597b357f4b6761133",
       "value": 111
      }
     },
     "8088f509cb8945ef8ac4ad364138c75a": {
      "model_module": "@jupyter-widgets/controls",
      "model_module_version": "1.5.0",
      "model_name": "SliderStyleModel",
      "state": {
       "description_width": ""
      }
     },
     "80db18710da04683ac34d770458b054a": {
      "model_module": "@jupyter-widgets/base",
      "model_module_version": "1.2.0",
      "model_name": "LayoutModel",
      "state": {}
     },
     "85848e8069a246f681626bc02dabc5f6": {
      "model_module": "@jupyter-widgets/controls",
      "model_module_version": "1.5.0",
      "model_name": "FloatSliderModel",
      "state": {
       "description": "g0_in",
       "layout": "IPY_MODEL_0b7cab39e7e64a3ebd31e1bfc0e253f3",
       "max": 1,
       "min": 0.01,
       "step": 0.1,
       "style": "IPY_MODEL_fd2aea43210043ca8b9b384bad83fe32",
       "value": 0.01
      }
     },
     "88061fc64fa043b2948f30fcf41e3999": {
      "model_module": "@jupyter-widgets/controls",
      "model_module_version": "1.5.0",
      "model_name": "VBoxModel",
      "state": {
       "_dom_classes": [
        "widget-interact"
       ],
       "children": [
        "IPY_MODEL_cab84f714202483e856c758984a6bc45",
        "IPY_MODEL_2320710cd33d42d9a29cefd9663ee8ca",
        "IPY_MODEL_1d27de55377745178a9e434cb1333ad7",
        "IPY_MODEL_9bce756a1fe64cf28718f779bd974bf6",
        "IPY_MODEL_19315da5ab3c44dba35c6c35f14e04ed",
        "IPY_MODEL_fe9b0c3d0c164549854a3367e0ff338c"
       ],
       "layout": "IPY_MODEL_589524bf60374f0eb4efaa4e7d8998a2"
      }
     },
     "8b807d07ee9f4d7e8c0cd8ac2b091cac": {
      "model_module": "@jupyter-widgets/controls",
      "model_module_version": "1.5.0",
      "model_name": "SliderStyleModel",
      "state": {
       "description_width": ""
      }
     },
     "9066eb17a0ed4d0c933f56745a041bdc": {
      "model_module": "@jupyter-widgets/controls",
      "model_module_version": "1.5.0",
      "model_name": "SliderStyleModel",
      "state": {
       "description_width": ""
      }
     },
     "9bce756a1fe64cf28718f779bd974bf6": {
      "model_module": "@jupyter-widgets/controls",
      "model_module_version": "1.5.0",
      "model_name": "FloatSliderModel",
      "state": {
       "description": "ks_in",
       "layout": "IPY_MODEL_cc2f61c124a84e2e902679dc320edcbb",
       "max": 1000,
       "min": 1,
       "step": 0.1,
       "style": "IPY_MODEL_8b807d07ee9f4d7e8c0cd8ac2b091cac",
       "value": 308
      }
     },
     "a3611831382143828ffc1e2946e4998f": {
      "model_module": "@jupyter-widgets/controls",
      "model_module_version": "1.5.0",
      "model_name": "SliderStyleModel",
      "state": {
       "description_width": ""
      }
     },
     "a785884f7c424bba8d441f0101d5b9a6": {
      "model_module": "@jupyter-widgets/controls",
      "model_module_version": "1.5.0",
      "model_name": "ButtonModel",
      "state": {
       "description": "Run Interact",
       "layout": "IPY_MODEL_01ab4e865e114438ba5b442b05d59b8d",
       "style": "IPY_MODEL_2969aef629604d3798eaa1787e72a6b6"
      }
     },
     "a9edc95f9e3b4cb38d64ce3bd1d9dabf": {
      "model_module": "@jupyter-widgets/controls",
      "model_module_version": "1.5.0",
      "model_name": "FloatSliderModel",
      "state": {
       "description": "ks_in",
       "layout": "IPY_MODEL_edab086e08624395b8cf68235879a27a",
       "max": 1000,
       "min": 1,
       "step": 0.1,
       "style": "IPY_MODEL_a3611831382143828ffc1e2946e4998f",
       "value": 308
      }
     },
     "b5cbebaeb4e44b108064a6170d13f0d4": {
      "model_module": "@jupyter-widgets/base",
      "model_module_version": "1.2.0",
      "model_name": "LayoutModel",
      "state": {}
     },
     "b5d322ac1ca4444a98418549b77101bf": {
      "model_module": "@jupyter-widgets/output",
      "model_module_version": "1.0.0",
      "model_name": "OutputModel",
      "state": {
       "layout": "IPY_MODEL_5bad1ca992c14ed7a1559c0e5564de1b",
       "outputs": [
        {
         "data": {
          "image/png": "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\n",
          "text/plain": "<Figure size 432x288 with 8 Axes>"
         },
         "metadata": {
          "needs_background": "light"
         },
         "output_type": "display_data"
        }
       ]
      }
     },
     "b5f264b8bcac483caf0ed67db4c4c98c": {
      "model_module": "@jupyter-widgets/controls",
      "model_module_version": "1.5.0",
      "model_name": "SliderStyleModel",
      "state": {
       "description_width": ""
      }
     },
     "c1b45d3539454e15882fb04c5f894d5a": {
      "model_module": "@jupyter-widgets/base",
      "model_module_version": "1.2.0",
      "model_name": "LayoutModel",
      "state": {}
     },
     "cab84f714202483e856c758984a6bc45": {
      "model_module": "@jupyter-widgets/controls",
      "model_module_version": "1.5.0",
      "model_name": "FloatSliderModel",
      "state": {
       "description": "g0_in",
       "layout": "IPY_MODEL_4787348b690c462a9a0fd27349994fdb",
       "max": 1,
       "min": 0.01,
       "step": 0.1,
       "style": "IPY_MODEL_e9039c91eee04025b4d2aebae87da4ab",
       "value": 0.01
      }
     },
     "cc2f61c124a84e2e902679dc320edcbb": {
      "model_module": "@jupyter-widgets/base",
      "model_module_version": "1.2.0",
      "model_name": "LayoutModel",
      "state": {}
     },
     "d09b5c24b1f44b448060882d99685afe": {
      "model_module": "@jupyter-widgets/base",
      "model_module_version": "1.2.0",
      "model_name": "LayoutModel",
      "state": {}
     },
     "d599b5a00b594dd0b666fe38e136db76": {
      "model_module": "@jupyter-widgets/base",
      "model_module_version": "1.2.0",
      "model_name": "LayoutModel",
      "state": {}
     },
     "d8bfb3ce17d949798b6c272610363db2": {
      "model_module": "@jupyter-widgets/controls",
      "model_module_version": "1.5.0",
      "model_name": "ButtonStyleModel",
      "state": {}
     },
     "d8c7ecc5fc9445a4812f6815f467881e": {
      "model_module": "@jupyter-widgets/controls",
      "model_module_version": "1.5.0",
      "model_name": "SliderStyleModel",
      "state": {
       "description_width": ""
      }
     },
     "d8cc0b977c13491cbe6021b47c5fea50": {
      "model_module": "@jupyter-widgets/base",
      "model_module_version": "1.2.0",
      "model_name": "LayoutModel",
      "state": {}
     },
     "d91c48427cec45c7a5f768852c299a69": {
      "model_module": "@jupyter-widgets/controls",
      "model_module_version": "1.5.0",
      "model_name": "VBoxModel",
      "state": {
       "_dom_classes": [
        "widget-interact"
       ],
       "children": [
        "IPY_MODEL_85848e8069a246f681626bc02dabc5f6",
        "IPY_MODEL_5b7901479b9943189ab9d3eefaf32e5e",
        "IPY_MODEL_ef1309818c5d494dab87d58d8d85e21c",
        "IPY_MODEL_a9edc95f9e3b4cb38d64ce3bd1d9dabf",
        "IPY_MODEL_203869b979a64f2a9e900f272b9f6a3c",
        "IPY_MODEL_e8ed4b67c34f4104af7f2b82f64b89f5"
       ],
       "layout": "IPY_MODEL_fb9c628d5f764322be58f05566e517fa"
      }
     },
     "e8ed4b67c34f4104af7f2b82f64b89f5": {
      "model_module": "@jupyter-widgets/output",
      "model_module_version": "1.0.0",
      "model_name": "OutputModel",
      "state": {
       "layout": "IPY_MODEL_108c16efbb4b40c89e4061f595ce9524",
       "outputs": [
        {
         "data": {
          "image/png": "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\n",
          "text/plain": "<Figure size 432x288 with 8 Axes>"
         },
         "metadata": {
          "needs_background": "light"
         },
         "output_type": "display_data"
        }
       ]
      }
     },
     "e9039c91eee04025b4d2aebae87da4ab": {
      "model_module": "@jupyter-widgets/controls",
      "model_module_version": "1.5.0",
      "model_name": "SliderStyleModel",
      "state": {
       "description_width": ""
      }
     },
     "ea8e9217f784443eae7c1f35db8603fc": {
      "model_module": "@jupyter-widgets/base",
      "model_module_version": "1.2.0",
      "model_name": "LayoutModel",
      "state": {}
     },
     "eb65dcf9e7ea44f5b92c5b8b06823844": {
      "model_module": "@jupyter-widgets/base",
      "model_module_version": "1.2.0",
      "model_name": "LayoutModel",
      "state": {}
     },
     "edab086e08624395b8cf68235879a27a": {
      "model_module": "@jupyter-widgets/base",
      "model_module_version": "1.2.0",
      "model_name": "LayoutModel",
      "state": {}
     },
     "ef1309818c5d494dab87d58d8d85e21c": {
      "model_module": "@jupyter-widgets/controls",
      "model_module_version": "1.5.0",
      "model_name": "FloatSliderModel",
      "state": {
       "description": "kc1_in",
       "layout": "IPY_MODEL_ea8e9217f784443eae7c1f35db8603fc",
       "max": 1000,
       "min": 1,
       "step": 0.1,
       "style": "IPY_MODEL_9066eb17a0ed4d0c933f56745a041bdc",
       "value": 111
      }
     },
     "f9a7f1cde0a845b4a845b3bfcdbe3244": {
      "model_module": "@jupyter-widgets/base",
      "model_module_version": "1.2.0",
      "model_name": "LayoutModel",
      "state": {}
     },
     "fb9c628d5f764322be58f05566e517fa": {
      "model_module": "@jupyter-widgets/base",
      "model_module_version": "1.2.0",
      "model_name": "LayoutModel",
      "state": {}
     },
     "fd2aea43210043ca8b9b384bad83fe32": {
      "model_module": "@jupyter-widgets/controls",
      "model_module_version": "1.5.0",
      "model_name": "SliderStyleModel",
      "state": {
       "description_width": ""
      }
     },
     "fe9b0c3d0c164549854a3367e0ff338c": {
      "model_module": "@jupyter-widgets/output",
      "model_module_version": "1.0.0",
      "model_name": "OutputModel",
      "state": {
       "layout": "IPY_MODEL_d8cc0b977c13491cbe6021b47c5fea50",
       "outputs": [
        {
         "data": {
          "image/png": "iVBORw0KGgoAAAANSUhEUgAAAZgAAAEWCAYAAABbgYH9AAAAOXRFWHRTb2Z0d2FyZQBNYXRwbG90bGliIHZlcnNpb24zLjUuMSwgaHR0cHM6Ly9tYXRwbG90bGliLm9yZy/YYfK9AAAACXBIWXMAAAsTAAALEwEAmpwYAABUJElEQVR4nO29efQsZ1nv+3nequ7ftHf2kJ1hZyAJGi8qR1Axucr1MsgQctA4CyjXAU8uKtfh4MBauJSDR1e8ii6UIUQOCIeDOCxCIoZBXEvx4vUeAjIFUWIIkjk7yd7Z0+/X3fU+94+q6q6uru6u6q7q7qp+P2v9ft01v1X91Pt9n+edRFVxOBwOh6NszLIT4HA4HI5m4gTG4XA4HJXgBMbhcDgcleAExuFwOByV4ATG4XA4HJXgBMbhcDgcleAExuFwOByV4ATG4XCsJCJyt4g8Z9npcMyOE5gaIyI/JiKfFZEzIvKAiLxJRA4sO10Oh8MBTmBqi4i8Evht4JeAA8D/ClwOfFhEWktMmsPhcABOYGqJiJwD/Bfg/1LVD6pqV1XvBn4QuAJ4yTLT53A4HOAEpq58G7AJvDe5UlVPAR8AnreMRDkcDkcSJzD15AhwTFV7GdvuB85bcHocDodjBCcw9eQYcERE/IxtR4GHF5weh8PhGMEJTD35f4E94HuTK0VkB3gB8HfLSJTD4XAkcQJTQ1T1BGEl/x+KyDUi0hKRy4E/J/Ru/scy0+dwOBwA4iYcqy8i8jLgF4CvBjYIPZeXqOp9S02Yw+Fw4DyYWqOq/01Vn6yqm8DLgK8CsuplHA6HY+E4D6ZBiMhLga6qvmfZaXE4HA4nMA6Hw+GoBBciczgcDkclNDJe72/taOvA4WUnw1Ehuw/ec0xVx3Yoff6zdvSRR4OhdZ/4zN6HVPWayhNXEW3Z0E12lp0MR8Wc5LFCtr3Kdt1IgWkdOMxXvfQ/LzsZS0OiqKcKqBleV4gVjp7e8bv/+cuTth97tMc/fPDioXWbF33pSKWJqphNdrhavmPZyVg+YhAjqFVQu+zUlM5H9C8K2fYq23UjBaZpzCQOWceusGCUjUXZyxxJx1FrxEX162TbjRWYeTLl2pK+ZxmzPt7c4GekwB7B1P0cNSISFzESfV/P37dOtt1YgVmn0voICkgoIPFjaLKYZKFA17WQbA7jPBcxjQyTTaJOtt1cgWkiRWwqEhlYzzCZVWW3Ji+hYwwZojLwXtaXOtl2MwVGWZuMNEZSy0Oey6Rn0dDnpAhdTT+VyYjINcDrAQ94q6rekNr+TOAW4EvRqveq6mvnTmwdWOVMfc28mFlse1k0UmCE0Qx3LUiIhQjogjyXVXzWCuyql3t/EfGANwLPBe4BPi4it6rq51O7/r2qvrC0hBZllTP6ihEj/U+1mt64hBRVxJR3tahtL5NGCkzlrHCpP9lEOfyS2Lbw1CwPi7Crhcz7KuBOVb0LQETeA1wHpAXGsQRicUkKSabQrAEz2PbSqEcqZ6FBdjdvH5YRYWnQsxmHInRGS3lHROT2xPJNqnpT9P1i4CuJbfcAV2ec+ltF5NPAfcAvquodZaXZkU1fXBzAWNteSRorMI1vNTXt/iQhLGvYTNmqsKut9Opjqvq0MYdk5WLpJ/RJ4DJVPSUi1wLvA66cK6GOPlOFJOpgmWyivI5ezBjbXkkaKzDrUEqfdI/JJsrx8qznqiMKdClUyrsHuDSxfAmhlzI4p+rjie+3icibROSIqh6bJ61FWNvS/IQ6lsY9kyntFWaw7aXhBKbmjBOOkf4vRZs41xxF2LWFSnkfB64UkSuAe4EXAS9J7iAiFwIPqqqKyFWEg8U+UlKSHeMY6WC53sxg20ujmQKjzQ7/DJF1nxKul+T2GZ9HXZ9jWBHazr2/qvZE5BXAhwibKb9NVe8QkZdH228Evh/4KRHpAWeBF6mb76IaxglJ7K0ErF3z5Jiitr1Mmikw0IhS+DSmeS/J/kAzC0VNn2PYV6BYGEFVbwNuS627MfH9DcAbSkngLMj6luD73kvU/r5f97KGIjOLbS+LxgpMXUveuZlU/8KgD8wsIbImPDur9QkjOMYzVL8yrq5lzUS3Tra91F9GRK4RkX8RkTtF5FUZ258pIidE5FPR36/lPrk2709s4k8z/qJtMFjXP3baX+Lcy77PXH9TiEt5yT/H6iJGMv8SO0Qf6yUmWaRtOw858loRkT+Itn9GRL6pjLQuzYOpuud0LUvh86RZU9+THsyY89byGeVEqU9TzrwIDWwxNY3YOzEShQglsWnNnkVEUdvOmde+gLDJ/ZWE/b/eTHY/sEIsM0RWXc9pZWpTv6aQKRKpkv7IPg0WlhgF57XUkaxwV3+IGDO835rVvcTMYNt58trrgHdGjVb+UUQOishRVb1/nrQuU2BK7TktItcD1wO09x1qdOl8vEeiaFzC0wzvpYJnsqrP2aqwV5M49SSSdr3JztrVN/TrXWLvxUQV/ejgWcwjNDV8nhm2PWmECsiX12btczFQW4Epted09EBvAtg571KtQyldymrhmjiNoKjKoInyOC9mzPFNoU59BSaRtOsD5twG/lKMr7yPEQm9F8+j33rFCMQ9+GsoEvOQYduTRqiAfHltnn0Ks0yBqa7ntII0dPiIsUIRrVfDUMV+clt4fA2eSwlJVIRe00JkwvTMuCkM1bVEXouR4dD3ujyLFDPY9tS8Nuc+hVmmwFTac3ppoZsFXndc/UtSWPqCsmYV/VaFvaCxrfBnQ+qVIffrXETA8xAxKAFiDGot1KGwVAEz2PbUvBa4FXhFVD9zNXBi3voXWKLAVN1zWupe/5fz3UkLhMrg2NiLm2m4mAnXqANhRWjTQidSO5EYR67mxvG9GhN6K0YYmoq+Ic+iKEVtO2deextwLXAncAb48TLSutQiXmU9p7UBApNkQgY/kvl7kdeSqORfpVZkixIrVWHPNs+DaWQ/kHFCkfBgxPMGQhPXyawps9h2jrxWgZ8pJYEJmvcGEvUXaJTAjM+Vkxm2CohGcepJAgONrNhPogidBgpMY0vtWYIR3etAXMxgXxu94Ol3o6nPJ0GdbLseqZyBRlTyT7mFERFNVvDb4WbKo17Maj6fsjwcBXq2aZX8kp0R15lJgmAEEQNe1IIMonoYOxCZrOOb9oxS1Mm2mykwChJM320lKKNepC8WEq63SYHRykJkq+wlqgqdmryEhahzCb1Aqy9J9+A3ZmDnybqZwQElJXL1qZNtTxUYEbmEsNXBtwMXEVa2fw74K+ADqivYnVZBgtUsoc/D1FBX3P8saqYtCW9mZN8i16ghYSmvgSXZkprmyqr2HRkafywSF98PvZjAhts13md9RCVJnWx7osCIyNsJe3O+H/ht4CFgE/ga4Brg1SLyKlX9aNUJLcoql65jZh9Cf3BgfA6VsA+MaDScuQ29uEELsuGLLVRIliBadSrl5Sau7G4CkzyOodZjUYjM90G7g2dQRQi8Jv1q6mTb0zyY16nq5zLWfw54r4i0gSeUn6z5EFVMXT2YWbwMG82P4UWeSxAJrOrkepj+NWv6rCZgETpBPV7CQjSxfiF9T7HAiAzExfeg1xts88KC1DqFxmLqZNsTBSYWFxF5KfA+VT0ZbxORF6rq+wnbTa8WCtKrYaY5S9+XSBxUAZW+uEig2XUwRZo815ygaf1gog6HjSJLIOJe+/H9tnzUmKjCPxouZk0r+GPqYtt5K/n/EHiliLxYVf85WvdawtDZSrKqdTBzZeLpFpkJz0M1jBr0xcXqoKI/GU7IuH5thKWAp6UqdGtSyitEnTPQHGOOhZ/RPXphiExb3kB04tZjWUK7Jt5MnWw7r8B8CXgZ8Bci8hpV/XNWuIZNFEy3LrlmNhPHDEt7MCL9X1JsGB6UXrKzZapHf/ocZaVrhVAgqElFaG6EMNOt/DoLem5pwUmGxiJBUT8SGBt1MjUCJlEHM0+9SU0FqU62nVdgVFU/KSLPAP5ERK4mHHJgNVFFgnJq+Zdauh+TmQ81YIgExoqJ7jsMD4ZeTEIQ+jNdZpyzyntckiCp1qelTW7iFlVVnXuRpK+Xaj2mXuitqG/Qto/07OD+rY7OxVtmBf2KC0+dbDuvtd4PoKrHROT5hC3KnlxZquZFwXQzBKYehe8p3ktiW3yLXtiELJ762PRCDyYeMmaoHibj3JW1uFuqtyP0gnq8hLkRgdZqd13TIplz+ueJPReR8Dy+wbY8bNvgqaK+F9p01nG5rrfawpGf+th2LmtV1f+Y+G6BX4r+VhJRxXRWuKdl0Yw3vX9aEKzAhhd6LF2L6dqwDkp1UBfVb0mWOleRtNSg6XeMan3CCLkRCcNFy2aOEn6mAMU/U1JcPEE9g20bbMuEBUZPUPy+DY+cK8/PveLeSR7qZNvT+sH8JRPK/ar6XaWnqAwUpNNbdirykTeDHycyBjT+GYO4/sWGHoy1Yey6P2S/Zp8reb45WZU6GkUIalLKy42AtpfnwRTyTtKM+ymic/bPLaCeoEbQliFoG9QTvLOhuIrYMENKpGWiaBWhJuJTJ9ueZq2/G30K8EfAT1abnJJQXW2BKdpJbJLXEXdGEwlbjsUeTM+CHXgyQ8dVJDCrIi4AaDhvRpNQEezGcgRm5laxYzLtoZ8mLS5RHYxtCcFGWLeonkHjQS9JiIrJOM/ItUq2g2WbVY1se1o/mL+Lv4vIqeTySmMV9rqLuVYVI+VMyqiT4hS3qNnwUSOYQDEdi3R62QJjxwjMrF7UimODeryEuTFCsFVuiGyRme9Intj3XqLjjPRHpLC+YNtC0BZMlzBM1vbQqFGLmoxzpM5bNH2zUPrzy0ldbLtIcag+uUsQoI8/Pn2/VRxxOW8mHg+ZsbmBtnZQX/DO9vBO7yFnO9DthmM3JWf+yxrifNr1VvEZ5UAVtCZx6rzYlnDm/Nb0HcuiQOY5tkAtE/aRgbiEwhIKh3pgW9GfD5uPCq0zHrYlQyIU1tcMX2ewPJqgXIX+ivLtMvtF1sm2p9XBHE4seiJyiMRPoKqPVpWwuVCLnt1ddiqKkTcjN4M5MtQI4oXNONVIGBrr9KDTgW4PggACi6od9V5sViu7csREs869cKQ2pby8WAOd/SVmLDM+nokZdWrbsGeRWh+LgmEgMl74F7RDgREFexKCtmB9ry9AsSAlRWroepPSMSatk1iWp5JNfWx7mgfzCULPJb6bTya2KfDEKhI1L2oV7XSWnYzyEQNBJC5iMWKg3aa33QonG+sGYWhwr4PGHkwQDM9fPtSrf7wQaE09lz4KWpOXMC/qwd6BHDuWdds5zjM14x4jKsnlvsDE3ouvaFuxvmL2DEFb6G5HoTAv8nT6IsOIyIyITca9TLTuos9v0WZWI9ueVgdzxaISUjYarHAz5bwkelRL7LkYAc8g7TZsbWLP2aK738N0w9Zj9HqhuHS64TMIgoFYRIIyVjxWcOaFuahJRWhe1Ie9c3PuPGcP4amPboqwZGbuMkhX0tNQE/VtMYr6iviKaQV4Rgke3cC2PHrbgvXCZ2C9WGgIW1Emwmzk8Gam3mMRs1mWidXEtqeFyL5p0nZV/eSk7UtlRee7kEmdvVJpFiODdSaqc/F9pOXD1iZ6YB97R7bonOOx+VgQhcSisFhSXNSOikrTxCRNjUp5edGW0ruggGc+0+1PEaaMc0pazCS1vr9MX2CMaNjtxSgiimcsnlFafkDbC/C9gE7P58HTLYINDxWw7ejPB/W17/H0RSq61kBYdMSrybyHcWI8qwdXhFkKAjWy7WkhstuBO4CHo+XkXSnw7CoSNS9iDN7O9gIvmPPHnjDveLg98lLSs/l50WB/vgetFtpuYXc26Jy7yekLfXpbwsbxjPN6XvSSe8gkQalSjKvqPX0mxz62Hi9hXlqtgKNHH5vrHKZAhjYiHGPOYRKilDzGJMQk+T0+xjcWI4ovFt8E+GLZ8Hq0TQ+rwr1nDvKQf4BgE4It6G0pdsOiGxbxFYxiPIsYMMZG/TRDURHR0JmJrjf4HH8f4+533PrB9ombJ5L1e/x7ngNrYtvTBOaVwPcRzmL5HuBmVT1VearmxfeRIzliCVUOlDduGPKs6yc7m5noMzVkhnqC+uGwGb1Nj+4+j93Dht3DYLpxuMBAy0c2N5B2KxqzScanYehtGyMyed6eMitA855rmsCoIDUp5eVlX2uPp1/wpbHbzYydmfKIjpdx7vRxXmLMoVh04nVGLB5J8QmXW9LDiOJhaUmAJ5ZADSeCbU50t0CU3k4oLLK/y8Z2l62NLpt+j7bfo2UCfGMjkbJ9MTNEn/3r61C60uk3GeMleROeiynQqDbr3JP4p2k71Mi2p9XB/D7w+yJyBfBi4G9E5MvAb6nqp+a9uIhcA7yecODMt6rqDantEm2/ljBL+bE8YTnd8Nm74kjxBOUsyI9tUZKxelz7/KH4sJFUTHrQFFONRHFnwfpha5pgC7rb0D0Hgm1L+9FwOA271cLYbWRrcyBOUXPOIcEyibSke1Knn0Nmc89JYb7xm4b3m/MF+UqOfQpWw1Vlj2VxjjnL88/5zEzHejMMOOdNyUSzBC15HS8jM08KVbw9mdF31XDSbvJvnfPpRbM22p2A1sE9zj94kvO3T3GwfYZz/F32eXtsmB4t06MlQShQ2L5geWJHhS55/bRAjhHoPAIx7tgixOl5S56da1LFnHcssi+JyC3AFvBSwimTPzXPhUXEA94IPBe4B/i4iNyqqp9P7PYC4Mro72rgzdHnRHqbwmNP2sjcljtmOmW/wq1nUus1uU+iglKFQcWlGa7QtC2w7bA0x5bF2+qBQu/sFr0toXtgA7PdCntBe2Fv6HDYjUEfg7iT2lDrG6L1GfHqic1MJ91/irKee5+PTdmuIAXCCFXaY1nsmIBv2Sg/gGBKrKn2phYchg0qUMUCAUpXLSfVctLCiWCb453N8Jz7u1xy7mM8+eADXLZ1jAv8E5zj7bIte2xKl3ZfXJRWJAYe2nfe+0I2ktYx95DzeSytlregbS+TaZX8TwReBFxHWGZ8D/CbqlpGJ5OrgDtV9a7oWu+JrpN8oa8D3qmqCvyjiBwUkaOqev+kEwebcPxroxZTRX+HSeGCvK1Oht4hHVmfroTsV35KvI+GlZ9GEQNiLJ5v2fAsLT9gq9Vlu9Wh7QUcO73DIw9v0NlngBbWi/oMxJWhXvQZt7hJi0syTenl1L1MavY57rkV6TMxlYL7Fyy0V2aPZeFhOMdsLeJSM2EzSvFBou7PJjwaiyVQpYulq5ZdVc6o4eFgh7u7R7jr7Hk8fHofAPv3n+XJBx/gafu/xOWtY5znnWZbLJsitMTQwuCJYKIZRJKC6WXUL5rlSUNpVDYCeslM82DuBD4D3AI8DjwB+GmJwyqqvzfHtS9mONBxD6Olwax9LiaaPiCJiFwPXA+wcf5+Lv3aB6YmIG8cdVIlX1b8eji2O+Z7IjyQrgwNK0CDfgVoywT4EtCKKkE3pEvLBJwJ2nyWi3h44zB7h2DvoCQqQ8O+BNqyiDdcIYooJmq9E1eIDkbe0KkVojLm+2Dd2Mc19pllMa1ydSJKVkXoERG5PbF8k6reFH0v1R7LImnXF1/s8VBQvgeTN68Kxrwv6clj4/MFUUZvdfC9G3VpDxC66tHRNrva4oxu8HiwyYO9A3z57BE+d/xCTp4MxfS8nVM8cethLm8d4yL/FPsFWuLhIRik7zXFApe8n54Ox5KCEoc7sgXqYUol27ZXkmkC81oG7Rb3lXztrCeU/sXy7BOuDDOKmwAuffIB/a6LZotVw/TYc8yk2Oy0StGhWHQ/PjyIFxssXhRLDitEw2UTxZZ3bYsHegf5ytlDsNVj93yD3Qrwzumyvb3Hvs09tlsdNr0ebS+gbYJ+Sx0jllb0GacrDCnY0XQOieL0it5J959FkVZNSfJUfMhonPqYqj5t3O4Z62a2x7JI2vVX/4dt/f/2zicooQ9EkKMUb8eMb5I+NpkeG22L54y3CIEaAgxWpX9sV73wz/rsWZ9TwQaP9zY53tnmoTP7eOj4foKTLdgMONje5YAXtuo4aX12+++dRv2GtS9g8fmTg0EGiZ8tay57O+VZBIVd7ezrlEmGba8k0yr5X1Phte8BLk0sXwLcN8M+I+wzuzxj51+mJqCMirnBuabnM+MzY838nm4A5kUvUleFk7ZNV312/A7tnS5B23LhoZNcds5jXLh5gkOtM+zzdtk2HdoSej3jBAsGIpd+Jlle3rQK47wCnUXellD/dcp2UYq2tKnMHsviRLDFBx77D7n3HycQmftOyESzBC15bjskMDK0zmooLBYJP6P1PWvoqaFnDV3r0en57PZ8zu616JxpoSdbmD2D3QwLRieCbf6tc36/lVlXvb5oddUnQPppGvqeELrB/Qw/l6yRifMJ8GxCP03Q4AsTt85g20tjWh3MrwJvVNXMxvci8mxgW1XfP8O1Pw5cGbVQu5ewruclqX1uBV4RxcOvBk7kiXdvinKlX77ET64MzfODj99nUuVo7NZblABlTy0BXVrSw5eAA9tnOWdzl284dB9P2rqfC1sn2G/OsiMdNqNmoG0sRkYrPJMVnVmVm3mzqOmVu4unYJy6Mnssi9PdNv/zwcuG1s0zbPu0aJGOOXd6fTINgxkhpP+p8bIm14Nag1qwgQEraE+QPYPZM7TOhvt3Dgunuhv8y5kLMKJ0rM9e4Efi5NGLBKxnTV/E4jQlv2elPS2q457luOeQxaKG0W9KHcxngfeLyC5hVOJhYJOwFc1TgY8AvzXLhVW1JyKvAD5E2Cz0bap6h4i8PNp+I3AbYZPQOwmbhf54nnOvemXoNNKVpQEWi4brUx0mjShHdk7z9Qce4Ft27uLy1jEOe3tsirIZVYCGlZpxReiwZEwSzawK0tqgxcIIVdpjWQRdj0fuPyeV8PkytFwRynH7pK+tGd91sJ/o8D5iQxHxgjDDlJ5gemA64Z9tg/aEB0/v57G9LXqBRyfw6PY8AisE1oQCZiUULA1brqgOp6EvEKn7yBSOqc9jhudddhC1oG0vk2khsluAW0TkSuDpwFHCyv53Ader6tl5Lq6qtxG+tMl1Nya+K/Az81xj1clqeQOD1jdxRaKNWtt0sXRU2VWfXW3joVy8fYKv27qXJ7Yf5kJvj23x2BQvkhYZEoomtKDJS9FS3qrbo3SFjQdLHq6/SOY3Zt+xIqWp7Zpap9GnjQQmABOA9MLP7g7InuGREzuoFWzXC72cnoSV3HYgUoNzyrC4QXIItPH3MeU5zDm0WwljygzTFA8GAFX9IvDFitNSGhZlTxc04dgMjBMVGG7lEotLgGJRuqp0ouacu9Zn17YwYjm6cYJLW49wrgnFZeC1xOccXC8osd5ppdH6vIR5kQA2ypwgo2imWaQFf9JT0dF1fXGJfieJSuVitV86D9qC2TUEj2xgeoLXEUxPov0Gx/bPRep7xjVH0j2PB1eUEs9Tpm1H07L8KXA5cDfwg1nVIiJyN3CSsJtnb0KDmT7Lm+C7QizKmYoFpqwmilnNJgfNPCOB0XBdV4UOHmdsi5O6yRnbxohyQesE55hdTJSuUGB7uTvQLa25ZYUI9Qkj5MUE0D6xmGsVmv46T8ad9maidQOR0YTIhH21ettC65Sgpz1MF7xOtD0YFqehc6XSMy4dWczspSz49anAtl8F/I2q3iAir4qWf2XMvs9S1WN5T9xIgQlUOWFXL3eZ1twxOeBxEPV6DBKtcjp4dNVw2m5wMtjijN2gJQH7vV1aEvomu2rp5rT4cf0alkm6T8XMNNSDaZ/Kd1OV3XuO3yczo44EK8u7CMVC+54MVrFtg+mCf5qwXqYb/sUCFAtSUqQyr180rJfFqk0VXr5tXwc8M/r+DuBvGS8whWikwFiEk7aaW5ulTfz4c2XXh8QtUfpt+9VgMQQIu9pi17Y4aTfZtS1aErBt9ggw7KqhO+ZlyE735Hsp816XQdM8GLGaW2BKp8gEdLk8mpTgaOQ1JTwS0zW0TgleB7yOYnqJEJomhCkrBJd1zdS1Z2HuupiSKNm2L4hbQ6rq/SJy/pj9FPiwhD2g35LopDyWXLmwiLwD+DlVPR4tHwJep6o/kef4RdPDcNyuRiuyvJn0SNv8VMexuO1/V312tcVpu8Ge9ft9a3atjxUZ6mszqclkFeJRdeeyQkSVx01CLHhnys1ZCoXC8jDpdKlrDYQhEhsbfZdwDD2vE4qH11FMRzG9YS9nOCymo+ctmr4ZKP355WHUtieNUAGAiHwEuDDjbK8ucOWnq+p9kQD9tYh8QVU/OumAvMX8b4jFBUBVHxORbyyQsIVi1fC43VzMtUpolZXVkW3QI9n0l+Pez7u2xalgkz1tcY45i1XDGW3TJei/QOMEK3eaGtDazDTMg8Eq3m6vuvMvMvNNbrPD+6sIpmXw9jT0XvZsOGNroIiGn+QVlhkFYNXDqynbnjRCBQCq+pxx20TkwXhMPRE5Cjw05hz3RZ8PicjNhOP3lSIwRkQOxS0LolYHKxteCxBOLsCDKWPIDsgWqXQP5Hi4ja567NkWZ4I2XWvwfEtHPU7bjf6wLul05RWLIj2/V54mejCqmL0KBSYvs2TaY36LIRGKv/sGCbzQgwksXsciXRuFxwbi0j82Kz1z/PZL8UqKUL5t3wr8KHBD9HlLegcR2QGMqp6Mvj+PcCixieQVidcB/yAifxEt/wDwmzmPXTiBGk4Gi/FgplHEE0iHtNJeTDg8hrBnW+xpi6560Xqf0ymDS4tW0fBVUY9n1RDANExgUEU6KyAwk8ibOad+m6T3EnspoediMR2LBBYiD4b4b8J5Kk37kqnAtm8A/kxEXkY4oeYPAIjIRYTzIl0LXADcHA107APvVtUPTjtx3n4w74xifM8mvL/vTc2TsVJYhDM2ez6Yeamq4jvLexi0IDNRRX84cOCe9TkTtOhZj0ANZ2yblnjRMdljRI2eux7eysxelTavkh8F6dbgpgo1CEjVywCKjwQWsxdgOhbTDaBnh8UlLQY5M9yV907yULJtq+ojwHdkrL+PcOQKomksnlL03NPGIjucWHwAeHdym6qW2e2rNGyU6ZZNlZXYWR5DP0ymgwr/nnrsBT6dqJWcjVqWxQP+9c83diTc5Xkmiw7BrXocvTCq0FuiwJSdOWcJkRGkF0QeTIB0ekjPgrVReEzHH79I8ViyUNXFtqd5MJ8gjPgJ4Vwwj0XfDxK6UldUmbhZsQhngvIFpiizegnDo9PGrcji0WhDD2Yv8PFNQNd6nGGjP8rs4LhJg2fWw3uZi0Z6MAq9FQyRzZvZxkJhwuFfMCb0WKxNCEzKcxnxYBaQ4euK5Oo1su1pY5FdASAiNwK3RmM1ISIvAMa2Slg2irCn4ZhNZVXEV01WOCtZ4g+ikWJ76tGNRpH1CcJ6mITdp0VtntFdy2ghtyyE+pTycqMs14Mpk3EV88aE3oqN6lw6AVgLQfRjxpn8JFFbhNgskTrZdt5K/m9R1ZfHC6r6ARH5jYrSNDdWhTNByYMCVsQkAbApjySIPJiO9ehZD2sC9qyPNQMvJ895x12jUShhSKVRaJjZ1plJ6Y/EBat9D4YgCP9UB15MmibUqxShRradV2CORXPDvIuwHPUjwCOVpWpOFOnXUdSFcZ6WTdTDxPNdJOfB6KqHDcxI3UoegWmsuEQ0rh+MEma2TSPqXEkQhJ8aiUu3F4YEAzshNFZzwZ2Ruth23lz4xcCvAzcTmvlHo3UriSp0rVfqORc1kRCMnwjJ6mAWwFhwOtbvzzo5PGvfjLPtNUV0yh+vaTVYhdJ6JSEoHUzhGjdmiMXF2oGQ5O282WRqZNvTWpH9d1V9KfBSVf25BaVpbsKMt1yBqYI8mXlfXBJTzvbswKtJCmlmPU7N+7PMSjjibMMyHFW0iR5MTADieVGILBKXXm+0WfIK1rHoAhsA1Mm2p3kw3ywilwE/ISLvJDU64qo2UyYKIy2DsjL0tFhYTQiMGowoPev1xx4bank2oxeySC+tcmpUyivECmauM5MUjXjKbYnEJBaXuE6GApl4k55RFjWy7WkCcyPwQeCJhE2WkzmQRutXDgV6BbyDVSNLXIBEHYzBNzb01ILhn3CawK3qPVeBWcEWvXNT5zDQtAr+mGRnSquhsEwSjTo/kxmpi21Pa6b8B8AfiMibVfWnFpSmuQkz3tUPkY0jSySSHkwyVJZ39OR1EhagVi1tcqMNaEWWJQYi4X0Zg2rUYz9qmtwPCWY2a675s5iVGtl23qFiaiMuMWWEqpaZKY8LkWlUuW9U++vGHTN0/JrVxYgq0sRQSRNL6/1xxSx4cVPlSFyS2yYdu0bUybbr1ZY3J6r0K8JXhVnFKj5Oo89k6C8dBszf92U9xKYuTTmLoA0utYsxYSgsKS55Wo9FNPnZpKmLbS9FYKIxzv4UuBy4G/jBeCqA1H53AyeBAOhNm/MgRpGVE5g86JiMP/Y+Yg8m/p51jwttTr3KQqWUOP/yqjCmo2ETkIQtWe0LTXy/tRKPqn+jGtn2sjyYVwF/o6o3iMirouVxc0A/S1WPFb3AuMw6pg4ho2QGnhSWeNmm1qWZ9gyajqnJS+ggbIJtw7dS1fZ77w8JS1PFdQbqYtvLEpjrgGdG398B/C3jBaYwqvlaka0Sk8QgLSpGNBRIOzyUTBmstFdSAFFqE6fOjdLcJrjJTpbR1Mma8GDG0tTnMYE62fayBOYCVb0fIJqm8/wx+ynwYRFR4C3peaaTiMj1wPUA7fPPWUrpvYrMWVOV+OH7F3kv4ryXsShIrx4v4SSSdr3JzpJTk8G8HQwlKiRZBS+y2SAYFpeaZKYLo0a2XZnAiMhHgAszNr26wGmerqr3RQL01yLyBVXNnAM6Ep+bAPZ9zVENalgHkyQtHIMJ/AQPRVVGhoNpivdRDuF0u3UnadcHzLm6MkPGl0V8P2IGlfpDM1ZmDW7ZsGdQmPrYdmUCo6pjh/MXkQdF5GjkvRwFHhpzjvuiz4dE5GbgKsJx0CZfm/pmtuMiApZBBb+imfUzs1DX5zSVGvUVcBCJhhd9jTLPWFzWXlBS1Mi2lxUiuxX4UcK5oH8UuCW9g4jsAEZVT0bfnwe8NtfZa9bYZlr9SbqCX0RG1o0/toQE1pS6lPLyooA2NFwkyTqY/tD8k3+/pj6LPNTFtpclMDcAfyYiLyOcGfMHAETkIuCtqnotcAFws4TNF33g3ar6wbwXWPVWYkW8jkEl/2BdYF2nykmIam1KeY4Bfe8lIS7rLCRZ1Mm2lyIwqvoI8B0Z6+8Dro2+3wU8ZabzI6xiHcys3oQmWpGJKIE1qIyerLHhrllQoFePUl5udHqpvpaIQa0iHtFAl0G2qDTx3mehRrbdyJ78sPqhoSIeTDIcFsqmZorJqt/zYlGkyUPbNwm1YSW/E5Wc1Me2Gyww9SnNT+0UOqZF2SznWhtK7u1c9egTjgi1A+/FiUs2rif/cgnrCeuZ0Y7v1xJtR5CpFfv1vPdSUZBeqaW8ykefyEPT6iP6lftpXAX/eMq37cpopMBA/esj0l6K9luQ6UwCUvfnUZzSh7avdPSJdUWtJlqQRd6Lq+CfQn2mbWiswDSlPkJT/V1UtT/t2yqLxtKfv2o4I+IwR0Tk9sTyTZNGh0hR+ugTjsk4cRlDtm2vJI0VmEVTZVgqfe7hTpaVXbbeKDAaRjg2qU5k0aNPOEL6LcjChf46xxiybXslaazA1LEeYlKadWif4ZevjvdaPcXDCMscfSJ/IusRGsmFDHcliEVlJcRlpZ+zC5EtFU0Mq1Jnkq9Z3Acm/p77HA14DjOhlB1GqHb0iXUkbp6cd19HSPm2XRmNFBhIl/HrTboeZtaK/rVCdTCfezlUPvrE2pNsohwtOzIo37Yro7ECU1fGCoeGnllaXJokpKWiCt3ySnlVjz6xtozzYpy4jKdk266SZgpMjfvBjJBurjzraZryPHKjaE3CCA5cB8tC1Me2mykwq8wMCpHsA5Ne5xiDEk6766gXTlymUyPbbq7ANCB2NCIiUZgse+fq01MnVBVbkzCCw1GEOtm2aAM7UojIw8CXSzzlEaCSoT9KYtXTB+Wn8TJVPW/cRhH5YHTNJMdU9ZoS07BQ1tCuYT3TWNS2V9auGykwZSMit6/yoIWrnj6oRxrXjTr8Ji6N9Wb1Jk1xOBwORyNwAuNwOByOSnACk49VH7Bw1dMH9UjjulGH38Slsca4OhiHw7FyiMjfAu9S1bdmbHsC8HnggKrWo73umuI8mBojIneLyFkRORUNxvh2Edm37HQ5HHmZxYZV9d9VdZ8Tl9XHCUz9+U5V3Qd8E/AtwK8uOT0OR1GcDTcUJzANQVXvBT4APHnZaXE4ZiHDhi8TkY+JyEkR+bCIHAEQkctFREWkuR3FG4ITmIYgIpcSDrr4T8tOi8MxCxk2/BLgx4HzgTbwi0tKmmNGnMDUn/eJyHHg/wH+Dvit5SbH4SjMOBt+u6r+q6qeBf4MeOpykueYFedi1p/vVtWPLDsRDsccjNhwNKfOA4lVZwDXgKVmOA/G4XA4HJXgBMbhcDgcleAExuFwOByV4HryOxwOh6MSnAfjcDgcjkpwAuNwOByOSnAC43A4HI5KcALjcDgcjkpoZEfLI4c9vfzS1rKTsVQ08R8EWV5SKuETn9k7Nmne8uc/a1uPPWqH1n3yM3sfWtW5y/Pg7d9R/9xDy06Go2I6X763kG2vsl03UmAuv7TF//zQE5adjKVisXQ1wCB4YjANc1a9o1/88qTtDz8a8LEPXjS0bvuiu49UmqiK8c89xIW/+nPLToajYv79P/1yIdteZbtupMCsOxZLoHb6jg1GUfa0t+xkOMpCUt0ptGk+eX7qZNtOYByNxAK7TZyPKp3ROtaOOtm2E5iGYVlvzyVGUbq4zLixiGZ7MWsgwHWybScwDcXWxACrQlXYXeMwSmMRGDLtNRCUNHWybScwDSL2Xta9/gXCPKhbk5fQMYZxP18sMmsoLlAv23YC01AstnEtx4oQxqm9ZSejfOqRr9SDmj7LOtm2E5gG4OpdRrEIu+rMe22oqVjMQp1sux6pdGSSJSyBWixKoIqR4X3XyaNRhG5NXkLHeCRDOFRZK0FJUyfbrkcq15gyvZP4XOsgNGFFaPPMOyvDdSyGVXn2dbLteqSyIMp6ho3iyv1p974Oz0YROjV5CR05iSr1BSE9jdWqZP6LoE62XY9UOnITh8fWvZlyGKde7/HoakmBlmHrJCpJ6mTbTmAagmuaPIxF2LX1eAlzI6xt09w0ucWlgc+rTrbtBKYBJMXFYtfee4GwIrguFaGOCWQJydp3tKyPbdcjlY5M0l5LLCwBipd4MwO1eNL8iv0kWqMwQiHWNCw0RFNFJedvO4tti8jbgBcCD6nqkwunbUaWmuuIyDUi8i8icqeIvCpj+zNF5ISIfCr6+7VlpHMZBGqn/iXpi8uY+pesY5pM2JTTG/pz1BBJ/eXZp65/OUnbdk7+GFj4nDFL82BExAPeCDwXuAf4uIjcqqqfT+3696r6wmJn17XKTGPyhMfW5blYhL2axKkL4TyYAWv6LGaxbVX9qIhcXk2KxrPMENlVwJ2qeheAiLwHuA5IC4xjAmlBCaJWZC0ZbDdr+Caq1qci1DGOjMLSuNr9NTLxDNs+IiK3J5ZvUtWbFpysTJYpMBcDX0ks3wNcnbHft4rIp4H7gF9U1TuyTiYi1wPXA1x6cfPDIWlhCScZGw6PrVvv/SRxGKHuJO3aO/cgmZnuOpAeRTletzIs7nfJsO1jqvq0hSWgAMsUmGntQwA+CVymqqdE5FrgfcCVWSeLFPsmgG9+ykZt38JZWoDFHScHfWCyz7lOnkwYRqh/G5akXW9ccUlt7ToX08yzP4pyekOzH0uaOtn2MlN5D3BpYvkSQi+lj6o+nvh+m4i8SUSOqOqxSScOe/I31+jSPfFjz6WLZVeVdiKMkPRimvxM0oRNOevvwQwhIGZ9fsM+sTkrwz3416e8NESdbHuZAvNx4EoRuQK4F3gR8JLkDiJyIfCgqqqIXEXY6u2Rhae0JKoYoiVIvHFp7yVQxRNZqzHIYrRGpby1pqhIZE1i2dRmy2OYxbZF5E+AZxLW19wD/Lqq/rcKkjfE0t5AVe2JyCuADwEe8DZVvUNEXh5tvxH4fuCnRKQHnAVepJoehSibpo+3lRQWixIQiksw4Y1t+jNJogg9W6yUJyLXAK8ntMe3quoNqe2/BPxwtOgDXwucp6qPisjdwEkgAHqVxcQbXmqfJBaK9KNhY/dr+POB2WxbVV9cUXImstQinqreBtyWWndj4vsbgDcsOl3LJMinn30G4qJ0VOmqIRBLELUei8/nrdnATaoUKuXlaTavqr8D/E60/3cCv6CqjyZO86xp4dv50PUprY+poR26/wIm3aTnVtS2l0k9UlkQjSq7m0qyLiUWl64qXWTIg0k2UW7y88jCInSKlfKKNpt/MfAncyVyFtaknJBZHhJFVfrPoFTRqNFzncG2l0YjBaZKVqWiPIjSEbccCwi9FxvN1W2j4WLWsQUZAJoZRpjUXyBvs3lEZJuwV/QrklcEPixhrveWqvohrIUjOlY4QnHpC0uFz2Kln3O2ba8kjRWYVRGCeQim3EOyWXJXw3m6vZR3E49J1oTnUQQLWaW8Sf0F8jSbj/lO4GOp8NjTVfU+ETkf+GsR+YKqfrRQoqexBqMpZ3klImFYSEUQdOiXKkUIavZMx9j2SjJVYETkEsIWXt8OXERY2f454K+AD6iu3tgjyvTMuW5kjy8WV+wrXY06X0lAoNH9r3IprGLCitBCreamNptP8CJS4TFVvS/6fEhEbiYMuZUqMEKz6hJiJonE4H6l/9Hfv9DcMc15bjPY9tKYKDAi8nbC0MH7gd8GHgI2ga8hDBG8WkReVXpJrQSaVmLPqkMZiEvovexqC5N6kZr2HPKiWriUN7XZPICIHACeAfxIYt0OYFT1ZPT9ecBr50j+WFY6dBNRSmaevk8dFZZx16nDM5qHGWx7aUzzYF6nqp/LWP854L0i0gaeUH6y5kNpVqV2losYe2hdhW40R/eu+mzTwcbHZDyDvK3J6v78FKEb5H8JczabB/ge4MOqejpx+AXAzRI+Wx94t6p+sITbGKHJHS0zw2PRp02EB0V0RESa5KFMo6htL5OJAhOLi4i8FHifqp6Mt4nIC1X1/cCd1SZxNlYubleQSSG+INoU1r1I33vZ1TZWzxIg0fGjYmJrLhx5UYWeFgsjTGs2Hy3/MeHQ58l1dwFPmSWdhZB6ZKTzOhDJe5R+yzHpC0uRpsp1eF5FmcW2l0XeSv4/BF4pIi9W1X+O1r2WMHS2cmjUN2TZBCUnYaiXPoJV6GDYVZ/T2mbXtgi8cH2XqJK/4eGC8Qi9mpTy8iLoSAi0rkzL+GMPxYhiNSwYSSQyaaGt0sRXU6DqY9t5BeZLwMuAvxCR16jqn7PCVcjhWD3LTsVsTOyJr8P7BcShsRYngy066hGoIUCiQWHCl7Pssk4dvENVCOzKmujMmIaEyCYJZdqDERV6gUFM2NFUMvbLWl41yqobqpNt5xUYVdVPisgzgD8RkasJ49QrSTicdT1+gDSTBCbeZlUigTHsWp/H7SbHg21aEmAxdNUQDwxjJBy7ZN1QhG5NKkLzIgKeqYO8Dyia6Scz4ViEAhuVZiX04KRfFzN87CK8u1UQsTrZdl6BuR9AVY+JyPMJW5QtbF7noihh6GhVsQXFLyk6AaYvMN2oYv94sM2jwQ4HvLD+pYMHCoEo3oLqXCYJ4zJQhSBYXRuYlaIezKqH1LIybENaQEzfczFmECZMezr5rjdPaleDOtl2LoFR1f+Y+G6BX4r+VhIbhY7qwjTBiTPvQONh9w0d9ejicdpu8Giwj8e6O2ybTjRPtwEBTy3dylO/utQljJAXQWmZ1fBHy8yo0yIYi0Xfg9FBBb9n7FArsnHHlo1ZgTrdJHWx7Wn9YP6SCbP5qOp3lZ6iElCE3RUZDM7O6EmlPYKBuIShsa767NoWx4NtjnX382h3h/Pbj7OrbTa1R6AWT+oVTikTRQhq0hktLyLge+X/psvwcjI9l8Q6Ew3sqRp65F5U/2KM9sOE4T6j5y7zflYhJJamTrY9LRf+3ehTgD8CfrLa5JSDVeGMtpdy7WCO0FyQ0fQwFqgg8nJicelq6L081tvh/r0DnOhssbfVYte2OC1tWgR4Oarjs67ZCBS0JqW8vIgoG15v2cnIZNaMeEhUUp6LEaVnDSJgjMUziie2Lzbp46elYdXDhbmpkW1P6wfzd/F3ETmVXF5lAgyP262FXc/OmUlniVKQCJsNRMbQVY8Aw55tcTLY5OHOfu4/cw4d67FrW2FvfmtpS1DKTLJBTRtLKPWJU+fFoGz4ixGYKjLjSWGmLHExonQCj5OieEbxjaXlBaEnI9r3cvKmuSkCUyfbLhJHqs2vE6jhRLBdaP9FMcnDSdfFxPvaqOlx/LlnQ0/leHeL+88e4N6TB9hqdTlr25wMNgnU0JLJGdEsobtaeTs1KuXlxYiy7Vdbq7YsYQm/2/66wTFtREJxafs9fLF4xvYFqC9IqWvkuY/aCk6NbHtaHczhxKInIodI9H9JjSa7MvQwPNzbn3v/eT2QaUzLmO24+pZEWMxGg1n2rMee9TkbtHh0b5sHTu/nxPFtOHiGU702J/xtuur3X9bM601JTxUtwqp+xqMIGtTjJcyLEWWfv1f5Nco933g79FJ1LkmB8dCwRWRUl9ryAja8Hm0vwJdhgUmKS1b6J6VhctpXVYDqY9vTPJhPwNCYI59MbFPgiVUkal461ue+3UMLv27ejDmr1ZhNVOLDIDRlozlebDRNasd67AY+p7ttTpzd5MSjO8iJFrtbXU50t9jndzgj7aGXY5xnNC1NmWlfcPPvmUN0ClqTitC8eGI52Do707GzZrLFrjE5Q/ayMn+SohIKR9w4pWs9HutsY0Rpez22/S5tL6Bten1hCUXGjpx/nNc073NYCdGpkW1Pq4O5YlEJKZOu9bjn7MHKzl+kH8u4fe1QHYuMrLcq/T9VoaeGwBo6gUen67O716J7qo1/zMc7K3SO+BzvbOGLHakITorVuHSlvag89zCNxXst6QQs9/Jl05KA89onp+9YkLJaG070VkZCWHZomxE7EJjohztpN7F6Pp6xbPvd6G+Pllh8E9CSoJ/he6J9sQrPnzHQa06DWAkRmUZNbHtaiOybJm1X1U9O2r4sOoHHvz9+sLTzaQmCEp4n+7yaEJV4P42ERQnjrdYKNjDYrkG7BnPGY+O4YfNhUB/29jweObNDzxr8qBlnWqyGr5EtcJPuoaznsBCU2oQR8tKSHpe0y41KzysuZkJOl/ZY0hl8LCrxvgZLW3oYFIvwle657AY+noQCc6B1lh1/j23TodUXGNsXr+T3eHnS9YfTMr+o5BWwuamRbU8Lkd0O3AE8HC0n70qBZ1eRqHnp9TweORbVwZRSGMn5Y2ZdK70ukfH2BUcH20SjZZXw04JYQSxIT/C7grcHrVOw+Yiyc3+P00d9OO1z/NQWZzutfv+B0PsZiFV8qb5QaJyOjDQlkzxOLAqKyKIHcpaaVITmZdP0uLL9QCnnmkdY0t5IknRGncx0vYy6Eg+NPBhoRYOzeggdVR7oHeTE3iYbfo8D7bOc1z7JAf8s22aPTdMNBQaL1w+vDQsWjArguPsuKg7L7nhZF9ueJjCvBL6PcBbL9wA3q+qpsi4uItcArycc1+ytqnpDartE268FzgA/lsdrkq7g37cxe7ry2s6Y/UaO1+zvklo/EJfwu0QTu0gAJgg/vT3wzyqbxy1b957Be/g4nYMX458y7G1s0vHDF0WtgI0Ey0r/vCNiVug+xglN9urC+0yhUCFTBWpSysvLllie0u7kntOnCCZn3ZoJ59UcWe+JSe03WH7+RU8Jv4hBTOJYMYjngZHw0/PAC9fZ02d42j+c5LGzWzzhwHEOt05ztH2c8/yT7PfOsildNqVLKxKVVuS9DLyZKF3x8kh6U8s5CpHzBHxL/c1msO1peW1VTKuD+X3g96NZ/l4M/I2IfBn4LVX91DwXFhEPeCPwXMLpaj8uIreq6ucTu70AuDL6uxp4c/Q5EdOBfV8Zc91ZMroJx2Seb4LApDN1iYv1CYEROxAYsYr0wPQU01O8XYt/qot/7CS9O+9C9+3D27uI9gkwgY9KdGyQOJclU8AYScuE9E57Fjmf61yvWSGBoXECc9cXDvFD3/Z9+Q8omqnJhCzUpM41OuPX6HojIIL/JFCRMIfuj/FiwnWeoL7Begbb9gg2DMGWR9AS3vMRgYt22Tx8jKPtEzxx4yEu9k5w2OuxX3w2xGdD2jz/4m9EYpES07+uGDOcpvRyxn3JuGeQvv9xzCskIsCbJu9T0LZz5rWVkHcssi+JyC3AFvBSwimTPzXnta8C7owma0JE3gNcByRv+jrgnaqqwD+KyEEROaqq9086sbenHPjSjP0FCmRiE8UqFQ9KeyuD9dGCjb6HMaxIABQJFLEKgSLdAOn1kN0unN3FP/889NxDSKBsPgL28UhQAjCB9sVlWGB0SFz6EYO0yOS5j8z7nrI9RZX1qU0bKSfYbnPymy8euz1XxDIjA8w8LrWu314jsb5/nEjie7Q++WlCgVFD3w2wXlh3aD2wbQg2obuj9A71uPSyh3jHk97FS3/lldx/wKft9bis/TBPbT/Kj13xTMw5+5CtLdhoQ8vH+zoDnod6MiRcViRMb3ztkbRKP82De0qKT/o5ZTyoCc+8UAQ5ee4cc6EWtO08eW0lTKvkfyLh3OTXAV8hDJP9pqrulnDti6NzxtzDqHeStc/FRKM7p9J6PXA9wObGAdon6jnMY7rhlXoSvjhtgS0flY3ohRHUF2w7PGD/fT1MxyK9SJBiIYGxlR9Ny4DTFI1T5wjZPhO4hXB+JID3qupr8xw7K0m79g4f5J7nJDdOOjBrXdJtHd1vJEOMDSjtnCTX949R+hOBCdHcLSDGYowi0SjI8VhqnmfZ8nts+l12Wh0Obpzl6ObjXLn5AN+2/W/87NO+G//bFO+Ujy+Wr28/yMuu+j546nnsHt6gu8+jt2UI2mBbgm2BemAjEdPEXyxySdGL061D95B6DunPrOeU8ZzzCPbwttRvkktghk54RERuTyzfpKo3JZbz5LWVMM2DuRP4DOFL9TjwBOCno7nHUdXfm+PaWY88nRPm2SdOy03ATQD7D12qu+cVr4Mp3PBpyv6jL6xkb4+NPVFK1LjklSwFRn/WE9QLv5su7DzYY+uu48gjj4Hvw9YmutlCfR9teWEYwkRC1T+noH4idEGqhDYx4xl/48VKbQX2LUrUQCIvBcIIf6+qL5zx2MIk7fqCrzus3/OtYT6S1adkHJNaeuVpzpvcJ1lJHld0x+uyWnSZfh1JgCfhJ4RNrjelw6bpsiMd9ptdDpsuF3ibfM/XXQOXHEIN+KeE450tfv5p1/HQdz2Rk5dD51AA+wK8jT1arYCWH/75JuzlH/f099IdMhOdModGAcgaDy3HyABZzbJzjSAwxc3/t2knGLXtY6r6tAlH5M5Hy2aawLw2kZB9JV/7HuDSxPIlwH0z7DNC0IYTl0cT8syRieX+BcZdI0fJJ6u0lCxlpQUGCUtqcV2Lfwq2jwl85T56p07hf/UT6R3ZT29fi2DTYH3B+pGYGInCFRklOhICk05b1j3mLblN2H8a87Z0lmIj288TRlhICOI8/xQvP/ejc50jb1XCuJZikyrL44py098WLwseEn5G63w8PDG84KJvRPwW0vKRjQ1kewu5cIfeOVuoJ/in4TOfuoKr3vdFLvQ/w7ntM5zjnWW/t8uGiSv6e3ii4WfUqsz0W5PZIcFMi+K4+53c/LqY6z+p1V0W78qxT0HbnikfLYNplfyvqfDaHweujBoQ3EsYintJap9bgVdEL+zVwIlp9S8QCszpS8MftZTuGLli2+PWDxvX2PQMueypEIQARsNtUbgBQHsG6/kEG4Kcewh50hWcunib3YOG3pYQbERhAy/87IcOMgQsM30TBGbafUyj6m4yYUOHQhfJG0b4VhH5NOEL+ouqekeBY+fiK3ecw899/fPz7TxPZbNJy0iO84+rLI/XpxsBGAPG4F8i4JnQ8/Y9tO1jt9v09rWwLaF1Ci68pcubvvf9PGotLZS2CC0RWhgMQku8qHVb2JotbsHWb70GpBswyDilndTQIc/x89C/9t2Tdytu23ny2kqYVgfzq8AbVfWxMdufDWyr6vuLXlhVeyLyCuBDhHHrt6nqHSLy8mj7jcBthE2U7yRspvzjuU7esujRMqqJZnhPx7jIWUOJD0WkRuLdw3OPx5MsxVPGqgp7HZ/O3jbdLeHM117I6aM+u+cK3X2E4tJS1NfI+9GoFU+URskQs/T9ptNcNLY8RBntlAvuPlrQnBSrzhNG+CRwmaqeEpFrgfcRtnBcTAii5SMXnl/6aYHihj42g06HgWNBSW2XOFwbhWiNCVuTtQx2I6xfsR60TiutR8/yw99wbTR3sgyaNUfnGGkdFntJF2fc1yRhmEeUcwpTLr40fZciTtS4vHbG1BViWojss8D7RWSX8OV6GNgkfKmeCnwE+K1ZL66qtxGKSHLdjYnvCvxM0fO2fMsF5z4+a7KmUqTX77g5KtLnSMZl03NdZMWLe9ZwYneLh0616Rxo091psXsedA5a7HaAtCymZTHeoJJVGBar5Pkk9TlIy/h7K+M5zMqXp+0QN9UeZlKsemoYQVUfT3y/TUTeJCJH8hxbBup5BAd35j9RGXnhxHq41LahQku4MNKqK6ojtL7BtoVgw6Ae+LsKxiDnHg4bq4TTWg7VHfaFZkzaMlt/xcz7LKqYg3mawGTb9uRDMvLaRTAtRHYLcIuIXAk8HThKWNn/LuB6VZ1t5L2KaXs9nrD/eCXnrmJk1kkVilkD+QHsBT6+sRzb2MfeQQi2lN6RHq19HTY3urRb4ciznrH4YgdzaIyr3JwyIu20e5hn31nIM0ZRwSRMDSOIyIXAg6qqInIVYfb0CHB82rGl4Am9/cuZSA/InRnnac4bNzTpf/ei+kEjBC0haEu/EYvd8NED24M0xJ5P4hyQaoFZVkOUSVQhLnkvvZAq+vnJ2w/mi8AXK05LabQk4KKt4yPri7S8KYNJFYVD+xVsyWNV2NMWPTW0N3rsHbLogS4HDp/mwNYuO60Om16PtgnwTTB21FmTaPGTJ01ZFK3AXBgFS3k5Q7bfD/yUiPQIR7d4UeRlLyQEoQaCba/s0w5fY948c8zx41oiDveZEawfNs23rVBsRJVgy0Oi5vix59IXmAnnHsdChsmr8hozeDDLYjUmri+Zlgk42j5R2vmqGOp8WsY8bT6XM7bNqVabzY0ue4c7nHv4FBfunOTwxhm2vC4bpjc04mwsWIPRZ1MCNiU9ZY24O46yn7FQThghFbJ9A/CGvMeWjYrQ21hCqXnGknruDpwJgQmb4RO2fIzWB5seWA3DaDI4z3CDlOw0li4my3NahpLgBGaJ+AQc8csf1nwWZsmYp3k+XfVpSY/H/B22Wl04eIZL9p/g6NYJDrbOsmm6bJhuoh9CwnuZ4BmNpH2BY4KXLmBarCK0FhgIliEw08ghQJPEJunFxGEy9QAbtn4M2uEOI2G11HlGrlnFbBGr8PhrZNvNFBixHPROLzsZI5QVouuohyeWLdNhX3uPw5tneML2Y5zXPtnvH5Ds3AbDopWVjnnFZBETWhWlLqW8vKiEvdZXnXxD1qT2l0HYK25abzQMlwVthj2WLJEZc+6yWPbsE2nqYtu5BEZE3gH8nKoej5YPAa9T1Z+oMG0zY1D2m3KaKS+SPKX4QA0t8bBq2DRdDrZ3OdA+y4UbJzjkn2bH7NGSoN/pLDxvXOcyev75hm1fPVHpU6NSXm4EbA2KhBNbbcWkBSZalx7ixfphn5ORUS9yeDCT01j8mJWhRrad11y/IRYXAFV9TES+sZokzY8Ry46pdu7yZRFgaBPQNT4bpsuB9lmObpzgiH+Sg96ZaJ6MUFzy9lrOS95GC6tCXUp5eVHCYYIWSpmXm9QAIBaO5IgVEnoyYob3CY+Z3lKtapYpUnWx7bwCY0TkUNzhUkQOFzh24RiUTelN37GGBGLoqmFTOrQk4HDrNEdaJznsnwq9FwLa0URMMBCX6Y0KVrQ12IyI1qcpZ26i8NGirlUFuepi+h2CwxCZwogHU3Y66+TR1Mm284rE64B/EJG/iJZ/APjNapI0PwK0FuhDLqqpboDgadgLPwyDBRxqneawd4pzzFk2pRd5LzrUcmyWNDZBcOpSyivCwgRmRmYe7DQhMpr87qXOm3H+lRaHitJWF9vO2w/mndEQG88mfGTfu4jJambFAJt1CVIWwFMlEAENBWNTunie5aB3hm3psGmiwf4YdKacJCwr24elDGrUVyA3cem+4mssgtG+K9F6CF9gDe/VprZnHjuJVRafWamRbU8bi+xwYvEB4N3Jbar6aFUJmw9deuZZdj5gCUeuNdGSwdKSHjtmj3PMLpumx2bkvQzPfT7+nMt+RlXTwDJGPoGpQaY6Ynmp/i0SfzdkejqZ56zBfZdFXWx7mgfzCUJbEMK5YB6Lvh8E/h24osrEzYoI1KA1ZyE8IFAAjcTG0pYgMT95jzYWI8PCUbbQLbqOeWZqVMrLy1BdxKKo+nqZzZXD305NWNcwKTyWpNnFpQQ1su1pY5FdASAiNwK3Rr2VEZEXAM+ZdOwyEYTWChfjvJw9o4PUTJQtiUMGSivq63PQnOWg2aMl2hdVL+Peq46srBpCfUp5uRHQlW1aU5zMMFkcKlPCMBlkCss6eStp6mTbec31W1T15fGCqn5ARH6jojTNjZA/E19lMu9BtS8Wm9KLKvZDcQkndcp5nqajYILmlWlrnbFOSnu6f4swWiqa895r/eyS1Mi28wrMsWhumHcRFip+hHAU2ZXFrLAHMys2EQTwsFFoLBgSlywxaeKzyENdwgi5SfUFWWkKpjMzDJbVqXLO6zSFuth2XoF5MfDrwM2EAvPRaN1KImSHiRpBVMfiRYHYluiQuEwTk8Y+lzQ16u1ciBX6+cob9j71Par1HRceW6VnsBRqZNvTWpH9d1V9KfBSVf25BaWpFJpUao89Fw8Z8mJi7yUtLqsiIsv8DYT6hBGKsLQwz4Iq+5MtyFzdSzZ1su1pHsw3i8hlwE+IyDtJ/eSr20y5WcQZtUX7341o33uJxSUpLE0S2JmoUUubQqzKz1pyOoZCZDpGSFbl3pdNjWx7msDcCHwQeCJhk+XkT6zR+pVDoky3KcStyQxC0PdmlBZKS0xfXIqKSpOe0QgKUpNSXiFq8pMV9jRSzZUzTbMm9145NbLtac2U/wD4AxF5s6r+1ILS5EgRC0GgkceC0BKlnfBckuLSaOHISRhGWHYqSkYaECLK0VFSNN9+60qdbDvvUDG1ExfTkJ4fdswIxl4ULkuKSxXCUtvnqIrYepTyCtGwzHVcKKzQL9ewZzKVGtl2g7ptNRPTHxzG4olg++GyYUFJi0tthaEsFKRX7CUUkWuA1xMOnPBWVb0htf2HgV+JFk8BP6Wqn4623Q2cBAKgp6pPmyv9GSylJ/+iSAffs9Y7Qmaw7WWxFIGJxjj7U+By4G7gB+OpAFL73U3FL21dMJghbyYOj5lEfdPai0qKIk05RcQD3gg8F7gH+LiI3Joa1PVLwDOi+ZBeANwEXJ3Y/ixVPTZ3wptGXpFIVPAP6Y0TmREa0Uy5Ql4F/I2q3iAir4qWf2XMvoVf2rATcDOs0o4JFhjotyALl4uLS1OeUSbFK0KvAu5U1bsAROQ9wHVAX2BU9R8S+/8jcEkJKS1G036yrOFixrUim3TcOlFyJb+I/ADwGuBrgatU9fayzr2sIu91wDui7+8AvntJ6Vh5DKOtw9L9XtLiEh8z7a/JCGB6dugPOCIityf+rk8ccjHwlcTyPdG6cbwM+EBiWYEPi8gnUuddTWRF/iKS88CQ/Jxy3DqStu0S+BzwvYQd6EtlWR7MBap6P4Cq3i8i54/ZL35pFXiLqt407oTRS309wKUXr/isTDMSComNvsf9X0xi+5q/eUlUYbQi9NiEMGvWw8ssJorIswgF5n9LrH66qt4X2fJfi8gXVHXuFzZp1/6BQ43KXAsNAdOg+56bbNue43T6zwBSQSOhygRGRD4CXJix6dUFTpP7pY3E5yaAb37KRj1qwApgEr34PXGdKqeiYIpVhN4DXJpYvgS4L72TiHwD8FbgBaraH49PVe+LPh8SkZsJQ25zC0zSrjcvvlQbWx8R3deUFsoOyLLtI9GEkDE3TSqML5LKBEZVxw7nLyIPisjRyHs5Cjw05hwzvrSCJ/Wv8A50vPsbhrlmu8cmPJtcFCvlfRy4UkSuAO4FXgS8JLmDiDwBeC/h0En/mli/AxhVPRl9fx7w2jlTvx7kUJPGiuo8DNv2JM8cmFzgV9VbykxakmWFyG4FfhS4IfocuUH30g6EIC00wy3HJPOYtUdBCsSnVbUnIq8APkTYTPltqnqHiLw82n4j8GvAucCbonBC3LLxAuDmaJ0PvFtVP1jm7QzR8AzXCcoUCto2TC7wV8myBOYG4M9E5GWEM2P+AICIXETY/+BaFv3SrjCemCGRicNjw733nbAkERSxhV/C24DbUutuTHz/SeAnM467C3jKbCktyDpmvut4zxOYxbaXxVIEJopdf0fG+vuAa6Pvi3tpa0Y6PObEJYMZSnmOFcCJyXRKtm0R+R7gD4HzgL8SkU+p6vPLOLfryV9znLiMQRWCmgzY5Ag7VzauaU5FlGzbqnoz4VxfpeMEpmYMmie7ot406jLi7Lri6lpmpy623UiBCXvy17tkP26QSxjcW1Hvpe7PpBCq0HMezCwsK+N3XkxOamTbjRSYJpAc5HKW4xxATSpCi7COpf51vOep1MS2ncCsOOlBLvuzV0p6eBgnLEOoQq+37FQ4JpEWjjxjkDlqZdtOYGqOE5YxKLUJI9QeJwqLpUa27QSmZjhByUlTW5Gta2a+rvedRY1s2wlMDYnDY05sJlGfitC1Jxqif+jTMYH62LYTmJrhmifnREFrUspbK9w8L/NTI9t2AlNTnPcyhRpVhBaiqRlw7L04plMj23YC42gmqmi3Hi+hYwxNFdN5qZFtO4GpGZ4Y573kQKlPGMER4QQlF3WybScwNcLVvxRAFe11l50KxxjS/V1cD/4C1Mi2RbV5v6yIPAx8ucRTHgGOlXi+sln19EH5abxMVc8bt1FEPhhdM8kxVb2mxDQslDW0a1jPNBa17ZW160YKTNmIyO3TZoxbJquePqhHGteNOvwmLo31xgXzHQ6Hw1EJTmAcDofDUQlOYPJx07ITMIVVTx/UI43rRh1+E5fGGuPqYBwOh8NRCc6DcTgcDkclOIFxOBwORyU4gcmBiLxGRO4VkU9Ff9cuO00xInKNiPyLiNwpIq9adnqyEJG7ReSz0bO7fdnpcQxwtj07zq6n4+pgciAirwFOqervLjstSUTEA/4VeC5wD/Bx4MWq+vmlJiyFiNwNPE1VV73D3NrhbHt2nF1Px3kw9eYq4E5VvUtVO8B7gOuWnCaHowycbTcAJzD5eYWIfEZE3iYih5admIiLga8klu+J1q0aCnxYRD4hItcvOzGOEZxtz4az6yk4gYkQkY+IyOcy/q4D3gx8FfBU4H7gdctMa4Ks0S9XMeb5dFX9JuAFwM+IyP++7AStE862K8PZ9RTcaMoRqvqcPPuJyB8B7684OXm5B7g0sXwJcN+S0jIWVb0v+nxIRG4mDH98dLmpWh+cbVeDs+vpOA8mByJyNLH4PcDnlpWWFB8HrhSRK0SkDbwIuHXJaRpCRHZEZH/8HXgeq/P81h5n27Ph7DofzoPJx/8tIk8ldNHvBv7PpaYmQlV7IvIK4EOAB7xNVe9YcrLSXADcLCIQ2tu7VfWDy02SI4Gz7dlwdp0D10zZ4XA4HJXgQmQOh8PhqAQnMA6Hw+GoBCcwDofD4agEJzAOh8PhqAQnMA6Hw+GoBCcwC0REflZE/llE/sec5/l5Efk/ou9/LCJn4jb50brXi4iKyJFo+VTq+B8TkTdMOP8LReS/zJNGx3rhbNuRhROYxfLTwLWq+sOznkBEfOAngHcnVt9JNBCgiBjgWcC9c6Tzr4DvEpHtOc7hWC+cbTtGcAKzIETkRuCJwK0i8gsi8ozEHBz/lOgV/MvRHBOfFpEbMk71bOCTqtpLrPsT4Iei788EPgb0yEEiDZ8SkbMi8gwNO0f9LfDCmW7WsVY423aMw/XkXxCq+nIRuQZ4lqoeE5G/BH5GVT8mIvuAXRF5AfDdwNWqekZEDmec6unAJ1LrvghcF42E+2LgXYQD8MVsicinEsuHiYbdUNWnAojIdwK/DPxDtM/twLcDfzbjLTvWBGfbjnE4D2Z5fAz4PRH5WeBgVGp7DvB2VT0DoKqPZhx3FHg4Y/17Ccdruhr4+9S2s6r61PgP+LXkRhG5Evgd4IdUtRutfgi4aKY7c6w7zrYdgBOYpaGqNwA/CWwB/ygiTyIconza2D1ngc2M9e8BfgP4a1W1edMRDdT3Z8B/ikeHjdiMruVwFMLZtiPGCcySEJGvUtXPqupvE7rsTwI+DPxEXAE5Jozwz8BXp1eq6r8DrwbeVDApbycsWaZLhl+DGx3WMQPOth0xTmCWx89LOOnTpwlLUx+IRmO9Fbg9iiv/YsZxHwAyJzZS1beo6r/lTYCIXAZ8P+GLH1eGPi3a/CzCFjcOR1GcbTsAN5pyLZFwcqNfVtUvVnT+CwiHH/+OKs7vcIzD2XazcAJTQ0TkfwEuUNVKZs8TkW8Buqr6qSrO73CMw9l2s3AC43A4HI5KcHUwDofD4agEJzAOh8PhqAQnMA6Hw+GoBCcwDofD4agEJzAOh8PhqIT/H2nFKeocr4EMAAAAAElFTkSuQmCC\n",
          "text/plain": "<Figure size 432x288 with 8 Axes>"
         },
         "metadata": {
          "needs_background": "light"
         },
         "output_type": "display_data"
        }
       ]
      }
     }
    },
    "version_major": 2,
    "version_minor": 0
   }
  }
 },
 "nbformat": 4,
 "nbformat_minor": 4
}
