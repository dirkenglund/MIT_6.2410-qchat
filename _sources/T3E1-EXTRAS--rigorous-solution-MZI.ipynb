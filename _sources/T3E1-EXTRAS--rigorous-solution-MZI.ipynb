{
 "cells": [
  {
   "cell_type": "markdown",
   "id": "glYBmb6VwOSN",
   "metadata": {
    "id": "glYBmb6VwOSN",
    "tags": [
     "remove-cell"
    ]
   },
   "source": [
    "# Latex Headers\n",
    "\n",
    " - Ensure proper support for certain latex notation\n",
    " - Code below\n",
    "\n",
    "$$\\newcommand{\\ket}[1]{\\left|{#1}\\right\\rangle}$$\n",
    "$$\\newcommand{\\bra}[1]{\\left\\langle{#1}\\right|}$$\n",
    "$$\\newcommand{\\braket}[2]{\\left\\langle{#1}\\middle|{#2}\\right\\rangle}$$\n",
    "$$\\newcommand{\\adagger}[0]{\\hat{a}^{\\dagger}}$$\n",
    "$$\\newcommand{\\ahat}[0]{\\hat{a}}$$\n",
    "$$\\newcommand{\\bdagger}[0]{\\hat{b}^{\\dagger}}$$\n",
    "$$\\newcommand{\\bhat}[0]{\\hat{b}}$$\n",
    "$$\\newcommand{\\cdagger}[0]{\\hat{c}^{\\dagger}}$$\n",
    "$$\\newcommand{\\chat}[0]{\\hat{c}}$$\n",
    "$$\\newcommand{\\ddagger}[0]{\\hat{d}^{\\dagger}}$$\n",
    "$$\\newcommand{\\dhat}[0]{\\hat{d}}$$\n",
    "$$\\newcommand{\\edagger}[0]{\\hat{e}^{\\dagger}}$$\n",
    "$$\\newcommand{\\ehat}[0]{\\hat{e}}$$\n",
    "$$\\newcommand{\\fdagger}[0]{\\hat{f}^{\\dagger}}$$\n",
    "$$\\newcommand{\\fhat}[0]{\\hat{f}}$$\n",
    "$$\\newcommand{\\gdagger}[0]{\\hat{g}^{\\dagger}}$$\n",
    "$$\\newcommand{\\ghat}[0]{\\hat{g}}$$\n",
    "$$\\newcommand{\\hdagger}[0]{\\hat{h}^{\\dagger}}$$\n",
    "$$\\newcommand{\\hhat}[0]{\\hat{h}}$$"
   ]
  },
  {
   "cell_type": "markdown",
   "id": "bcdff4e6-8251-4c63-9061-40ac42497a11",
   "metadata": {
    "id": "bcdff4e6-8251-4c63-9061-40ac42497a11"
   },
   "source": [
    "# EXTRAS -- Rigorous Solution of Mach-Zender Interferometer\n",
    "\n",
    "In the course material for the discussion of single-photon interference and the interaction-free measurement, we took a shortcut to calculating the photon number expectation by ignoring the operators of the vacuum state inputs.  This simplifies the problem, but is not a rigorous solution.  A particular shortcoming is that this approach would give incorrect results for calculating the noise properties of the photon number at the detectors as in that case the vacuum state input does matter."
   ]
  },
  {
   "cell_type": "markdown",
   "id": "7512135c-c3e4-4321-a910-cf611ac16143",
   "metadata": {},
   "source": [
    "## Complete solution without an object"
   ]
  },
  {
   "cell_type": "markdown",
   "id": "7e565b2c-b448-4ba0-8d57-17cadfde85c5",
   "metadata": {},
   "source": [
    "The problem setup is the same, however now we must include all inputs, which slightly modifies our setup as shown in {numref}`fig-T3E1-single-photon-interferometer-complete`."
   ]
  },
  {
   "cell_type": "markdown",
   "id": "95870168-1f97-4c85-b7f5-60568d0ce45c",
   "metadata": {
    "tags": []
   },
   "source": [
    ":::{figure-md} fig-T3E1-single-photon-interferometer-complete\n",
    "<img src=\"FIGURES/T3E1-single-photon-interferometer-complete.png\" alt=\"Single Photon Interference\" class=\"bg-primary mb-1\" width=\"600px\">\n",
    "\n",
    "Considering all inputs and outputs for the complete description of the Mach-Zender interferometer.\n",
    ":::"
   ]
  },
  {
   "cell_type": "markdown",
   "id": "5cdf7934-0f9c-42f0-b61e-c91dd933ab9c",
   "metadata": {},
   "source": [
    "Now we can proceed to find the annihilation operators as before, but with all inputs included.  \n",
    "\n",
    "$$\\chat = \\frac{\\ahat + \\bhat}{\\sqrt{2}}$$\n",
    "\n",
    "and\n",
    "\n",
    "$$\\dhat = \\frac{\\ahat - \\bhat}{\\sqrt{2}}\\mathrm{.}$$\n",
    "\n",
    "We then account for propagation over paths $l_1$ and $l_2$ which lead to a phase shift of $\\phi_n = 2 \\pi l_n/\\lambda$.\n",
    "\n",
    "$$\\ehat = \\dhat e^{i\\phi_2}$$\n",
    "\n",
    "and\n",
    "\n",
    "$$\\fhat = \\chat e^{i\\phi_1}\\mathrm{.}$$\n",
    "\n",
    "From here, we account for the fact that at the second beamsplitter we have\n",
    "\n",
    "$$\\ghat = \\frac{\\ehat + \\fhat}{\\sqrt{2}}$$\n",
    "\n",
    "and\n",
    "\n",
    "$$\\hhat = \\frac{\\ehat - \\fhat}{\\sqrt{2}}\\mathrm{.}$$\n",
    "\n",
    "After substituting everything in we get the final expression for $\\ghat$:\n",
    "\n",
    "$$\\ghat = e^{i\\phi_2} e^{i\\Delta\\phi/2} \\bigg \\lbrace \\ahat \\cos(\\Delta\\phi/2)  + i \\bhat \\sin(\\Delta\\phi/2) \\bigg \\rbrace $$\n",
    "\n",
    "where $\\Delta \\phi = \\phi_1 - \\phi_2$, the phase difference between the two arms.\n",
    "\n",
    "Note that the number operator for $g$ is then:\n",
    "\n",
    "$$\\gdagger \\ghat = \\cos^2(\\Delta \\phi /2)\\adagger\\ahat + j\\adagger\\bhat \\cos(\\Delta\\phi/2)\\sin(\\Delta\\phi/2) - j\\bdagger\\ahat \\cos(\\Delta\\phi/2)\\sin(\\Delta\\phi/2) + \\bdagger\\bhat \\sin^2(\\Delta\\phi/2)  \\mathrm{.}$$\n",
    "\n",
    "Given our input state is $\\ket{1}_a \\ket{0}_b$, the photon number is then found by taking:\n",
    "\n",
    "$$N_g = \\bra{0}_b \\bra{1}_a \\gdagger \\ghat \\ket{1}_a \\ket{0}_b  = \\frac{1}{2} \\lbrace 1 + \\cos(\\Delta\\phi ) \\rbrace \\mathrm{.}$$\n",
    "\n",
    "Note that only the terms with $\\adagger \\ahat$ have a non-zero contribution -- this justifies our neglecting the vacuum-state inputs for calculation of the output photon number.\n",
    "\n",
    "However, it we emphasize that you must use this more complete treatment and account for the vacuum-state inputs to accurately predict the quantum noise in systems. For example, the standard deviation of the photon number depends on $\\hat{N}^2$ (see the note in {ref}`basics:mean-and-standard-deviation`), and the vacuum state inputs can contribute to the expectation $\\left < \\hat{N}^2 \\right >$.   As a further example, to see the importance of the vacuum state input in interferometry, please see the use of squeezed vacuum to reduce quantum noise as described in [](./T3E1-EXTRAS-interference-2-homodyne-detection.ipynb)."
   ]
  },
  {
   "cell_type": "markdown",
   "id": "cb84514c-63cf-43bd-8daf-d96445f3818a",
   "metadata": {},
   "source": [
    "## Accounting for the partial absorber\n",
    "\n",
    "For the partial absorber, again our treatment in the text was adequate for accounting for the outgoing photon number.  However, a rigorous solution requires accounting for the vacuum state here again.\n",
    "\n",
    "The partial absorber can in fact be modeled as a beamsplitter with adjustable transmission/reflection with one input being the vacuum state, the other being the input state, and one output going to a perfect absorber, and the other transmitting out.  See {numref}`fig-T3E1-partial-absorber-model`."
   ]
  },
  {
   "cell_type": "markdown",
   "id": "a29e855e-8347-4a2a-abf2-e3ba9b6e5974",
   "metadata": {
    "tags": []
   },
   "source": [
    ":::{figure-md} fig-T3E1-partial-absorber-model\n",
    "<img src=\"FIGURES/T3E1-partial-absorber-model.png\" alt=\"Partial Absorber Model\" class=\"bg-primary mb-1\" width=\"600px\">\n",
    "\n",
    "Model of a partial absorber using a beamsplitter to account for the vacuum state.\n",
    ":::"
   ]
  },
  {
   "cell_type": "markdown",
   "id": "4c33aa10-59f9-4eac-b409-b8125519eac2",
   "metadata": {},
   "source": [
    "This model accounts for the vacuum state properly.  Note here the beamsplitter is not a 50:50 beamsplitter to account for the adjustable transmission probability.  The input/output relations are similar, with:\n",
    "\n",
    "$$\\chat = \\frac{t\\ahat + r\\bhat}{\\sqrt{2}}$$\n",
    "\n",
    "and\n",
    "\n",
    "$$\\dhat = \\frac{r\\ahat - t\\bhat}{\\sqrt{2}}\\mathrm{.}$$\n",
    "\n",
    "From the derivation in the text, we have that $t = \\alpha$, and $r = \\sqrt{1 - \\alpha^2}$.  You can show that with this element in the Mach-Zender interferometer, the output photon number expectation is equivalent to what we derived, with the number of detected photons being\n",
    "\n",
    "$$N_d = \\frac{1}{4}\\lbrace 1 + t^2 + 2t\\cos(\\Delta \\phi)\\rbrace \\mathrm{.}$$\n",
    "\n",
    "However, as noted earlier, the impact of this absorbing object is to effectively couple in vacuum state which must be accounted for during analysis of the quantum noise limit of the interferometer."
   ]
  }
 ],
 "metadata": {
  "colab": {
   "collapsed_sections": [],
   "provenance": []
  },
  "jupytext": {
   "formats": "ipynb,markdown//md:myst"
  },
  "kernelspec": {
   "display_name": "Python 3 (ipykernel)",
   "language": "python",
   "name": "python3"
  },
  "language_info": {
   "codemirror_mode": {
    "name": "ipython",
    "version": 3
   },
   "file_extension": ".py",
   "mimetype": "text/x-python",
   "name": "python",
   "nbconvert_exporter": "python",
   "pygments_lexer": "ipython3",
   "version": "3.8.15"
  },
  "widgets": {
   "application/vnd.jupyter.widget-state+json": {
    "state": {},
    "version_major": 2,
    "version_minor": 0
   }
  }
 },
 "nbformat": 4,
 "nbformat_minor": 5
}
