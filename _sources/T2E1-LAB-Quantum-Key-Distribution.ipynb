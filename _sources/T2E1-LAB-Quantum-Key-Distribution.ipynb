{
 "cells": [
  {
   "cell_type": "markdown",
   "id": "cbe4a6fb",
   "metadata": {
    "id": "cbe4a6fb"
   },
   "source": [
    "# LAB -- Quantum Key Distribution Laboratory"
   ]
  },
  {
   "cell_type": "markdown",
   "id": "ebcf9aec",
   "metadata": {
    "id": "ebcf9aec"
   },
   "source": [
    "## Estimate the secret key rate you expect to see\n",
    "Ultimately, I want to know the secure key rate (SKR) of the system, ie how many secure bits per second Alice and Bob can generate. *Calculation time for error correction and privacy amplification don't affect the SKR*\n",
    "\n",
    "* How fast can Alice encode photons?\n",
    "* What's the loss between Alice's source and Bob's measurement? If Alice sends 1 photon, what's the probability Bob gets a click?\n",
    "* How good is Alice and Bob's equipment? ie if Alice sets her HWP to send a photon at $22.5^{\\circ}$, how correct is that? If Bob thinks he's measuring a photon with polarization $22.5^{\\circ}$, how often is he correct? \n",
    "* How much of the raw key gets lost through sifting, BER estimate, information reconciliation, and privacy amplification?\n",
    "\n",
    "\n",
    "### Evaluate Equipment\n",
    "\n",
    "1. Measure the efficiency of the APDs\n",
    " 1. Calibrate attenuators\n",
    " 2. Measure the power at a level the power meter can see\n",
    " 3. Attenuate the known power and measure singles.\n",
    " 4. Repeat measurement for all APDs.\n",
    " 5. Put information in a table\n",
    "2. Evaluate g2 to verify single photon source\n",
    " 1. Why do we care?   \n",
    " 1. See [HBT on QuTools](https://qutools.com/qued/qued-sample-experiments/sample-experiments-particle-nature-of-photons/)\n",
    "1. The HWP\n",
    " 1. How fast does it spin?\n",
    " 2. How well does it rotate the polarization?\n",
    "1. The PBS\n",
    " 1. How well does it eliminate the other polarization?\n",
    " 1. What is the loss?\n",
    " 1. How much leaks through?\n",
    " 1. Estimate how much that will contribute to loss and/or errors.\n",
    "\n",
    " "
   ]
  },
  {
   "cell_type": "markdown",
   "id": "c545b412",
   "metadata": {
    "id": "c545b412"
   },
   "source": [
    "## Verify mean number of photons\n",
    "\n",
    "### BB84's security is based on the no-cloning theorem\n",
    "The no-cloning theorem states that for a given quanta in a superposition of eigenstates, it's impossible to produce a perfect copy. See, eg [Wootters and Zurek 1982](\"https://www.nature.com/articles/299802a0\") or [Dieks 1982](\"https://www.sciencedirect.com/science/article/pii/0375960182900846?via%3Dihub\").\n",
    "\n",
    "Photon number splitting attack [Brassard, Lutkenhaus, Mor, Sanders 2000](\"https://doi.org/10.1103/PhysRevLett.85.1330\")\n",
    "\n",
    "Need to have single photon source - how to verify that?\n",
    "\n",
    "### Hanbury Brown Twiss\n",
    "*There will need to be something about this in the \"chapter\" on QKD. It'd be good to talk about how g2 can indicate different types of light*\n",
    "Need to measure the g2 of the source to verify it's single photon\n",
    " * Read the quTools-provided manual\n",
    " * Generate Python code to do the g2 measurement - need a code to do \"if idler clicks, then measure signal on 2 detectors, take coincidence. Let students troubleshoot\n",
    " * A cool extension would be setting up HBT with variable time delay and then doing the measurements with coherent light, the heralded SPDC, and thermal light and showing the differences"
   ]
  },
  {
   "cell_type": "code",
   "execution_count": 1,
   "id": "ac478fd5",
   "metadata": {
    "id": "ac478fd5"
   },
   "outputs": [],
   "source": [
    "# Pseudo code\n",
    "\n"
   ]
  },
  {
   "cell_type": "markdown",
   "id": "3ef0fae8",
   "metadata": {
    "id": "3ef0fae8"
   },
   "source": [
    "## Generate Raw Key\n",
    "1. Start with many photons per bit\n",
    "1. Generate all the bases at the beginning"
   ]
  },
  {
   "cell_type": "code",
   "execution_count": 2,
   "id": "d9b246fe",
   "metadata": {
    "colab": {
     "base_uri": "https://localhost:8080/"
    },
    "executionInfo": {
     "elapsed": 6,
     "status": "ok",
     "timestamp": 1672999639899,
     "user": {
      "displayName": "Dirk Englund",
      "userId": "13834429622441934993"
     },
     "user_tz": 300
    },
    "id": "d9b246fe",
    "outputId": "8a03ca8f-ad8d-4bc2-a86c-16e484c25a33"
   },
   "outputs": [
    {
     "name": "stdout",
     "output_type": "stream",
     "text": [
      "[22.5  0.   0.   0.  22.5 22.5  0.   0.  22.5  0. ]\n",
      "[ 0.   0.   0.  22.5  0.  22.5 22.5  0.   0.   0. ]\n"
     ]
    }
   ],
   "source": [
    "# Import necessary Libraries\n",
    "# Generate the basis for each bit from Alice and Bob\n",
    "\n",
    "import numpy as np\n",
    "import random\n",
    "import matplotlib.pyplot as plt\n",
    "\n",
    "LENGTH = 10;\n",
    "\n",
    "# Generate the random bases for Alice and Bob. Let 0 be HV and 1 be AD\n",
    "basis_Alice = random.choices([0,1],k = LENGTH)\n",
    "basis_Bob = random.choices([0,1],k = LENGTH)\n",
    "\n",
    "# Now set the correct values for Alice and Bob's rotation\n",
    "angles_Alice = np.zeros((LENGTH))\n",
    "angles_Bob = np.zeros((LENGTH))\n",
    "for x in range (LENGTH):\n",
    "    angles_Bob[x] = 22.5*basis_Bob[x]\n",
    "    angles_Alice[x] = 22.5*basis_Alice[x]\n",
    "print(angles_Bob)\n",
    "print(angles_Alice)"
   ]
  },
  {
   "cell_type": "code",
   "execution_count": 3,
   "id": "07a1b77a",
   "metadata": {
    "id": "07a1b77a"
   },
   "outputs": [],
   "source": [
    "# Place holder for actual data gathering\n",
    "\n",
    "# Send in the correct angles for the polarizer\n",
    "\n",
    "# Then read the data\n",
    "\n",
    "# Repeat\n"
   ]
  },
  {
   "cell_type": "markdown",
   "id": "3431a5b2",
   "metadata": {
    "id": "3431a5b2"
   },
   "source": [
    "## Sift the raw bits\n",
    "\n",
    "You need to check several things:\n",
    "   1. Did Bob get a click?\n",
    "   1. If yes, did he have the same basis as Alice?"
   ]
  },
  {
   "cell_type": "code",
   "execution_count": 4,
   "id": "365b436d",
   "metadata": {
    "id": "365b436d"
   },
   "outputs": [],
   "source": [
    "# Place holder for checking for Bob getting a click\n",
    "\n",
    "# For each transmitted bit: did bob get any clicks? Select only the bits where Bob got a click\n",
    "\n",
    "# If Bob got a click, tell us whether he got a 1 or a 0\n",
    "\n",
    "# Then check if Bob and Alice have same basis. If yes, hooray, add that bit to the key\n"
   ]
  },
  {
   "cell_type": "markdown",
   "id": "76932abb",
   "metadata": {
    "id": "76932abb"
   },
   "source": [
    "## Error Correction\n",
    "\n",
    "I found a description of Cascade Error Correction [here](https://cascade-python.readthedocs.io/en/latest/protocol.html).\n",
    "\n",
    "The below section uses a very simple one way Hamming code following the example in the section \"Error Correction for Quantum Key Distribution\" in Loepp and Wootters [book available online with MIT Library sign in](https://www.cambridge.org/core/books/abs/protecting-information/quantum-cryptography-revisited/8A88AA6C8C88E8A07E535FACEDE3C310)."
   ]
  },
  {
   "cell_type": "code",
   "execution_count": 5,
   "id": "eb6d6c15",
   "metadata": {
    "colab": {
     "base_uri": "https://localhost:8080/"
    },
    "executionInfo": {
     "elapsed": 128,
     "status": "ok",
     "timestamp": 1673002276230,
     "user": {
      "displayName": "Dirk Englund",
      "userId": "13834429622441934993"
     },
     "user_tz": 300
    },
    "id": "eb6d6c15",
    "outputId": "dca96e98-e911-4366-9ec0-eb9b1e56842c"
   },
   "outputs": [
    {
     "name": "stdout",
     "output_type": "stream",
     "text": [
      "0.08\n"
     ]
    }
   ],
   "source": [
    "# Estimate the q BER by revealing some of the bits.\n",
    "\n",
    "length_reveal = 100\n",
    "\n",
    "# errors = (bits_tx_sifted[0:length_reveal - 1] != bits_rx_sifted[0:length_reveal - 1]).astype(int)\n",
    "# errors_total = errors.sum()\n",
    "# BER = 1.0/length_reveal * errors.sum()\n",
    "\n",
    "Al_all = np.random.randint(low = 0, high = 2, size = (length_reveal+30,))\n",
    "\n",
    "# give Bob some errors for testing\n",
    "err_vec = np.random.choice(2,length_reveal+30,p=[0.9,0.1])\n",
    "Bob_all = Al_all ^ err_vec\n",
    "\n",
    "key_test = Al_all[0:length_reveal]\n",
    "Bob_test = Bob_all[0:length_reveal]\n",
    "BERest =  np.mean(key_test != Bob_test)\n",
    "print(BERest)\n",
    "\n",
    "# Discard those bits\n",
    "Al_all = Al_all[length_reveal:]\n",
    "Bob_all = Bob_all[length_reveal:]\n",
    "\n",
    "\n",
    "\n"
   ]
  },
  {
   "cell_type": "code",
   "execution_count": 6,
   "id": "93a12ee1",
   "metadata": {
    "id": "93a12ee1"
   },
   "outputs": [],
   "source": [
    "# Working out the Hamming Error matrix once\n",
    "\n",
    "n = 7\n",
    "k = np.log2(n+1).astype(int)\n",
    "\n",
    "H = np.array([[1,1,1,0,1,0,0],\n",
    "              [1,1,0,1,0,1,0],\n",
    "              [0,1,1,1,0,0,1]])\n",
    "\n",
    "# Define the error correction functions we'll need\n",
    "\n",
    "def errCor(err_mat,H,a,b,n):\n",
    "    # Multiply Alice's bits a by H\n",
    "    at = np.matrix.transpose(a)\n",
    "    Hat = np.matmul(H,at)\n",
    "    Hat = np.remainder(Hat,2)\n",
    "\n",
    "    # Multiply Bob's bits b by H\n",
    "    bt = np.matrix.transpose(b)\n",
    "    Hbt = np.matmul(H,bt)\n",
    "    Hbt = np.remainder(Hbt,2)\n",
    "    \n",
    "    # Find Hb - Ha = s \n",
    "    s = Hat ^ Hbt\n",
    "    sT = np.matrix.transpose(s)\n",
    "    \n",
    "    # s = He where e is the error vector.\n",
    "    # If we know s, we can find which row of the error matrix it matches\n",
    "    # Based on that, we know where the error is\n",
    "    x = np.where((err_mat==sT).all(axis=1))[0][0].astype(int)\n",
    "    err_vec = np.zeros((1,n))\n",
    "\n",
    "    if x < n: \n",
    "     err_vec[0,x] = 1\n",
    "     \n",
    "    ev = err_vec.astype(int)\n",
    "    ev = np.reshape(ev,(1,n))\n",
    "\n",
    "    \n",
    "    # Bob now has a corrected vector\n",
    "    # bc = binSub(b,err_vec)\n",
    "    bc = b ^ ev\n",
    "    return bc\n",
    "\n",
    "def makeErrMat(n,k,H):\n",
    "    err_mat = np.zeros((n+1,k))\n",
    "\n",
    "    for ii in range(n):\n",
    "        err_vec = np.zeros((n,1))\n",
    "        err_vec[ii] = 1\n",
    "        HeT = np.matmul(H,err_vec)\n",
    "        HeTT = np.matrix.transpose(HeT)\n",
    "        # print('err loc',err_vec)\n",
    "        # print('HeT', HeT)\n",
    "        err_mat[ii] = HeTT    \n",
    "\n",
    "    err_mat = err_mat.astype(int)\n",
    "    return err_mat\n",
    "\n",
    "err_mat = makeErrMat(n,k,H)"
   ]
  },
  {
   "cell_type": "code",
   "execution_count": 7,
   "id": "b447faf9",
   "metadata": {
    "colab": {
     "base_uri": "https://localhost:8080/"
    },
    "executionInfo": {
     "elapsed": 171,
     "status": "ok",
     "timestamp": 1673002283276,
     "user": {
      "displayName": "Dirk Englund",
      "userId": "13834429622441934993"
     },
     "user_tz": 300
    },
    "id": "b447faf9",
    "outputId": "0e95f909-5af4-47e6-d590-d3c19c710e36"
   },
   "outputs": [
    {
     "name": "stdout",
     "output_type": "stream",
     "text": [
      "0.0\n"
     ]
    }
   ],
   "source": [
    "# do error correction for each block\n",
    "\n",
    "# The following is an example script\n",
    "LL = 31\n",
    "\n",
    "Al_all = np.random.randint(low = 0, high = 2, size = (LL,))\n",
    "\n",
    "\n",
    "\n",
    "err_all = np.zeros((LL)).astype(int)\n",
    "err_all[3] = 1\n",
    "err_all[26] = 1\n",
    "err_all[18] = 1\n",
    "\n",
    "\n",
    "Bob_all = Al_all ^ err_all\n",
    "\n",
    "\n",
    "# We've skipped sifting for now\n",
    "sk = Bob_all.size\n",
    "\n",
    "cutoff =  sk % n # find key length modulo n\n",
    "\n",
    "# elimate the \"cut-off\" bits\n",
    "Bob = Bob_all[0:-cutoff]\n",
    "\n",
    "# reshape Alice and Bob's bits into a 2d matrix\n",
    "a = np.array([[1,0,0,0,1,1,1]])\n",
    "b = np.array([[1,0,0,0,1,1,0]])\n",
    "\n",
    "\n",
    "Bob = np.reshape(Bob,(-1,n))\n",
    "Al  = np.reshape(Al_all[0:-cutoff],(-1,n))\n",
    "Al[1,:] = a\n",
    "Bob[1,:] = b\n",
    "\n",
    "shape = np.shape(Al)\n",
    "Bob_corr = np.zeros((shape)).astype(int) #initialize matrix for Bob's error correction\n",
    "words = shape[0]\n",
    "\n",
    "for ii in range(words):\n",
    "    Al_word = Al[ii,:]\n",
    "    Bob_word = Bob[ii,:]\n",
    "    Bob_word_corr = errCor(err_mat, H, Al_word,Bob_word,n)\n",
    "    Bob_corr[ii,:] = Bob_word_corr\n",
    "    \n",
    "error = np.mean(Al != Bob_corr)\n",
    "print(error)\n"
   ]
  },
  {
   "cell_type": "markdown",
   "id": "594d176d",
   "metadata": {
    "id": "594d176d"
   },
   "source": [
    "## Privacy Amplification\n",
    "\n",
    "In this set-up, Eve isn't interacting with the optical set-up, so the only information she has is what Alice and Bob share via the classical channel. So, following pg 184 from the above book, we simply get rid of the last 3 bits of each of the 7-word chunks, and Eve will have no information about Alice and Bob's shared key."
   ]
  },
  {
   "cell_type": "code",
   "execution_count": 8,
   "id": "ba84b383",
   "metadata": {
    "id": "ba84b383"
   },
   "outputs": [],
   "source": [
    "# Take the giant matrix of error-correct keys, and just skip the last few columns (or rows)\n",
    "Bob_corr = Bob_corr[:,0:4]\n",
    "Al = Al[:,0:4]\n",
    "\n",
    "# Then reshape the key into one long string of bits\n",
    "Bob_key = np.reshape(Bob_corr,(1,-1))\n",
    "Al_key = np.reshape(Al,(1,-1))"
   ]
  },
  {
   "cell_type": "markdown",
   "id": "174fe77b",
   "metadata": {
    "id": "174fe77b"
   },
   "source": [
    "## With heralding\n",
    "Now change the data taking so that you only measure clicks within a time $\\Delta t$ of the herald."
   ]
  }
 ],
 "metadata": {
  "colab": {
   "provenance": []
  },
  "kernelspec": {
   "display_name": "Python 3 (ipykernel)",
   "language": "python",
   "name": "python3"
  },
  "language_info": {
   "codemirror_mode": {
    "name": "ipython",
    "version": 3
   },
   "file_extension": ".py",
   "mimetype": "text/x-python",
   "name": "python",
   "nbconvert_exporter": "python",
   "pygments_lexer": "ipython3",
   "version": "3.8.13"
  },
  "widgets": {
   "application/vnd.jupyter.widget-state+json": {
    "state": {},
    "version_major": 2,
    "version_minor": 0
   }
  }
 },
 "nbformat": 4,
 "nbformat_minor": 5
}
