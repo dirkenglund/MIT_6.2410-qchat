{
 "cells": [
  {
   "cell_type": "markdown",
   "id": "4a602f81",
   "metadata": {},
   "source": [
    "# LAB - Quantum Sensing with Solid State Spins\n",
    "\n",
    "In this lab, you will explore using RF electronics to probe the microwave cavities and coupling the cavities to NV centers in diamond to enable quantum magnetometry.\n",
    "\n",
    "Specific aims are:\n",
    "\n",
    "    1. Understand the optical setup\n",
    "    2. Characterize microwave cavities and Helmholtz coils\n",
    "    3. Simulate strong coupling between NV centers and the microwave resonator\n",
    "    4. Achieve strong coupling between NV centers and the microwave resonator\n",
    "    5. Improving the anti-crossing contrast "
   ]
  },
  {
   "cell_type": "markdown",
   "id": "cca63335",
   "metadata": {},
   "source": [
    "## Aim 0: Understand the optical setup"
   ]
  },
  {
   "cell_type": "markdown",
   "id": "d8d00d23",
   "metadata": {},
   "source": [
    "### Prelab\n",
    "\n",
    "In this lab, you will be using a home-built optical setup containing the following main components:\n",
    "\n",
    "- 3W 532nm free space laser (this is a class-4 laser requiring laser safety!)\n",
    "- magnetic shield\n",
    "- microwave cylindrical resonators\n",
    "- loop coupler\n",
    "- Helmholtz coils\n",
    "- diamond samples (~3mm x 3mm x 0.5mm) containing NV centers\n",
    "- cavity mount (PTFE disks)\n",
    "\n",
    "[INSERT PICTURE OF SETUP HERE and CAD file of the shield+cavity+diamond]\n",
    "\n",
    "Not shown in the picture of the setup are the electronics and the RF components needed to probe the microwave cavity. You will be tasked to put together the RF circuitry for running the experiment.\n"
   ]
  },
  {
   "cell_type": "markdown",
   "id": "894a45ba",
   "metadata": {},
   "source": [
    "## Aim 1: Characterize microwave cavities and Helmholtz coils"
   ]
  },
  {
   "cell_type": "markdown",
   "id": "0fbb9dd1",
   "metadata": {},
   "source": [
    "### Prelab\n"
   ]
  },
  {
   "cell_type": "markdown",
   "id": "d523796f",
   "metadata": {},
   "source": [
    "## Aim 2: Simulate strong coupling between NV centers and the microwave resonator"
   ]
  },
  {
   "cell_type": "markdown",
   "id": "8961b4b5",
   "metadata": {},
   "source": []
  },
  {
   "cell_type": "markdown",
   "id": "a72c8b42",
   "metadata": {},
   "source": [
    "## Aim 3: Achieve strong coupling between NV centers and the microwave resonator"
   ]
  },
  {
   "cell_type": "markdown",
   "id": "7c71aba3",
   "metadata": {},
   "source": []
  },
  {
   "cell_type": "markdown",
   "id": "18d4a25f",
   "metadata": {},
   "source": [
    "## Aim 4 (bonus): Improving the anti-crossing contrast"
   ]
  },
  {
   "cell_type": "markdown",
   "id": "3f88c823",
   "metadata": {},
   "source": []
  }
 ],
 "metadata": {
  "kernelspec": {
   "display_name": "Python 3 (ipykernel)",
   "language": "python",
   "name": "python3"
  },
  "language_info": {
   "codemirror_mode": {
    "name": "ipython",
    "version": 3
   },
   "file_extension": ".py",
   "mimetype": "text/x-python",
   "name": "python",
   "nbconvert_exporter": "python",
   "pygments_lexer": "ipython3",
   "version": "3.7.4"
  }
 },
 "nbformat": 4,
 "nbformat_minor": 5
}
