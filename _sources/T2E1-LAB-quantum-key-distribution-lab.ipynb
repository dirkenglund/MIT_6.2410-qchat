{
 "cells": [
  {
   "cell_type": "markdown",
   "metadata": {
    "id": "EVNI7zd9jkHU"
   },
   "source": [
    "# LAB -- Quantum Key Distribution \n",
    "\n",
    "\n",
    "* Pre-lab reading: Read the introduction to the quTools QED experiment [here](https://www.qutools.com/files/quED/quED-QKD-manual.pdf) \n",
    "\n",
    "\n"
   ]
  },
  {
   "cell_type": "markdown",
   "metadata": {
    "id": "FfiMsZuQk5MX"
   },
   "source": [
    "## Pre-lab exercises: \n",
    "\n",
    "Do the following exercises before the laboratory. \n",
    "\n",
    "\n",
    "\n",
    "\n",
    "\n",
    "\n"
   ]
  },
  {
   "cell_type": "markdown",
   "metadata": {
    "id": "lqunPqxLm5js"
   },
   "source": [
    "1. Understanding the physics of entangled photon generation by nonlinear optics. \n",
    "-- Review the physics of spontaneous parametric down conversion [here] (https://en.wikipedia.org/wiki/5D_optical_data_storage). -- solved exercise on entangled photon pairs produced by two type-1 SPDCs\n"
   ]
  },
  {
   "cell_type": "markdown",
   "metadata": {
    "id": "U2DOqCezm9gr"
   },
   "source": [
    "\n",
    "2. One-time-pad encryption exercise\n",
    "-solved exercise using jupyter interactive features.. go through text, cipher text, recovered text.. perhaps also include error correction\n",
    "\n"
   ]
  },
  {
   "cell_type": "markdown",
   "metadata": {
    "id": "i51PQZn3m-hp"
   },
   "source": [
    "3. Eve's dilemma\n",
    ".. Alice and Bob should estimate the error.. now let Eve perform measurements on some fraction x of channel uses.. from our jupyter interactive exercise, see how Eve's action changes the error rate.. and this should make clear that if the key size is smallish, then Eve's action can go undetected\n"
   ]
  },
  {
   "cell_type": "markdown",
   "metadata": {
    "id": "hGPGTejypK78"
   },
   "source": [
    "4. Run the pre-lab experiment (Thorlabs experiment)\n",
    "\n",
    "show how it works.. \n",
    "\n",
    ".. why is it not secure? "
   ]
  },
  {
   "cell_type": "markdown",
   "metadata": {
    "id": "VT4veK2VMXOj"
   },
   "source": [
    "## Laboratory Goals\n",
    "\n",
    "\n",
    "\n",
    "1.   Obtain raw key of length X.\n",
    "* How many photons do you have to send to get the raw key?\n",
    "* How does changing the loss between Alice and Bob affect that? (*Do we want them to add an attenuator to measure this?*)\n",
    "2.   Sift key\n",
    "* What is the fraction of sifted to raw?\n",
    "3. Error correction\n",
    "* What's the error rate before EC? How does this change with key length?\n",
    "* What's the highest efficieny of error code to get final BER < 1E-10?\n",
    "4. Privacy Amplification\n",
    "* What's the higheest efficiency you can achieve for privacy amplification?\n",
    "* What's the overall efficiency you were able to achieve from the distilled key? \n",
    "5. What about Eve?\n",
    "* How much did a passive Eve get in your experiment?\n",
    "* How would you build an experiment to measure that?\n",
    "* Now Eve has her own source. How can she get more information from the QKD setup.\n",
    "6. Overall SKR\n",
    "* What is the most time-consuming part of generating keys?\n",
    "* How would you speed that up?\n",
    "\n",
    "\n",
    "\n",
    "\n"
   ]
  },
  {
   "cell_type": "markdown",
   "metadata": {
    "colab": {
     "base_uri": "https://localhost:8080/",
     "height": 133
    },
    "executionInfo": {
     "elapsed": 4,
     "status": "error",
     "timestamp": 1671305446620,
     "user": {
      "displayName": "Dirk Englund",
      "userId": "13834429622441934993"
     },
     "user_tz": 300
    },
    "id": "c8zRvj_anrJg",
    "outputId": "9aeecac2-0ae9-47c5-b7e3-19caae9fa6a6"
   },
   "source": [
    " Laboratory goals\n",
    "\n",
    "\n",
    "1. Obtain raw key of length > \n",
    "2. Obtain sifted key\n",
    "2.1) what is the fraction of sifted key? ..\n",
    "\n",
    "3. Error Correction\n",
    "2.1) what's the erorr rate before and after error correction? [how does this depend on the key size N_K?]\n",
    "2.2) What's the highest efficiency of your erorr code that you can achieve for final error rate < 10^-10\n",
    "2.3) \n",
    "4. Privacy amplification\n",
    "4.1) what's the higheest efficiency you can achieve for privacy amplification?\n",
    "4.2) what's the overall efficiency you were able to achieve from the distilled key? \n",
    "\n",
    "* iterate hardware and algorithms to improve efficiencies \n",
    "\n",
    "* [how much can passive Eve get?]\n",
    "\n",
    "\n",
    "*'what are assumptions on Eve .. cycle through'\n",
    "\n",
    "finite key effects.. e\n",
    "\n"
   ]
  },
  {
   "cell_type": "code",
   "execution_count": null,
   "metadata": {
    "id": "U4LUbMqsMdvv"
   },
   "outputs": [],
   "source": []
  },
  {
   "cell_type": "markdown",
   "metadata": {
    "id": "Nh-ONJochvyE"
   },
   "source": []
  },
  {
   "cell_type": "markdown",
   "metadata": {
    "id": "YFfL6reFhoj-"
   },
   "source": [
    "**bold text**# Quantum Key Distribution Lab Instructions\n",
    "## Source\n",
    "\n",
    "1. How does the source work? How much do we want to go into SPDC and its relevant math and work? What are some resources we can share with them?\n",
    " * Type 0 vs 1 vs 2\n",
    " * Benefits of each\n",
    "2. What source do we use for QKD? Why?\n",
    "3. What other sources could we use?\n",
    "4. How do we know our source is producing the polarization-entangled pairs?\n",
    "5. How does changing the source change the QKD set-up?\n",
    "\n",
    "**Goals**\n",
    "1. Understand physics of entangled photon generation by nonlinear optics\n",
    "2. How do you choose which set-up to use?\n",
    "3. Solved exersize\n",
    "\n",
    "## Questions from Qu Tools (2.1.3 Didactic Material)\n",
    "\n",
    "1. Why do we set the pulse duration as low as possible?\n",
    "2. Find average photon number of 𝜆\n",
    "3. What problems does this measurement of photons have, especially at very short pulse durations? Properties of APD\n",
    "4. How would you measure that?\n",
    "\n",
    "## Pre-Lab\n",
    "\n",
    "1. Fill out the table on pages 16 and 17 with computer generated information, ie run a simulation of the lab\n",
    "2. Include something about Bob only having 1 APD and how the polarizer vs PBS affects SKR\n",
    "3. The simulation needs to include channel loss.\n",
    "  * The channel loss goes to Passive Eve. How much information does Passive Eve get?\n",
    "4. Now simulate Eve doing an intercept-and-send attack. How does that change the SKR?\n",
    "5. Some sort of basic error correction would be good. Do we want them to implement a simple algorithm themselves? Or can we hand them an algorithm already built?\n",
    "6. What happens when Bob and/or Alice aren't using truly random bases?\n",
    "  *See PSet (quiz?) from Jeff's class - that has this question worded well\n",
    "7. What happens if Eve buys the key from Bob? (The point is that ultimately, you can't account for human corruption)\n",
    "8. How much channel loss is associated with 10 km of fiber? 50 km? Plug that into your simulation and see how that affects SKR.\n",
    "\n",
    "- Solved exercise on 2 type\n",
    "\n",
    "## Lab\n",
    "\n",
    "    Create a SKR of length N\n",
    "    How many bits did Alice send? How many did Bob receive? How does that relate to N?\n",
    "    How many bits did you \"lose\" from error correction?\n",
    "\n",
    "Eve\n",
    "\n",
    "    How would you build Eve in this experiment?\n",
    "    How can you measure what Eve gets?\n",
    "\n",
    "Post Lab\n",
    "\n",
    "    It might be good to have something about simulating decoy state\n",
    "    What are the challenges with implementing QKD?\n",
    "    Why might PQC be a better route to secure communication?\n"
   ]
  }
 ],
 "metadata": {
  "colab": {
   "collapsed_sections": [
    "VT4veK2VMXOj"
   ],
   "provenance": []
  },
  "kernelspec": {
   "display_name": "Python 3 (ipykernel)",
   "language": "python",
   "name": "python3"
  },
  "language_info": {
   "codemirror_mode": {
    "name": "ipython",
    "version": 3
   },
   "file_extension": ".py",
   "mimetype": "text/x-python",
   "name": "python",
   "nbconvert_exporter": "python",
   "pygments_lexer": "ipython3",
   "version": "3.8.13"
  },
  "widgets": {
   "application/vnd.jupyter.widget-state+json": {
    "state": {},
    "version_major": 2,
    "version_minor": 0
   }
  }
 },
 "nbformat": 4,
 "nbformat_minor": 4
}
