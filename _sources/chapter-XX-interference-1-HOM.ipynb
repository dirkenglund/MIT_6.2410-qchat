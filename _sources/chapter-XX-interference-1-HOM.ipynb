{
 "cells": [
  {
   "cell_type": "markdown",
   "id": "b3e1bd53-dc31-489d-8245-33e73a31c1f8",
   "metadata": {
    "tags": [
     "remove-cell"
    ]
   },
   "source": [
    "# Latex Headers\n",
    "\n",
    "$$\\newcommand{\\ket}[1]{\\left|{#1}\\right\\rangle}$$\n",
    "$$\\newcommand{\\bra}[1]{\\left\\langle{#1}\\right|}$$\n",
    "$$\\newcommand{\\braket}[2]{\\left\\langle{#1}\\middle|{#2}\\right\\rangle}$$\n",
    "$$\\newcommand{\\adagger}[0]{\\hat{a}^{\\dagger}}$$\n",
    "$$\\newcommand{\\ahat}[0]{\\hat{a}}$$\n",
    "$$\\newcommand{\\bdagger}[0]{\\hat{b}^{\\dagger}}$$\n",
    "$$\\newcommand{\\bhat}[0]{\\hat{b}}$$\n",
    "$$\\newcommand{\\cdagger}[0]{\\hat{c}^{\\dagger}}$$\n",
    "$$\\newcommand{\\chat}[0]{\\hat{c}}$$\n",
    "$$\\newcommand{\\ddagger}[0]{\\hat{d}^{\\dagger}}$$\n",
    "$$\\newcommand{\\dhat}[0]{\\hat{d}}$$"
   ]
  },
  {
   "cell_type": "markdown",
   "id": "6ed56e87-9b66-4ca5-8295-fc5ca3e94e3b",
   "metadata": {
    "incorrectly_encoded_metadata": "tags=[\"remove-cell\"] jp-MarkdownHeadingCollapsed=true jp-MarkdownHeadingCollapsed=true tags=[] jp-MarkdownHeadingCollapsed=true",
    "tags": [
     "remove-cell"
    ]
   },
   "source": [
    "# Cell Width Adjust\n",
    "\n",
    " - Execute the code below to adjust the width of the cells when editing.  \n",
    " - These cells will not be published to the book and are for editing convenience."
   ]
  },
  {
   "cell_type": "code",
   "execution_count": 2,
   "id": "d066c0df-aa5c-47f7-997b-1ffce7287a16",
   "metadata": {
    "tags": [
     "remove-cell"
    ]
   },
   "outputs": [
    {
     "data": {
      "text/html": [
       "<style>.jp-CodeCell .jp-Cell-inputWrapper { width: 70% !important;  margin: 0 auto; }</style>"
      ],
      "text/plain": [
       "<IPython.core.display.HTML object>"
      ]
     },
     "metadata": {},
     "output_type": "display_data"
    },
    {
     "data": {
      "text/html": [
       "<style>.jp-MarkdownCell .jp-Cell-inputWrapper { width: 70% !important;  margin: 0 auto; }</style>"
      ],
      "text/plain": [
       "<IPython.core.display.HTML object>"
      ]
     },
     "metadata": {},
     "output_type": "display_data"
    },
    {
     "data": {
      "text/html": [
       "<style>.jp-Cell-outputWrapper { width: 70% !important;  margin: 0 auto; }</style>"
      ],
      "text/plain": [
       "<IPython.core.display.HTML object>"
      ]
     },
     "metadata": {},
     "output_type": "display_data"
    }
   ],
   "source": [
    "width = 70 #Width as a percentage of the screen\n",
    "\n",
    "from IPython.display import display, HTML\n",
    "display(HTML(\"<style>.jp-CodeCell .jp-Cell-inputWrapper { width: \"+str(width)+\"% !important;  margin: 0 auto; }</style>\"))\n",
    "display(HTML(\"<style>.jp-MarkdownCell .jp-Cell-inputWrapper { width: \"+str(width)+\"% !important;  margin: 0 auto; }</style>\"))\n",
    "display(HTML(\"<style>.jp-Cell-outputWrapper { width: \"+str(width)+\"% !important;  margin: 0 auto; }</style>\"))"
   ]
  },
  {
   "cell_type": "markdown",
   "id": "bcdff4e6-8251-4c63-9061-40ac42497a11",
   "metadata": {},
   "source": [
    "# Chapter XX -- Interference Part 1: Hong-Ou-Mandel Effect\n",
    "\n",
    "Many quantum engineering applications leverage the unique properties of quantum light and its interactions with basic optical elements.  For example, many applications will have multiple stages for splitting, propagating, and recombining/interfering photons before final detection.  For instance, a simplified optical implementation of quantum key distribution is shown in the figure below.\n",
    "\n",
    "**FIXME: Figure for QKD implementation**\n",
    "\n",
    "Before we can build to larger systems for more functional applications, it is important to understand how how to treat basic building blocks of quantum optical systems.  \n",
    "\n",
    "In this chapter and the next we will discuss interference phenomena in two parts.  In part 1 (this chapter), we examine entangled photon pair interference by way of the Hong-Ou-Mandel effect.  We will discuss how photons interact with beamsplitters, how to treat their interference, and signal processing methods such as coincidence detection.  \n",
    "\n",
    "In part 2 (the following chapter) we will explore the concept of homodyne detection where we leverage the interference between more general quantum states and coherent states to characterize quantum fields.  Building on this we will study how homodyne detection with squeezed light can be used to performe distance measurements with extremely high sensitivity.  Such techniques were in large part perfected for the detection of gravitational waves, but can be applied more generally for engineering applications at smaller scales."
   ]
  },
  {
   "cell_type": "markdown",
   "id": "4b595179-c2b9-4d45-819a-5c18c297dfe0",
   "metadata": {},
   "source": [
    "## Hong-Ou-Mandel Effect\n",
    "\n",
    "Imagine the scenario depicted in Fig. **FIXME: FIGURE**.  A nonlinear crystal is used to generate precisely two photons of energy $\\hbar\\omega$ when excited by a pulse with a photon energy of $2\\hbar\\omega$.  This process is called spontaneous parametric down-conversion and is a common technique for generating entangled photon pairs. \n",
    "\n",
    "The two photons travel away from the crystal along two paths (top and bottom as shown).  They are then brought together and interfere within a beamsplitter.  \n",
    "\n",
    ":::{figure-md} HOM-setup\n",
    "<img src=\"./FIGURES/HOM-setup.png\" alt=\"HOM-setup\" class=\"bg-primary mb-1\" width=\"800px\">\n",
    "\n",
    "Experimental setup for studying the HOM effect.  \n",
    ":::\n",
    "\n",
    "If we break down all the different possibilities that could happen, one would be that both photons output in $c$, another would be that both photons output in $d$, and a final possibility would be that one photon outputs to $c$ while the other outputs to $d$.   One interesting question to ask is whether the delay has any influence over these possibilities?  \n",
    "\n",
    "Lets model this system.  Imagine that the input signals are pulsed.  In this case we could for instance represent a single photon input with delay $\\tau$ in port $a$ as\n",
    "\n",
    "$$ \\ket{1; \\tau}_a, $$\n",
    "\n",
    "or a single photon input with $0$ delay in port $b$ as\n",
    "\n",
    "$$ \\ket{1; 0}_b.$$\n",
    "\n",
    "The first number represents the numer of photons, the second the delay.  Finally, the subscript represents the mode.  Given a two-photon input to the system from the crystal with delay along path $a$ of $\\tau$, the total input state can be written as\n",
    "\n",
    "$$\\ket{\\psi_\\text{in}} = \\ket{1; \\tau}_a\\ket{1; 0}_b = \\adagger_{\\tau}\\bdagger_0 \\ket{0}$$\n",
    "\n",
    "```{note} We have taken a little liberty here to assign creation and annihilation operators for each mode with their mode label.  It's just a bit of shorthand that is very common to make things easier to read if there are only a handful of modes to deal with.\n",
    "```\n",
    "\n",
    "A beamsplitter has the following relationship between the input and output modes:\n",
    "\n",
    "$$\\adagger_\\tau \\rightarrow \\frac{\\cdagger_\\tau + \\ddagger_\\tau}{\\sqrt{2}},$$\n",
    "\n",
    "and\n",
    "\n",
    "$$\\bhat_0 \\rightarrow \\frac{\\chat_0 - \\dhat_0}{\\sqrt{2}},$$\n",
    "\n",
    "thus, the output state becomes\n",
    "\n",
    "$$ \n",
    "\\ket{\\psi_\\text{out}} = \\frac{1}{2}\n",
    "\\bigg \\lbrace \n",
    "\\chat_\\tau \\chat - \\chat_\\tau \\dhat + \n",
    "\\dhat_\\tau \\chat - \\dhat_\\tau \\dhat\n",
    "\\bigg \\rbrace\n",
    "$$\n",
    "\n",
    "Let's start for the case of $\\tau \\neq 0$.  In this case we  have that\n",
    "\n",
    "$$\n",
    "\\ket{\\psi_\\text{out}} = \n",
    "\\frac{1}{2}\n",
    "\\bigg\\lbrace\n",
    "\\ket{1;\\tau}_c\\ket{1;0}_c - \n",
    "\\ket{1;\\tau}_c\\ket{1;0}_d + \n",
    "\\ket{1;0}_c\\ket{1;\\tau}_d -\n",
    "\\ket{1;\\tau}_d\\ket{1;0})_d\n",
    "\\bigg\\rbrace.\n",
    "$$\n",
    "\n",
    "Remember that probabilities of outcomes are related to $\\bra{\\psi_out}\\ket{\\psi_out}$, thus we can make the following map of outcomes at each detector.\n",
    "\n",
    ":::{figure-md} HOM-possibilities-w-tau\n",
    "<img src=\"./FIGURES/HOM-possibilities-w-tau.png\" alt=\"HOM-w-tau\" class=\"bg-primary mb-1\" width=\"500px\">\n",
    "\n",
    "Four different possibilities of detection in port c and d given a non-zero delay $\\tau$.  \n",
    ":::\n",
    "\n",
    "All possibilities we oultined above happen with equal probability. \n",
    "\n",
    "However, for $\\tau = 0$ we have something very interesting, and a bit unintuitive.  In this case we have\n",
    "\n",
    "$$\n",
    "\\ket{\\psi_\\text{out}} = \n",
    "\\frac{\\sqrt{2}}{2}\n",
    "\\bigg\\lbrace\n",
    "\\ket{2;0}_c -\n",
    "\\ket{2;0}_d\n",
    "\\bigg\\rbrace\n",
    "$$\n",
    "\n",
    "leading to the following map of outcomes at each detector.\n",
    "\n",
    ":::{figure-md} HOM-possibilities-wo-tau\n",
    "<img src=\"./FIGURES/HOM-possibilities-wo-tau.png\" alt=\"HOM-w-tau\" class=\"bg-primary mb-1\" width=\"500px\">\n",
    "\n",
    "Two different possibilities of detection in port c and d given a zero delay $\\tau$ such that the two photons are indistinguishable in every way at the beamsplitter.  Note each pulse now contains two photons, and the probability of each occurance is $1/2$.  \n",
    ":::\n",
    "\n",
    "In this case **there would be no coincidence events** (that is, events that would trigger an output on both detectors).  Either both photons go to $c$ or both to $d$ with equal probability.  This is in comparison to the case when the modes were fully separate in time when the coincidence rate is 50%.  \n",
    "\n",
    "```{important}\n",
    "We want to emphasize here that we have taken a few liberties with the notation above.  The approach  used here works in estimating probabilities for the two cases discussed, assuming (1) that each photon pulse is long relative to the central frequency; (2) that the envelope shape and central frequency of each pulse is the same; and (3) that for the delayed case the photons are so far separated in time that there is no overlap between each photon pulse at the input of the beamsplitter. For these cases the states are either perfectly indistinguishible or distinguishable.  A more complete model would actually have to expand each input into the frequency domain and model the interference between each spectral component individually.  However this approach is much more involved.  In the end, both approaches result in the same predictions as discussed above.  \n",
    "```"
   ]
  }
 ],
 "metadata": {
  "jupytext": {
   "formats": "ipynb,markdown//md:myst"
  },
  "kernelspec": {
   "display_name": "Python 3 (ipykernel)",
   "language": "python",
   "name": "python3"
  },
  "language_info": {
   "codemirror_mode": {
    "name": "ipython",
    "version": 3
   },
   "file_extension": ".py",
   "mimetype": "text/x-python",
   "name": "python",
   "nbconvert_exporter": "python",
   "pygments_lexer": "ipython3",
   "version": "3.8.12"
  },
  "widgets": {
   "application/vnd.jupyter.widget-state+json": {
    "state": {},
    "version_major": 2,
    "version_minor": 0
   }
  }
 },
 "nbformat": 4,
 "nbformat_minor": 5
}
