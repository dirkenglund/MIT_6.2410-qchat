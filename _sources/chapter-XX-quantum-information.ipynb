{
 "cells": [
  {
   "cell_type": "raw",
   "metadata": {
    "tags": [
     "hide_cell"
    ]
   },
   "source": [
    "$$\\newcommand{\\ket}[1]{\\left|{#1}\\right\\rangle}$$\n",
    "$$\\newcommand{\\bra}[1]{\\left\\langle{#1}\\right|}$$\n",
    "$$\\newcommand{\\braket}[2]{\\left\\langle{#1}\\middle|{#2}\\right\\rangle}$$"
   ]
  },
  {
   "cell_type": "markdown",
   "metadata": {
    "heading_collapsed": "true",
    "id": "55qduxZ8l2fY"
   },
   "source": [
    "# Chapter XX -- Quantum Information"
   ]
  },
  {
   "cell_type": "markdown",
   "metadata": {
    "id": "ilvV0lw4l2fc"
   },
   "source": [
    "In this chapter we will discuss core concepts in quantum information.  Core principles are explained through the lens of photonic implementations of quantum infromation as this will be how we explore these concepts in the laboratory for this course.  However, you should note that these concepts extend to any quantum information system.  \n",
    "\n",
    "This recitation will specifically cover the following topics:\n",
    "\n",
    "1. Quantum Bits (qubits)\n",
    "2. Quantum Gates\n",
    "3. Quantum Teleportation\n",
    "4. Quantum Error Correction\n",
    "5. Quantum Cryptography\n",
    "6. Quantum Key Distribution"
   ]
  },
  {
   "cell_type": "markdown",
   "metadata": {
    "id": "9U26-exml2fd",
    "tags": []
   },
   "source": [
    "## Packages, Functions and Variables"
   ]
  },
  {
   "cell_type": "markdown",
   "metadata": {
    "id": "cioJxZhG0JnR"
   },
   "source": [
    "The following code-block contains the packages, functions and variables needed for the code found later in this notebook.  It must be run first.  Note that if you are running this on your personal computer, you should ensure that all packages needed are installed first (for example the [numpy](https://numpy.org/), [scipy](https://scipy.org/), and [matplotlib](https://matplotlib.org/) packages must be installed on your computer along with others).  You can find a launcher link at the top to conveniently run this notebook in Google Colab.  \n",
    "\n",
    "The code below is hidden by default, but you are encouraged to expand it and study it.  The functions and constants will update as needed during the progression of the course, so you should note what new functions have been and added and study how they work.  "
   ]
  },
  {
   "cell_type": "code",
   "execution_count": 14,
   "metadata": {
    "executionInfo": {
     "elapsed": 345,
     "status": "ok",
     "timestamp": 1644857548679,
     "user": {
      "displayName": "Donnie Keathley",
      "photoUrl": "https://lh3.googleusercontent.com/a/default-user=s64",
      "userId": "12999748697637083576"
     },
     "user_tz": 300
    },
    "id": "AbXJZeivl2fd",
    "tags": [
     "hide_cell"
    ]
   },
   "outputs": [],
   "source": [
    "import numpy as np\n",
    "import matplotlib.pyplot as plt\n",
    "import ipywidgets\n",
    "import h5py\n",
    "from scipy import signal\n",
    "from scipy.interpolate import UnivariateSpline \n",
    "\n",
    "# Import the matplotlib animation tools\n",
    "# as well as the html tools for creating\n",
    "# javascript animations\n",
    "from matplotlib import animation, rc\n",
    "from IPython.display import HTML\n",
    "\n",
    "#-- Export Settings --\n",
    "# If on, then it applies a few tweaks to make sure the export looks good\n",
    "want_export=False\n",
    "\n",
    "#--Physical Constants--\n",
    "hbar = 1.054e-34 #normalized Planck constant [J*s]\n",
    "evcon = 1.602e-19 #conversion factor, [J/eV]\n",
    "eta = 119.91699832*np.pi #impedance of freespace [ohms]\n",
    "me = 9.10938188e-31 #mass of electron [kg]\n",
    "c = 2.99792458e8 #speed of light [m/s]\n",
    "e = 1.602e-19 #electron charge [C]"
   ]
  },
  {
   "cell_type": "markdown",
   "metadata": {},
   "source": [
    "## XX.1 Quantum Bits (qubits)"
   ]
  },
  {
   "cell_type": "markdown",
   "metadata": {},
   "source": [
    "Analogous to the bit, the fundamental unit of information of classical computers, a quantum bit (qubit)\n",
    "corresponds to a two level system. However, the qubit can have both values at the same time:\n",
    "\n",
    "\\begin{equation}\n",
    "\\ket{\\psi} = c_0 \\ket{0} + c_1 \\ket{1} \n",
    "\\end{equation}\n",
    "\n",
    "where $c_i$ are complex numbers and $\\sum_i c_i^2 = 1$. Physically, this state could be represented by the polarization\n",
    "of a photon in a particular basis (e.g., linear or circular), the population of a photon in a particular mode, or the spin orientation of a spin-1/2 particle such as an electron or spin-1/2 nucleus.  "
   ]
  },
  {
   "cell_type": "markdown",
   "metadata": {},
   "source": [
    "### System Settings\n",
    "\n",
    "Interactive script for easily inputting all desired settings for the actively mode-locked cavity.  All variable names derived from the related equations introduced above. "
   ]
  }
 ],
 "metadata": {
  "colab": {
   "collapsed_sections": [],
   "name": "recitation_4.ipynb",
   "provenance": []
  },
  "kernelspec": {
   "display_name": "Python 3 (ipykernel)",
   "language": "python",
   "name": "python3"
  },
  "language_info": {
   "codemirror_mode": {
    "name": "ipython",
    "version": 3
   },
   "file_extension": ".py",
   "mimetype": "text/x-python",
   "name": "python",
   "nbconvert_exporter": "python",
   "pygments_lexer": "ipython3",
   "version": "3.8.12"
  },
  "widgets": {
   "application/vnd.jupyter.widget-state+json": {
    "state": {},
    "version_major": 2,
    "version_minor": 0
   }
  }
 },
 "nbformat": 4,
 "nbformat_minor": 4
}
