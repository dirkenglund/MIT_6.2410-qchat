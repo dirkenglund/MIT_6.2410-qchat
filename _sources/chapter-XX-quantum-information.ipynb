{
 "cells": [
  {
   "cell_type": "raw",
   "metadata": {
    "tags": [
     "hide_cell"
    ]
   },
   "source": [
    "Latex Headers\n",
    "\n",
    "$$\\newcommand{\\ket}[1]{\\left|{#1}\\right\\rangle}$$\n",
    "$$\\newcommand{\\bra}[1]{\\left\\langle{#1}\\right|}$$\n",
    "$$\\newcommand{\\braket}[2]{\\left\\langle{#1}\\middle|{#2}\\right\\rangle}$$"
   ]
  },
  {
   "cell_type": "markdown",
   "metadata": {
    "heading_collapsed": "true",
    "id": "55qduxZ8l2fY"
   },
   "source": [
    "# Chapter XX -- Quantum Information"
   ]
  },
  {
   "cell_type": "markdown",
   "metadata": {
    "id": "ilvV0lw4l2fc"
   },
   "source": [
    "In this chapter we will discuss core concepts in quantum information.  Core principles are explained through the lens of photonic implementations of quantum infromation as this will be how we explore these concepts in the laboratory for this course.  However, you should note that these concepts extend to any quantum information system.  \n",
    "\n",
    "This recitation will specifically cover the following topics:\n",
    "\n",
    "1. Quantum Bits (qubits)\n",
    "2. Quantum Gates\n",
    "3. Quantum Teleportation\n",
    "4. Quantum Error Correction\n",
    "5. Quantum Cryptography\n",
    "6. Quantum Key Distribution"
   ]
  },
  {
   "cell_type": "markdown",
   "metadata": {
    "id": "9U26-exml2fd",
    "tags": []
   },
   "source": [
    "## Packages, Functions and Variables"
   ]
  },
  {
   "cell_type": "markdown",
   "metadata": {
    "id": "cioJxZhG0JnR"
   },
   "source": [
    "The following code-block contains the packages, functions and variables needed for the code found later in this notebook.  It must be run first.  Note that if you are running this on your personal computer, you should ensure that all packages needed are installed first (for example the [numpy](https://numpy.org/), [scipy](https://scipy.org/), and [matplotlib](https://matplotlib.org/) packages must be installed on your computer along with others).  You can find a launcher link at the top to conveniently run this notebook in Google Colab.  \n",
    "\n",
    "The code below is hidden by default, but you are encouraged to expand it and study it.  The functions and constants will update as needed during the progression of the course, so you should note what new functions have been and added and study how they work.  "
   ]
  },
  {
   "cell_type": "code",
   "execution_count": 14,
   "metadata": {
    "executionInfo": {
     "elapsed": 345,
     "status": "ok",
     "timestamp": 1644857548679,
     "user": {
      "displayName": "Donnie Keathley",
      "photoUrl": "https://lh3.googleusercontent.com/a/default-user=s64",
      "userId": "12999748697637083576"
     },
     "user_tz": 300
    },
    "id": "AbXJZeivl2fd",
    "tags": [
     "hide_cell"
    ]
   },
   "outputs": [],
   "source": [
    "import numpy as np\n",
    "import matplotlib.pyplot as plt\n",
    "import ipywidgets\n",
    "import h5py\n",
    "from scipy import signal\n",
    "from scipy.interpolate import UnivariateSpline \n",
    "\n",
    "# Import the matplotlib animation tools\n",
    "# as well as the html tools for creating\n",
    "# javascript animations\n",
    "from matplotlib import animation, rc\n",
    "from IPython.display import HTML\n",
    "\n",
    "#-- Export Settings --\n",
    "# If on, then it applies a few tweaks to make sure the export looks good\n",
    "want_export=False\n",
    "\n",
    "#--Physical Constants--\n",
    "hbar = 1.054e-34 #normalized Planck constant [J*s]\n",
    "evcon = 1.602e-19 #conversion factor, [J/eV]\n",
    "eta = 119.91699832*np.pi #impedance of freespace [ohms]\n",
    "me = 9.10938188e-31 #mass of electron [kg]\n",
    "c = 2.99792458e8 #speed of light [m/s]\n",
    "e = 1.602e-19 #electron charge [C]"
   ]
  },
  {
   "cell_type": "markdown",
   "metadata": {},
   "source": [
    "## XX.1 Quantum Bits (qubits)"
   ]
  },
  {
   "cell_type": "markdown",
   "metadata": {},
   "source": [
    "Analogous to the bit, the fundamental unit of information of classical computers, a quantum bit (qubit)\n",
    "corresponds to a two level system. However, the qubit can have both values at the same time:\n",
    "\n",
    "$\\begin{equation}\n",
    "\\ket{\\psi} = c_0 \\ket{0} + c_1 \\ket{1} \n",
    "\\end{equation}$\n",
    "\n",
    "where $c_i$ are complex numbers and $\\sum_i c_i^2 = 1$. Physically, this state could be represented by the polarization\n",
    "of a photon in a particular basis (e.g., linear or circular), the population of a photon in a particular mode, or the spin orientation of a spin-1/2 particle such as an electron or spin-1/2 nucleus.\n",
    "\n",
    "Now let's consider two classical bits, which have four possible states: \n",
    "\n",
    "$\\begin{equation} \\lbrace 00, 01, 10, 11 \\rbrace \\end{equation}$\n",
    "\n",
    "The quantum register consisting of two qubits is again in all four possible states at once:\n",
    "\n",
    "$\\begin{equation} \\ket{\\psi}  = c_{00}\\ket{00} + c_{01}\\ket{01} + c_{10}\\ket{10} + c_{11}\\ket{11} \\end{equation}$\n",
    "\n",
    "This simple example already shows one of the fundamental differences -- and potential strengths -- of the quantum register: it is in all states at once.  \n",
    "\n",
    "For instance, suppose we wanted to represent the state of $N$ two-level particles, such as the polarization states of photons or the orientation of electron spins. This would us to store $2^N$ complex numbers, i.e., $2^{N+1}$ real numbers. Suppose each real number were stored in a 32-bit classical register. Then we'd need $32\\times2^{N+1}$ bits. If $N=50$, that's already 4500 tera-bytes, and if $N=500$, we would require more bits than there are atoms in the universe (double-check!).  In a quantum computer, a register of 500 qubits would suffice! Thus, we already see that for certain applications -- like trying to simulate a quantum system -- the quantum memory is exponentially more powerful than a classical memory. The idea of using a quantum system for simulating a classical system was proposed by Richard Feynman in the early eighties, and is called quantum simulation. \n",
    "\n",
    "Going back to our two-level system, an important set of state are the Bell states:\n",
    "\n",
    "$\\begin{equation} \\bigg \\lbrace \\frac{1}{\\sqrt{2}} \\big ( \\ket{00} \\pm \\ket{11} \\big ), \\frac{1}{\\sqrt{2}} \\big (\\ket{10} \\pm \\ket{01} \\big ) \\bigg \\rbrace \\end{equation}$\n",
    "\n",
    "These are maximally entangled states. Let's consider one of these in more detail, say:\n",
    "\n",
    "$\\begin{equation} \\ket{\\beta_{00}} = \\frac{1}{\\sqrt{2}} \\big ( \\ket{00} + \\ket{11} \\big ) \\end{equation}$\n",
    "\n",
    "If we measure the first qubit, we obtain either '0' or '1' with equal probability. If we measure '1', then the state is projected to $\\ket{\\psi} = \\ket{11}$; if we measure '0', then the state is projected to $\\ket{\\psi} = \\ket{00}$. The measurement outcomes are correlated, even though the two qubits could be a different locations. "
   ]
  },
  {
   "cell_type": "markdown",
   "metadata": {},
   "source": [
    "### XX.1.1 Quantum Gates"
   ]
  },
  {
   "cell_type": "markdown",
   "metadata": {},
   "source": [
    "#### Single Qubit Gates"
   ]
  },
  {
   "cell_type": "markdown",
   "metadata": {},
   "source": [
    "1. NOT Gate\n",
    "\n",
    "   $X = \\ket{1} \\bra{0} + \\ket{0}\\bra{1}$\n",
    " \n",
    "   $X\\ket{\\psi} = X(c_0 \\ket{0} + c_1 \\ket{1}) = c_0 \\ket{1} + c_1 \\ket{0}$\n",
    "   \n",
    "   Photonic implementation: e.g., a half wave plate (HWP) at 45 degrees to the linear polarization basis.  Recall the Jones matrix for a HWP:\n",
    "   \n",
    "   $\\begin{equation}\n",
    "   M_{\\text{HWP}} = \n",
    "   \\begin{pmatrix}\n",
    "    \\cos{2\\theta} & \\sin{2\\theta} \\\\\n",
    "    \\sin{2\\theta} & -\\cos{2\\theta}\n",
    "   \\end{pmatrix}\n",
    "   \\end{equation}$\n",
    "   \n",
    "2. Z Gate\n",
    "\n",
    "   $Z = \\ket{0} \\bra{0} - \\ket{1}\\bra{1}$\n",
    "   \n",
    "   $Z\\ket{\\psi} = Z(c_0 \\ket{0} + c_1 \\ket{1}) = c_0 \\ket{0} - c_1 \\ket{1}$\n",
    "   \n",
    "   Photonic implementation: e.g., a HWP with $\\theta = 0$.\n",
    "   \n",
    "3. Hadamard Gate\n",
    "\n",
    "   The purpose of this gate is to transform from the input basis to the complimentary basis.  In terms of a polarization basis, it would be essentially a rotation by 45 degrees.  \n",
    "\n",
    "   $H = \\ket{0} \\bra{0} + \\ket{1}\\bra{0} + \\ket{0}\\bra{1} - \\ket{1}\\bra{1}$\n",
    "   \n",
    "   $H\\ket{\\psi} = H(c_0 \\ket{0} + c_1 \\ket{1}) = \\frac{1}{\\sqrt{2}} \\big ( c_0 \\ket{0} + c_0 \\ket{1} + c_1\\ket{0} - c_1\\ket{1} \\big )$\n",
    "   \n",
    "   $\\begin{equation}\n",
    "   M_{\\text{H}} = \n",
    "   \\frac{1}{\\sqrt{2}} \n",
    "   \\begin{pmatrix}\n",
    "    1 & 1 \\\\\n",
    "    1 & -1\n",
    "   \\end{pmatrix}\n",
    "   \\end{equation}$\n",
    "   \n",
    "   Photonic implementation: for polarization states, a HWP at $\\theta = 22.5^{\\circ}$; for mode basis states, a beamsplitter.  \n",
    "\n"
   ]
  },
  {
   "cell_type": "markdown",
   "metadata": {},
   "source": [
    "#### Two Qubit Gates"
   ]
  },
  {
   "cell_type": "markdown",
   "metadata": {},
   "source": [
    "### System Settings\n",
    "\n",
    "Interactive script for easily inputting all desired settings for the actively mode-locked cavity.  All variable names derived from the related equations introduced above. "
   ]
  }
 ],
 "metadata": {
  "colab": {
   "collapsed_sections": [],
   "name": "recitation_4.ipynb",
   "provenance": []
  },
  "kernelspec": {
   "display_name": "Python 3 (ipykernel)",
   "language": "python",
   "name": "python3"
  },
  "language_info": {
   "codemirror_mode": {
    "name": "ipython",
    "version": 3
   },
   "file_extension": ".py",
   "mimetype": "text/x-python",
   "name": "python",
   "nbconvert_exporter": "python",
   "pygments_lexer": "ipython3",
   "version": "3.8.12"
  },
  "widgets": {
   "application/vnd.jupyter.widget-state+json": {
    "state": {},
    "version_major": 2,
    "version_minor": 0
   }
  }
 },
 "nbformat": 4,
 "nbformat_minor": 4
}
