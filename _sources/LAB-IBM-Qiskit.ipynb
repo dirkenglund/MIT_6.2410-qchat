{
 "cells": [
  {
   "cell_type": "markdown",
   "id": "481ec29d",
   "metadata": {},
   "source": [
    "*The following Qiskit exercises are adapted from the official IBM Qiskit textbook."
   ]
  },
  {
   "cell_type": "markdown",
   "id": "88bf6224-c6e3-4f09-825b-feb92c15dab6",
   "metadata": {},
   "source": [
    "# LAB: Quantum Computing w/ Qiskit"
   ]
  },
  {
   "cell_type": "markdown",
   "id": "ad44c0a5",
   "metadata": {},
   "source": [
    "## Part 1: Quantum Circuits"
   ]
  },
  {
   "cell_type": "markdown",
   "id": "9fe53fc1",
   "metadata": {},
   "source": [
    "Prerequisite\n",
    "- [Qiskit basics](https://qiskit.org/documentation/tutorials/circuits/1_getting_started_with_qiskit.html)\n",
    "- [Ch.1.2 The Atoms of Computation](https://qiskit.org/textbook/ch-states/atoms-computation.html)\n",
    "\n",
    "Other relevant materials\n",
    "- [Access IBM Quantum Systems](https://qiskit.org/documentation/install.html#access-ibm-quantum-systems)\n",
    "- [IBM Quantum Systems Configuration](https://quantum-computing.ibm.com/docs/manage/backends/configuration)\n",
    "- [Transpile](https://qiskit.org/documentation/apidoc/transpiler.html)\n",
    "- [IBM Quantum account](https://quantum-computing.ibm.com/docs/manage/account/ibmq)\n",
    "- [Quantum Circuits](https://qiskit.org/documentation/apidoc/circuit.html)  "
   ]
  },
  {
   "cell_type": "code",
   "execution_count": 1,
   "id": "b8326b72",
   "metadata": {},
   "outputs": [],
   "source": [
    "from qiskit import *\n",
    "from qiskit.visualization import plot_histogram\n",
    "import numpy as np"
   ]
  },
  {
   "cell_type": "markdown",
   "id": "99c0900f",
   "metadata": {},
   "source": [
    "<h2 style=\"font-size:24px;\">Classical logic gates with quantum circuits</h2>\n",
    "\n",
    "<br>\n",
    "<div style=\"background: #E8E7EB; border-radius: 5px;\n",
    "-moz-border-radius: 5px;\">\n",
    "  <p style=\"background: #800080;\n",
    "            border-radius: 5px 5px 0px 0px;\n",
    "            padding: 10px 0px 10px 10px;\n",
    "            font-size:18px;\n",
    "            color:white;\n",
    "            \"><b>Goal</b></p>\n",
    "    <p style=\" padding: 0px 0px 10px 10px;\n",
    "              font-size:16px;\">Create quantum circuit functions that can compute the XOR, AND, NAND and OR gates using the NOT gate (expressed as x in Qiskit), the CNOT gate (expressed as cx in Qiskit) and the Toffoli gate (expressed as ccx in Qiskit) .</p>\n",
    "</div>\n",
    "\n",
    "An implementation of the `NOT` gate is provided as an example."
   ]
  },
  {
   "cell_type": "code",
   "execution_count": 2,
   "id": "24b8cff5",
   "metadata": {},
   "outputs": [],
   "source": [
    "def NOT(inp):\n",
    "    \"\"\"An NOT gate.\n",
    "    \n",
    "    Parameters:\n",
    "        inp (str): Input, encoded in qubit 0.\n",
    "        \n",
    "    Returns:\n",
    "        QuantumCircuit: Output NOT circuit.\n",
    "        str: Output value measured from qubit 0.\n",
    "    \"\"\"\n",
    "\n",
    "    qc = QuantumCircuit(1, 1) # A quantum circuit with a single qubit and a single classical bit\n",
    "    qc.reset(0)\n",
    "    \n",
    "    # We encode '0' as the qubit state |0⟩, and '1' as |1⟩\n",
    "    # Since the qubit is initially |0⟩, we don't need to do anything for an input of '0'\n",
    "    # For an input of '1', we do an x to rotate the |0⟩ to |1⟩\n",
    "    if inp=='1':\n",
    "        qc.x(0)\n",
    "        \n",
    "    # barrier between input state and gate operation \n",
    "    qc.barrier()\n",
    "    \n",
    "    # Now we've encoded the input, we can do a NOT on it using x\n",
    "    qc.x(0)\n",
    "    \n",
    "    #barrier between gate operation and measurement\n",
    "    qc.barrier()\n",
    "    \n",
    "    # Finally, we extract the |0⟩/|1⟩ output of the qubit and encode it in the bit c[0]\n",
    "    qc.measure(0,0)\n",
    "    qc.draw('mpl')\n",
    "    \n",
    "    # We'll run the program on a simulator\n",
    "    backend = Aer.get_backend('aer_simulator')\n",
    "    # Since the output will be deterministic, we can use just a single shot to get it\n",
    "    job = backend.run(qc, shots=1, memory=True)\n",
    "    output = job.result().get_memory()[0]\n",
    "    \n",
    "    return qc, output"
   ]
  },
  {
   "cell_type": "code",
   "execution_count": 3,
   "id": "c3506c19",
   "metadata": {},
   "outputs": [
    {
     "name": "stdout",
     "output_type": "stream",
     "text": [
      "NOT with input 0 gives output 1\n"
     ]
    },
    {
     "data": {
      "text/html": [
       "<pre style=\"word-wrap: normal;white-space: pre;background: #fff0;line-height: 1.1;font-family: &quot;Courier New&quot;,Courier,monospace\">           ░ ┌───┐ ░ ┌─┐\n",
       "  q: ─|0>──░─┤ X ├─░─┤M├\n",
       "           ░ └───┘ ░ └╥┘\n",
       "c: 1/═════════════════╩═\n",
       "                      0 </pre>"
      ],
      "text/plain": [
       "           ░ ┌───┐ ░ ┌─┐\n",
       "  q: ─|0>──░─┤ X ├─░─┤M├\n",
       "           ░ └───┘ ░ └╥┘\n",
       "c: 1/═════════════════╩═\n",
       "                      0 "
      ]
     },
     "metadata": {},
     "output_type": "display_data"
    },
    {
     "name": "stdout",
     "output_type": "stream",
     "text": [
      "\n",
      "\n",
      "NOT with input 1 gives output 0\n"
     ]
    },
    {
     "data": {
      "text/html": [
       "<pre style=\"word-wrap: normal;white-space: pre;background: #fff0;line-height: 1.1;font-family: &quot;Courier New&quot;,Courier,monospace\">          ┌───┐ ░ ┌───┐ ░ ┌─┐\n",
       "  q: ─|0>─┤ X ├─░─┤ X ├─░─┤M├\n",
       "          └───┘ ░ └───┘ ░ └╥┘\n",
       "c: 1/══════════════════════╩═\n",
       "                           0 </pre>"
      ],
      "text/plain": [
       "          ┌───┐ ░ ┌───┐ ░ ┌─┐\n",
       "  q: ─|0>─┤ X ├─░─┤ X ├─░─┤M├\n",
       "          └───┘ ░ └───┘ ░ └╥┘\n",
       "c: 1/══════════════════════╩═\n",
       "                           0 "
      ]
     },
     "metadata": {},
     "output_type": "display_data"
    },
    {
     "name": "stdout",
     "output_type": "stream",
     "text": [
      "\n",
      "\n"
     ]
    }
   ],
   "source": [
    "## Test the function\n",
    "for inp in ['0', '1']:\n",
    "    qc, out = NOT(inp)\n",
    "    print('NOT with input',inp,'gives output',out)\n",
    "    display(qc.draw())\n",
    "    print('\\n')"
   ]
  },
  {
   "cell_type": "markdown",
   "id": "5f770fe0",
   "metadata": {},
   "source": [
    "<h3 style=\"font-size: 20px\">&#128211; XOR gate</h3>\n",
    "\n",
    "Takes two binary strings as input and gives one as output.\n",
    "\n",
    "The output is '0' when the inputs are equal and  '1' otherwise."
   ]
  },
  {
   "cell_type": "code",
   "execution_count": 4,
   "id": "9d31e280",
   "metadata": {},
   "outputs": [],
   "source": [
    "def XOR(inp1,inp2):\n",
    "    \"\"\"An XOR gate.\n",
    "    \n",
    "    Parameters:\n",
    "        inpt1 (str): Input 1, encoded in qubit 0.\n",
    "        inpt2 (str): Input 2, encoded in qubit 1.\n",
    "        \n",
    "    Returns:\n",
    "        QuantumCircuit: Output XOR circuit.\n",
    "        str: Output value measured from qubit 1.\n",
    "    \"\"\"\n",
    "  \n",
    "    qc = QuantumCircuit(2, 1) \n",
    "    qc.reset(range(2))\n",
    "    \n",
    "    if inp1=='1':\n",
    "        qc.x(0)\n",
    "    if inp2=='1':\n",
    "        qc.x(1)\n",
    "    \n",
    "    # barrier between input state and gate operation \n",
    "    qc.barrier()\n",
    "    \n",
    "    ##################################################\n",
    "    # this is where your program for quantum XOR gate goes\n",
    "\n",
    "    \n",
    "    \n",
    "    \n",
    "    \n",
    "    \n",
    "    \n",
    "    \n",
    "    \n",
    "    ##################################################\n",
    "    \n",
    "    # barrier between input state and gate operation \n",
    "    qc.barrier()\n",
    "    \n",
    "    qc.measure(1,0) # output from qubit 1 is measured\n",
    "  \n",
    "    #We'll run the program on a simulator\n",
    "    backend = Aer.get_backend('aer_simulator')\n",
    "    #Since the output will be deterministic, we can use just a single shot to get it\n",
    "    job = backend.run(qc, shots=1, memory=True)\n",
    "    output = job.result().get_memory()[0]\n",
    "  \n",
    "    return qc, output"
   ]
  },
  {
   "cell_type": "code",
   "execution_count": 5,
   "id": "ebe7c61e",
   "metadata": {},
   "outputs": [
    {
     "name": "stdout",
     "output_type": "stream",
     "text": [
      "XOR with inputs 0 0 gives output 0\n"
     ]
    },
    {
     "data": {
      "text/html": [
       "<pre style=\"word-wrap: normal;white-space: pre;background: #fff0;line-height: 1.1;font-family: &quot;Courier New&quot;,Courier,monospace\">           ░  ░    \n",
       "q_0: ─|0>──░──░────\n",
       "           ░  ░ ┌─┐\n",
       "q_1: ─|0>──░──░─┤M├\n",
       "           ░  ░ └╥┘\n",
       "c: 1/════════════╩═\n",
       "                 0 </pre>"
      ],
      "text/plain": [
       "           ░  ░    \n",
       "q_0: ─|0>──░──░────\n",
       "           ░  ░ ┌─┐\n",
       "q_1: ─|0>──░──░─┤M├\n",
       "           ░  ░ └╥┘\n",
       "c: 1/════════════╩═\n",
       "                 0 "
      ]
     },
     "metadata": {},
     "output_type": "display_data"
    },
    {
     "name": "stdout",
     "output_type": "stream",
     "text": [
      "\n",
      "\n",
      "XOR with inputs 0 1 gives output 1\n"
     ]
    },
    {
     "data": {
      "text/html": [
       "<pre style=\"word-wrap: normal;white-space: pre;background: #fff0;line-height: 1.1;font-family: &quot;Courier New&quot;,Courier,monospace\">                ░  ░    \n",
       "q_0: ─|0>───────░──░────\n",
       "          ┌───┐ ░  ░ ┌─┐\n",
       "q_1: ─|0>─┤ X ├─░──░─┤M├\n",
       "          └───┘ ░  ░ └╥┘\n",
       "c: 1/═════════════════╩═\n",
       "                      0 </pre>"
      ],
      "text/plain": [
       "                ░  ░    \n",
       "q_0: ─|0>───────░──░────\n",
       "          ┌───┐ ░  ░ ┌─┐\n",
       "q_1: ─|0>─┤ X ├─░──░─┤M├\n",
       "          └───┘ ░  ░ └╥┘\n",
       "c: 1/═════════════════╩═\n",
       "                      0 "
      ]
     },
     "metadata": {},
     "output_type": "display_data"
    },
    {
     "name": "stdout",
     "output_type": "stream",
     "text": [
      "\n",
      "\n",
      "XOR with inputs 1 0 gives output 0\n"
     ]
    },
    {
     "data": {
      "text/html": [
       "<pre style=\"word-wrap: normal;white-space: pre;background: #fff0;line-height: 1.1;font-family: &quot;Courier New&quot;,Courier,monospace\">          ┌───┐ ░  ░    \n",
       "q_0: ─|0>─┤ X ├─░──░────\n",
       "          └───┘ ░  ░ ┌─┐\n",
       "q_1: ─|0>───────░──░─┤M├\n",
       "                ░  ░ └╥┘\n",
       "c: 1/═════════════════╩═\n",
       "                      0 </pre>"
      ],
      "text/plain": [
       "          ┌───┐ ░  ░    \n",
       "q_0: ─|0>─┤ X ├─░──░────\n",
       "          └───┘ ░  ░ ┌─┐\n",
       "q_1: ─|0>───────░──░─┤M├\n",
       "                ░  ░ └╥┘\n",
       "c: 1/═════════════════╩═\n",
       "                      0 "
      ]
     },
     "metadata": {},
     "output_type": "display_data"
    },
    {
     "name": "stdout",
     "output_type": "stream",
     "text": [
      "\n",
      "\n",
      "XOR with inputs 1 1 gives output 1\n"
     ]
    },
    {
     "data": {
      "text/html": [
       "<pre style=\"word-wrap: normal;white-space: pre;background: #fff0;line-height: 1.1;font-family: &quot;Courier New&quot;,Courier,monospace\">          ┌───┐ ░  ░    \n",
       "q_0: ─|0>─┤ X ├─░──░────\n",
       "          ├───┤ ░  ░ ┌─┐\n",
       "q_1: ─|0>─┤ X ├─░──░─┤M├\n",
       "          └───┘ ░  ░ └╥┘\n",
       "c: 1/═════════════════╩═\n",
       "                      0 </pre>"
      ],
      "text/plain": [
       "          ┌───┐ ░  ░    \n",
       "q_0: ─|0>─┤ X ├─░──░────\n",
       "          ├───┤ ░  ░ ┌─┐\n",
       "q_1: ─|0>─┤ X ├─░──░─┤M├\n",
       "          └───┘ ░  ░ └╥┘\n",
       "c: 1/═════════════════╩═\n",
       "                      0 "
      ]
     },
     "metadata": {},
     "output_type": "display_data"
    },
    {
     "name": "stdout",
     "output_type": "stream",
     "text": [
      "\n",
      "\n"
     ]
    }
   ],
   "source": [
    "## Test the function\n",
    "for inp1 in ['0', '1']:\n",
    "    for inp2 in ['0', '1']:\n",
    "        qc, output = XOR(inp1, inp2)\n",
    "        print('XOR with inputs',inp1,inp2,'gives output',output)\n",
    "        display(qc.draw())\n",
    "        print('\\n')"
   ]
  },
  {
   "cell_type": "markdown",
   "id": "7370dd67",
   "metadata": {},
   "source": [
    "<h3 style=\"font-size: 20px\">&#128211; AND gate</h3>\n",
    "\n",
    "Takes two binary strings as input and gives one as output.\n",
    "\n",
    "The output is `'1'` only when both the inputs are `'1'`."
   ]
  },
  {
   "cell_type": "code",
   "execution_count": 6,
   "id": "43b06890",
   "metadata": {},
   "outputs": [],
   "source": [
    "def AND(inp1,inp2):\n",
    "    \"\"\"An AND gate.\n",
    "    \n",
    "    Parameters:\n",
    "        inpt1 (str): Input 1, encoded in qubit 0.\n",
    "        inpt2 (str): Input 2, encoded in qubit 1.\n",
    "        \n",
    "    Returns:\n",
    "        QuantumCircuit: Output AND circuit.\n",
    "        str: Output value measured from qubit 2.\n",
    "    \"\"\"\n",
    "    qc = QuantumCircuit(3, 1) \n",
    "    qc.reset(range(2))\n",
    "  \n",
    "    if inp1=='1':\n",
    "        qc.x(0)\n",
    "    if inp2=='1':\n",
    "        qc.x(1)\n",
    "        \n",
    "    qc.barrier()\n",
    "\n",
    "    ##################################################\n",
    "    # this is where your program for quantum AND gate goes\n",
    "    \n",
    "    \n",
    "    \n",
    "    \n",
    "    \n",
    "    \n",
    "    \n",
    "    \n",
    "    \n",
    "    \n",
    "    ##################################################\n",
    "\n",
    "    qc.barrier()\n",
    "    qc.measure(2, 0) # output from qubit 2 is measured\n",
    "  \n",
    "    # We'll run the program on a simulator\n",
    "    backend = Aer.get_backend('aer_simulator')\n",
    "    # Since the output will be deterministic, we can use just a single shot to get it\n",
    "    job = backend.run(qc, shots=1, memory=True)\n",
    "    output = job.result().get_memory()[0]\n",
    "  \n",
    "    return qc, output"
   ]
  },
  {
   "cell_type": "code",
   "execution_count": 7,
   "id": "902c5d3a",
   "metadata": {},
   "outputs": [
    {
     "name": "stdout",
     "output_type": "stream",
     "text": [
      "AND with inputs 0 0 gives output 0\n"
     ]
    },
    {
     "data": {
      "text/html": [
       "<pre style=\"word-wrap: normal;white-space: pre;background: #fff0;line-height: 1.1;font-family: &quot;Courier New&quot;,Courier,monospace\">           ░  ░    \n",
       "q_0: ─|0>──░──░────\n",
       "           ░  ░    \n",
       "q_1: ─|0>──░──░────\n",
       "           ░  ░ ┌─┐\n",
       "q_2: ──────░──░─┤M├\n",
       "           ░  ░ └╥┘\n",
       "c: 1/════════════╩═\n",
       "                 0 </pre>"
      ],
      "text/plain": [
       "           ░  ░    \n",
       "q_0: ─|0>──░──░────\n",
       "           ░  ░    \n",
       "q_1: ─|0>──░──░────\n",
       "           ░  ░ ┌─┐\n",
       "q_2: ──────░──░─┤M├\n",
       "           ░  ░ └╥┘\n",
       "c: 1/════════════╩═\n",
       "                 0 "
      ]
     },
     "metadata": {},
     "output_type": "display_data"
    },
    {
     "name": "stdout",
     "output_type": "stream",
     "text": [
      "\n",
      "\n",
      "AND with inputs 0 1 gives output 0\n"
     ]
    },
    {
     "data": {
      "text/html": [
       "<pre style=\"word-wrap: normal;white-space: pre;background: #fff0;line-height: 1.1;font-family: &quot;Courier New&quot;,Courier,monospace\">                ░  ░    \n",
       "q_0: ─|0>───────░──░────\n",
       "          ┌───┐ ░  ░    \n",
       "q_1: ─|0>─┤ X ├─░──░────\n",
       "          └───┘ ░  ░ ┌─┐\n",
       "q_2: ───────────░──░─┤M├\n",
       "                ░  ░ └╥┘\n",
       "c: 1/═════════════════╩═\n",
       "                      0 </pre>"
      ],
      "text/plain": [
       "                ░  ░    \n",
       "q_0: ─|0>───────░──░────\n",
       "          ┌───┐ ░  ░    \n",
       "q_1: ─|0>─┤ X ├─░──░────\n",
       "          └───┘ ░  ░ ┌─┐\n",
       "q_2: ───────────░──░─┤M├\n",
       "                ░  ░ └╥┘\n",
       "c: 1/═════════════════╩═\n",
       "                      0 "
      ]
     },
     "metadata": {},
     "output_type": "display_data"
    },
    {
     "name": "stdout",
     "output_type": "stream",
     "text": [
      "\n",
      "\n",
      "AND with inputs 1 0 gives output 0\n"
     ]
    },
    {
     "data": {
      "text/html": [
       "<pre style=\"word-wrap: normal;white-space: pre;background: #fff0;line-height: 1.1;font-family: &quot;Courier New&quot;,Courier,monospace\">          ┌───┐ ░  ░    \n",
       "q_0: ─|0>─┤ X ├─░──░────\n",
       "          └───┘ ░  ░    \n",
       "q_1: ─|0>───────░──░────\n",
       "                ░  ░ ┌─┐\n",
       "q_2: ───────────░──░─┤M├\n",
       "                ░  ░ └╥┘\n",
       "c: 1/═════════════════╩═\n",
       "                      0 </pre>"
      ],
      "text/plain": [
       "          ┌───┐ ░  ░    \n",
       "q_0: ─|0>─┤ X ├─░──░────\n",
       "          └───┘ ░  ░    \n",
       "q_1: ─|0>───────░──░────\n",
       "                ░  ░ ┌─┐\n",
       "q_2: ───────────░──░─┤M├\n",
       "                ░  ░ └╥┘\n",
       "c: 1/═════════════════╩═\n",
       "                      0 "
      ]
     },
     "metadata": {},
     "output_type": "display_data"
    },
    {
     "name": "stdout",
     "output_type": "stream",
     "text": [
      "\n",
      "\n",
      "AND with inputs 1 1 gives output 0\n"
     ]
    },
    {
     "data": {
      "text/html": [
       "<pre style=\"word-wrap: normal;white-space: pre;background: #fff0;line-height: 1.1;font-family: &quot;Courier New&quot;,Courier,monospace\">          ┌───┐ ░  ░    \n",
       "q_0: ─|0>─┤ X ├─░──░────\n",
       "          ├───┤ ░  ░    \n",
       "q_1: ─|0>─┤ X ├─░──░────\n",
       "          └───┘ ░  ░ ┌─┐\n",
       "q_2: ───────────░──░─┤M├\n",
       "                ░  ░ └╥┘\n",
       "c: 1/═════════════════╩═\n",
       "                      0 </pre>"
      ],
      "text/plain": [
       "          ┌───┐ ░  ░    \n",
       "q_0: ─|0>─┤ X ├─░──░────\n",
       "          ├───┤ ░  ░    \n",
       "q_1: ─|0>─┤ X ├─░──░────\n",
       "          └───┘ ░  ░ ┌─┐\n",
       "q_2: ───────────░──░─┤M├\n",
       "                ░  ░ └╥┘\n",
       "c: 1/═════════════════╩═\n",
       "                      0 "
      ]
     },
     "metadata": {},
     "output_type": "display_data"
    },
    {
     "name": "stdout",
     "output_type": "stream",
     "text": [
      "\n",
      "\n"
     ]
    }
   ],
   "source": [
    "## Test the function\n",
    "for inp1 in ['0', '1']:\n",
    "    for inp2 in ['0', '1']:\n",
    "        qc, output = AND(inp1, inp2)\n",
    "        print('AND with inputs',inp1,inp2,'gives output',output)\n",
    "        display(qc.draw())\n",
    "        print('\\n')"
   ]
  },
  {
   "cell_type": "markdown",
   "id": "1cec2a71",
   "metadata": {},
   "source": [
    "<h3 style=\"font-size: 20px\">&#128211; NAND gate</h3>\n",
    "\n",
    "Takes two binary strings as input and gives one as output.\n",
    "\n",
    "The output is `'0'` only when both the inputs are `'1'`."
   ]
  },
  {
   "cell_type": "code",
   "execution_count": 8,
   "id": "46d368f1",
   "metadata": {},
   "outputs": [],
   "source": [
    "def NAND(inp1,inp2):\n",
    "    \"\"\"An NAND gate.\n",
    "    \n",
    "    Parameters:\n",
    "        inpt1 (str): Input 1, encoded in qubit 0.\n",
    "        inpt2 (str): Input 2, encoded in qubit 1.\n",
    "        \n",
    "    Returns:\n",
    "        QuantumCircuit: Output NAND circuit.\n",
    "        str: Output value measured from qubit 2.\n",
    "    \"\"\"\n",
    "    qc = QuantumCircuit(3, 1) \n",
    "    qc.reset(range(3))\n",
    "    \n",
    "    if inp1=='1':\n",
    "        qc.x(0)\n",
    "    if inp2=='1':\n",
    "        qc.x(1)\n",
    "    \n",
    "    qc.barrier()\n",
    "    \n",
    "    ##################################################\n",
    "    # this is where your program for quantum NAND gate goes\n",
    "    \n",
    "    \n",
    "    \n",
    "\n",
    "    \n",
    "    \n",
    "    \n",
    "    \n",
    "    \n",
    "    \n",
    "    ##################################################\n",
    "    \n",
    "    qc.barrier()\n",
    "    qc.measure(2, 0) # output from qubit 2 is measured\n",
    "  \n",
    "    # We'll run the program on a simulator\n",
    "    backend = Aer.get_backend('aer_simulator')\n",
    "    # Since the output will be deterministic, we can use just a single shot to get it\n",
    "    job = backend.run(qc,shots=1,memory=True)\n",
    "    output = job.result().get_memory()[0]\n",
    "  \n",
    "    return qc, output"
   ]
  },
  {
   "cell_type": "code",
   "execution_count": 9,
   "id": "cccab4a0",
   "metadata": {},
   "outputs": [
    {
     "name": "stdout",
     "output_type": "stream",
     "text": [
      "NAND with inputs 0 0 gives output 0\n"
     ]
    },
    {
     "data": {
      "text/html": [
       "<pre style=\"word-wrap: normal;white-space: pre;background: #fff0;line-height: 1.1;font-family: &quot;Courier New&quot;,Courier,monospace\">           ░  ░    \n",
       "q_0: ─|0>──░──░────\n",
       "           ░  ░    \n",
       "q_1: ─|0>──░──░────\n",
       "           ░  ░ ┌─┐\n",
       "q_2: ─|0>──░──░─┤M├\n",
       "           ░  ░ └╥┘\n",
       "c: 1/════════════╩═\n",
       "                 0 </pre>"
      ],
      "text/plain": [
       "           ░  ░    \n",
       "q_0: ─|0>──░──░────\n",
       "           ░  ░    \n",
       "q_1: ─|0>──░──░────\n",
       "           ░  ░ ┌─┐\n",
       "q_2: ─|0>──░──░─┤M├\n",
       "           ░  ░ └╥┘\n",
       "c: 1/════════════╩═\n",
       "                 0 "
      ]
     },
     "metadata": {},
     "output_type": "display_data"
    },
    {
     "name": "stdout",
     "output_type": "stream",
     "text": [
      "\n",
      "\n",
      "NAND with inputs 0 1 gives output 0\n"
     ]
    },
    {
     "data": {
      "text/html": [
       "<pre style=\"word-wrap: normal;white-space: pre;background: #fff0;line-height: 1.1;font-family: &quot;Courier New&quot;,Courier,monospace\">                ░  ░    \n",
       "q_0: ─|0>───────░──░────\n",
       "          ┌───┐ ░  ░    \n",
       "q_1: ─|0>─┤ X ├─░──░────\n",
       "          └───┘ ░  ░ ┌─┐\n",
       "q_2: ─|0>───────░──░─┤M├\n",
       "                ░  ░ └╥┘\n",
       "c: 1/═════════════════╩═\n",
       "                      0 </pre>"
      ],
      "text/plain": [
       "                ░  ░    \n",
       "q_0: ─|0>───────░──░────\n",
       "          ┌───┐ ░  ░    \n",
       "q_1: ─|0>─┤ X ├─░──░────\n",
       "          └───┘ ░  ░ ┌─┐\n",
       "q_2: ─|0>───────░──░─┤M├\n",
       "                ░  ░ └╥┘\n",
       "c: 1/═════════════════╩═\n",
       "                      0 "
      ]
     },
     "metadata": {},
     "output_type": "display_data"
    },
    {
     "name": "stdout",
     "output_type": "stream",
     "text": [
      "\n",
      "\n",
      "NAND with inputs 1 0 gives output 0\n"
     ]
    },
    {
     "data": {
      "text/html": [
       "<pre style=\"word-wrap: normal;white-space: pre;background: #fff0;line-height: 1.1;font-family: &quot;Courier New&quot;,Courier,monospace\">          ┌───┐ ░  ░    \n",
       "q_0: ─|0>─┤ X ├─░──░────\n",
       "          └───┘ ░  ░    \n",
       "q_1: ─|0>───────░──░────\n",
       "                ░  ░ ┌─┐\n",
       "q_2: ─|0>───────░──░─┤M├\n",
       "                ░  ░ └╥┘\n",
       "c: 1/═════════════════╩═\n",
       "                      0 </pre>"
      ],
      "text/plain": [
       "          ┌───┐ ░  ░    \n",
       "q_0: ─|0>─┤ X ├─░──░────\n",
       "          └───┘ ░  ░    \n",
       "q_1: ─|0>───────░──░────\n",
       "                ░  ░ ┌─┐\n",
       "q_2: ─|0>───────░──░─┤M├\n",
       "                ░  ░ └╥┘\n",
       "c: 1/═════════════════╩═\n",
       "                      0 "
      ]
     },
     "metadata": {},
     "output_type": "display_data"
    },
    {
     "name": "stdout",
     "output_type": "stream",
     "text": [
      "\n",
      "\n",
      "NAND with inputs 1 1 gives output 0\n"
     ]
    },
    {
     "data": {
      "text/html": [
       "<pre style=\"word-wrap: normal;white-space: pre;background: #fff0;line-height: 1.1;font-family: &quot;Courier New&quot;,Courier,monospace\">          ┌───┐ ░  ░    \n",
       "q_0: ─|0>─┤ X ├─░──░────\n",
       "          ├───┤ ░  ░    \n",
       "q_1: ─|0>─┤ X ├─░──░────\n",
       "          └───┘ ░  ░ ┌─┐\n",
       "q_2: ─|0>───────░──░─┤M├\n",
       "                ░  ░ └╥┘\n",
       "c: 1/═════════════════╩═\n",
       "                      0 </pre>"
      ],
      "text/plain": [
       "          ┌───┐ ░  ░    \n",
       "q_0: ─|0>─┤ X ├─░──░────\n",
       "          ├───┤ ░  ░    \n",
       "q_1: ─|0>─┤ X ├─░──░────\n",
       "          └───┘ ░  ░ ┌─┐\n",
       "q_2: ─|0>───────░──░─┤M├\n",
       "                ░  ░ └╥┘\n",
       "c: 1/═════════════════╩═\n",
       "                      0 "
      ]
     },
     "metadata": {},
     "output_type": "display_data"
    },
    {
     "name": "stdout",
     "output_type": "stream",
     "text": [
      "\n",
      "\n"
     ]
    }
   ],
   "source": [
    "## Test the function\n",
    "for inp1 in ['0', '1']:\n",
    "    for inp2 in ['0', '1']:\n",
    "        qc, output = NAND(inp1, inp2)\n",
    "        print('NAND with inputs',inp1,inp2,'gives output',output)\n",
    "        display(qc.draw())\n",
    "        print('\\n')"
   ]
  },
  {
   "cell_type": "markdown",
   "id": "80be1fef",
   "metadata": {},
   "source": [
    "<h3 style=\"font-size: 20px\">&#128211; OR gate</h3>\n",
    "\n",
    "Takes two binary strings as input and gives one as output.\n",
    "\n",
    "The output is '1' if either input is '1'."
   ]
  },
  {
   "cell_type": "code",
   "execution_count": 10,
   "id": "0360f52b",
   "metadata": {},
   "outputs": [],
   "source": [
    "def OR(inp1,inp2):\n",
    "    \"\"\"An OR gate.\n",
    "    \n",
    "    Parameters:\n",
    "        inpt1 (str): Input 1, encoded in qubit 0.\n",
    "        inpt2 (str): Input 2, encoded in qubit 1.\n",
    "        \n",
    "    Returns:\n",
    "        QuantumCircuit: Output XOR circuit.\n",
    "        str: Output value measured from qubit 2.\n",
    "    \"\"\"\n",
    "\n",
    "    qc = QuantumCircuit(3, 1) \n",
    "    qc.reset(range(3))\n",
    "    \n",
    "    if inp1=='1':\n",
    "        qc.x(0)\n",
    "    if inp2=='1':\n",
    "        qc.x(1)\n",
    "    \n",
    "    qc.barrier()\n",
    "   \n",
    "    ##################################################\n",
    "    # this is where your program for quantum OR gate goes\n",
    "    \n",
    "    \n",
    "    \n",
    "    \n",
    "    \n",
    "    \n",
    "    \n",
    "    \n",
    "    \n",
    "    \n",
    "    ##################################################\n",
    "    \n",
    "    qc.barrier()\n",
    "    qc.measure(2, 0) # output from qubit 2 is measured\n",
    "  \n",
    "    # We'll run the program on a simulator\n",
    "    backend = Aer.get_backend('aer_simulator')\n",
    "    # Since the output will be deterministic, we can use just a single shot to get it\n",
    "    job = backend.run(qc,shots=1,memory=True)\n",
    "    output = job.result().get_memory()[0]\n",
    "    \n",
    "    \n",
    "  \n",
    "    return qc, output"
   ]
  },
  {
   "cell_type": "code",
   "execution_count": 11,
   "id": "b2ef3a78",
   "metadata": {},
   "outputs": [
    {
     "name": "stdout",
     "output_type": "stream",
     "text": [
      "OR with inputs 0 0 gives output 0\n"
     ]
    },
    {
     "data": {
      "text/html": [
       "<pre style=\"word-wrap: normal;white-space: pre;background: #fff0;line-height: 1.1;font-family: &quot;Courier New&quot;,Courier,monospace\">           ░  ░    \n",
       "q_0: ─|0>──░──░────\n",
       "           ░  ░    \n",
       "q_1: ─|0>──░──░────\n",
       "           ░  ░ ┌─┐\n",
       "q_2: ─|0>──░──░─┤M├\n",
       "           ░  ░ └╥┘\n",
       "c: 1/════════════╩═\n",
       "                 0 </pre>"
      ],
      "text/plain": [
       "           ░  ░    \n",
       "q_0: ─|0>──░──░────\n",
       "           ░  ░    \n",
       "q_1: ─|0>──░──░────\n",
       "           ░  ░ ┌─┐\n",
       "q_2: ─|0>──░──░─┤M├\n",
       "           ░  ░ └╥┘\n",
       "c: 1/════════════╩═\n",
       "                 0 "
      ]
     },
     "metadata": {},
     "output_type": "display_data"
    },
    {
     "name": "stdout",
     "output_type": "stream",
     "text": [
      "\n",
      "\n",
      "OR with inputs 0 1 gives output 0\n"
     ]
    },
    {
     "data": {
      "text/html": [
       "<pre style=\"word-wrap: normal;white-space: pre;background: #fff0;line-height: 1.1;font-family: &quot;Courier New&quot;,Courier,monospace\">                ░  ░    \n",
       "q_0: ─|0>───────░──░────\n",
       "          ┌───┐ ░  ░    \n",
       "q_1: ─|0>─┤ X ├─░──░────\n",
       "          └───┘ ░  ░ ┌─┐\n",
       "q_2: ─|0>───────░──░─┤M├\n",
       "                ░  ░ └╥┘\n",
       "c: 1/═════════════════╩═\n",
       "                      0 </pre>"
      ],
      "text/plain": [
       "                ░  ░    \n",
       "q_0: ─|0>───────░──░────\n",
       "          ┌───┐ ░  ░    \n",
       "q_1: ─|0>─┤ X ├─░──░────\n",
       "          └───┘ ░  ░ ┌─┐\n",
       "q_2: ─|0>───────░──░─┤M├\n",
       "                ░  ░ └╥┘\n",
       "c: 1/═════════════════╩═\n",
       "                      0 "
      ]
     },
     "metadata": {},
     "output_type": "display_data"
    },
    {
     "name": "stdout",
     "output_type": "stream",
     "text": [
      "\n",
      "\n",
      "OR with inputs 1 0 gives output 0\n"
     ]
    },
    {
     "data": {
      "text/html": [
       "<pre style=\"word-wrap: normal;white-space: pre;background: #fff0;line-height: 1.1;font-family: &quot;Courier New&quot;,Courier,monospace\">          ┌───┐ ░  ░    \n",
       "q_0: ─|0>─┤ X ├─░──░────\n",
       "          └───┘ ░  ░    \n",
       "q_1: ─|0>───────░──░────\n",
       "                ░  ░ ┌─┐\n",
       "q_2: ─|0>───────░──░─┤M├\n",
       "                ░  ░ └╥┘\n",
       "c: 1/═════════════════╩═\n",
       "                      0 </pre>"
      ],
      "text/plain": [
       "          ┌───┐ ░  ░    \n",
       "q_0: ─|0>─┤ X ├─░──░────\n",
       "          └───┘ ░  ░    \n",
       "q_1: ─|0>───────░──░────\n",
       "                ░  ░ ┌─┐\n",
       "q_2: ─|0>───────░──░─┤M├\n",
       "                ░  ░ └╥┘\n",
       "c: 1/═════════════════╩═\n",
       "                      0 "
      ]
     },
     "metadata": {},
     "output_type": "display_data"
    },
    {
     "name": "stdout",
     "output_type": "stream",
     "text": [
      "\n",
      "\n",
      "OR with inputs 1 1 gives output 0\n"
     ]
    },
    {
     "data": {
      "text/html": [
       "<pre style=\"word-wrap: normal;white-space: pre;background: #fff0;line-height: 1.1;font-family: &quot;Courier New&quot;,Courier,monospace\">          ┌───┐ ░  ░    \n",
       "q_0: ─|0>─┤ X ├─░──░────\n",
       "          ├───┤ ░  ░    \n",
       "q_1: ─|0>─┤ X ├─░──░────\n",
       "          └───┘ ░  ░ ┌─┐\n",
       "q_2: ─|0>───────░──░─┤M├\n",
       "                ░  ░ └╥┘\n",
       "c: 1/═════════════════╩═\n",
       "                      0 </pre>"
      ],
      "text/plain": [
       "          ┌───┐ ░  ░    \n",
       "q_0: ─|0>─┤ X ├─░──░────\n",
       "          ├───┤ ░  ░    \n",
       "q_1: ─|0>─┤ X ├─░──░────\n",
       "          └───┘ ░  ░ ┌─┐\n",
       "q_2: ─|0>───────░──░─┤M├\n",
       "                ░  ░ └╥┘\n",
       "c: 1/═════════════════╩═\n",
       "                      0 "
      ]
     },
     "metadata": {},
     "output_type": "display_data"
    },
    {
     "name": "stdout",
     "output_type": "stream",
     "text": [
      "\n",
      "\n"
     ]
    }
   ],
   "source": [
    "## Test the function\n",
    "for inp1 in ['0', '1']:\n",
    "    for inp2 in ['0', '1']:\n",
    "        qc, output = OR(inp1, inp2)\n",
    "        print('OR with inputs',inp1,inp2,'gives output',output)\n",
    "        display(qc.draw())\n",
    "        print('\\n')"
   ]
  },
  {
   "cell_type": "markdown",
   "id": "c4592f49",
   "metadata": {},
   "source": [
    "## Part 2 Quantum Measurements"
   ]
  },
  {
   "cell_type": "markdown",
   "id": "1d5181d3",
   "metadata": {},
   "source": [
    "Prerequisite\n",
    "- [Ch.1.4 Single Qubit Gates](https://qiskit.org/textbook/ch-states/single-qubit-gates.html)\n",
    "- [Ch.2.2 Multiple Qubits and Entangled States](https://qiskit.org/textbook/ch-gates/multiple-qubits-entangled-states.html)\n",
    "- [Mitigating Noise on Real Quantum Computers](https://www.youtube.com/watch?v=yuDxHJOKsVA&list=PLOFEBzvs-Vvp2xg9-POLJhQwtVktlYGbY&index=8)\n",
    "\n",
    "\n",
    "Other relevant materials\n",
    "- [Feynman Lectures Ch. III - 12](https://www.feynmanlectures.caltech.edu/III_12.html)\n",
    "- [Quantum Operation](https://qiskit.org/documentation/tutorials/circuits/3_summary_of_quantum_operations.html)\n",
    "- [Interactive Bloch Sphere](https://nonhermitian.org/kaleido/stubs/kaleidoscope.interactive.bloch_sphere.html#kaleidoscope.interactive.bloch_sphere)\n",
    "- [Ch.5.2 Measurement Error Mitigation](https://qiskit.org/textbook/ch-quantum-hardware/measurement-error-mitigation.html)"
   ]
  },
  {
   "cell_type": "code",
   "execution_count": 12,
   "id": "70d02224",
   "metadata": {},
   "outputs": [],
   "source": [
    "from qiskit import *\n",
    "import numpy as np\n",
    "from numpy import linalg as la\n",
    "from qiskit.tools.monitor import job_monitor\n",
    "import qiskit.tools.jupyter"
   ]
  },
  {
   "cell_type": "markdown",
   "id": "adc4abf1",
   "metadata": {},
   "source": [
    "### Measuring the state of a qubit\n",
    "\n",
    "<br>\n",
    "<div style=\"background: #E8E7EB; border-radius: 5px;\n",
    "-moz-border-radius: 5px;\">\n",
    "  <p style=\"background: #800080;\n",
    "            border-radius: 5px 5px 0px 0px;\n",
    "            padding: 10px 0px 10px 10px;\n",
    "            font-size:18px;\n",
    "            color:white;\n",
    "            \"><b>Goal</b></p>\n",
    "    <p style=\" padding: 0px 0px 10px 10px;\n",
    "              font-size:16px;\">Determine the Bloch components of a qubit.</p>\n",
    "</div>\n",
    "\n",
    "Fundamental to the operation of a quantum computer is the ability to compute the Bloch components of a qubit or qubits. These components correspond to the expectation values of the Pauli operators $X, Y, Z$, and are important quantities for applications such as quantum chemistry and optimization.  Unfortunately, it is impossible to simultaneously compute these values, thus requiring many executions of the same circuit.  In addition, measurements are restricted to the computational basis (Z-basis) so that each Pauli needs to be rotated to the standard basis to access the x and y components.  Here we verify the methods by considering the case of a random vector on the Bloch sphere."
   ]
  },
  {
   "cell_type": "markdown",
   "id": "1805ecfa",
   "metadata": {},
   "source": [
    "#### 1. Express the expectation values of the Pauli operators for an arbitrary qubit state $|q\\rangle$ in the computational basis.\n",
    "\n",
    "The case for the expectation value of Pauli Z gate is given as an example. "
   ]
  },
  {
   "cell_type": "markdown",
   "id": "75eeceda",
   "metadata": {},
   "source": [
    "Using the diagonal representation, also known as spectral form or orthonormal decomposition, of Pauli $Z$ gate and the relations among the Pauli gates (see [here](https://qiskit.org/textbook/ch-states/single-qubit-gates.html)), expectation values of $ X, Y, Z $ gates can be written as  \n",
    "\n",
    "$$\n",
    "\\begin{align}\n",
    "\\langle Z \\rangle &=\\langle q | Z | q\\rangle =\\langle q|0\\rangle\\langle 0|q\\rangle - \\langle q|1\\rangle\\langle 1|q\\rangle\n",
    "=|\\langle 0 |q\\rangle|^2 - |\\langle 1 | q\\rangle|^2\\\\\\\\\n",
    "\\langle X \\rangle &= \n",
    "\\\\\\\\\n",
    "\\langle Y \\rangle &= \n",
    "\\end{align}\n",
    "\\\\\n",
    "$$\n",
    ", respectively.\n",
    "\n",
    "Therefore, the expectation values of the Paulis for a qubit state $|q\\rangle$ can be obtained by making a measurement in the standard basis after rotating the standard basis frame to lie along the corresponding axis. The probabilities of obtaining the two possible outcomes 0 and 1 are used to evaluate the desired expectation value as the above equations show."
   ]
  },
  {
   "cell_type": "markdown",
   "id": "47b4ef3b",
   "metadata": {},
   "source": [
    "#### 2. Measure the Bloch sphere coordinates of a qubit using the Aer simulator and plot the vector on the Bloch sphere."
   ]
  },
  {
   "cell_type": "markdown",
   "id": "bdbf54bd",
   "metadata": {},
   "source": [
    "##### Step A. Create a qubit state using the circuit method, <code>initialize</code> with two random complex numbers as the parameter.\n",
    "\n",
    "To learn how to use the function `initialize`, check [here](https://qiskit.org/documentation/tutorials/circuits/3_summary_of_quantum_operations.html#Arbitrary-initialization). (go to the `arbitrary initialization` section.)"
   ]
  },
  {
   "cell_type": "code",
   "execution_count": 13,
   "id": "4bf89e6b",
   "metadata": {},
   "outputs": [],
   "source": [
    "qc = QuantumCircuit(1, 1)\n",
    "\n",
    "##################################################\n",
    "#### your code goes here\n",
    "\n",
    "\n",
    "\n",
    "\n",
    "\n",
    "\n",
    "\n",
    "\n",
    "\n",
    "\n",
    "\n",
    "\n",
    "##################################################\n"
   ]
  },
  {
   "cell_type": "markdown",
   "id": "224e1800",
   "metadata": {},
   "source": [
    "##### Step B. Build the circuits to measure the expectation values of $X, Y, Z$ gate based on your answers to the question 1.  Run the cell below to estimate the Bloch sphere coordinates of the qubit from step A using the Aer simulator.\n",
    "\n",
    "The circuit for $Z$ gate measurement is given as an example."
   ]
  },
  {
   "cell_type": "code",
   "execution_count": 14,
   "id": "f688e60a",
   "metadata": {},
   "outputs": [
    {
     "ename": "QiskitError",
     "evalue": "'No counts for experiment \"0\"'",
     "output_type": "error",
     "traceback": [
      "\u001b[0;31m---------------------------------------------------------------------------\u001b[0m",
      "\u001b[0;31mQiskitError\u001b[0m                               Traceback (most recent call last)",
      "\u001b[0;32m/tmp/ipykernel_141769/1041644693.py\u001b[0m in \u001b[0;36m<cell line: 35>\u001b[0;34m()\u001b[0m\n\u001b[1;32m     37\u001b[0m     \u001b[0;31m# run the circuit with the selected measurement and get the number of samples that output each bit value\u001b[0m\u001b[0;34m\u001b[0m\u001b[0;34m\u001b[0m\u001b[0;34m\u001b[0m\u001b[0m\n\u001b[1;32m     38\u001b[0m     \u001b[0mcirc_trans\u001b[0m \u001b[0;34m=\u001b[0m \u001b[0mtranspile\u001b[0m\u001b[0;34m(\u001b[0m\u001b[0mqc\u001b[0m\u001b[0;34m.\u001b[0m\u001b[0mcompose\u001b[0m\u001b[0;34m(\u001b[0m\u001b[0mmeasure_circuit\u001b[0m\u001b[0;34m)\u001b[0m\u001b[0;34m,\u001b[0m \u001b[0msim\u001b[0m\u001b[0;34m)\u001b[0m\u001b[0;34m\u001b[0m\u001b[0;34m\u001b[0m\u001b[0m\n\u001b[0;32m---> 39\u001b[0;31m     \u001b[0mcounts\u001b[0m \u001b[0;34m=\u001b[0m \u001b[0msim\u001b[0m\u001b[0;34m.\u001b[0m\u001b[0mrun\u001b[0m\u001b[0;34m(\u001b[0m\u001b[0mqc\u001b[0m\u001b[0;34m.\u001b[0m\u001b[0mcompose\u001b[0m\u001b[0;34m(\u001b[0m\u001b[0mcirc_trans\u001b[0m\u001b[0;34m)\u001b[0m\u001b[0;34m,\u001b[0m \u001b[0mshots\u001b[0m\u001b[0;34m=\u001b[0m\u001b[0mshots\u001b[0m\u001b[0;34m)\u001b[0m\u001b[0;34m.\u001b[0m\u001b[0mresult\u001b[0m\u001b[0;34m(\u001b[0m\u001b[0;34m)\u001b[0m\u001b[0;34m.\u001b[0m\u001b[0mget_counts\u001b[0m\u001b[0;34m(\u001b[0m\u001b[0;34m)\u001b[0m\u001b[0;34m\u001b[0m\u001b[0;34m\u001b[0m\u001b[0m\n\u001b[0m\u001b[1;32m     40\u001b[0m \u001b[0;34m\u001b[0m\u001b[0m\n\u001b[1;32m     41\u001b[0m     \u001b[0;31m# calculate the probabilities for each bit value\u001b[0m\u001b[0;34m\u001b[0m\u001b[0;34m\u001b[0m\u001b[0;34m\u001b[0m\u001b[0m\n",
      "\u001b[0;32m~/anaconda3/lib/python3.8/site-packages/qiskit/result/result.py\u001b[0m in \u001b[0;36mget_counts\u001b[0;34m(self, experiment)\u001b[0m\n\u001b[1;32m    287\u001b[0m                 \u001b[0mdict_list\u001b[0m\u001b[0;34m.\u001b[0m\u001b[0mappend\u001b[0m\u001b[0;34m(\u001b[0m\u001b[0mstatevector\u001b[0m\u001b[0;34m.\u001b[0m\u001b[0mStatevector\u001b[0m\u001b[0;34m(\u001b[0m\u001b[0mvec\u001b[0m\u001b[0;34m)\u001b[0m\u001b[0;34m.\u001b[0m\u001b[0mprobabilities_dict\u001b[0m\u001b[0;34m(\u001b[0m\u001b[0mdecimals\u001b[0m\u001b[0;34m=\u001b[0m\u001b[0;36m15\u001b[0m\u001b[0;34m)\u001b[0m\u001b[0;34m)\u001b[0m\u001b[0;34m\u001b[0m\u001b[0;34m\u001b[0m\u001b[0m\n\u001b[1;32m    288\u001b[0m             \u001b[0;32melse\u001b[0m\u001b[0;34m:\u001b[0m\u001b[0;34m\u001b[0m\u001b[0;34m\u001b[0m\u001b[0m\n\u001b[0;32m--> 289\u001b[0;31m                 \u001b[0;32mraise\u001b[0m \u001b[0mQiskitError\u001b[0m\u001b[0;34m(\u001b[0m\u001b[0;34mf'No counts for experiment \"{repr(key)}\"'\u001b[0m\u001b[0;34m)\u001b[0m\u001b[0;34m\u001b[0m\u001b[0;34m\u001b[0m\u001b[0m\n\u001b[0m\u001b[1;32m    290\u001b[0m \u001b[0;34m\u001b[0m\u001b[0m\n\u001b[1;32m    291\u001b[0m         \u001b[0;31m# Return first item of dict_list if size is 1\u001b[0m\u001b[0;34m\u001b[0m\u001b[0;34m\u001b[0m\u001b[0;34m\u001b[0m\u001b[0m\n",
      "\u001b[0;31mQiskitError\u001b[0m: 'No counts for experiment \"0\"'"
     ]
    }
   ],
   "source": [
    "# z measurement of qubit 0\n",
    "measure_z = QuantumCircuit(1,1)\n",
    "measure_z.measure(0,0)\n",
    "\n",
    "\n",
    "# x measurement of qubit 0\n",
    "measure_x = QuantumCircuit(1,1)\n",
    "\n",
    "##################################################\n",
    "# your code goes here\n",
    "\n",
    "\n",
    "\n",
    "\n",
    "\n",
    "\n",
    "##################################################\n",
    "\n",
    "# y measurement of qubit 0\n",
    "measure_y = QuantumCircuit(1,1)\n",
    "\n",
    "##################################################\n",
    "# your code goes here\n",
    "\n",
    "\n",
    "\n",
    "\n",
    "\n",
    "\n",
    "##################################################\n",
    "\n",
    "shots = 2**14 # number of samples used for statistics\n",
    "sim = Aer.get_backend('aer_simulator')\n",
    "bloch_vector_measure = []\n",
    "for measure_circuit in [measure_x, measure_y, measure_z]:\n",
    "    \n",
    "    # run the circuit with the selected measurement and get the number of samples that output each bit value\n",
    "    circ_trans = transpile(qc.compose(measure_circuit), sim)\n",
    "    counts = sim.run(qc.compose(circ_trans), shots=shots).result().get_counts()\n",
    "\n",
    "    # calculate the probabilities for each bit value\n",
    "    probs = {}\n",
    "    for output in ['0','1']:\n",
    "        if output in counts:\n",
    "            probs[output] = counts[output]/shots\n",
    "        else:\n",
    "            probs[output] = 0\n",
    "            \n",
    "    bloch_vector_measure.append( probs['0'] -  probs['1'] )\n",
    "\n",
    "# normalizing the Bloch sphere vector\n",
    "bloch_vector = bloch_vector_measure/la.norm(bloch_vector_measure)\n",
    "\n",
    "print('The Bloch sphere coordinates are [{0:4.3f}, {1:4.3f}, {2:4.3f}]'\n",
    "      .format(*bloch_vector))    "
   ]
  },
  {
   "cell_type": "code",
   "execution_count": null,
   "id": "5c82376c",
   "metadata": {},
   "outputs": [],
   "source": [
    "from qiskit.visualization import plot_bloch_vector\n",
    "\n",
    "plot_bloch_vector( bloch_vector )"
   ]
  },
  {
   "cell_type": "markdown",
   "id": "2ebff3dd",
   "metadata": {},
   "source": [
    "### Measuring Energy\n",
    "\n",
    "<br>\n",
    "<div style=\"background: #E8E7EB; border-radius: 5px;\n",
    "-moz-border-radius: 5px;\">\n",
    "  <p style=\"background: #800080;\n",
    "            border-radius: 5px 5px 0px 0px;\n",
    "            padding: 10px 0px 10px 10px;\n",
    "            font-size:18px;\n",
    "            color:white;\n",
    "            \"><b>Goal</b></p>\n",
    "    <p style=\" padding: 0px 0px 10px 10px;\n",
    "              font-size:16px;\">Evaluate the energy levels of the hydrogen ground state using Aer simulator.</p>\n",
    "</div>\n",
    "\n",
    "\n",
    "The energy of a quantum system can be estimated by measuring the expectation value of its Hamiltonian, which is a Hermitian operator, through the procedure we mastered in part 1.\n",
    "\n",
    "The ground state of hydrogen is not defined as a single unique state but actually contains four different states due to the spins of the electron and proton. In part 2 of this lab, we evaluate the energy difference among these four states, which is from the `hyperfine splitting`, by computing the energy expectation value for the system of two spins with the Hamiltonian expressed in Pauli operators. For more information about `hyperfine structure`, see [here](https://www.feynmanlectures.caltech.edu/III_12.html)"
   ]
  },
  {
   "cell_type": "markdown",
   "id": "b4f7bdc5",
   "metadata": {},
   "source": [
    "Consider the system with two qubit interaction Hamiltonian $H = A(XX+YY+ZZ)$ where $A = 1.47e^{-6} eV$ and $X, Y, Z$ are Pauli gates. Then the energy expectation value of the system can be evaluated by combining the expectation value of each term in the Hamiltonian.\n",
    "In this case, $E = \\langle H\\rangle = A( \\langle XX\\rangle + \\langle YY\\rangle + \\langle ZZ\\rangle )$. "
   ]
  },
  {
   "cell_type": "markdown",
   "id": "325d86fc",
   "metadata": {},
   "source": [
    "#### 1. Express the expectation value of each term in the Hamiltonian for an arbitrary two qubit state   $|\\psi \\rangle$ in the computational basis.\n",
    "\n",
    "The case for the term $\\langle ZZ\\rangle$ is given as an example.\n",
    "\n",
    "$$\n",
    "\\begin{align}\n",
    "\\langle ZZ\\rangle &=\\langle \\psi | ZZ | \\psi\\rangle =\\langle \\psi|(|0\\rangle\\langle 0| - |1\\rangle\\langle 1|)\\otimes(|0\\rangle\\langle 0| - |1\\rangle\\langle 1|) |\\psi\\rangle\n",
    "=|\\langle 00|\\psi\\rangle|^2 - |\\langle 01 | \\psi\\rangle|^2 - |\\langle 10 | \\psi\\rangle|^2 + |\\langle 11|\\psi\\rangle|^2\\\\\\\\\n",
    "\\langle XX\\rangle &= \\\\\\\\\n",
    "\\langle YY\\rangle &= \n",
    "\\end{align}\n",
    "$$"
   ]
  },
  {
   "cell_type": "markdown",
   "id": "9425e634",
   "metadata": {},
   "source": [
    "#### 2. Measure the expected energy of the system using the Aer simulator when two qubits are entangled. Regard the bell basis, four different entangled states."
   ]
  },
  {
   "cell_type": "markdown",
   "id": "05399b4a",
   "metadata": {},
   "source": [
    "##### Step A. Construct the circuits to prepare four different bell states.\n",
    "\n",
    "Let's label each bell state as\n",
    "$$\n",
    "\\begin{align}\n",
    "Tri1 &= \\frac{1}{\\sqrt2} (|00\\rangle + |11\\rangle)\\\\\n",
    "Tri2 &= \\frac{1}{\\sqrt2} (|00\\rangle - |11\\rangle)\\\\\n",
    "Tri3 &= \\frac{1}{\\sqrt2} (|01\\rangle + |10\\rangle)\\\\\n",
    "Sing &= \\frac{1}{\\sqrt2} (|10\\rangle - |01\\rangle)\n",
    "\\end{align}\n",
    "$$"
   ]
  },
  {
   "cell_type": "code",
   "execution_count": null,
   "id": "434fafbf",
   "metadata": {},
   "outputs": [],
   "source": [
    "# circuit for the state Tri1\n",
    "Tri1 = QuantumCircuit(2, 2)\n",
    "\n",
    "##################################################\n",
    "# your code goes here\n",
    "\n",
    "\n",
    "\n",
    "\n",
    "\n",
    "##################################################\n",
    "\n",
    "# circuit for the state Tri2\n",
    "Tri2 = QuantumCircuit(2, 2)\n",
    "\n",
    "##################################################\n",
    "# your code goes here\n",
    "\n",
    "\n",
    "\n",
    "\n",
    "\n",
    "##################################################\n",
    "\n",
    "# circuit for the state Tri3\n",
    "Tri3 = QuantumCircuit(2, 2)\n",
    "\n",
    "##################################################\n",
    "# your code goes here\n",
    "\n",
    "\n",
    "\n",
    "\n",
    "\n",
    "##################################################\n",
    "\n",
    "# circuit for the state Sing\n",
    "Sing = QuantumCircuit(2, 2)\n",
    "\n",
    "##################################################\n",
    "# your code goes here\n",
    "\n",
    "\n",
    "\n",
    "\n",
    "##################################################\n"
   ]
  },
  {
   "cell_type": "markdown",
   "id": "dcee9df2",
   "metadata": {},
   "source": [
    "##### Step B. Create the circuits to measure the expectation value of each term in the Hamiltonian based on your answer to the question 1."
   ]
  },
  {
   "cell_type": "code",
   "execution_count": null,
   "id": "a97f1fd9",
   "metadata": {},
   "outputs": [],
   "source": [
    "# <ZZ> \n",
    "measure_ZZ = QuantumCircuit(2)\n",
    "measure_ZZ.measure_all()\n",
    "\n",
    "# <XX>\n",
    "measure_XX = QuantumCircuit(2)\n",
    "\n",
    "##################################################\n",
    "# your code goes here\n",
    "\n",
    "\n",
    "\n",
    "\n",
    "\n",
    "##################################################\n",
    "\n",
    "# <YY>\n",
    "measure_YY = QuantumCircuit(2)\n",
    "\n",
    "##################################################\n",
    "# your code goes here\n",
    "\n",
    "\n",
    "\n",
    "\n",
    "##################################################\n"
   ]
  },
  {
   "cell_type": "markdown",
   "id": "f285d273",
   "metadata": {},
   "source": [
    "##### Step C. Execute the circuits on Aer simulator by running the cell below and evaluate the energy expectation value for each state."
   ]
  },
  {
   "cell_type": "code",
   "execution_count": null,
   "id": "6ac82213",
   "metadata": {},
   "outputs": [],
   "source": [
    "shots = 2**14 # number of samples used for statistics\n",
    "\n",
    "A = 1.47e-6 #unit of A is eV\n",
    "E_sim = []\n",
    "for state_init in [Tri1,Tri2,Tri3,Sing]:\n",
    "    Energy_meas = []\n",
    "    for measure_circuit in [measure_XX, measure_YY, measure_ZZ]:\n",
    "    \n",
    "        # run the circuit with the selected measurement and get the number of samples that output each bit value\n",
    "        qc = state_init.compose(measure_circuit)\n",
    "        qc_trans = transpile(qc, sim)\n",
    "        counts = sim.run(qc_trans, shots=shots).result().get_counts()\n",
    "\n",
    "        # calculate the probabilities for each computational basis\n",
    "        probs = {}\n",
    "        for output in ['00','01', '10', '11']:\n",
    "            if output in counts:\n",
    "                probs[output] = counts[output]/shots\n",
    "            else:\n",
    "                probs[output] = 0\n",
    "            \n",
    "        Energy_meas.append( probs['00'] - probs['01'] - probs['10'] + probs['11'] )\n",
    " \n",
    "    E_sim.append(A * np.sum(np.array(Energy_meas)))"
   ]
  },
  {
   "cell_type": "code",
   "execution_count": null,
   "id": "ff5d5676",
   "metadata": {},
   "outputs": [],
   "source": [
    "# Run this cell to print out your results\n",
    "\n",
    "print('Energy expectation value of the state Tri1 : {:.3e} eV'.format(E_sim[0]))\n",
    "print('Energy expectation value of the state Tri2 : {:.3e} eV'.format(E_sim[1]))\n",
    "print('Energy expectation value of the state Tri3 : {:.3e} eV'.format(E_sim[2]))\n",
    "print('Energy expectation value of the state Sing : {:.3e} eV'.format(E_sim[3]))"
   ]
  },
  {
   "cell_type": "markdown",
   "id": "7564860d",
   "metadata": {},
   "source": [
    "##### Step D. Understanding the result.\n",
    "\n",
    "If you found the energy expectation values successfully, you would have obtained exactly the same value, $A (= 1.47e^{-6} eV)$, for the triplet states, $|Tri1\\rangle, |Tri2\\rangle, |Tri3\\rangle$ and one lower energy level, $-3A (= -4.41e^{-6} eV)$ for the singlet state $|Sing\\rangle$.   \n",
    "\n",
    "What we have done here is measuring the energies of the four different spin states corresponding to the ground state of hydrogen and observed `hyperfine structure` in the energy levels caused by spin-spin coupling.  This tiny energy difference between the singlet and triplet states is the reason for the famous 21-cm wavelength radiation used to map the structure of the galaxy.  "
   ]
  },
  {
   "cell_type": "markdown",
   "id": "10e41930",
   "metadata": {},
   "source": [
    "In the cell below, we verify the wavelength of the emission from the transition between the triplet states and singlet state. "
   ]
  },
  {
   "cell_type": "code",
   "execution_count": null,
   "id": "2afa0a2a",
   "metadata": {},
   "outputs": [],
   "source": [
    "# reduced plank constant in (eV) and the speed of light(cgs units)\n",
    "hbar, c = 4.1357e-15, 3e10\n",
    "\n",
    "# energy difference between the triplets and singlet\n",
    "E_del = abs(E_sim[0] - E_sim[3])\n",
    "\n",
    "# frequency associated with the energy difference\n",
    "f = E_del/hbar\n",
    "\n",
    "# convert frequency to wavelength in (cm) \n",
    "wavelength = c/f\n",
    "\n",
    "print('The wavelength of the radiation from the transition\\\n",
    " in the hyperfine structure is : {:.1f} cm'.format(wavelength))"
   ]
  },
  {
   "cell_type": "markdown",
   "id": "fb028014",
   "metadata": {},
   "source": [
    "### Quantum teleportation\n",
    "\n",
    "<br>\n",
    "<div style=\"background: #E8E7EB; border-radius: 5px;\n",
    "-moz-border-radius: 5px;\">\n",
    "  <p style=\"background: #800080;\n",
    "            border-radius: 5px 5px 0px 0px;\n",
    "            padding: 10px 0px 10px 10px;\n",
    "            font-size:18px;\n",
    "            color:white;\n",
    "            \"><b>Goal</b></p>\n",
    "    <p style=\" padding: 0px 0px 10px 10px;\n",
    "              font-size:16px;\">To show how quantum teleportation is performed and how Pauli correction is made depending on the measurement result.</p>\n",
    "</div>\n",
    "\n",
    "\n",
    "For this exercise, we will see how quantum teleportation is performed using an entangled state as a resource. Importantly, to transfer one qubit faithfully to another, an additional Pauli rotation needs to be applied $\\textit{depending on the measurement result of the original qubit}$."
   ]
  },
  {
   "cell_type": "markdown",
   "id": "d9ff3cb3",
   "metadata": {},
   "source": [
    "##### Step A. Generate a random single qubit and plot it on the Bloch sphere.\n",
    " \n",
    " Hint: qiskit.quantum_info may have useful methods."
   ]
  },
  {
   "cell_type": "code",
   "execution_count": null,
   "id": "1ae64ead",
   "metadata": {},
   "outputs": [],
   "source": [
    "# your code goes here\n"
   ]
  },
  {
   "cell_type": "markdown",
   "id": "895617a7",
   "metadata": {},
   "source": [
    "##### Step B. Create a quantum teleportation circuit.\n",
    " \n",
    "Construct a quantum circuit that has *two* qubits. One is the random single qubit $|\\psi\\rangle$ produced above, and another is a qubit initialized as $|0\\rangle$ and will be mapped to $|\\psi\\rangle$, i.e. $|0\\rangle\\rightarrow |\\psi\\rangle$. The Qiskit chapter on quantum teleportation may be helpful: https://qiskit.org/textbook/ch-algorithms/teleportation.html"
   ]
  },
  {
   "cell_type": "code",
   "execution_count": null,
   "id": "c5469d25",
   "metadata": {},
   "outputs": [],
   "source": [
    "qc = QuantumCircuit(2,1)\n",
    "\n",
    "##################################################\n",
    "# your code goes here\n",
    "\n",
    "\n",
    "\n",
    "\n",
    "\n",
    "\n",
    "\n",
    "\n",
    "\n",
    "\n",
    "\n",
    "\n",
    "\n",
    "\n",
    "##################################################\n"
   ]
  },
  {
   "cell_type": "markdown",
   "id": "0f55228c",
   "metadata": {},
   "source": [
    "##### Step C. Plot the teleported qubit.\n",
    " \n",
    "Plot the teleported qubit on a Bloch sphere and confirm you indeed have recovered the same state as one shown in Step A."
   ]
  },
  {
   "cell_type": "code",
   "execution_count": null,
   "id": "87314ba8",
   "metadata": {},
   "outputs": [],
   "source": [
    "sim = Aer.get_backend('aer_simulator')\n",
    "\n",
    "##################################################\n",
    "# your code goes here\n",
    "\n",
    "\n",
    "\n",
    "\n",
    "\n",
    "##################################################\n"
   ]
  },
  {
   "cell_type": "markdown",
   "id": "cf143e03",
   "metadata": {},
   "source": [
    "## Part 3 Accuracy of Quantum Phase Estimation"
   ]
  },
  {
   "cell_type": "markdown",
   "id": "a9256a33",
   "metadata": {},
   "source": [
    "Prerequisite\n",
    "- [Ch.3.5 Quantum Fourier Transform](https://qiskit.org/textbook/ch-algorithms/quantum-fourier-transform.html)\n",
    "- [Ch.3.6 Quantum Phase Estimation](https://qiskit.org/textbook/ch-algorithms/quantum-phase-estimation.html)\n",
    "\n",
    "Other relevant materials\n",
    "- [QCQI] Michael A. Nielsen and Isaac L. Chuang. 2011. Quantum Computation and Quantum Information"
   ]
  },
  {
   "cell_type": "code",
   "execution_count": null,
   "id": "6badee8b",
   "metadata": {},
   "outputs": [],
   "source": [
    "from qiskit import *\n",
    "import numpy as np\n",
    "from qiskit.visualization import plot_histogram\n",
    "import qiskit.tools.jupyter\n",
    "from qiskit.tools.monitor import job_monitor\n",
    "import matplotlib.pyplot as plt"
   ]
  },
  {
   "cell_type": "markdown",
   "id": "7474b2ff",
   "metadata": {},
   "source": [
    "### Performance of Quantum Phase Estimation\n",
    "\n",
    "<br>\n",
    "<div style=\"background: #E8E7EB; border-radius: 5px;\n",
    "-moz-border-radius: 5px;\">\n",
    "  <p style=\"background: #800080;\n",
    "            border-radius: 5px 5px 0px 0px;\n",
    "            padding: 10px 0px 10px 10px;\n",
    "            font-size:18px;\n",
    "            color:white;\n",
    "            \"><b>Goal</b></p>\n",
    "    <p style=\" padding: 0px 0px 10px 10px;\n",
    "              font-size:16px;\">Investigate the relationship between the number of qubits required for the desired accuracy of the phase estimation with high probability.</p>\n",
    "</div>\n",
    "\n",
    "\n",
    "The accuracy of the estimated value through Quantum Phase Estimation (QPE) and its probability of success depend on the number of qubits employed in QPE circuits. Therefore, one might want to know the necessary number of qubits to achieve the targeted level of QPE performance, especially when the phase that needs to be determined cannot be decomposed in a finite bit binary expansion. \n",
    "In Part 1 of this lab, we examine the number of qubits required to accomplish the desired accuracy and the probability of success in determining the phase through QPE."
   ]
  },
  {
   "cell_type": "markdown",
   "id": "e4ab6522",
   "metadata": {},
   "source": [
    "#### 1. Find the probability of obtaining the estimation for a phase value accurate to $2^{-2}$ successfully with four counting qubits."
   ]
  },
  {
   "cell_type": "markdown",
   "id": "cfc6eac5",
   "metadata": {},
   "source": [
    "##### Step A. Set up the QPE circuit with four counting qubits and save the circuit to the variable 'qc4'.  Execute 'qc4' on a Aer simulator.  Plot the histogram of the result."
   ]
  },
  {
   "cell_type": "markdown",
   "id": "6bdf9d50",
   "metadata": {},
   "source": [
    "Check the QPE chapter in Qiskit textbook ( go to `3. Example: Getting More Precision` section [here](https://qiskit.org/textbook/ch-algorithms/quantum-phase-estimation.html#3.-Example:-Getting-More-Precision-) ) for the circuit."
   ]
  },
  {
   "cell_type": "code",
   "execution_count": null,
   "id": "61dba388",
   "metadata": {},
   "outputs": [],
   "source": [
    "def qft(n):\n",
    "    \"\"\"Creates an n-qubit QFT circuit\"\"\"\n",
    "    circuit = QuantumCircuit(n)\n",
    "    def swap_registers(circuit, n):\n",
    "        for qubit in range(n//2):\n",
    "            circuit.swap(qubit, n-qubit-1)\n",
    "        return circuit\n",
    "    def qft_rotations(circuit, n):\n",
    "        \"\"\"Performs qft on the first n qubits in circuit (without swaps)\"\"\"\n",
    "        if n == 0:\n",
    "            return circuit\n",
    "        n -= 1\n",
    "        circuit.h(n)\n",
    "        for qubit in range(n):\n",
    "            circuit.cp(np.pi/2**(n-qubit), qubit, n)\n",
    "        qft_rotations(circuit, n)\n",
    "    \n",
    "    qft_rotations(circuit, n)\n",
    "    swap_registers(circuit, n)\n",
    "    return circuit"
   ]
  },
  {
   "cell_type": "code",
   "execution_count": null,
   "id": "75164ad1",
   "metadata": {},
   "outputs": [],
   "source": [
    "## Start your code to create the circuit, qc4\n",
    "\n",
    "\n",
    "\n",
    "\n",
    "\n",
    "\n",
    "\n",
    "\n",
    "\n",
    "\n",
    "\n",
    "\n",
    "\n",
    "\n"
   ]
  },
  {
   "cell_type": "code",
   "execution_count": null,
   "id": "1529c1af",
   "metadata": {},
   "outputs": [],
   "source": [
    "## Run this cell to simulate 'qc4' and to plot the histogram of the result\n",
    "sim = Aer.get_backend('aer_simulator')\n",
    "shots = 20000\n",
    "count_qc4 = execute(qc4, sim, shots=shots).result().get_counts()\n",
    "plot_histogram(count_qc4, figsize=(9,5))"
   ]
  },
  {
   "cell_type": "markdown",
   "id": "055a2f44",
   "metadata": {},
   "source": [
    "Having performed `Step A` successfully, you will have obtained a distribution similar to the one shown below with the highest probability at `0101` which corresponds to the estimated $\\phi$ value, `0.3125`."
   ]
  },
  {
   "cell_type": "markdown",
   "id": "40a28437",
   "metadata": {},
   "source": [
    "Since the number of counting qubits used for the circuit is four, the best estimated value should be accurate to $\\delta = 2^{-4} = 0.0625$.  However, there are multiple possible outcomes as $\\theta = 1/3$ cannot be expressed in a finite number of bits, the estimation by QPE here is not always bounded by this accuracy. "
   ]
  },
  {
   "cell_type": "markdown",
   "id": "462bc45a",
   "metadata": {},
   "source": [
    "Running the following cell shows the same histogram but with all possible estimated $\\phi$ values on the x-axis."
   ]
  },
  {
   "cell_type": "code",
   "execution_count": null,
   "id": "4724c7c6",
   "metadata": {},
   "outputs": [],
   "source": [
    "phi_est = np.array([round(int(key, 2)/2**t,3) for key in list(count_qc4.keys())])\n",
    "key_new = list(map(str, phi_est))\n",
    "count_new = dict(zip(key_new, count_qc4.values()))\n",
    "plot_histogram(count_new, figsize=(9,5))"
   ]
  },
  {
   "cell_type": "markdown",
   "id": "0a4a2bf9",
   "metadata": {},
   "source": [
    "**Suppose the outcome of the final measurement is $m$, and let $b$ the best estimation which is `0.3125` for this case.**\n",
    "\n",
    "##### Step B. Find $e$, the maximum difference in integer from the best estimation <code>0101</code> so that all the outcomes, 'm's, would approximate $\\phi$ to an accuracy $2^{-2}$ when $|m - b| \\leq \\frac{e}{2^{t}}$."
   ]
  },
  {
   "cell_type": "markdown",
   "id": "260d2838",
   "metadata": {},
   "source": [
    "In this case, the values of $t$ and $b$ are $4$ and $0.3125$, respectively."
   ]
  },
  {
   "cell_type": "markdown",
   "id": "0531b8d0",
   "metadata": {},
   "source": [
    "For example, under $e = 1$, the considered outcomes are `0100`, `0101`, `0110` which correspond to the values of $m$: $0.25,~0.312,~0.375$, respectively, and all of them approximate the value $\\frac{1}{3}$ to an accuracy $2^{-2}$."
   ]
  },
  {
   "cell_type": "code",
   "execution_count": null,
   "id": "f5e4f251",
   "metadata": {},
   "outputs": [],
   "source": [
    "## Your code goes here\n",
    "\n",
    "\n",
    "\n",
    "\n",
    "\n",
    "\n",
    "\n",
    "\n",
    "\n"
   ]
  },
  {
   "cell_type": "markdown",
   "id": "bb28f9eb",
   "metadata": {},
   "source": [
    "##### Step C. Compute the probability of obtaining an approximation correct to an accuracy $2^{-2}$.  Verify that the computed probability value is larger or equal to $1- \\frac{1}{2(2^{(t-n)}-2)}$ where $t$ is the number of counting bits and the $2^{-n}$ is the desired accuracy. "
   ]
  },
  {
   "cell_type": "markdown",
   "id": "769f5f37",
   "metadata": {},
   "source": [
    "Now it is easy to evaluate the probability of the success from the histogram since all the outcomes that approximate $\\phi$ to the accuracy $2^{-2}$ can be found based on the maximum difference $e$ from the best estimate. "
   ]
  },
  {
   "cell_type": "code",
   "execution_count": null,
   "id": "44d4e79d",
   "metadata": {},
   "outputs": [],
   "source": [
    "## Your code goes here\n",
    "\n",
    "\n",
    "\n",
    "\n",
    "\n",
    "\n",
    "\n",
    "\n",
    "\n",
    "\n"
   ]
  },
  {
   "cell_type": "markdown",
   "id": "f894a9c2",
   "metadata": {},
   "source": [
    "#### 2. Compute the probability of success for the accuracy $2^{-2}$ when the number of counting qubits, $t$, varies from four to nine. Compare your result with the equation $t=n+log(2+\\frac{1}{2\\epsilon})$ when $2^{-n}$ is the desired accuracy and $\\epsilon$ is 1 - probability  of success."
   ]
  },
  {
   "cell_type": "markdown",
   "id": "9fa29e2f",
   "metadata": {},
   "source": [
    "The following plot shows the relationship between the number of counting qubit, t, and the minimum probability of success to approximate the phase to an accuracy $2^{-2}$.  Check the Ch. 5.2.1 Performance and requirements in `[QCQI]`."
   ]
  },
  {
   "cell_type": "code",
   "execution_count": null,
   "id": "3ef2dfed",
   "metadata": {},
   "outputs": [],
   "source": [
    "y = lambda t, n: 1-1/(2*(2**(t-n)-2))\n",
    "t_q = np.linspace(3.5, 9.5, 100 )\n",
    "p_min = y(t_q, 2)\n",
    "\n",
    "plt.figure(figsize=(7, 5))\n",
    "plt.plot(t_q, p_min, label='$p_{min}$')\n",
    "plt.xlabel('t: number of counting qubits')\n",
    "plt.ylabel('probability of success for the accuracy $2^{-2}$')\n",
    "plt.legend(loc='lower right')\n",
    "plt.title('Probability of success for different number of counting qubits')\n",
    "plt.show()"
   ]
  },
  {
   "cell_type": "markdown",
   "id": "800bee30",
   "metadata": {},
   "source": [
    "##### Step A. Construct QPE circuit to estimate $\\phi$ when $\\phi = 1/3$ with for the different number of counting qubits, $t$, when $t = [4, 5, 6, 7, 8, 9]$. Store all the circuits in a list variable 'circ' to simulate all the circuits at once as we did in Lab2."
   ]
  },
  {
   "cell_type": "code",
   "execution_count": null,
   "id": "ff05f5a0",
   "metadata": {},
   "outputs": [],
   "source": [
    "## Your Code to create the list variable 'circ' goes here\n",
    "\n",
    "\n",
    "\n",
    "\n",
    "\n",
    "\n",
    "\n",
    "\n",
    "\n",
    "\n",
    "\n",
    "\n",
    "\n",
    "\n",
    "\n",
    "\n",
    "\n",
    "\n",
    "\n"
   ]
  },
  {
   "cell_type": "code",
   "execution_count": null,
   "id": "71b2d553",
   "metadata": {},
   "outputs": [],
   "source": [
    "# Run this cell to simulate `circ` and plot the histograms of the results\n",
    "\n",
    "results = execute(circ, sim, shots=shots).result()\n",
    "\n",
    "n_circ = len(circ)\n",
    "counts = [results.get_counts(idx) for idx in range(n_circ)]\n",
    "\n",
    "fig, ax = plt.subplots(n_circ,1,figsize=(25,40))\n",
    "for idx in range(n_circ):\n",
    "    plot_histogram(counts[idx], ax=ax[idx])\n",
    "plt.tight_layout()"
   ]
  },
  {
   "cell_type": "markdown",
   "id": "78a3bd81",
   "metadata": {},
   "source": [
    "##### Step B. Determine $e$, the maximum difference in integer from the best estimation for the different number of counting qubits, $t = [4, 5, 6, 7, 8, 9]$. Verify the relationship $e=2^{t-n}-1$ where $n=2$ since the desired accuracy is $2^{-2}$ in this case. "
   ]
  },
  {
   "cell_type": "code",
   "execution_count": null,
   "id": "b8b8c367",
   "metadata": {},
   "outputs": [],
   "source": [
    "## Your Code goes here\n",
    "\n",
    "\n",
    "\n",
    "\n",
    "\n",
    "\n",
    "\n",
    "\n",
    "\n",
    "\n",
    "\n",
    "\n",
    "\n",
    "\n",
    "\n",
    "\n",
    "\n"
   ]
  },
  {
   "cell_type": "markdown",
   "id": "3521ff66",
   "metadata": {},
   "source": [
    "If you successfully calculated $e$ values for all the counting qubits, $t=[4,5,6,7,8,9]$, you will be able to generate the following graph that verifies the relationship $e = 2^{t-2} -1$ with the $e$ values that you computed."
   ]
  },
  {
   "cell_type": "markdown",
   "id": "bd98a051",
   "metadata": {},
   "source": [
    "##### Step C. Evaluate the probability of success estimating $\\phi$ to an accuracy $2^{-2}$ for all the values of $t$, the number of counting qubits. Save the probabilities to the list variable, 'prob_success'. "
   ]
  },
  {
   "cell_type": "code",
   "execution_count": null,
   "id": "427e98e3",
   "metadata": {},
   "outputs": [],
   "source": [
    "## Your code to create the list variable, 'prob_success',  goes here\n",
    "\n",
    "\n",
    "\n",
    "\n",
    "\n",
    "\n",
    "\n",
    "\n",
    "\n",
    "\n",
    "\n",
    "\n",
    "\n",
    "\n",
    "\n",
    "\n",
    "\n",
    "\n"
   ]
  },
  {
   "cell_type": "markdown",
   "id": "55037e97",
   "metadata": {},
   "source": [
    "##### Step D. Overlay the results of Step C on the graph that shows the relationship between the number of counting qubits, $t$, and the minimum probability of success to approximate the phase to an accuracy $2^{-2}$. Understand the result.  "
   ]
  },
  {
   "cell_type": "code",
   "execution_count": null,
   "id": "fa245eee",
   "metadata": {},
   "outputs": [],
   "source": [
    "## Your code goes here\n",
    "\n",
    "\n",
    "\n",
    "\n",
    "\n",
    "\n",
    "\n",
    "\n",
    "\n",
    "\n",
    "\n",
    "\n",
    "\n",
    "\n",
    "\n",
    "\n",
    "\n"
   ]
  },
  {
   "cell_type": "markdown",
   "id": "f1ebf3fa",
   "metadata": {},
   "source": [
    "Your plot should be similar to the above one. \n",
    "The line plot in the left panel shows the minimum success probability to estimate $\\phi$ within the accuracy $2^{-2}$ as the number of counting qubits varies. The overlaid orange dots are the same values, but from the simulation, which confirms the relationship the line plot represents as the lower bound.  The right panel displays the same result but zoomed by adjusting the y-axis range."
   ]
  },
  {
   "cell_type": "markdown",
   "id": "876d3cb9",
   "metadata": {},
   "source": [
    "The following graph exhibits the relationships with different accuracy levels.  The relationship, $t=n+log(2+\\frac{1}{2\\epsilon})$, indicates the number of counting qubits $t$ to estimate $\\phi$ to an accuracy $2^{-2}$ with probability of success at least $1-\\epsilon$, as we validated above. "
   ]
  },
  {
   "cell_type": "code",
   "execution_count": null,
   "id": "6f926f51",
   "metadata": {},
   "outputs": [],
   "source": [
    "t = np.linspace(5.1, 10, 100)\n",
    "prob_success_n = [y(t, n) for n in [2, 3, 4]]\n",
    "prob_n2, prob_n3, prob_n4  = prob_success_n[0], prob_success_n[1], prob_success_n[2]\n",
    "\n",
    "plt.figure(figsize=(7, 5))\n",
    "plt.plot(t, prob_n2, t, prob_n3, t, prob_n4, t, [1]*len(t),'--' )\n",
    "plt.axis([5, 10, 0.7, 1.05])\n",
    "plt.xlabel('t: number of counting qubits')\n",
    "plt.ylabel('probability of success for the accuracy $2^{-n}$')\n",
    "plt.legend(['n = 2', 'n = 3', 'n = 4'], loc='lower right')\n",
    "plt.grid(True)"
   ]
  },
  {
   "cell_type": "markdown",
   "id": "cdc4bc6b",
   "metadata": {},
   "source": [
    "## Part 4 Quantum Error Correction\n",
    " "
   ]
  },
  {
   "cell_type": "markdown",
   "id": "7d365d0c",
   "metadata": {},
   "source": [
    "Prerequisite\n",
    "- [5.1 Introduction to Quantum Error Correction](https://qiskit.org/textbook/ch-quantum-hardware/error-correction-repetition-code.html#Storing-qubits)\n",
    "- [3.6 Quantum Phase Estimation](https://qiskit.org/textbook/ch-algorithms/quantum-phase-estimation.html)\n",
    "\n",
    "Other relevant materials\n",
    "- [Statevector method](https://qiskit.org/documentation/stubs/qiskit.quantum_info.Statevector.html#qiskit.quantum_info.Statevector.from_instruction)\n",
    "- [qsphere](https://qiskit.org/documentation/tutorials/circuits/2_plotting_data_in_qiskit.html#Plot-State)"
   ]
  },
  {
   "cell_type": "code",
   "execution_count": null,
   "id": "47acb725",
   "metadata": {},
   "outputs": [],
   "source": [
    "from qiskit import *\n",
    "from qiskit.visualization import plot_histogram\n",
    "from qiskit.visualization import plot_state_qsphere, plot_bloch_vector\n",
    "\n",
    "from qiskit.quantum_info import Statevector\n",
    "\n",
    "import numpy as np"
   ]
  },
  {
   "cell_type": "code",
   "execution_count": null,
   "id": "0ff184ae",
   "metadata": {},
   "outputs": [],
   "source": [
    "sim = Aer.get_backend('aer_simulator')"
   ]
  },
  {
   "cell_type": "markdown",
   "id": "fb615c76",
   "metadata": {},
   "source": [
    "### 3-qubit code\n",
    "\n",
    "<br>\n",
    "<div style=\"background: #E8E7EB; border-radius: 5px;\n",
    "-moz-border-radius: 5px;\">\n",
    "  <p style=\"background: #800080;\n",
    "            border-radius: 5px 5px 0px 0px;\n",
    "            padding: 10px 0px 10px 10px;\n",
    "            font-size:18px;\n",
    "            color:white;\n",
    "            \"><b>Goal</b></p>\n",
    "    <p style=\" padding: 0px 0px 10px 10px;\n",
    "              font-size:16px;\"> Create circuits for 3-qubit code that encodes a one qubit state into a three qubit code state and utilize partiy check to detect and localise either bit-flip ( X ) or phase-flip ( Z ) errors on a single qubit in the codes.</p>\n",
    "</div>"
   ]
  },
  {
   "cell_type": "markdown",
   "id": "4d4badf7",
   "metadata": {},
   "source": [
    "#### 1. Detect and locate a single bit-flip ( X ) error utilizing 3-qubit code and parity check circuit."
   ]
  },
  {
   "cell_type": "markdown",
   "id": "6973fe94",
   "metadata": {},
   "source": [
    "##### Step A. Create a circuit to encode the state $|\\psi\\rangle = \\frac{1}{\\sqrt{2}}(|0\\rangle + i|1\\rangle)$ into 3-qubit code state, $\\frac{1}{\\sqrt{2}}(|000\\rangle + i|111\\rangle)$ to be protected from one bit-flip ( X ) error."
   ]
  },
  {
   "cell_type": "code",
   "execution_count": null,
   "id": "aecf36f2",
   "metadata": {},
   "outputs": [],
   "source": [
    "qc_3qx = QuantumCircuit(3)\n",
    "\n",
    "##################################################\n",
    "### your code goes here. ###\n",
    "\n",
    "\n",
    "\n",
    "\n",
    "\n",
    "\n",
    "\n",
    "\n",
    "\n",
    "\n",
    "##################################################\n",
    "\n",
    "#######\n",
    "qc_3qx.draw('mpl')"
   ]
  },
  {
   "cell_type": "markdown",
   "id": "165e18b8",
   "metadata": {},
   "source": [
    "##### Step B. Plot the 3-qubit code state produced by the above circuit, <code>qc_3qx</code> on the qsphere to validate the encoding. "
   ]
  },
  {
   "cell_type": "markdown",
   "id": "77894ae0",
   "metadata": {},
   "source": [
    "The state displayed on the qshpere should match the 3-qubit code state for $|\\psi\\rangle$ upto a global phase."
   ]
  },
  {
   "cell_type": "code",
   "execution_count": null,
   "id": "e8edf983",
   "metadata": {},
   "outputs": [],
   "source": [
    "### your code goes here ###\n",
    "\n",
    "\n",
    "\n",
    "\n",
    "\n",
    "\n",
    "\n",
    "\n",
    "\n",
    "\n",
    "\n"
   ]
  },
  {
   "cell_type": "markdown",
   "id": "40f2f7cc",
   "metadata": {},
   "source": [
    "##### Step C. Implement the parity check gates to detect and localize a single bit flip error on the code qubits."
   ]
  },
  {
   "cell_type": "markdown",
   "id": "4dae3190",
   "metadata": {},
   "source": [
    "Following operation will apply a single bit flip error on the code. Execute the cells below."
   ]
  },
  {
   "cell_type": "code",
   "execution_count": null,
   "id": "3b19d88d",
   "metadata": {},
   "outputs": [],
   "source": [
    "def apply_err(n, err):\n",
    "    \n",
    "    qc = QuantumCircuit(int(n), name='Error')\n",
    "    which_qubit = np.random.randint(n)\n",
    "    \n",
    "    if err=='bit':\n",
    "        qc.x(which_qubit)\n",
    "    elif err=='phase':\n",
    "        qc.z(which_qubit)\n",
    "    else:\n",
    "        pass\n",
    "    \n",
    "    err = qc.to_gate()\n",
    "    \n",
    "    return err, which_qubit"
   ]
  },
  {
   "cell_type": "code",
   "execution_count": null,
   "id": "fa2c76a0",
   "metadata": {},
   "outputs": [],
   "source": [
    "err, which_qubit = apply_err(3, 'bit')\n",
    "\n",
    "qc_3qx.append(err,range(3))\n",
    "qc_3qx.draw('mpl')"
   ]
  },
  {
   "cell_type": "markdown",
   "id": "683f7de0",
   "metadata": {},
   "source": [
    "&#128211; Apply the parity check gates on the circuit `qc` with the extra registers for the appropriate number of auxiliary qubits and syndrome bits to locate a bit-flip ( X ) error on a single qubit in the code. ( For 3 qubit code, the number of syndrome bit states is equal to the number of possible single bit-flip error, including no error.)"
   ]
  },
  {
   "cell_type": "code",
   "execution_count": null,
   "id": "02555368",
   "metadata": {},
   "outputs": [],
   "source": [
    "# Execute this cell to add the extra registers\n",
    "\n",
    "k = int(input('number of auxiliary qubits ( / syndrome bits): '))\n",
    "qc_3qx.add_register(QuantumRegister(k, 'auxiliary'))\n",
    "qc_3qx.add_register(ClassicalRegister(k, 'syndrome'))"
   ]
  },
  {
   "cell_type": "code",
   "execution_count": null,
   "id": "8fab1a06",
   "metadata": {},
   "outputs": [],
   "source": [
    "# Apply the parity check gates and measure the parities on the syndrome bits to localize a single bit-flip ( X ) error on the code.\n",
    "\n",
    "##################################################\n",
    "### your code goes here. ###\n",
    "\n",
    "\n",
    "\n",
    "\n",
    "\n",
    "\n",
    "\n",
    "\n",
    "\n",
    "\n",
    "##################################################\n",
    "\n",
    "qc_3qx.draw('mpl')"
   ]
  },
  {
   "cell_type": "markdown",
   "id": "6647cc68",
   "metadata": {},
   "source": [
    "##### Step D. Complete the dictionary in the following cell to make the syndrome look-up table for all single bit-flip errors on the three qubit code."
   ]
  },
  {
   "cell_type": "markdown",
   "id": "146be047",
   "metadata": {},
   "source": [
    "The key of the dictionary is a two-bit string for the syndrome and the values reprent the corresponding a single qubit error gates with the appropriate qubit indicies on the code circuit."
   ]
  },
  {
   "cell_type": "code",
   "execution_count": null,
   "id": "105155dd",
   "metadata": {},
   "outputs": [],
   "source": [
    "#### complete the dictionary ###\n",
    "\n",
    "table_syndrome = {'00': 'I[0]I[1]I[2]', '01':'  ', \n",
    "                  '10':'  ', '11':' I[0]X[1]I[2] '}\n",
    "\n",
    "######\n",
    "print(table_syndrome)"
   ]
  },
  {
   "cell_type": "markdown",
   "id": "f5250bcc",
   "metadata": {},
   "source": [
    "Run the following cell to execute the circuit `qc_xerr` on `aer_simulator`."
   ]
  },
  {
   "cell_type": "code",
   "execution_count": null,
   "id": "80eeef63",
   "metadata": {},
   "outputs": [],
   "source": [
    "qc_3qx_trans = transpile(qc_3qx, sim)\n",
    "syndrome = sim.run(qc_3qx_trans, shots=1, memory=True).result().get_memory()\n",
    "print(syndrome)"
   ]
  },
  {
   "cell_type": "markdown",
   "id": "7357e0e3",
   "metadata": {},
   "source": [
    "##### Step E. Find the single bit-error and two bit-error based on the measured syndrome bits and check your answer with the value of the variable, <code>which_qubit</code>"
   ]
  },
  {
   "cell_type": "markdown",
   "id": "aba9e872",
   "metadata": {},
   "source": [
    "Run the following cell. "
   ]
  },
  {
   "cell_type": "code",
   "execution_count": null,
   "id": "6c672ab9",
   "metadata": {},
   "outputs": [],
   "source": [
    "your_answer = input('Enter the index of the code qubit that underwent bit-flip error: ')\n",
    "print('\\n')\n",
    "print(which_qubit == int(your_answer))"
   ]
  },
  {
   "cell_type": "markdown",
   "id": "9e2d928b",
   "metadata": {},
   "source": [
    "##### Step F. Identify the logical $X$ ( $X_{L}$ ) and logical $Z$ ( $Z_{L}$ ) operators for the three qubit bit flip code."
   ]
  },
  {
   "cell_type": "markdown",
   "id": "e5bdc79b",
   "metadata": {},
   "source": [
    "&#128211; Find the logical $X$, $X_{L}$, for three qubit bit flip code where $X_{L}|000\\rangle = |111\\rangle$. Construct a circuit to perform $X_{L}|0\\rangle_{L}$ and simulate it to check if the state produced by the circuit is $|1\\rangle_{L}$, where the logical code word basis states, $|0\\rangle_{L}$ and $|1\\rangle_{L}$, are encoded as $|0\\rangle_{L} = |000\\rangle, ~ |1\\rangle_{L}=|111\\rangle$ . "
   ]
  },
  {
   "cell_type": "code",
   "execution_count": null,
   "id": "6318ad46",
   "metadata": {},
   "outputs": [],
   "source": [
    "##################################################\n",
    "### your code goes here ###\n",
    "\n",
    "\n",
    "\n",
    "\n",
    "\n",
    "\n",
    "\n",
    "\n",
    "##################################################\n",
    "\n",
    "bits_out = sim.run(qc_XL, shots=1, memory=True).result().get_memory()\n",
    "print(bits_out)"
   ]
  },
  {
   "cell_type": "markdown",
   "id": "03937b4a",
   "metadata": {},
   "source": [
    "&#128211; Find the minimal weight encoded logical $Z$ ( there are four equivalent $Z_{L}$s. ) where $Z_{L}|+\\rangle_{L} = |-\\rangle_{L}$ and $|+\\rangle_{L} = |0\\rangle_{L} + |1\\rangle_{L}, ~~ |-\\rangle_{L} = |0\\rangle_{L} - |1\\rangle_{L}$ . What is the distance of the three qubit bit flip code? Can it detect or/and correct a single phase-flip ( Z ) error?"
   ]
  },
  {
   "cell_type": "markdown",
   "id": "1a8c80fc",
   "metadata": {},
   "source": [
    "- weight: the weight of an operator is the number of qubits that it acts non-trivially on. ( E.g. $Z\\otimes Z\\otimes I$ has weight 2. )\n",
    "- distance of a code: the minimum number of errors that will change one logical code word basis state to another or the maximum number of errors that can be detected."
   ]
  },
  {
   "cell_type": "markdown",
   "id": "2ec3e390",
   "metadata": {},
   "source": [
    "**Your answer :** \n",
    "\n"
   ]
  },
  {
   "cell_type": "markdown",
   "id": "bb0d3775",
   "metadata": {},
   "source": [
    "#### 2. Construct a circuit that encodes one qubit state into 3-qubit code states and can locate a single phase-flip ( Z ) error through parity check."
   ]
  },
  {
   "cell_type": "markdown",
   "id": "c2a05398",
   "metadata": {},
   "source": [
    "##### Step A. Create a circuit to encode the state $|\\psi\\rangle = \\frac{1}{\\sqrt{2}}(|0\\rangle + i|1\\rangle)$ into a 3-qubit code to protect it from one phase-flip ( Z ) error."
   ]
  },
  {
   "cell_type": "markdown",
   "id": "51c44ec5",
   "metadata": {},
   "source": [
    "Here, the logical code word basis states, $|0\\rangle_{L}$ and $|1\\rangle_{L}$, are encoded as, $|0\\rangle_{L} = |+++\\rangle$ and $|1\\rangle_{L} = |---\\rangle$."
   ]
  },
  {
   "cell_type": "code",
   "execution_count": null,
   "id": "4583cdfc",
   "metadata": {},
   "outputs": [],
   "source": [
    "qc_3qz = QuantumCircuit(3)\n",
    "\n",
    "##################################################\n",
    "### your code goes here. ###\n",
    "\n",
    "\n",
    "\n",
    "\n",
    "\n",
    "\n",
    "\n",
    "\n",
    "##################################################\n",
    "\n",
    "qc_3qz.draw('mpl')"
   ]
  },
  {
   "cell_type": "markdown",
   "id": "949c471c",
   "metadata": {},
   "source": [
    "##### Step B. Implement the parity check gates to detect and localize a single phase flip error on the code qubits."
   ]
  },
  {
   "cell_type": "markdown",
   "id": "6755ae3b",
   "metadata": {},
   "source": [
    "Extra registers need to be added on the circuit for the auxiliary qubits and syndrome bits."
   ]
  },
  {
   "cell_type": "code",
   "execution_count": null,
   "id": "f531cc66",
   "metadata": {},
   "outputs": [],
   "source": [
    "err, which_qubit = apply_err(3, 'phase')\n",
    "qc_3qz.append(err, range(3))\n",
    "\n",
    "##################################################\n",
    "### your code goes here ###\n",
    "\n",
    "\n",
    "\n",
    "\n",
    "\n",
    "\n",
    "\n",
    "\n",
    "\n",
    "\n",
    "\n",
    "##################################################\n",
    "\n",
    "qc_3qz.draw('mpl')\n"
   ]
  },
  {
   "cell_type": "markdown",
   "id": "4cd5adac",
   "metadata": {},
   "source": [
    "Excute the cell below to run the circuit `qc_zerr` on `aer_simulator`."
   ]
  },
  {
   "cell_type": "code",
   "execution_count": null,
   "id": "aca1df6a",
   "metadata": {},
   "outputs": [],
   "source": [
    "qc_3qz_trans = transpile(qc_3qz, sim)\n",
    "syndrome = sim.run(qc_3qz_trans, shots=1, memory=True).result().get_memory()\n",
    "print(syndrome)"
   ]
  },
  {
   "cell_type": "markdown",
   "id": "b26fcbab",
   "metadata": {},
   "source": [
    "##### Step C. Find the single phase-error based on the measured syndrome bits and check your answer with the value of the variable, <code>which_qubit</code>."
   ]
  },
  {
   "cell_type": "code",
   "execution_count": null,
   "id": "c30f574a",
   "metadata": {},
   "outputs": [],
   "source": [
    "your_answer = input('Enter the index of the code qubit that underwent phase-flip error: ')\n",
    "print('\\n')\n",
    "print(which_qubit == int(your_answer))"
   ]
  },
  {
   "cell_type": "markdown",
   "id": "603f87fc",
   "metadata": {},
   "source": [
    "### Repetition code as a stabilizer code\n",
    "\n",
    "<br>\n",
    "<div style=\"background: #E8E7EB; border-radius: 5px;\n",
    "-moz-border-radius: 5px;\">\n",
    "  <p style=\"background: #800080;\n",
    "            border-radius: 5px 5px 0px 0px;\n",
    "            padding: 10px 0px 10px 10px;\n",
    "            font-size:18px;\n",
    "            color:white;\n",
    "            \"><b>Goal</b></p>\n",
    "    <p style=\" padding: 0px 0px 10px 10px;\n",
    "              font-size:16px;\"> Stabilizer formalism defines Quantum Error Correcting Codes ( QECC ) by the set of operators that stabilize the logical code word states, instead of its state vectors. Interpreting quantum error correcting codes in terms of its stabilizers is beneficial since the decription of QECC is more concise and encoded logical operators can be obtained systematically. In the part 2 of this lab, we re-construct the repetition code as a stabilizer code to understand this new method.</p>\n",
    "</div>"
   ]
  },
  {
   "cell_type": "markdown",
   "id": "91ea7ea9",
   "metadata": {},
   "source": [
    "#### 1. Find the two independent stablizer operators for the 3 qubit code states, $|000\\rangle,~ |111\\rangle$."
   ]
  },
  {
   "cell_type": "markdown",
   "id": "2063882e",
   "metadata": {},
   "source": [
    "- The stabilizer operator $S$ of a n-qubit state $|\\psi\\rangle$ is the set of n-qubit Pauli operators that satisfy $S|\\psi\\rangle = |\\psi\\rangle$."
   ]
  },
  {
   "cell_type": "markdown",
   "id": "0c18e9a5",
   "metadata": {},
   "source": [
    "**Your answer :** "
   ]
  },
  {
   "cell_type": "markdown",
   "id": "33f11b26",
   "metadata": {},
   "source": [
    "#### 2. Construct a Quantum Phase Estimation ( QPE ) circuit to produce the eigenvalues for one of the stablizer, $I\\otimes Z\\otimes Z$."
   ]
  },
  {
   "cell_type": "markdown",
   "id": "825bd799",
   "metadata": {},
   "source": [
    "##### Step A. What are the eigenvalues of the operator $I\\otimes Z \\otimes Z$? Determine the minimum number of counting qubits needed in QPE circuit to estimate the eigenvalue accurately."
   ]
  },
  {
   "cell_type": "markdown",
   "id": "917f0334",
   "metadata": {},
   "source": [
    "**Your answer :** "
   ]
  },
  {
   "cell_type": "code",
   "execution_count": null,
   "id": "8afb52d1",
   "metadata": {},
   "outputs": [],
   "source": [
    "## Your answer goes here\n",
    "t = int(input('The number of counting qubit: '))"
   ]
  },
  {
   "cell_type": "markdown",
   "id": "0cf443b6",
   "metadata": {},
   "source": [
    "##### Step B. Complete the following code to build the QPE circuit."
   ]
  },
  {
   "cell_type": "markdown",
   "id": "e7874ea1",
   "metadata": {},
   "source": [
    "Note: The QPE circuit essentially performs the projective measurement of the operator $I\\otimes Z\\otimes Z$ on the $|\\psi\\rangle = |0\\rangle \\otimes |0\\rangle \\otimes|+\\rangle$."
   ]
  },
  {
   "cell_type": "code",
   "execution_count": null,
   "id": "aab833e6",
   "metadata": {},
   "outputs": [],
   "source": [
    "qc0 = QuantumCircuit(t+3, 1)\n",
    "\n",
    "qc0.h(-1)\n",
    "qc0.barrier()\n",
    "\n",
    "##################################################\n",
    "## your code goes here ##\n",
    "\n",
    "\n",
    "\n",
    "\n",
    "\n",
    "\n",
    "\n",
    "\n",
    "\n",
    "\n",
    "##################################################\n",
    "\n",
    "qc0.measure(0, 0)\n",
    "qc0.draw('mpl')"
   ]
  },
  {
   "cell_type": "code",
   "execution_count": null,
   "id": "ada4b6d2",
   "metadata": {},
   "outputs": [],
   "source": [
    "counts_qc0 = sim.run(qc0, shots=8192).result().get_counts()\n",
    "plot_histogram(counts_qc0)"
   ]
  },
  {
   "cell_type": "markdown",
   "id": "6fd9ac0a",
   "metadata": {},
   "source": [
    "##### Step C. Using the circuit identities, convert QPE part of the above circuit <code>qc0</code> to the one with only CNOT gates."
   ]
  },
  {
   "cell_type": "code",
   "execution_count": null,
   "id": "a4b35a51",
   "metadata": {},
   "outputs": [],
   "source": [
    "qc1 = QuantumCircuit(t+3, 1)\n",
    "\n",
    "qc1.h(-1)\n",
    "qc1.barrier()\n",
    "\n",
    "##################################################\n",
    "## your code goes here ##\n",
    "\n",
    "\n",
    "\n",
    "\n",
    "\n",
    "\n",
    "\n",
    "\n",
    "\n",
    "\n",
    "\n",
    "##################################################\n",
    "\n",
    "qc1.measure(0, 0)\n",
    "qc1.draw('mpl')"
   ]
  },
  {
   "cell_type": "code",
   "execution_count": null,
   "id": "c7e826d2",
   "metadata": {},
   "outputs": [],
   "source": [
    "counts_qc1 = sim.run(qc1, shots=8192).result().get_counts()\n",
    "plot_histogram(counts_qc1)"
   ]
  },
  {
   "cell_type": "markdown",
   "id": "1a41cba1",
   "metadata": {},
   "source": [
    "##### Summary"
   ]
  },
  {
   "cell_type": "markdown",
   "id": "f0c54aab",
   "metadata": {},
   "source": [
    "An error correcting code can be defined as an independent set of stabilizers and the errors are dectected by the measurement outcomes of this set of stabilizers.\n",
    "\n",
    "Here, in part2 of this lab, we checked that there are two indepndent stabilizers for the three qubit repetition code, and measuring a stabilizer is equivalent to checking a parity. Therefore, to obtain set of syndromes for a single bit error detection with the three qubit repetition code, the circuit for encoding an arbitrary single qubit state and measuring two stabilizers has the folllowing structure."
   ]
  },
  {
   "attachments": {
    "image.png": {
     "image/png": "[encoded data removed]"
    }
   },
   "cell_type": "markdown",
   "id": "4f2ddfee",
   "metadata": {},
   "source": [
    "![image.png](attachment:image.png)"
   ]
  }
 ],
 "metadata": {
  "kernelspec": {
   "display_name": "Python 3 (ipykernel)",
   "language": "python",
   "name": "python3"
  },
  "language_info": {
   "codemirror_mode": {
    "name": "ipython",
    "version": 3
   },
   "file_extension": ".py",
   "mimetype": "text/x-python",
   "name": "python",
   "nbconvert_exporter": "python",
   "pygments_lexer": "ipython3",
   "version": "3.8.15"
  },
  "widgets": {
   "application/vnd.jupyter.widget-state+json": {
    "state": {
     "023501873e39468c84b5e44258db89e2": {
      "model_module": "@jupyter-widgets/controls",
      "model_module_version": "1.5.0",
      "model_name": "DescriptionStyleModel",
      "state": {
       "description_width": ""
      }
     },
     "1b334f67c56342d6be2c63746a016f3b": {
      "model_module": "@jupyter-widgets/controls",
      "model_module_version": "1.5.0",
      "model_name": "DescriptionStyleModel",
      "state": {
       "description_width": ""
      }
     },
     "286c1debf1f74c898f33dba8be212809": {
      "model_module": "@jupyter-widgets/controls",
      "model_module_version": "1.5.0",
      "model_name": "HTMLModel",
      "state": {
       "layout": "IPY_MODEL_7af5a97d7f754cf7923ecabde5fa0c13",
       "style": "IPY_MODEL_e28bb6af18b4445cbfb32f13e24f7828",
       "value": "<p style='font-family: IBM Plex Sans, Arial, Helvetica, sans-serif; font-size: 20px; font-weight: medium;'>Circuit Properties</p>"
      }
     },
     "30940865a3b446dbbff8ab4b9415a020": {
      "model_module": "@jupyter-widgets/base",
      "model_module_version": "1.2.0",
      "model_name": "LayoutModel",
      "state": {
       "width": "190px"
      }
     },
     "3d6e463a0d334c0eb71a5fde59973be4": {
      "model_module": "@jupyter-widgets/controls",
      "model_module_version": "1.5.0",
      "model_name": "HTMLModel",
      "state": {
       "layout": "IPY_MODEL_a2a1a25c68994e678e4de187a4f022df",
       "style": "IPY_MODEL_8d058b4e03e6472fa6cdb9313e051938",
       "value": "<h5>Message</h5>"
      }
     },
     "3f50c16108384147a17dd61f7f185939": {
      "model_module": "@jupyter-widgets/controls",
      "model_module_version": "1.5.0",
      "model_name": "ButtonModel",
      "state": {
       "button_style": "primary",
       "description": "Clear",
       "layout": "IPY_MODEL_a7d47c206a3b4944bb10519480fbdd27",
       "style": "IPY_MODEL_fea0faf4708748cb81cfbc91f2ff5948"
      }
     },
     "412a7fb74b274f8d9568cfc40f44d79c": {
      "model_module": "@jupyter-widgets/base",
      "model_module_version": "1.2.0",
      "model_name": "LayoutModel",
      "state": {
       "grid_template_areas": "\n                                       \". . . . right \"\n                                        ",
       "grid_template_columns": "20% 20% 20% 20% 20%",
       "width": "100%"
      }
     },
     "51dae960464040f4acaa238e08a7d863": {
      "model_module": "@jupyter-widgets/controls",
      "model_module_version": "1.5.0",
      "model_name": "HTMLModel",
      "state": {
       "layout": "IPY_MODEL_ffc2adb185344e7d9251849c67d9520c",
       "style": "IPY_MODEL_1b334f67c56342d6be2c63746a016f3b",
       "value": "<h5>Queue</h5>"
      }
     },
     "6326d13368fd428a980784c25601e405": {
      "model_module": "@jupyter-widgets/base",
      "model_module_version": "1.2.0",
      "model_name": "LayoutModel",
      "state": {
       "width": "95px"
      }
     },
     "698e68ab96ca4e72af146f1c4a430e9c": {
      "model_module": "@jupyter-widgets/controls",
      "model_module_version": "1.5.0",
      "model_name": "HTMLModel",
      "state": {
       "layout": "IPY_MODEL_30940865a3b446dbbff8ab4b9415a020",
       "style": "IPY_MODEL_d0100a48ed794b47bc24a6a3b29f7ba7",
       "value": "<h5>Job ID</h5>"
      }
     },
     "7af5a97d7f754cf7923ecabde5fa0c13": {
      "model_module": "@jupyter-widgets/base",
      "model_module_version": "1.2.0",
      "model_name": "LayoutModel",
      "state": {
       "margin": "0px 0px 10px 0px"
      }
     },
     "854d9f3908bf431b94a9e959c03f45d8": {
      "model_module": "@jupyter-widgets/base",
      "model_module_version": "1.2.0",
      "model_name": "LayoutModel",
      "state": {
       "margin": "0px 0px 0px 37px",
       "width": "600px"
      }
     },
     "856df6e62f2548e7920eb693fc95d17e": {
      "model_module": "@jupyter-widgets/controls",
      "model_module_version": "1.5.0",
      "model_name": "HTMLModel",
      "state": {
       "layout": "IPY_MODEL_6326d13368fd428a980784c25601e405",
       "style": "IPY_MODEL_fbf7ad3d17d845fdb3cb2974e526d9dd",
       "value": "<h5>Status</h5>"
      }
     },
     "8a2538d6637e4212a373143f6bb9adcc": {
      "model_module": "@jupyter-widgets/controls",
      "model_module_version": "1.5.0",
      "model_name": "GridBoxModel",
      "state": {
       "children": [
        "IPY_MODEL_3f50c16108384147a17dd61f7f185939"
       ],
       "layout": "IPY_MODEL_412a7fb74b274f8d9568cfc40f44d79c"
      }
     },
     "8d058b4e03e6472fa6cdb9313e051938": {
      "model_module": "@jupyter-widgets/controls",
      "model_module_version": "1.5.0",
      "model_name": "DescriptionStyleModel",
      "state": {
       "description_width": ""
      }
     },
     "9e2a6e4d0ba941919bd73ab1d176f93d": {
      "model_module": "@jupyter-widgets/controls",
      "model_module_version": "1.5.0",
      "model_name": "HBoxModel",
      "state": {
       "children": [
        "IPY_MODEL_698e68ab96ca4e72af146f1c4a430e9c",
        "IPY_MODEL_ac2e877af46b4d48aaf2f082e31167fe",
        "IPY_MODEL_856df6e62f2548e7920eb693fc95d17e",
        "IPY_MODEL_51dae960464040f4acaa238e08a7d863",
        "IPY_MODEL_3d6e463a0d334c0eb71a5fde59973be4"
       ],
       "layout": "IPY_MODEL_854d9f3908bf431b94a9e959c03f45d8"
      }
     },
     "a2a1a25c68994e678e4de187a4f022df": {
      "model_module": "@jupyter-widgets/base",
      "model_module_version": "1.2.0",
      "model_name": "LayoutModel",
      "state": {}
     },
     "a7d47c206a3b4944bb10519480fbdd27": {
      "model_module": "@jupyter-widgets/base",
      "model_module_version": "1.2.0",
      "model_name": "LayoutModel",
      "state": {
       "grid_area": "right",
       "padding": "0px 0px 0px 0px",
       "width": "70px"
      }
     },
     "ac2e877af46b4d48aaf2f082e31167fe": {
      "model_module": "@jupyter-widgets/controls",
      "model_module_version": "1.5.0",
      "model_name": "HTMLModel",
      "state": {
       "layout": "IPY_MODEL_f6063145dc6d4bdf8eb7eb13e885672e",
       "style": "IPY_MODEL_023501873e39468c84b5e44258db89e2",
       "value": "<h5>Backend</h5>"
      }
     },
     "d0100a48ed794b47bc24a6a3b29f7ba7": {
      "model_module": "@jupyter-widgets/controls",
      "model_module_version": "1.5.0",
      "model_name": "DescriptionStyleModel",
      "state": {
       "description_width": ""
      }
     },
     "e28bb6af18b4445cbfb32f13e24f7828": {
      "model_module": "@jupyter-widgets/controls",
      "model_module_version": "1.5.0",
      "model_name": "DescriptionStyleModel",
      "state": {
       "description_width": ""
      }
     },
     "f6063145dc6d4bdf8eb7eb13e885672e": {
      "model_module": "@jupyter-widgets/base",
      "model_module_version": "1.2.0",
      "model_name": "LayoutModel",
      "state": {
       "width": "145px"
      }
     },
     "fbf7ad3d17d845fdb3cb2974e526d9dd": {
      "model_module": "@jupyter-widgets/controls",
      "model_module_version": "1.5.0",
      "model_name": "DescriptionStyleModel",
      "state": {
       "description_width": ""
      }
     },
     "fea0faf4708748cb81cfbc91f2ff5948": {
      "model_module": "@jupyter-widgets/controls",
      "model_module_version": "1.5.0",
      "model_name": "ButtonStyleModel",
      "state": {}
     },
     "ffc2adb185344e7d9251849c67d9520c": {
      "model_module": "@jupyter-widgets/base",
      "model_module_version": "1.2.0",
      "model_name": "LayoutModel",
      "state": {
       "width": "70px"
      }
     }
    },
    "version_major": 2,
    "version_minor": 0
   }
  }
 },
 "nbformat": 4,
 "nbformat_minor": 5
}
