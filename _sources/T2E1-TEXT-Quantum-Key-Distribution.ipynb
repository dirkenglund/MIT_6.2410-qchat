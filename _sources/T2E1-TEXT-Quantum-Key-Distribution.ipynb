{
 "cells": [
  {
   "cell_type": "markdown",
   "metadata": {
    "id": "oNeyVVdqReyP"
   },
   "source": [
    "# QKD Text\n",
    "Name\n",
    "\n",
    "Date"
   ]
  },
  {
   "cell_type": "markdown",
   "metadata": {
    "id": "4n8ROY0PReyT"
   },
   "source": [
    "## Pre-Lab\n",
    "\n",
    "#### Worked Problem #1 - entangled photon generation\n",
    "For example:\n",
    "\n",
    "If I put in vertical pump light, for type 0 SPDC I expect signal and idler to be vertical. For Type 1, I expect signal and idler to be horizontal, and for type 2, I expect signal to be horizontal and idler to be vertical. See, e.g. [HC Photonics page on PPLN](https://www.hcphotonics.com/ppln-guide-overview)\n",
    "\n",
    "For example: \n",
    "\n",
    "If I tell you the pump has $\\lambda_p$ and the signal is $\\lambda_s$, can you tell me $\\lambda_i$ of the idler? \n",
    "$$\n",
    "E = \\hbarω\n",
    "$$\n",
    "$$\n",
    "E_p = E_s + E_i\n",
    "$$\n",
    "$$\n",
    "ω_p = ω_s + ω_i \n",
    "$$\n",
    "$$\n",
    "ω_i = ω_p - ω_s\n",
    "$$\n",
    "$$\n",
    "ω = 2πc/λ\n",
    "$$\n",
    "$$\n",
    "1/λ_i = 1/λ_p - 1/λ_s\n",
    "$$"
   ]
  },
  {
   "cell_type": "markdown",
   "metadata": {
    "id": "v4x48Cw4ReyW"
   },
   "source": [
    "#### Worked Problem #2 - One time pad encryption\n",
    "In order to use OTP, you need a key that's the same length as the message. Additionally, you need a new key for every message you want to encrypt and send: the protocol is only secure when each pad is used only once.\n",
    "\n",
    "Encrypting and decrypting a message is simple: bitwise XOR with the key. If you XOR the raw message with the key, you get the ciphertext. Then if you XOR the cypher test with the key, you get the initial message back."
   ]
  },
  {
   "cell_type": "code",
   "execution_count": 1,
   "metadata": {
    "colab": {
     "base_uri": "https://localhost:8080/"
    },
    "executionInfo": {
     "elapsed": 237,
     "status": "ok",
     "timestamp": 1666626724943,
     "user": {
      "displayName": "Jane Heyes",
      "userId": "06068465886227403703"
     },
     "user_tz": 240
    },
    "id": "GrSF8RcQReyZ",
    "outputId": "818992a2-251a-4308-e460-32803f79d361"
   },
   "outputs": [
    {
     "name": "stdout",
     "output_type": "stream",
     "text": [
      "Message: [1 1 0 1 1 0 0 0 1 0]\n",
      "Key    : [0 0 0 1 1 0 0 0 0 0]\n",
      "Now XOR those to get the cyphertext:\n",
      "Cypher : [1 1 0 0 0 0 0 0 1 0]\n",
      "To recover the original message, you XOR the key and the cypher\n",
      "Key    : [0 0 0 1 1 0 0 0 0 0]\n",
      "Cypher : [1 1 0 0 0 0 0 0 1 0]\n",
      "The recovered message after decryption is\n",
      "Decrypt: [1 1 0 1 1 0 0 0 1 0]\n",
      "Compare with original message\n",
      "Message: [1 1 0 1 1 0 0 0 1 0]\n"
     ]
    }
   ],
   "source": [
    "import numpy as np\n",
    "import random\n",
    "\n",
    "LENGTH = 10;\n",
    "# Generate a random message\n",
    "mess = np.random.randint(low = 0, high = 2, size = (LENGTH,))\n",
    "\n",
    "# Generate a random key\n",
    "key = np.random.randint(low = 0, high = 2, size = (LENGTH,))\n",
    "\n",
    "# Generate the cypher text by performing bitwise XOR on the key and the message\n",
    "cypher = mess^key\n",
    "\n",
    "# Recover the original message by performing bitwise XOR on the cypher\n",
    "# and the key\n",
    "recover = cypher^key\n",
    "\n",
    "print(\"Message: % s\" %(mess))\n",
    "print(\"Key    : % s\" %(key))\n",
    "print(\"Now XOR those to get the cyphertext:\")\n",
    "print(\"Cypher : % s\" %(cypher))\n",
    "print(\"To recover the original message, you XOR the key and the cypher\")\n",
    "print(\"Key    : % s\" %(key))\n",
    "print(\"Cypher : % s\" %(cypher))\n",
    "print(\"The recovered message after decryption is\")\n",
    "print(\"Decrypt: % s\" %(recover))\n",
    "print(\"Compare with original message\")\n",
    "print(\"Message: % s\" %(mess))"
   ]
  },
  {
   "cell_type": "markdown",
   "metadata": {
    "id": "pT4-MWpxReyc"
   },
   "source": [
    "#### Worked Problem #3 - Alice and Bob estimate the error\n",
    "My code isn't necessarily the most pedagogically useful - do we want to make this easier for students to parse? [QKD simulator](https://qkdsimulator.com/)\n",
    "\n",
    "The next cell contains the function we'll use to \"run\" the QKD experiment. "
   ]
  },
  {
   "cell_type": "code",
   "execution_count": 2,
   "metadata": {
    "id": "QFhUR0cKniDi"
   },
   "outputs": [],
   "source": [
    "def QKDRun(NN,TT,FE,PRINT):\n",
    "# NN is the number of photons Alice sends to Bob\n",
    "# TT is the transmissivity of the channel from Alice to Bob from 0 to 1\n",
    "# FE is Eve's involvement on a scale from 0 to 1. 1 indicates she detects and resends every photon. 0 indicates she never detects and resends.    \n",
    "    if PRINT == 1:\n",
    "        print(\"Look at each bit\")\n",
    " #       print(\"Tx bit value | Tx basis | Measure & Resent? | Eve's pol | Eve's bit | Does Bob receive bit? | Rx bas | Rx bit | Bob's msmt basis | Bob's msmt bit\")\n",
    "# The above print statement is to help with debugging\n",
    "\n",
    "    # What bits did Alice's transmitted message send?\n",
    "    bits_tx = np.zeros((NN)) - 1\n",
    "    # What polarization did Alice use?\n",
    "    pol_tx = np.zeros((NN)) - 1\n",
    "\n",
    "    # Did the photon make it?\n",
    "    photon_rx = np.zeros((NN)) - 1\n",
    "    # Bob's measurement basis\n",
    "    pol_rx = np.zeros((NN)) - 1\n",
    "    # Bob's received photons\n",
    "    bits_rx = np.zeros((NN)) - 1\n",
    "\n",
    "    # Did Eve interefere?\n",
    "    Eve_rx = np.zeros((NN)) - 1\n",
    "    Eve_pol = np.zeros((NN)) - 1\n",
    "    Eve_bit = np.zeros((NN)) - 1\n",
    "\n",
    "\n",
    "\n",
    "    for i in range (NN):\n",
    "        # Alice generates a random bit to send\n",
    "        bit_A = random.randint(0,1)\n",
    "        bits_tx[i] = bit_A\n",
    "        # Now she selects a basis\n",
    "        bas_A = random.randint(0,1)\n",
    "        pol_tx[i] = bas_A\n",
    "\n",
    "       # Now decide if Eve does something\n",
    "        if random.random() <= FE: # if Eve -DOES- decide to eavesdrop & send\n",
    "            Eve_rx[i] = 1 # Record that this is an occurence of Eve eavesdropping\n",
    "            Eve_bas = random.randint(0,1) # She randomly selects a basis\n",
    "            Eve_pol[i] = Eve_bas\n",
    "            if Eve_bas == bas_A: # If her basis matches Alice's\n",
    "                Eve_bit[i] = bit_A # Then she recovers the bit perfectly\n",
    "            else:\n",
    "                Eve_bit[i] = random.randint(0,1) # otherwise, it's a coin toss   \n",
    "            bit_rx = Eve_bit[i] # Now the bit Bob receives will be the bit Eve sends\n",
    "            bas_rx = Eve_bas # In the basis that Eve sends\n",
    "        else: # If Eve isn't measuring and sending out photons\n",
    "            Eve_bas = -1\n",
    "            pho_E = 0 # Mark this as no Eve involvement\n",
    "            bit_rx = bit_A # The bit Bob receives is ths bit Alice sends\n",
    "            bas_rx = bas_A # in the basis in which Alice sent it\n",
    "\n",
    "        # If the photon makes it through the loss channel\n",
    "        if random.random() <= TT:\n",
    "            photon_rx[i] = 1\n",
    "            bas_B = random.randint(0,1) # Bob randomly selects a basis\n",
    "            pol_rx[i] = bas_B\n",
    "            if bas_B == bas_rx:\n",
    "                bit_B = bit_rx\n",
    "            else:\n",
    "                bit_B = random.randint(0,1)\n",
    "            bits_rx[i] = bit_B\n",
    "        else:\n",
    "            photon_rx[i] = 0;\n",
    "            bas_B = -1;\n",
    "#       print(\"Tx bit value | Tx basis | Measure & Resent? | Eve's pol | Eve's bit | Does Bob receive bit? | Rx bas | Rx bit | Bob's msmt basis | Bob's msmt bit\")\n",
    "        if PRINT == 1:\n",
    "           # print(\"%d | %d | %d | %d | %d | %d | %d | %d | %d | %d\" %(bit_A,bas_A,Eve_rx[i],Eve_bas,Eve_bit[i],photon_rx[i],bas_rx,bit_rx,pol_rx[i],bits_rx[i]))\n",
    "           # The above print statement is to help with debugging. It wil show you the value of the array, which is good for debugging but not particularly easy for a human to parse\n",
    "            print(\"\\nFor bit %d\" %(i))\n",
    "            print(\"Alice sent bit value %d with basis %s\" %(bit_A,basisdef(bas_A)))\n",
    "            if photon_rx[i]==1:\n",
    "                if Eve_rx[i]==1:\n",
    "                    print(\"Eve measured with %s and saw bit value %d and sent Bob a bit with those values\" %(basisdef(Eve_bas),Eve_bit[i]))\n",
    "                    print(\"Bob received the bit value %d in basis %s\" %(Eve_bit[i], basisdef(Eve_bas)))\n",
    "                else:\n",
    "                    print(\"Eve did not do a measurement.\")\n",
    "                    print(\"Bob received the bit value %d in basis %s\" %(bit_rx,basisdef(bas_rx)))\n",
    "                print(\"Bob used basis %s and measured bit value %d\"%(basisdef(pol_rx[i]),bits_rx[i]))\n",
    "            else:\n",
    "                if Eve_rx[i]==1:\n",
    "                    print(\"Eve measured with %s and saw bit value %d\" %(basisdef(Eve_bas),Eve_bit[i]))\n",
    "                    print(\"She sent that to Bob, but Bob didn't receive a photon\")\n",
    "                else:\n",
    "                    print(\"Eve did no measurement, and Bob didn't receive a photon\")\n",
    "    # now do some processing\n",
    "    \n",
    "    \n",
    "\n",
    "\n",
    "    # First limit ourselves to cases where Alice and Bob used the same bases\n",
    "    ix = np.array([np.where(pol_tx == pol_rx)])\n",
    "    bits_tx_sifted = np.array(bits_tx[ix])\n",
    "    bits_tx_sifted = bits_tx_sifted[0,0]\n",
    "    bits_rx_sifted = np.array(bits_rx[ix])\n",
    "    bits_rx_sifted = bits_rx_sifted[0,0]\n",
    "\n",
    "    # Now look bit error rate (BER)\n",
    "    errors = (bits_tx_sifted != bits_rx_sifted).astype(int)\n",
    "    errors_total = errors.sum()\n",
    "    usable_key = ix.size - errors_total\n",
    "    if ix.size >0:\n",
    "      BER = 1.0/ix.size * errors.sum()\n",
    "    else:\n",
    "      BER = 0.5\n",
    "\n",
    "    # What did Eve get?\n",
    "    ixe = np.array([np.where((Eve_rx ==1) & (Eve_pol == pol_tx))])\n",
    "\n",
    "    if PRINT == 1:\n",
    "      print(\"\\nAlice sent Bob % d bits\"% NN)\n",
    "      print(\"Bob received % d bits\"% photon_rx.sum())\n",
    "      print(\"They used the same basis in %d of those bits\" %ix.size)\n",
    "      print(\"This resulted in a total of %d bits without errors\" %usable_key)\n",
    "      print(\"The BER was %10.2E\" %BER)\n",
    "      print(\"Eve got %d bits\" %ixe.size)        \n",
    "    return photon_rx.sum(),ix.size,usable_key,BER,ixe.size\n",
    "\n",
    "\n",
    "def basisdef(basis):\n",
    "    if basis:\n",
    "        return \"HV\"\n",
    "    else:\n",
    "        return \"AD\""
   ]
  },
  {
   "cell_type": "markdown",
   "metadata": {
    "id": "0n3EMQomp9T3"
   },
   "source": [
    "First let's run the code with short number of bits and print out the detailed results for each bit. This will help you to see how different factors affect the bit Bob ultimately measures. "
   ]
  },
  {
   "cell_type": "code",
   "execution_count": 3,
   "metadata": {
    "colab": {
     "base_uri": "https://localhost:8080/"
    },
    "executionInfo": {
     "elapsed": 1047,
     "status": "ok",
     "timestamp": 1666626735098,
     "user": {
      "displayName": "Jane Heyes",
      "userId": "06068465886227403703"
     },
     "user_tz": 240
    },
    "id": "46PLUzpXqNWA",
    "outputId": "d7c736a9-2ac2-4a49-f4fd-3e80b08ef1eb"
   },
   "outputs": [
    {
     "name": "stdout",
     "output_type": "stream",
     "text": [
      "Look at each bit\n",
      "\n",
      "For bit 0\n",
      "Alice sent bit value 1 with basis AD\n",
      "Eve did not do a measurement.\n",
      "Bob received the bit value 1 in basis AD\n",
      "Bob used basis HV and measured bit value 1\n",
      "\n",
      "For bit 1\n",
      "Alice sent bit value 1 with basis HV\n",
      "Eve measured with AD and saw bit value 0 and sent Bob a bit with those values\n",
      "Bob received the bit value 0 in basis AD\n",
      "Bob used basis HV and measured bit value 1\n",
      "\n",
      "For bit 2\n",
      "Alice sent bit value 1 with basis HV\n",
      "Eve did not do a measurement.\n",
      "Bob received the bit value 1 in basis HV\n",
      "Bob used basis HV and measured bit value 1\n",
      "\n",
      "For bit 3\n",
      "Alice sent bit value 0 with basis HV\n",
      "Eve measured with HV and saw bit value 0 and sent Bob a bit with those values\n",
      "Bob received the bit value 0 in basis HV\n",
      "Bob used basis HV and measured bit value 0\n",
      "\n",
      "For bit 4\n",
      "Alice sent bit value 1 with basis HV\n",
      "Eve did not do a measurement.\n",
      "Bob received the bit value 1 in basis HV\n",
      "Bob used basis HV and measured bit value 1\n",
      "\n",
      "For bit 5\n",
      "Alice sent bit value 1 with basis AD\n",
      "Eve did not do a measurement.\n",
      "Bob received the bit value 1 in basis AD\n",
      "Bob used basis HV and measured bit value 1\n",
      "\n",
      "For bit 6\n",
      "Alice sent bit value 1 with basis AD\n",
      "Eve did not do a measurement.\n",
      "Bob received the bit value 1 in basis AD\n",
      "Bob used basis AD and measured bit value 1\n",
      "\n",
      "For bit 7\n",
      "Alice sent bit value 0 with basis AD\n",
      "Eve did not do a measurement.\n",
      "Bob received the bit value 0 in basis AD\n",
      "Bob used basis AD and measured bit value 0\n",
      "\n",
      "For bit 8\n",
      "Alice sent bit value 1 with basis HV\n",
      "Eve did not do a measurement.\n",
      "Bob received the bit value 1 in basis HV\n",
      "Bob used basis HV and measured bit value 1\n",
      "\n",
      "For bit 9\n",
      "Alice sent bit value 1 with basis AD\n",
      "Eve did not do a measurement.\n",
      "Bob received the bit value 1 in basis AD\n",
      "Bob used basis HV and measured bit value 0\n",
      "\n",
      "Alice sent Bob  10 bits\n",
      "Bob received  10 bits\n",
      "They used the same basis in 7 of those bits\n",
      "This resulted in a total of 7 bits without errors\n",
      "The BER was   0.00E+00\n",
      "Eve got 1 bits\n"
     ]
    }
   ],
   "source": [
    "NN = 10\n",
    "FE = 0.25\n",
    "TT = 0.95\n",
    "\n",
    "\n",
    "bits_rx, basis_match, keylength, BER, Eve = QKDRun(NN,TT,FE,1)"
   ]
  },
  {
   "cell_type": "markdown",
   "metadata": {
    "id": "SnI4VkIPpglY"
   },
   "source": [
    "Now let's run the QKD experiment keeping everything constant EXCEPT for the tranismissivity of the channel. We'll change the transmissivity of the channel each time we run the experiment, and then we can see how that affects the key length."
   ]
  },
  {
   "cell_type": "code",
   "execution_count": 4,
   "metadata": {
    "colab": {
     "base_uri": "https://localhost:8080/",
     "height": 295
    },
    "executionInfo": {
     "elapsed": 435,
     "status": "ok",
     "timestamp": 1666626740786,
     "user": {
      "displayName": "Jane Heyes",
      "userId": "06068465886227403703"
     },
     "user_tz": 240
    },
    "id": "m2lgyvmooOLi",
    "outputId": "d3cb288d-790a-415e-faf0-51c9e05a1c63"
   },
   "outputs": [
    {
     "data": {
      "image/png": "[encoded data removed]",
      "text/plain": [
       "<Figure size 432x288 with 1 Axes>"
      ]
     },
     "metadata": {
      "needs_background": "light"
     },
     "output_type": "display_data"
    }
   ],
   "source": [
    "# Change the transmissivity between Alice and Bob to see how that affects the key length \n",
    "import matplotlib.pyplot as plt\n",
    "\n",
    "# How many photons does Alice send Bob?\n",
    "NN = 100\n",
    "# Transmissivity of the channel between Alice and Bob?\n",
    "# Set a range with a maximum of 1\n",
    "TT = np.linspace(0.0,1,5)\n",
    "# Set Eve's involvement. Range is [0 1]\n",
    "FE = 0\n",
    "# Initialize array\n",
    "kl = np.zeros((TT.size))\n",
    "\n",
    "\n",
    "# Run the QKD experiment for each value of transmissivity\n",
    "for y in range(TT.size):\n",
    "    tx = TT[y]\n",
    "    bits_rx, basis_match, keylength, BER, Eve = QKDRun(NN,tx,FE,0)\n",
    "    kl[y] = keylength\n",
    "\n",
    "# Now plot the key length as a function of transmissivity\n",
    "fig, ax = plt.subplots()\n",
    "ax.plot(TT, kl)\n",
    "ax.set_xlabel('Transmissivity from Alice to Bob')\n",
    "ax.set_xlim(0,1)\n",
    "ax.set_ylabel('Key length (in bits)')\n",
    "ax.set_title(\"Key length as function of transmissivity\")\n",
    "plt.show()    "
   ]
  },
  {
   "cell_type": "markdown",
   "metadata": {
    "id": "cw_nJO0Epxa5"
   },
   "source": [
    "Now let's do the same thing but with Eve's involvement. We'll look at how the frequency of her attacks affects the length of the key."
   ]
  },
  {
   "cell_type": "code",
   "execution_count": 5,
   "metadata": {
    "colab": {
     "base_uri": "https://localhost:8080/",
     "height": 295
    },
    "executionInfo": {
     "elapsed": 471,
     "status": "ok",
     "timestamp": 1666626746243,
     "user": {
      "displayName": "Jane Heyes",
      "userId": "06068465886227403703"
     },
     "user_tz": 240
    },
    "id": "dYTAz2QGo5Op",
    "outputId": "ff027596-d667-46a7-e8bb-7f087910b3c0"
   },
   "outputs": [
    {
     "data": {
      "image/png": "[encoded data removed]",
      "text/plain": [
       "<Figure size 432x288 with 1 Axes>"
      ]
     },
     "metadata": {
      "needs_background": "light"
     },
     "output_type": "display_data"
    }
   ],
   "source": [
    "# Now change Eve's involvement\n",
    "\n",
    "NN = 100\n",
    "FE_all = np.linspace(0.0,1.0,5)\n",
    "TT = 0.95\n",
    "kl = np.zeros((FE_all.size))\n",
    "\n",
    "\n",
    "\n",
    "for y in range(FE_all.size):\n",
    "    FE_this = FE_all[y]\n",
    "    bits_rx, basis_match, keylength, BER, Eve = QKDRun(NN,TT,FE_this,0)\n",
    "    kl[y] = keylength*(1-BER)\n",
    "\n",
    "fig, ax = plt.subplots()\n",
    "ax.plot(FE_all, kl)\n",
    "ax.set_xlabel('Detect-resend rate of Eve')\n",
    "ax.set_xlim(0,1)\n",
    "ax.set_ylabel('Key length without errors (in bits)')\n",
    "ax.set_title(\"Key length as function of Eve's involvement\")\n",
    "plt.show()    "
   ]
  },
  {
   "cell_type": "markdown",
   "metadata": {
    "id": "vxxc7t2nReyf"
   },
   "source": [
    "Based on this code, we see that as Eve listens in more often, she receives more bits of the key. Alice and Bob can see a difference in the BER as Eve listens in more often. When Eve listens every time, the BER is > 20%. When Eve never listens in, the BER is 0 (ie no errors).\n",
    "_Do we want them to plot BER as a function of how often Eve listens in?_"
   ]
  },
  {
   "cell_type": "markdown",
   "metadata": {
    "id": "VsLA2CvJReyi"
   },
   "source": [
    "#### Worked Problem #4 - ThorLabs QKD analogy\n",
    "QKD's security is based on the [\"No-Cloning Theorem\"](https://https://en.wikipedia.org/wiki/No-cloning_theorem), and the classical light source sends more than one photon per pulse. So, Eve can siphon off some light and then you're hosed."
   ]
  },
  {
   "cell_type": "markdown",
   "metadata": {
    "id": "0vqRHjf-Reym"
   },
   "source": [
    "## Lab Data\n",
    "We can read in the lab data from the QuTools directly to Python. From there, students can sift and perform BER with their experimental data. Note that the simulation I wrote above gives you all the data you would get from the experiment. We can use that as filler data as necessary.\n",
    "\n",
    "__Raw Key__\n",
    "Alice and Bob generated a raw key of length X. When we added a transmission loss of 50%, Alice and Bob had to work twice as long to get the same key length\n",
    "\n",
    "__Sifted Key__\n",
    "Sifting require Alice and Bob to use their classical channel to learn when they used the same basis. This is important because if they don't use the same basis, Bob's measured bit is simply random. On average, we expect Alice and Bob to chose the same basis about half the time. Additionally, we expect Alice and Eve to choose the same basis about half the time.\n",
    "\n",
    "__Error Correction__\n",
    "In order to improve the BER, we had to us LDPC code. Potentially from [this GitHub with quantum LPDC encoding](https://github.com/marcoavesani/QKD_LDPC_python/find/master \"this GitHub\"). With Eve injecting 100% of the time, we found we needed a code rate X to get to BER < some cut-off.\n",
    "\n",
    "__Privacy Amplification__\n",
    "By using a hashing scheme to perform privacy amplification, we were able to bring Eve's knowledge of the key down from X to Y.\n",
    "*Hashing function to shuffle* (take the n, m, p th bits (Alice and Bob agree on the bits beforeheand) and then take the sum to check if even or odd, discard all bits if they disagree)\n",
    "\n",
    "__Detecting Eve__\n",
    "Our experimental BER deviated from our theory because there was some additional noise in our system. However, we were able to see the BER go from min to max when Eve was detecting and resending. _Eve can be a polarizer between Alice and Bob to mess up the basis_ \n",
    "_Eve can also do time tagging - use a trick with time delay. Eve measures with different time delay_"
   ]
  }
 ],
 "metadata": {
  "colab": {
   "provenance": []
  },
  "kernelspec": {
   "display_name": "Python 3 (ipykernel)",
   "language": "python",
   "name": "python3"
  },
  "language_info": {
   "codemirror_mode": {
    "name": "ipython",
    "version": 3
   },
   "file_extension": ".py",
   "mimetype": "text/x-python",
   "name": "python",
   "nbconvert_exporter": "python",
   "pygments_lexer": "ipython3",
   "version": "3.8.13"
  },
  "widgets": {
   "application/vnd.jupyter.widget-state+json": {
    "state": {},
    "version_major": 2,
    "version_minor": 0
   }
  }
 },
 "nbformat": 4,
 "nbformat_minor": 4
}
