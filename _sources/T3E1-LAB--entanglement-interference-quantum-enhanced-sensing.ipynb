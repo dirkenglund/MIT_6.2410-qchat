{
 "cells": [
  {
   "cell_type": "markdown",
   "id": "glYBmb6VwOSN",
   "metadata": {
    "id": "glYBmb6VwOSN",
    "tags": [
     "remove-cell"
    ]
   },
   "source": [
    "# Latex Headers\n",
    "\n",
    " - Ensure proper support for certain latex notation\n",
    " - Code below\n",
    "\n",
    "$$\\newcommand{\\ket}[1]{\\left|{#1}\\right\\rangle}$$\n",
    "$$\\newcommand{\\bra}[1]{\\left\\langle{#1}\\right|}$$\n",
    "$$\\newcommand{\\braket}[2]{\\left\\langle{#1}\\middle|{#2}\\right\\rangle}$$\n",
    "$$\\newcommand{\\adagger}[0]{\\hat{a}^{\\dagger}}$$\n",
    "$$\\newcommand{\\ahat}[0]{\\hat{a}}$$\n",
    "$$\\newcommand{\\bdagger}[0]{\\hat{b}^{\\dagger}}$$\n",
    "$$\\newcommand{\\bhat}[0]{\\hat{b}}$$\n",
    "$$\\newcommand{\\cdagger}[0]{\\hat{c}^{\\dagger}}$$\n",
    "$$\\newcommand{\\chat}[0]{\\hat{c}}$$\n",
    "$$\\newcommand{\\ddagger}[0]{\\hat{d}^{\\dagger}}$$\n",
    "$$\\newcommand{\\dhat}[0]{\\hat{d}}$$\n",
    "$$\\newcommand{\\edagger}[0]{\\hat{e}^{\\dagger}}$$\n",
    "$$\\newcommand{\\ehat}[0]{\\hat{e}}$$\n",
    "$$\\newcommand{\\fdagger}[0]{\\hat{f}^{\\dagger}}$$\n",
    "$$\\newcommand{\\fhat}[0]{\\hat{f}}$$"
   ]
  },
  {
   "cell_type": "markdown",
   "id": "bcdff4e6-8251-4c63-9061-40ac42497a11",
   "metadata": {
    "id": "bcdff4e6-8251-4c63-9061-40ac42497a11"
   },
   "source": [
    "# LAB -- Interference, Entanglement and Quantum-Enhanced Metrology"
   ]
  },
  {
   "cell_type": "markdown",
   "id": "a68afdfc-1552-4f05-8632-5e928a569e1f",
   "metadata": {},
   "source": [
    "This lab will: (1) explore the fundamental properties of quantum particles using quantum optics; (2) explore the interactions of quantum particles through interference; and (3) demonstrate how these interactions can be exploited to engineer devices for quantum-enhanced sensing. \n",
    "\n",
    "Specific aims are:\n",
    "\n",
    " 0. Introduction to the quantenkoffer\n",
    " 1. Understand SPDC generation of entangled photon pairs\n",
    " 2. Demonstrate polarization entanglement between two photons\n",
    " 3. Explore interference of a photon with itself\n",
    " 4. Use the properties of coincidence detection to measure the speed of light\n",
    " 5. Explore the interference of two single photons: the Hong-Ou-Mandel effect\n",
    " 6. **BONUS:** Develop a NOON state interferometer demonstrating supersensitivty to path length changes"
   ]
  },
  {
   "cell_type": "markdown",
   "id": "a5c7ffd5-8413-49e2-ae0e-e83f2b0c40aa",
   "metadata": {},
   "source": [
    "## Aim 0: Introduction to the Quantenkoffer (PRELAB)\n",
    "\n",
    "In this lab you will be using the [Quantenkoffer](https://qutools.com/quantenkoffer_science-kit/).  This instrument will allow us to explore the properties of single- and entangled photons. \n",
    "\n",
    "Before the lab, please familiarize yourself with the online materials.  We will also introduce specific materials throughout each of the aims below, but it is best if you familiarize yourself with the equipment ahead of time."
   ]
  },
  {
   "cell_type": "markdown",
   "id": "8edf5d90-74fa-4c24-8c94-cd22e14a8d2e",
   "metadata": {},
   "source": [
    "## Aim 1: Understand SPDC generation of entangled photon pairs\n",
    "\n",
    "In this exercise we will explore the spontaneous parametric down-conversion (SPDC) source of the Quantenkoffer."
   ]
  },
  {
   "cell_type": "markdown",
   "id": "9c8aa907-d73c-4e60-b6d2-3944dd15d6df",
   "metadata": {},
   "source": [
    "### Pre-Lab\n",
    "\n",
    "The source is shown in {numref}`fig-t3e1-lab-spdc-source`.   A useful animation of the source and detailed description is provided on the [QuTools website](https://qutools.com/spdc-animated-source/).  \n",
    "\n",
    ":::{figure-md} fig-t3e1-lab-spdc-source\n",
    "<img src=\"FIGURES/T3E1-LAB-entanglement-interference/qk-spdc-source.png\" alt=\"QK SPDC Source\" class=\"bg-primary mb-1\" width=\"800px\">\n",
    "\n",
    "A schematic view of the Quantenkoffer's SPDC source.\n",
    ":::\n",
    "\n",
    "Before the lab, please first watch this video demonstration of the source.\n",
    "\n",
    "<iframe width=\"560\" height=\"315\" src=\"https://www.youtube.com/embed/VNoJ-0_c6c8\" title=\"YouTube video player\" frameborder=\"0\" allow=\"accelerometer; autoplay; clipboard-write; encrypted-media; gyroscope; picture-in-picture\" allowfullscreen></iframe>"
   ]
  },
  {
   "cell_type": "markdown",
   "id": "b1268c18-f8b6-43b9-8e66-2789d4b9dc5b",
   "metadata": {
    "tags": []
   },
   "source": [
    "### Lab Exercise\n",
    "\n",
    "In the followign steps you will learn about the Quantenkoffer SPDC source through the detection of coincidence events.\n",
    "\n",
    " 1. After turning the quantenkoffer on, place a periscope on each source port at the left side.  Thes bring up the underlying sources to the surface.\n",
    " 2. Turn the red HeNe alignment source to full power.  You should now see a red light coming from each arm. This will be used for pre-alignment as it is following almost the same path as the single photon sources which are too weak for your eyes to detect.\n",
    " 3. Now place a periscope on the two detector ports.  These send the light down to the single-photon detectors housed under the board. \n",
    " 4. Tap a source perisocope on the left to activate the source view on the control pad.  Adjust the mirrors A1, A2, and B1 and B2 to optimize the count rates on both detectors.\n",
    " 5. Now, focusing on coincidence events (A and B), adjust the same mirrors to optimize coincidence counts.  You may note that this results in slightly less  than optimum total counts.  Tha is OK.  What we are doing is ensurin that we optimize for selection of entangled photon pairs for later experiments.\n",
    " \n",
    "Once you have completed these steps, your setup should look like that in {numref}`fig-t3e1-lab-spdc-coincidence-setup`.  Typical values might be $3\\times10^5$ total counts in A and B, with $1.5\\times10^4$ coincidence counts.  You should not proceed until you get at least $1\\times10^4$ coincidence counts.  \n",
    " \n",
    ":::{figure-md} fig-t3e1-lab-spdc-coincidence-setup\n",
    "<img src=\"FIGURES/T3E1-LAB-entanglement-interference/aim1-spdc-coincidence-setup.jpg\" alt=\"QK SPDC Coincidences\" class=\"bg-primary mb-1\" width=\"800px\">\n",
    "\n",
    "What your setup should look like for coincidence detection of the SPDC photons.  Note that here there are between 250K to 300K single electron events in each arm with 14K coincidence events.  In the histogram view, you should see a strong peak near 0 seconds.\n",
    ":::\n",
    "\n",
    "What we have been doing is ensuring that we have selected the correct locations of the output cone angles from the SPDC crystal that correspond to photon pair locations.  There are many options for optimizing the counts in either detector A or B from either cone of the SPDC output, but only two relative locations will give truly entangled photon pairs."
   ]
  },
  {
   "cell_type": "markdown",
   "id": "48ce185a-83be-4065-aa91-ce1f41e44ac3",
   "metadata": {},
   "source": [
    "## Aim 2: Demonstration of Polarization Entanglement"
   ]
  },
  {
   "cell_type": "markdown",
   "id": "2a22cb47-c08f-462b-b047-977db81101c8",
   "metadata": {},
   "source": [
    "### Prelab\n",
    "\n",
    "Before the lab, watch the following video related to the concepts we will explore in this part.  \n",
    "\n",
    "<iframe width=\"560\" height=\"315\" src=\"https://www.youtube.com/embed/126FD05vltU\" title=\"YouTube video player\" frameborder=\"0\" allow=\"accelerometer; autoplay; clipboard-write; encrypted-media; gyroscope; picture-in-picture; web-share\" allowfullscreen></iframe>"
   ]
  },
  {
   "cell_type": "markdown",
   "id": "6d784bf8-0237-4708-bec5-d0e8c38eba8f",
   "metadata": {},
   "source": [
    "## Aim 3: Single-Photon Interference"
   ]
  },
  {
   "cell_type": "markdown",
   "id": "1ff1e032-d28d-4723-8ca9-7e7d10c60a43",
   "metadata": {},
   "source": [
    "In this ecxercise we will build an interferometer to explore single-photon interference.  We will explore the coherence time of the single photons as well as the concept of interaction free measurement made possible through the wave-particle duality."
   ]
  },
  {
   "cell_type": "markdown",
   "id": "f530d404-59b0-41ad-adb2-54af6a555a9f",
   "metadata": {},
   "source": [
    "### Prelab\n",
    "\n",
    "Before the lab, watch the following video related to the concepts we will explore in this part.  \n",
    "\n",
    "<iframe width=\"560\" height=\"315\" src=\"https://www.youtube.com/embed/4d6d8BB7_n0\" title=\"YouTube video player\" frameborder=\"0\" allow=\"accelerometer; autoplay; clipboard-write; encrypted-media; gyroscope; picture-in-picture; web-share\" allowfullscreen></iframe>"
   ]
  },
  {
   "cell_type": "markdown",
   "id": "0bd2b216-58ea-4cca-8d3c-77a2348ef56c",
   "metadata": {},
   "source": [
    "### Lab Exercise"
   ]
  },
  {
   "cell_type": "markdown",
   "id": "5d1dfdf1-22a2-484b-80ab-11262c9142ee",
   "metadata": {},
   "source": [
    "#### Part 1: Single-Photon Interference\n",
    "\n",
    "1. Construct a [Michelson interferometer](https://en.wikipedia.org/wiki/Michelson_interferometer) on the quantenkoffer.  There's technically not a fixed way to do this, but an example configuration is shown in {numref}`fig-t3e1-lab-michelson-setup`.  The important thing is that we need a motorized wedge in each arm for delay control of each arm. For alignment purposes, use the following procedure.\n",
    " \n",
    "     - Turn the red reference laser on to full power\n",
    "     - Direct the beam from one port to a beamsplitter using a 90 degree mirror\n",
    "     - Place a wedge just after the transmitted and reflected arm\n",
    "     - Using the alignment target, make sure the transmitted beam is aligned to the target with the 90 degree mirror\n",
    "     - Now do the same on the reflected path using the beamsplitter\n",
    "     - Place a flat mirror on each arm\n",
    "     - Looking at the output of the beamsplitter, you should see two beams.  Make sure both ar aligned to the target just after the beamsplitter\n",
    "     - Now let the beam travel to a flat surface further away (e.g. the wall or a board) -- you should see two dots\n",
    "     - Overlap the two dots using a slight adjustment of the beamsplitter -- you will notice interference flickering when they overlap\n",
    "     - Now direct the beam toward a detector periscope, making sure it is aligned to the target as you go\n",
    "     - Optimize the coupling to the detector for the alignment laser\n",
    "     - Turn the alignment laser off and repeat this step for the single-photon source\n",
    "     - Check that both arms are well aligned, tweaking the end mirror of each arm if necessary, by blocking one at a time and looking at the detector response\n",
    " \n",
    ":::{figure-md} fig-t3e1-lab-michelson-setup\n",
    "<img src=\"FIGURES/T3E1-LAB-entanglement-interference/aim-3-michelson-setup.jpg\" alt=\"QK Michelson Setup\" class=\"bg-primary mb-1\" width=\"800px\">\n",
    "\n",
    "The configuration for a Michelson interferometer that we will use to explore single-photon interference in this lab. \n",
    ":::\n",
    "\n",
    " 2. Look for single-photon interference\n",
    " \n",
    "    - Scan throuh the wedge postions on both arms looking for interference at the detector\n",
    "    - when found, note the position near the interference on the wedges\n",
    "    - Choose a wedge to oscillate, and move it around the interference region\n",
    "    - When found, your output should look like that shown in {numref}`fig-t3e1-lab-interference-output`\n",
    "    - From this measurement, can you comment on the coherence time of the photons?  How does the interference relate to coherence time?  Explain how you determined a rough estimate of the coherence time.  \n",
    "    \n",
    "    \n",
    ":::{figure-md} fig-t3e1-lab-interference-output\n",
    "<img src=\"FIGURES/T3E1-LAB-entanglement-interference/aim-3-single-photon-interference-scan.jpg\" alt=\"QK Michelson Setup\" class=\"bg-primary mb-1\" width=\"800px\">\n",
    "\n",
    "Scanning through delay position with a wedge to see single-photon interference at an output port.  \n",
    ":::"
   ]
  },
  {
   "cell_type": "markdown",
   "id": "4b538ba8-0a6f-45d9-811c-526985d02239",
   "metadata": {},
   "source": [
    "#### Part 2: Interaction-Free Measurement\n",
    "\n",
    "Now we will use the interferometer to demonstrate the concept of [interaction-free measurement](https://en.wikipedia.org/wiki/Interaction-free_measurement).  For the case of single photons, it is possible to detect the presence of an object in one of the interferometer arms without actually interacting with it.  If the interferometer is aligned on a null, an object placed into one of the arms will casue the signal at the output to increase.  These photons sensed the presence of the object, without being absorbed!\n",
    "\n",
    " 1. Use the spinning control knob to jog the wedge to a position such that the interferometer is on a null.\n",
    " 2. Now take an opaque object and slide it in and out of one path of the interferometer.\n",
    " \n",
    "If done properly, you should see the signal increase each time the object is placed within the beam as shown in {numref}`fig-t3e1-lab-michelson-IFM`. \n",
    "\n",
    ":::{figure-md} fig-t3e1-lab-michelson-IFM\n",
    "<img src=\"FIGURES/T3E1-LAB-entanglement-interference/aim-3-single-photon-interference-IFM.jpg\" alt=\"QK Michelson Setup\" class=\"bg-primary mb-1\" width=\"800px\">\n",
    "\n",
    "Each time the object is placed in the beam, the signal in channel B increases.  This is an \"interaction-free\" measurement.\n",
    ":::"
   ]
  },
  {
   "cell_type": "markdown",
   "id": "03690c52-1262-4a6f-9882-eca004a32cb0",
   "metadata": {},
   "source": [
    "## Aim 4: Understanding Coincidence Detection -- Speed of Light Measurement"
   ]
  },
  {
   "cell_type": "markdown",
   "id": "4e0379d4-d8aa-4258-a2e8-43ea97b59d47",
   "metadata": {},
   "source": [
    "## Aim 5: Single-Photon Interference and NOON State Generation -- Hong Ou Mandel Effect"
   ]
  },
  {
   "cell_type": "markdown",
   "id": "ab66070f-7db2-4d54-bba0-20c25b76f6aa",
   "metadata": {},
   "source": [
    "## **BONUS** Aim 6: Quantum-Enhanced Measurement with a NOON State Interferometer"
   ]
  },
  {
   "cell_type": "markdown",
   "id": "1881526d-6ee8-4709-9b05-5bb8b146b0e8",
   "metadata": {},
   "source": [
    "<iframe src=\"https://drive.google.com/file/d/1DRJjQdnbupAooSxLQuY_es3w9Idbgdeg/preview\" width=\"640\" height=\"480\" allow=\"autoplay\"></iframe>"
   ]
  }
 ],
 "metadata": {
  "colab": {
   "collapsed_sections": [],
   "provenance": []
  },
  "jupytext": {
   "formats": "ipynb,markdown//md:myst"
  },
  "kernelspec": {
   "display_name": "Python 3 (ipykernel)",
   "language": "python",
   "name": "python3"
  },
  "language_info": {
   "codemirror_mode": {
    "name": "ipython",
    "version": 3
   },
   "file_extension": ".py",
   "mimetype": "text/x-python",
   "name": "python",
   "nbconvert_exporter": "python",
   "pygments_lexer": "ipython3",
   "version": "3.8.15"
  },
  "widgets": {
   "application/vnd.jupyter.widget-state+json": {
    "state": {},
    "version_major": 2,
    "version_minor": 0
   }
  }
 },
 "nbformat": 4,
 "nbformat_minor": 5
}
