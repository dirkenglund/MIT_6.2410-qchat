{
 "cells": [
  {
   "cell_type": "markdown",
   "id": "glYBmb6VwOSN",
   "metadata": {
    "id": "glYBmb6VwOSN",
    "tags": [
     "remove-cell"
    ]
   },
   "source": [
    "# Latex Headers\n",
    "\n",
    " - Ensure proper support for certain latex notation\n",
    " - Code below\n",
    "\n",
    "$$\\newcommand{\\ket}[1]{\\left|{#1}\\right\\rangle}$$\n",
    "$$\\newcommand{\\bra}[1]{\\left\\langle{#1}\\right|}$$\n",
    "$$\\newcommand{\\braket}[2]{\\left\\langle{#1}\\middle|{#2}\\right\\rangle}$$\n",
    "$$\\newcommand{\\adagger}[0]{\\hat{a}^{\\dagger}}$$\n",
    "$$\\newcommand{\\ahat}[0]{\\hat{a}}$$\n",
    "$$\\newcommand{\\bdagger}[0]{\\hat{b}^{\\dagger}}$$\n",
    "$$\\newcommand{\\bhat}[0]{\\hat{b}}$$\n",
    "$$\\newcommand{\\cdagger}[0]{\\hat{c}^{\\dagger}}$$\n",
    "$$\\newcommand{\\chat}[0]{\\hat{c}}$$\n",
    "$$\\newcommand{\\ddagger}[0]{\\hat{d}^{\\dagger}}$$\n",
    "$$\\newcommand{\\dhat}[0]{\\hat{d}}$$\n",
    "$$\\newcommand{\\edagger}[0]{\\hat{e}^{\\dagger}}$$\n",
    "$$\\newcommand{\\ehat}[0]{\\hat{e}}$$\n",
    "$$\\newcommand{\\fdagger}[0]{\\hat{f}^{\\dagger}}$$\n",
    "$$\\newcommand{\\fhat}[0]{\\hat{f}}$$"
   ]
  },
  {
   "cell_type": "markdown",
   "id": "bcdff4e6-8251-4c63-9061-40ac42497a11",
   "metadata": {
    "id": "bcdff4e6-8251-4c63-9061-40ac42497a11"
   },
   "source": [
    "# LAB -- Interference, Entanglement and Quantum-Enhanced Metrology"
   ]
  },
  {
   "cell_type": "markdown",
   "id": "a68afdfc-1552-4f05-8632-5e928a569e1f",
   "metadata": {},
   "source": [
    "This lab will: (1) explore the fundamental properties of quantum particles using quantum optics; (2) explore the interactions of quantum particles through interference; and (3) demonstrate how these interactions can be exploited to engineer devices for quantum-enhanced sensing. In particular we will show how quantum states of light can be engineered to provide improved detection of changes in displacement (for example small physical movements of one object relative to another). \n",
    "\n",
    "Specific aims are:\n",
    "\n",
    " 1. Introduction to the quantenkoffer\n",
    " 2. Understand SPDC photon pair generation, allignment, and coincidence measurements \n",
    " 3. Use the properties of coincidence detection to measure the speed of light\n",
    " 4. Demonstrate polarization entanglement between two photons\n",
    " 5. Explore interference of a photon with itself\n",
    " 6. Explore the interference of two single photons: the Hong-Ou-Mandel effect\n",
    " 7. **BONUS:** Develop a NOON state interferometer demonstrating supersensitivty to path length changes\n",
    " \n",
    "```{note} \n",
    "Throughout the labs you will be expected to keep notes.  This is important for both collecting, analyzing, and gathering your own thoughts about observations and data collected.  You will use these notes to develop your final writeup.  You can work together on their collection and in answering questions.  All questions and action items to be addressed in your writeups are marked with **AI** below.  \n",
    "```"
   ]
  },
  {
   "cell_type": "markdown",
   "id": "a5c7ffd5-8413-49e2-ae0e-e83f2b0c40aa",
   "metadata": {},
   "source": [
    "## Aim 1: Introduction to the Quantenkoffer (Day 1)\n",
    "\n",
    "In this lab you will be using the [Quantenkoffer](https://qutools.com/quantenkoffer_science-kit/).  This instrument will allow us to explore the properties of single photons and pairs of entangled photons. \n",
    "\n",
    "Before the lab, we have already introduced you to the system and guided you through the basics of the interface and entangled photon source.   Take 10-15 minutes to explore the instrument a bit.  Look through the menus, the differnt options, the different bricks available, etc.  Ask your instructor about things you are confused about.  There is also a manual along with the online materials you can use.  "
   ]
  },
  {
   "cell_type": "markdown",
   "id": "8edf5d90-74fa-4c24-8c94-cd22e14a8d2e",
   "metadata": {},
   "source": [
    "## Aim 2: Understand SPDC generation of entangled photon pairs (Day 1)\n",
    "\n",
    "In this exercise we will explore the spontaneous parametric down-conversion (SPDC) source of the Quantenkoffer."
   ]
  },
  {
   "cell_type": "markdown",
   "id": "9c8aa907-d73c-4e60-b6d2-3944dd15d6df",
   "metadata": {},
   "source": [
    "### Before Getting Started\n",
    "\n",
    "The source is shown in {numref}`fig-t3e1-lab-spdc-source`.   A useful animation of the source and detailed description is provided on the [QuTools website](https://qutools.com/spdc-animated-source/).  \n",
    "\n",
    ":::{figure-md} fig-t3e1-lab-spdc-source\n",
    "<img src=\"FIGURES/T3E1-LAB-entanglement-interference/qk-spdc-source.png\" alt=\"QK SPDC Source\" class=\"bg-primary mb-1\" width=\"800px\">\n",
    "\n",
    "A schematic view of the Quantenkoffer's SPDC source.\n",
    ":::\n",
    "\n",
    "For more information about the source, you can read about SPDC generation [here](https://en.wikipedia.org/wiki/Spontaneous_parametric_down-conversion), and watch this video demonstration.\n",
    "\n",
    "<iframe width=\"560\" height=\"315\" src=\"https://www.youtube.com/embed/VNoJ-0_c6c8\" title=\"YouTube video player\" frameborder=\"0\" allow=\"accelerometer; autoplay; clipboard-write; encrypted-media; gyroscope; picture-in-picture\" allowfullscreen></iframe>"
   ]
  },
  {
   "cell_type": "markdown",
   "id": "b1268c18-f8b6-43b9-8e66-2789d4b9dc5b",
   "metadata": {
    "tags": []
   },
   "source": [
    "### Lab Exercise\n",
    "\n",
    "In the followign steps you will learn about the Quantenkoffer SPDC source through the detection of coincidence events.  \n",
    "\n",
    " 1. After turning the quantenkoffer on, place a periscope on each source port at the left side.  Thes bring up the underlying source photons in each path $A$ and $B$ to the surface.\n",
    " 2. Now place a periscope on the two detector ports.  These send the photons in $A$ and $B$ down to the single-photon detectors housed under the board. \n",
    " 4. Tap the top of either source perisocope on the left to activate the source view on the control pad.  Adjust the mirrors A1, A2, and B1 and B2 to optimize the count rates on both detectors.  (Tip: if the system seems far out of alignment, you can use the adjustement laser at very low power, a few percent, to help get started here).  \n",
    " 5. Now, focusing on coincidence events (A and B), adjust the same mirrors to optimize coincidence counts.  This might result in slightly less  than optimum total counts.  Tha is OK.  What we are doing is ensuring that we optimize for selection of entangled photon pairs for later experiments.\n",
    " \n",
    "Once you have completed these steps, your setup should look like that in {numref}`fig-t3e1-lab-spdc-coincidence-setup`.  Typical values might be $3\\times10^5$ total counts in A and B, with $1.5\\times10^4$ coincidence counts.  You should not proceed until you get at least $1\\times10^4$ coincidence counts.  \n",
    " \n",
    ":::{figure-md} fig-t3e1-lab-spdc-coincidence-setup\n",
    "<img src=\"FIGURES/T3E1-LAB-entanglement-interference/aim1-spdc-coincidence-setup.jpg\" alt=\"QK SPDC Coincidences\" class=\"bg-primary mb-1\" width=\"800px\">\n",
    "\n",
    "What your setup should look like for coincidence detection of the SPDC photons.  Note that there are between 250K to 300K single electron events in each arm with 14K coincidence events in the image.  In the histogram view, you should see a strong peak near 0 seconds.  This value can be tuned with the APD delay settings.\n",
    ":::\n",
    "\n",
    "What we have been doing is ensuring that we have selected the correct locations of the output cone angles from the SPDC crystal that correspond to photon pair locations (read more about the SPDC generation [here](https://en.wikipedia.org/wiki/Spontaneous_parametric_down-conversion)).  There are many options for optimizing the counts in detector A or B from either cone of the SPDC output, but only two relative locations will give true pairs of entangled photons. \n",
    "\n",
    "**AI** Record your count rates and coincidence counts.  What is the ratio? Think through and discuss why the experimental coincidence count rates are lower than the single counts on either detector alone, and how this ratio might be improved through engineering.\n",
    "\n",
    "**AI** What is the duration of the coincidence peak in your histogram window?  Do you think this duration is due to the true coincidence timing window of the photons, or to technical limitations (e.g. detector rise/fall time, or other systematic causes)?  "
   ]
  },
  {
   "cell_type": "markdown",
   "id": "20ea4cdb-61ab-462d-95e3-5e77c4231f84",
   "metadata": {},
   "source": [
    "## Aim 3: Understanding Coincidence Detection -- Speed of Light Measurement\n",
    "\n",
    "The purpose of this aim is to think more critically about the histogram and how it is being compiled.  To do this, we will put it to use to measure the speed of light.  In terms of experimental capabilities, you will learn how to align two beams such that they are perfectly overlapped in space after a beam-combiner (i.e. along the exact same line).  We will use this skill a lot as we move forward when aligning interferometers.  \n",
    "\n",
    "Given the short duration of the coincidence histogram peak in time, we can use it to measure the speed of light as the photons travel across the board.  We can do this by splitting off some photons in one arm so that they travel a longer distance than the other -- those photons then  experience a longer delay time before making it to the detector.  Thus, when looking for coincidences, we now will find a double-peaked histogram.   \n",
    "\n",
    "**AI** Based on the histogram peak duration you measured, how much spatial distance between photons would you need in order to discern two peaks?\n",
    "\n",
    "### Instructions\n",
    "\n",
    " 1. Activate the adjustment laser to full power so you can see it.\n",
    " 2. Starting from your aligned source in **Aim 1**, add in a beamsplitter to one of the paths.  \n",
    " 3. Using the target block with cross-hairs, align the beam to a separate point at the location you will place a first 45 degree mirror as shown in {numref}`fig-t3e1-lab-speed-of-light-setup`.  After alignment, place the lower-left mirror on the board.  \n",
    " 4. Repeat step (2) at the location of the second 45 degree mirror and then add the second mirror.\n",
    " 5. Now add in a second beamsplitter for combining the two paths just in front of the path $A$ detector periscope. \n",
    " 6. Use a dark object to block your newly created beampath.  Using the path $A$ source mirrors, optimize the top path into the detector.  This ensures that this path is perfectly aligned, and we now simply need to make our new path take this exact same trajectory.   \n",
    " 7. We now need to make sure the two paths are perfectly overlapped in space (*i.e.* that they lie on the exact same line after the second beamsplitter).  To do this we need to adjust the beams so that they are overlapped at the beamsplitter *and* at some distant point. Place a card behind the beamsplitter on the quantenkoffer display panel, or just use the display panel surface.  Use the second 45 deg mirror, align the two red beams so they are overlapped (see {numref}`fig-t3e1-lab-sol-near-alignment`)\n",
    " 8. Remove the periscope and project the red beams on a distant target (e.g. a white panel or wall).  Now use the second beamsplitter to align the two beams so they overlap (see {numref}`fig-t3e1-lab-sol-far-alignment`). \n",
    " 9. Repeat (6) and (7) until no adjustement is needed.\n",
    " 10. In this final part, we now go back to observing the histogram. In the coincidence histogram, you should now see two peaks.  If not, or if one is faint, you can fine adjust the mirror and beamsplitter from (6) and (7) to achieve a balanced two-peak structure (however, this is not strictly needed for this measurement).  \n",
    " 11. Using the cursors in the histogram view, determine the temporal spacing of the two peaks and record this value along with the histogram trace.\n",
    " \n",
    ":::{figure-md} fig-t3e1-lab-speed-of-light-setup\n",
    "<img src=\"FIGURES/T3E1-LAB-entanglement-interference/aim-2-speed-of-light-setup.jpg\" alt=\"QK Speed of Light\" class=\"bg-primary mb-1\" width=\"800px\">\n",
    "\n",
    "An example speed of light test setup.  Path A has been split into two paths.  The lower path takes a longer distance before recombining at the beamsplitter and being directed to the detector.   \n",
    ":::\n",
    " \n",
    ":::{figure-md} fig-t3e1-lab-sol-near-alignment\n",
    "<img src=\"FIGURES/T3E1-LAB-entanglement-interference/aim-2-speed-of-light-near-alignment.jpg\" alt=\"QK Speed of Light\" class=\"bg-primary mb-1\" width=\"800px\">\n",
    "\n",
    "Near-field alignment.  If you see two distinct points, use the second 45 degree mirror to overlap them.\n",
    ":::\n",
    "\n",
    ":::{figure-md} fig-t3e1-lab-sol-far-alignment\n",
    "<img src=\"FIGURES/T3E1-LAB-entanglement-interference/aim-2-speed-of-light-far-alignment.jpg\" alt=\"QK Speed of Light\" class=\"bg-primary mb-1\" width=\"800px\">\n",
    "\n",
    "Far-field alignment.  You will see two points that you will need to overlap with the second beamsplitter adjustment.\n",
    ":::\n",
    "\n",
    " \n",
    "**AI** Record all information you measured, and verify that the delay measurement you made makes sense (you will need to make some distance measurements on the board for this).  "
   ]
  },
  {
   "cell_type": "markdown",
   "id": "48ce185a-83be-4065-aa91-ce1f41e44ac3",
   "metadata": {
    "tags": []
   },
   "source": [
    "## Aim 4: Demonstration of Polarization Entanglement (Day 1)"
   ]
  },
  {
   "cell_type": "markdown",
   "id": "2a22cb47-c08f-462b-b047-977db81101c8",
   "metadata": {
    "tags": []
   },
   "source": [
    "In this exercise we will use the quantenkoffer to explore the nature of the polarization-entnagled SPDC photon source.  By making quite simple polarization measurements in each arm of the detector using polarizers, you can get a hands-on feeling for the entangled nature of the source.  While these measurements are simple, they offer a lot to think about.\n",
    "\n",
    "### Instructions\n",
    "\n",
    "<iframe width=\"560\" height=\"315\" src=\"https://www.youtube.com/embed/126FD05vltU\" title=\"YouTube video player\" frameborder=\"0\" allow=\"accelerometer; autoplay; clipboard-write; encrypted-media; gyroscope; picture-in-picture; web-share\" allowfullscreen></iframe>\n",
    "\n",
    " 1. Watch the video above related to the concepts we will explore in this part, and for a description of the general setup.  \n",
    " 2. Optimize the conicidence count in each arm without any elements on the board as in **Aim 1** if needed (e.g. coincidence count lower than 10K counts per second).\n",
    " 3. Place a polarizer block in each path.\n",
    " 4. Set up a polar plot dialog on the display panel in one of the quadrants (make sure you leave the three-trace scan for detectors $A$, coincidences, and $B$).  \n",
    " 5. In the polar plot setting, set it to track the coincidence count rate in $B$ as a function of the polarizer rotation (note when you select the polarizer element, you will need to use the up-arrow to select the on-board polarizer in $B$).\n",
    " 6. Tap the polarizer in $B$ and activate its rotation.  You should now see the coincidence count rate in $B$.  \n",
    " 7. **AIs** (1) Describe the shape of the polar plot you see.  (2) Record several polar plots for two or three discrete values of the polarizer in $A$. (3) Explain why you see what you see and how it indicates polarization entanglement of the source. (4) What happens to the coincidence trace when you rotate the polarizer in $A$ manually? (5) If you switch the polar plot to track the photon number in $B$ what is the shape?  (6) Explain why you observe these two patterns and what it means about the source.\n",
    " 8. Now tap a source periscope to bring up the source controls.\n",
    " 9. Adjust the initial source half waveplate to be in the (H)orizontal position (see {numref}`fig-t3e1-lab-entanglement-HWP-control` for the half waveplate control selection).  This causes only vertical photon pairs to be generated in the SPDC source: $\\ket{V}_a\\ket{V}_b$.  \n",
    " 10. **AIs** Repeat the action items in step 7 for this source configuration.\n",
    " 11. **AIs** Adjust the source half waveplate to (V)ertical and repeat (10).  What is the state of the output photons now?  \n",
    " 12. **AI** Explain your results in steps (10) and (11) using the analysis you performed for the prelab and in the context of polarization entanglement.  \n",
    " \n",
    ":::{figure-md} fig-t3e1-lab-entanglement-HWP-control\n",
    "<img src=\"FIGURES/T3E1-LAB-entanglement-interference/aim-3-entanglement-source-dialog.jpg\" alt=\"QK HWP Angle Adjust\" class=\"bg-primary mb-1\" width=\"800px\">\n",
    "\n",
    "The HWP control is circled in the source control dialog.  Use this to set the polarization angle of the source.\n",
    ":::"
   ]
  },
  {
   "cell_type": "markdown",
   "id": "6d784bf8-0237-4708-bec5-d0e8c38eba8f",
   "metadata": {
    "tags": [
     "remove-cell"
    ]
   },
   "source": [
    "## Aim 3: Single-Photon Interference"
   ]
  },
  {
   "cell_type": "markdown",
   "id": "1ff1e032-d28d-4723-8ca9-7e7d10c60a43",
   "metadata": {
    "tags": [
     "remove-cell"
    ]
   },
   "source": [
    "In this ecxercise we will build an interferometer to explore single-photon interference.  We will explore the coherence time of the single photons as well as the concept of interaction free measurement made possible through the wave-particle duality."
   ]
  },
  {
   "cell_type": "markdown",
   "id": "f530d404-59b0-41ad-adb2-54af6a555a9f",
   "metadata": {
    "tags": [
     "remove-cell"
    ]
   },
   "source": [
    "### Prelab\n",
    "\n",
    "Before the lab, watch the following video related to the concepts we will explore in this part.  \n",
    "\n",
    "<!--<iframe width=\"560\" height=\"315\" src=\"https://www.youtube.com/embed/4d6d8BB7_n0\" title=\"YouTube video player\" frameborder=\"0\" allow=\"accelerometer; autoplay; clipboard-write; encrypted-media; gyroscope; picture-in-picture; web-share\" allowfullscreen></iframe>--~>"
   ]
  },
  {
   "cell_type": "markdown",
   "id": "0bd2b216-58ea-4cca-8d3c-77a2348ef56c",
   "metadata": {
    "tags": [
     "remove-cell"
    ]
   },
   "source": [
    "### Lab Exercise"
   ]
  },
  {
   "cell_type": "markdown",
   "id": "5d1dfdf1-22a2-484b-80ab-11262c9142ee",
   "metadata": {
    "tags": [
     "remove-cell"
    ]
   },
   "source": [
    "#### Part 1: Single-Photon Interference\n",
    "\n",
    "1. Construct a [Michelson interferometer](https://en.wikipedia.org/wiki/Michelson_interferometer) on the quantenkoffer.  There's technically not a fixed way to do this, but an example configuration is shown in {numref}`fig-t3e1-lab-michelson-setup`.  The important thing is that we need a motorized wedge in each arm for delay control of each arm. For alignment purposes, use the following procedure.\n",
    " \n",
    "     - Turn the red reference laser on to full power\n",
    "     - Direct the beam from one port to a beamsplitter using a 90 degree mirror\n",
    "     - Place a wedge just after the transmitted and reflected arm\n",
    "     - Using the alignment target, make sure the transmitted beam is aligned to the target with the 90 degree mirror\n",
    "     - Now do the same on the reflected path using the beamsplitter\n",
    "     - Place a flat mirror on each arm\n",
    "     - Looking at the output of the beamsplitter, you should see two beams.  Make sure both ar aligned to the target just after the beamsplitter\n",
    "     - Now let the beam travel to a flat surface further away (e.g. the wall or a board) -- you should see two dots\n",
    "     - Overlap the two dots using a slight adjustment of the beamsplitter -- you will notice interference flickering when they overlap\n",
    "     - Now direct the beam toward a detector periscope, making sure it is aligned to the target as you go\n",
    "     - Optimize the coupling to the detector for the alignment laser\n",
    "     - Turn the alignment laser off and repeat this step for the single-photon source\n",
    "     - Check that both arms are well aligned, tweaking the end mirror of each arm if necessary, by blocking one at a time and looking at the detector response\n",
    " \n",
    ":::{figure-md} fig-t3e1-lab-michelson-setup\n",
    "<img src=\"FIGURES/T3E1-LAB-entanglement-interference/aim-3-michelson-setup.jpg\" alt=\"QK Michelson Setup\" class=\"bg-primary mb-1\" width=\"800px\">\n",
    "\n",
    "The configuration for a Michelson interferometer that we will use to explore single-photon interference in this lab. \n",
    ":::\n",
    "\n",
    " 2. Look for single-photon interference\n",
    " \n",
    "    - Scan throuh the wedge postions on both arms looking for interference at the detector\n",
    "    - when found, note the position near the interference on the wedges\n",
    "    - Choose a wedge to oscillate, and move it around the interference region\n",
    "    - When found, your output should look like that shown in {numref}`fig-t3e1-lab-interference-output`\n",
    "    - From this measurement, can you comment on the coherence time of the photons?  How does the interference relate to coherence time?  Explain how you determined a rough estimate of the coherence time.  \n",
    "    \n",
    "    \n",
    ":::{figure-md} fig-t3e1-lab-interference-output\n",
    "<img src=\"FIGURES/T3E1-LAB-entanglement-interference/aim-3-single-photon-interference-scan.jpg\" alt=\"QK Michelson Setup\" class=\"bg-primary mb-1\" width=\"800px\">\n",
    "\n",
    "Scanning through delay position with a wedge to see single-photon interference at an output port.  \n",
    ":::"
   ]
  },
  {
   "cell_type": "markdown",
   "id": "4b538ba8-0a6f-45d9-811c-526985d02239",
   "metadata": {
    "tags": [
     "remove-cell"
    ]
   },
   "source": [
    "#### Part 2: Interaction-Free Measurement\n",
    "\n",
    "Now we will use the interferometer to demonstrate the concept of [interaction-free measurement](https://en.wikipedia.org/wiki/Interaction-free_measurement).  For the case of single photons, it is possible to detect the presence of an object in one of the interferometer arms without actually interacting with it.  If the interferometer is aligned on a null, an object placed into one of the arms will casue the signal at the output to increase.  These photons sensed the presence of the object, without being absorbed!\n",
    "\n",
    " 1. Use the spinning control knob to jog the wedge to a position such that the interferometer is on a null.\n",
    " 2. Now take an opaque object and slide it in and out of one path of the interferometer.\n",
    " \n",
    "If done properly, you should see the signal increase each time the object is placed within the beam as shown in {numref}`fig-t3e1-lab-michelson-IFM`. \n",
    "\n",
    ":::{figure-md} fig-t3e1-lab-michelson-IFM\n",
    "<img src=\"FIGURES/T3E1-LAB-entanglement-interference/aim-3-single-photon-interference-IFM.jpg\" alt=\"QK Michelson Setup\" class=\"bg-primary mb-1\" width=\"800px\">\n",
    "\n",
    "Each time the object is placed in the beam, the signal in channel B increases.  This is an \"interaction-free\" measurement.\n",
    ":::"
   ]
  },
  {
   "cell_type": "markdown",
   "id": "4e0379d4-d8aa-4258-a2e8-43ea97b59d47",
   "metadata": {
    "tags": [
     "remove-cell"
    ]
   },
   "source": [
    "## Aim 5: Single-Photon Interference and NOON State Generation -- Hong Ou Mandel Effect"
   ]
  },
  {
   "cell_type": "markdown",
   "id": "ab66070f-7db2-4d54-bba0-20c25b76f6aa",
   "metadata": {
    "tags": [
     "remove-cell"
    ]
   },
   "source": [
    "## **BONUS** Aim 6: Quantum-Enhanced Measurement with a NOON State Interferometer"
   ]
  },
  {
   "cell_type": "markdown",
   "id": "1881526d-6ee8-4709-9b05-5bb8b146b0e8",
   "metadata": {},
   "source": [
    "<iframe src=\"https://drive.google.com/file/d/1DRJjQdnbupAooSxLQuY_es3w9Idbgdeg/preview\" width=\"640\" height=\"480\" allow=\"autoplay\"></iframe>"
   ]
  }
 ],
 "metadata": {
  "colab": {
   "collapsed_sections": [],
   "provenance": []
  },
  "jupytext": {
   "formats": "ipynb,markdown//md:myst"
  },
  "kernelspec": {
   "display_name": "Python 3 (ipykernel)",
   "language": "python",
   "name": "python3"
  },
  "language_info": {
   "codemirror_mode": {
    "name": "ipython",
    "version": 3
   },
   "file_extension": ".py",
   "mimetype": "text/x-python",
   "name": "python",
   "nbconvert_exporter": "python",
   "pygments_lexer": "ipython3",
   "version": "3.8.15"
  },
  "widgets": {
   "application/vnd.jupyter.widget-state+json": {
    "state": {},
    "version_major": 2,
    "version_minor": 0
   }
  }
 },
 "nbformat": 4,
 "nbformat_minor": 5
}
