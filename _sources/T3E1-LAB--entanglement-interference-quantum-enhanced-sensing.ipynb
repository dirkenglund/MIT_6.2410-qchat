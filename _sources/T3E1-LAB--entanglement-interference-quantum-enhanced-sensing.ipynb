{
 "cells": [
  {
   "cell_type": "markdown",
   "id": "glYBmb6VwOSN",
   "metadata": {
    "id": "glYBmb6VwOSN",
    "tags": [
     "remove-cell"
    ]
   },
   "source": [
    "# Latex Headers\n",
    "\n",
    " - Ensure proper support for certain latex notation\n",
    " - Code below\n",
    "\n",
    "$$\\newcommand{\\ket}[1]{\\left|{#1}\\right\\rangle}$$\n",
    "$$\\newcommand{\\bra}[1]{\\left\\langle{#1}\\right|}$$\n",
    "$$\\newcommand{\\braket}[2]{\\left\\langle{#1}\\middle|{#2}\\right\\rangle}$$\n",
    "$$\\newcommand{\\adagger}[0]{\\hat{a}^{\\dagger}}$$\n",
    "$$\\newcommand{\\ahat}[0]{\\hat{a}}$$\n",
    "$$\\newcommand{\\bdagger}[0]{\\hat{b}^{\\dagger}}$$\n",
    "$$\\newcommand{\\bhat}[0]{\\hat{b}}$$\n",
    "$$\\newcommand{\\cdagger}[0]{\\hat{c}^{\\dagger}}$$\n",
    "$$\\newcommand{\\chat}[0]{\\hat{c}}$$\n",
    "$$\\newcommand{\\ddagger}[0]{\\hat{d}^{\\dagger}}$$\n",
    "$$\\newcommand{\\dhat}[0]{\\hat{d}}$$\n",
    "$$\\newcommand{\\edagger}[0]{\\hat{e}^{\\dagger}}$$\n",
    "$$\\newcommand{\\ehat}[0]{\\hat{e}}$$\n",
    "$$\\newcommand{\\fdagger}[0]{\\hat{f}^{\\dagger}}$$\n",
    "$$\\newcommand{\\fhat}[0]{\\hat{f}}$$"
   ]
  },
  {
   "cell_type": "markdown",
   "id": "bcdff4e6-8251-4c63-9061-40ac42497a11",
   "metadata": {
    "id": "bcdff4e6-8251-4c63-9061-40ac42497a11"
   },
   "source": [
    "# LAB -- Interference, Entanglement and Quantum-Enhanced Metrology"
   ]
  },
  {
   "cell_type": "markdown",
   "id": "a68afdfc-1552-4f05-8632-5e928a569e1f",
   "metadata": {},
   "source": [
    "This lab will: (1) explore the fundamental properties of quantum particles using quantum optics; (2) explore the interactions of quantum particles through interference; and (3) demonstrate how these interactions can be exploited to engineer devices for quantum-enhanced sensing. \n",
    "\n",
    "Specific aims are:\n",
    "\n",
    " 0. Introduction to the quantenkoffer\n",
    " 1. Understand SPDC generation of entangled photon pairs\n",
    " 2. Explore interference of a photon with itself\n",
    " 3. Use the properties of coincidence detection to measure the speed of light\n",
    " 4. Demonstrate polarization entanglement between two photons\n",
    " 5. Explore the interference of two single photons: the Hong-Ou-Mandel effect\n",
    " 6. Develop a NOON state interferometer demonstrating supersensitivty to path length changes"
   ]
  },
  {
   "cell_type": "markdown",
   "id": "a5c7ffd5-8413-49e2-ae0e-e83f2b0c40aa",
   "metadata": {},
   "source": [
    "## Aim 0: Introduction to the Quantenkoffer (PRELAB)\n",
    "\n",
    "In this lab you will be using the [Quantenkoffer](https://qutools.com/quantenkoffer_science-kit/).  This instrument will allow us to explore the properties of single- and entangled photons. \n",
    "\n",
    "Before the lab, please familiarize yourself with the online materials.  We will also introduce specific materials throughout each of the aims below, but it is best if you familiarize yourself with the equipment ahead of time. "
   ]
  },
  {
   "cell_type": "markdown",
   "id": "8edf5d90-74fa-4c24-8c94-cd22e14a8d2e",
   "metadata": {},
   "source": [
    "## Aim 1: Understand SPDC generation of entangled photon pairs\n",
    "\n",
    "In this exercise we will explore the spontaneous parametric down-conversion (SPDC) source of the Quantenkoffer.  \n",
    "\n",
    "### Pre-Lab\n",
    "\n",
    "The source is shown in {numref}`fig-t3e1-lab-spdc-source`.   A useful animation of the source and detailed description is provided on the [QuTools website](https://qutools.com/spdc-animated-source/).  \n",
    "\n",
    ":::{figure-md} fig-t3e1-lab-spdc-source\n",
    "<img src=\"FIGURES/T3E1-LAB-entanglement-interference/qk-spdc-source.png\" alt=\"QK SPDC Source\" class=\"bg-primary mb-1\" width=\"800px\">\n",
    "\n",
    "A schematic view of the Quantenkoffer's SPDC source.\n",
    ":::\n",
    "\n",
    "Before the lab, please first watch this video demonstration of the source.\n",
    "\n",
    "<iframe width=\"560\" height=\"315\" src=\"https://www.youtube.com/embed/VNoJ-0_c6c8\" title=\"YouTube video player\" frameborder=\"0\" allow=\"accelerometer; autoplay; clipboard-write; encrypted-media; gyroscope; picture-in-picture\" allowfullscreen></iframe>\n",
    "\n",
    "### Lab Exercise\n",
    "\n",
    "In the followign steps you will learn about the Quantenkoffer SPDC source through the detection of coincidence events.\n",
    "\n",
    " 1. After turning the quantenkoffer on, place a periscope on each source port at the left side.  Thes bring up the underlying sources to the surface.\n",
    " 2. Turn the red HeNe alignment source to full power.  You should now see a red light coming from each arm. This will be used for pre-alignment as it is following almost the same path as the single photon sources which are too weak for your eyes to detect.\n",
    " 3. Now place a periscope on the two detector ports.  These send the light down to the single-photon detectors housed under the board. \n",
    " 4. \n",
    " \n",
    "Once you have completed these steps, your setup should look like that in {numref}`fig-t3e1-lab-spdc-coincidence-setup`.  \n",
    " \n",
    ":::{figure-md} fig-t3e1-lab-spdc-coincidence-setup\n",
    "<img src=\"FIGURES/T3E1-LAB-entanglement-interference/aim1-spdc-coincidence-setup.jpg\" alt=\"QK SPDC Coincidences\" class=\"bg-primary mb-1\" width=\"800px\">\n",
    "\n",
    "What your setup should look like for coincidence detection of the SPDC photons.  Note that here there are between 250K to 300K single electron events in each arm with 14K coincidence events.\n",
    ":::"
   ]
  }
 ],
 "metadata": {
  "colab": {
   "collapsed_sections": [],
   "provenance": []
  },
  "jupytext": {
   "formats": "ipynb,markdown//md:myst"
  },
  "kernelspec": {
   "display_name": "Python 3 (ipykernel)",
   "language": "python",
   "name": "python3"
  },
  "language_info": {
   "codemirror_mode": {
    "name": "ipython",
    "version": 3
   },
   "file_extension": ".py",
   "mimetype": "text/x-python",
   "name": "python",
   "nbconvert_exporter": "python",
   "pygments_lexer": "ipython3",
   "version": "3.8.13"
  },
  "widgets": {
   "application/vnd.jupyter.widget-state+json": {
    "state": {},
    "version_major": 2,
    "version_minor": 0
   }
  }
 },
 "nbformat": 4,
 "nbformat_minor": 5
}
