{
 "cells": [
  {
   "cell_type": "raw",
   "metadata": {
    "tags": [
     "hide_cell"
    ]
   },
   "source": [
    "Latex Headers\n",
    "\n",
    "$$\\newcommand{\\ket}[1]{\\left|{#1}\\right\\rangle}$$\n",
    "$$\\newcommand{\\bra}[1]{\\left\\langle{#1}\\right|}$$\n",
    "$$\\newcommand{\\braket}[2]{\\left\\langle{#1}\\middle|{#2}\\right\\rangle}$$"
   ]
  },
  {
   "cell_type": "markdown",
   "metadata": {
    "heading_collapsed": "true",
    "id": "55qduxZ8l2fY"
   },
   "source": [
    "# Chapter XX -- Quantum Information"
   ]
  },
  {
   "cell_type": "markdown",
   "metadata": {
    "id": "ilvV0lw4l2fc"
   },
   "source": [
    "In this chapter we will discuss core concepts in quantum information.  Core principles are explained through the lens of photonic implementations of quantum infromation as this will be how we explore these concepts in the laboratory for this course.  However, you should note that these concepts extend to any quantum information system.  \n",
    "\n",
    "This recitation will specifically cover the following topics:\n",
    "\n",
    "1. Quantum Bits (qubits)\n",
    "2. Quantum Gates\n",
    "3. Quantum Teleportation\n",
    "4. Quantum Error Correction\n",
    "5. Quantum Cryptography\n",
    "6. Quantum Key Distribution"
   ]
  },
  {
   "cell_type": "markdown",
   "metadata": {
    "id": "9U26-exml2fd",
    "tags": []
   },
   "source": [
    "## Packages, Functions and Variables"
   ]
  },
  {
   "cell_type": "markdown",
   "metadata": {
    "id": "cioJxZhG0JnR"
   },
   "source": [
    "The following code-block contains the packages, functions and variables needed for the code found later in this notebook.  It must be run first.  Note that if you are running this on your personal computer, you should ensure that all packages needed are installed first (for example the [numpy](https://numpy.org/), [scipy](https://scipy.org/), and [matplotlib](https://matplotlib.org/) packages must be installed on your computer along with others).  You can find a launcher link at the top to conveniently run this notebook in Google Colab.  \n",
    "\n",
    "The code below is hidden by default, but you are encouraged to expand it and study it.  The functions and constants will update as needed during the progression of the course, so you should note what new functions have been and added and study how they work.  "
   ]
  },
  {
   "cell_type": "code",
   "execution_count": 4,
   "metadata": {
    "executionInfo": {
     "elapsed": 345,
     "status": "ok",
     "timestamp": 1644857548679,
     "user": {
      "displayName": "Donnie Keathley",
      "photoUrl": "https://lh3.googleusercontent.com/a/default-user=s64",
      "userId": "12999748697637083576"
     },
     "user_tz": 300
    },
    "id": "AbXJZeivl2fd",
    "tags": [
     "hide_cell"
    ]
   },
   "outputs": [],
   "source": [
    "import numpy as np\n",
    "import matplotlib.pyplot as plt\n",
    "import ipywidgets\n",
    "import h5py\n",
    "from scipy import signal\n",
    "from scipy.interpolate import UnivariateSpline \n",
    "\n",
    "# Import the matplotlib animation tools\n",
    "# as well as the html tools for creating\n",
    "# javascript animations\n",
    "from matplotlib import animation, rc\n",
    "from IPython.display import HTML\n",
    "\n",
    "#-- Export Settings --\n",
    "# If on, then it applies a few tweaks to make sure the export looks good\n",
    "want_export=False\n",
    "\n",
    "#--Physical Constants--\n",
    "hbar = 1.054e-34 #normalized Planck constant [J*s]\n",
    "evcon = 1.602e-19 #conversion factor, [J/eV]\n",
    "eta = 119.91699832*np.pi #impedance of freespace [ohms]\n",
    "me = 9.10938188e-31 #mass of electron [kg]\n",
    "c = 2.99792458e8 #speed of light [m/s]\n",
    "e = 1.602e-19 #electron charge [C]"
   ]
  },
  {
   "cell_type": "markdown",
   "metadata": {},
   "source": [
    "## XX.1 Quantum Bits (qubits)"
   ]
  },
  {
   "cell_type": "markdown",
   "metadata": {},
   "source": [
    "Analogous to the bit, the fundamental unit of information of classical computers, a quantum bit (qubit)\n",
    "corresponds to a two level system. However, the qubit can have both values at the same time:\n",
    "\n",
    "$\\begin{equation}\n",
    "\\ket{\\psi} = c_0 \\ket{0} + c_1 \\ket{1} \n",
    "\\end{equation}$\n",
    "\n",
    "where $c_i$ are complex numbers and $\\sum_i c_i^2 = 1$. Physically, this state could be represented by the polarization\n",
    "of a photon in a particular basis (e.g., linear or circular), the population of a photon in a particular mode, or the spin orientation of a spin-1/2 particle such as an electron or spin-1/2 nucleus.\n",
    "\n",
    "Now let's consider two classical bits, which have four possible states: \n",
    "\n",
    "$\\begin{equation} \\lbrace 00, 01, 10, 11 \\rbrace \\end{equation}$\n",
    "\n",
    "The quantum register consisting of two qubits is again in all four possible states at once:\n",
    "\n",
    "$\\begin{equation} \\ket{\\psi}  = c_{00}\\ket{00} + c_{01}\\ket{01} + c_{10}\\ket{10} + c_{11}\\ket{11} \\end{equation}$\n",
    "\n",
    "This simple example already shows one of the fundamental differences -- and potential strengths -- of the quantum register: it is in all states at once.  \n",
    "\n",
    "For instance, suppose we wanted to represent the state of $N$ two-level particles, such as the polarization states of photons or the orientation of electron spins. This would us to store $2^N$ complex numbers, i.e., $2^{N+1}$ real numbers. Suppose each real number were stored in a 32-bit classical register. Then we'd need $32\\times2^{N+1}$ bits. If $N=50$, that's already 4500 tera-bytes, and if $N=500$, we would require more bits than there are atoms in the universe (double-check!).  In a quantum computer, a register of 500 qubits would suffice! Thus, we already see that for certain applications -- like trying to simulate a quantum system -- the quantum memory is exponentially more powerful than a classical memory. The idea of using a quantum system for simulating a classical system was proposed by Richard Feynman in the early eighties, and is called quantum simulation. \n",
    "\n",
    "Going back to our two-level system, an important set of state are the Bell states:\n",
    "\n",
    "$\\begin{equation} \\bigg \\lbrace \\frac{1}{\\sqrt{2}} \\big ( \\ket{00} \\pm \\ket{11} \\big ), \\frac{1}{\\sqrt{2}} \\big (\\ket{10} \\pm \\ket{01} \\big ) \\bigg \\rbrace \\end{equation}$\n",
    "\n",
    "These are maximally entangled states. Let's consider one of these in more detail, say:\n",
    "\n",
    "$\\begin{equation} \\ket{\\beta_{00}} = \\frac{1}{\\sqrt{2}} \\big ( \\ket{00} + \\ket{11} \\big ) \\end{equation}$\n",
    "\n",
    "If we measure the first qubit, we obtain either '0' or '1' with equal probability. If we measure '1', then the state is projected to $\\ket{\\psi} = \\ket{11}$; if we measure '0', then the state is projected to $\\ket{\\psi} = \\ket{00}$. The measurement outcomes are correlated, even though the two qubits could be a different locations. "
   ]
  },
  {
   "cell_type": "markdown",
   "metadata": {},
   "source": [
    "## XX.2 Quantum Gates"
   ]
  },
  {
   "cell_type": "markdown",
   "metadata": {},
   "source": [
    "### Single Qubit Gates"
   ]
  },
  {
   "cell_type": "markdown",
   "metadata": {},
   "source": [
    "1. NOT Gate\n",
    "   \n",
    "   <br>\n",
    "   \n",
    "   $X = \\ket{1} \\bra{0} + \\ket{0}\\bra{1}$\n",
    "   \n",
    "   <br>\n",
    "   \n",
    "   $X\\ket{\\psi} = X(c_0 \\ket{0} + c_1 \\ket{1}) = c_0 \\ket{1} + c_1 \\ket{0}$\n",
    "   \n",
    "   <br>\n",
    "   \n",
    "   Photonic implementation: e.g., a half wave plate (HWP) at 45 degrees to the linear polarization basis.  Recall the Jones matrix for a HWP:\n",
    "   \n",
    "   <br>\n",
    "   \n",
    "   $\\begin{equation}\n",
    "   M_{\\text{HWP}} = \n",
    "   \\begin{pmatrix}\n",
    "    \\cos{2\\theta} & \\sin{2\\theta} \\\\\n",
    "    \\sin{2\\theta} & -\\cos{2\\theta}\n",
    "   \\end{pmatrix}\n",
    "   \\end{equation}$\n",
    "   \n",
    "   <br>\n",
    "   \n",
    "2. Z Gate\n",
    "\n",
    "   <br>\n",
    "\n",
    "   $Z = \\ket{0} \\bra{0} - \\ket{1}\\bra{1}$\n",
    "   \n",
    "   <br>   \n",
    "   \n",
    "   $Z\\ket{\\psi} = Z(c_0 \\ket{0} + c_1 \\ket{1}) = c_0 \\ket{0} - c_1 \\ket{1}$\n",
    "   \n",
    "   <br>\n",
    "   \n",
    "   Photonic implementation: e.g., a HWP with $\\theta = 0$.\n",
    "   \n",
    "   <br>\n",
    "   \n",
    "3. Hadamard Gate\n",
    "\n",
    "   <br>\n",
    "\n",
    "   The purpose of this gate is to transform from the input basis to the complimentary basis.  In terms of a polarization basis, it would be essentially a rotation by 45 degrees.  \n",
    "\n",
    "   <br>\n",
    "   \n",
    "   $H = \\ket{0} \\bra{0} + \\ket{1}\\bra{0} + \\ket{0}\\bra{1} - \\ket{1}\\bra{1}$\n",
    "   \n",
    "   <br>\n",
    "   \n",
    "   $H\\ket{\\psi} = H(c_0 \\ket{0} + c_1 \\ket{1}) = \\frac{1}{\\sqrt{2}} \\big ( c_0 \\ket{0} + c_0 \\ket{1} + c_1\\ket{0} - c_1\\ket{1} \\big )$\n",
    "   \n",
    "   <br>\n",
    "   \n",
    "   $\\begin{equation}\n",
    "   M_{\\text{H}} = \n",
    "   \\frac{1}{\\sqrt{2}} \n",
    "   \\begin{pmatrix}\n",
    "    1 & 1 \\\\\n",
    "    1 & -1\n",
    "   \\end{pmatrix}\n",
    "   \\end{equation}$\n",
    "   \n",
    "   <br>   \n",
    "   \n",
    "   Photonic implementation: for polarization states, a HWP at $\\theta = 22.5^{\\circ}$; for mode basis states, a beamsplitter.  \n",
    "\n"
   ]
  },
  {
   "cell_type": "markdown",
   "metadata": {},
   "source": [
    "### Two Qubit Gates"
   ]
  },
  {
   "cell_type": "markdown",
   "metadata": {},
   "source": [
    "1. Two-qubit CNOT\n",
    "\n",
    "   <br>\n",
    "   \n",
    "   $CN = \\frac{1}{\\sqrt{2}} \\big ( \\ket{00}\\bra{00} + \\ket{01}\\bra{01} + \\ket{10}\\bra{01} + \\ket{10}\\bra{10} \\big )$\n",
    "   \n",
    "   <br>\n",
    "   \n",
    "   $\\begin{equation}\n",
    "   M_{\\text{CN}} = \n",
    "   \\frac{1}{\\sqrt{2}} \n",
    "   \\begin{pmatrix}\n",
    "    1 & & 0 & 0 \\\\\n",
    "    0 & 1 & 0 & 0\\\\\n",
    "    0 & 0 & 0 & 1\\\\\n",
    "    0 & 0 & 1 & 0\n",
    "   \\end{pmatrix}\n",
    "   \\end{equation}$\n",
    "   \n",
    "   <br>\n",
    "   \n",
    "   Photonic implementation: two single qubit phase gates and two Hadamard gates (see single qubit gates above).  \n",
    "   "
   ]
  },
  {
   "cell_type": "markdown",
   "metadata": {},
   "source": [
    "## XX.3 Quantum Teleportation"
   ]
  },
  {
   "cell_type": "markdown",
   "metadata": {},
   "source": [
    "Quantum teleportation is a technique that allows us to transfer a quantum state without physically moving the system that encodes the state. For instance, suppose Alice has a $\\ket{\\psi} = c_0 \\ket{0} + c_1 \\ket{1}$ encoded in two levels of a Cs atom in her setup in Pasadena, and suppose she wants to transfer this state to Bob's Cs atom in New York. It would be impractical to move the atom setup from Los Angeles to New York. Furthermore, Alice doesn't know the state $\\ket{\\psi}$ so measuring it would destroy it. Even if she did know the state, it would take infinitely long to transfer the information on the coefficients $c_0$ and $c_1$ since they're continuous variables. \n",
    "\n",
    "Alice and Bob can transfer the state if she and Bob also have access to one pair of an entangled state, let's say the Bell state $\\beta_{00}$ discussed above. The entangled state could consist of two Cs atoms, one in each city. "
   ]
  },
  {
   "cell_type": "markdown",
   "metadata": {},
   "source": [
    "### Teleportation With CNOT\n",
    "\n",
    "The protocol goes as follows. Alice begins with the product state of her state and $\\beta_{00}$: \n",
    "\n",
    "$\\begin{array}\n",
    " \\ket{\\psi_i} &= (c_0\\ket{0} + c_1\\ket{1}) \\bigotimes \\frac{1}{\\sqrt{2}} \\big ( \\ket{0_A \\times 0_B} + \\ket{1_A \\times 1_B} \\big ) \\\\\n",
    "              &= \\frac{1}{\\sqrt{2}} \\bigg [ \n",
    "                  c_0 \\ket{0} \\big ( \\ket{0_A \\times 0_B} + \\ket{1_A \\times 1_B} \\big ) + \n",
    "                  c_1 \\ket{1} \\big ( \\ket{0_A \\times 0_B} + \\ket{1_A \\times 1_B} \\big )\n",
    "                 \\bigg ]\n",
    " \\end{array}$\n",
    " \n",
    "Alice then sends her two qubits through a CNOT gate: \n",
    "\n",
    "$\\begin{array}\n",
    " \\ket{\\psi_1} = \\frac{1}{\\sqrt{2}} \\bigg [ \n",
    "                & c_0 \\ket{0} \\big ( \\ket{0_A \\times 0_B} + \\ket{1_A \\times 1_B} \\big ) + \\\\\n",
    "                & c_1 \\ket{1} \\big ( \\ket{1_A \\times 0_B} + \\ket{0_A \\times 1_B} \\big )\n",
    "                \\bigg ]  \n",
    " \\end{array}$\n",
    "\n",
    "... and then sends the first qubit through a Hadamard gate: \n",
    "\n",
    "$\\begin{array}\n",
    " \\ket{\\psi_2} = \\frac{1}{2} \n",
    "                \\bigg [ \n",
    "                 &c_0 \\big ( \\ket{0} + \\ket{1} \\big ) \\big ( \\ket{0_A \\times 0_B} + \\ket{1_A \\times 1_B} \\big ) + \\\\\n",
    "                 &c_1 \\big ( \\ket{0} - \\ket{1} \\big ) \\big ( \\ket{1_A \\times 0_B} + \\ket{0_A \\times 1_B} \\big )\n",
    "                \\bigg ]\n",
    " \\end{array}$\n",
    " \n",
    "$\\begin{array}\n",
    " \\ket{\\psi_2} = \\frac{1}{2} \n",
    "                \\bigg [ \n",
    "                 & \\ket{00_A} \\big ( c_0 \\ket{0_B} + c_1 \\ket{1_B} \\big ) + \\\\\n",
    "                 & \\ket{01_A} \\big ( c_0 \\ket{1_B} + c_1 \\ket{0_B} \\big ) + \\\\\n",
    "                 & \\ket{10_A} \\big ( c_0 \\ket{0_B} + c_1 \\ket{1_B} \\big ) + \\\\\n",
    "                 & \\ket{11_A} \\big ( c_0 \\ket{1_B} + c_1 \\ket{0_B} \\big )\n",
    "                \\bigg ]\n",
    " \\end{array}$\n",
    " \n",
    "Now Alice makes a joint measurement on her qubits.  She can obtain the following outcomes:\n",
    "\n",
    " * $00 \\rightarrow \\ket{\\psi_3(00)} = c_0\\ket{0_B} + c_1\\ket{1_B} \\rightarrow I \\rightarrow \\ket{\\psi_4} = \\ket{\\psi}$\n",
    " * $01 \\rightarrow \\ket{\\psi_3(01)} = c_0\\ket{1_B} + c_1\\ket{0_B} \\rightarrow X \\rightarrow \\ket{\\psi_4} = \\ket{\\psi}$\n",
    " * $10 \\rightarrow \\ket{\\psi_3(10)} = c_0\\ket{0_B} - c_1\\ket{1_B} \\rightarrow Z \\rightarrow \\ket{\\psi_4} = \\ket{\\psi}$\n",
    " * $11 \\rightarrow \\ket{\\psi_3(11)} = c_0\\ket{1_B} - c_1\\ket{0_B} \\rightarrow ZX \\rightarrow \\ket{\\psi_4} = \\ket{\\psi}$\n",
    " \n",
    "Now Alice sends Bob the result of her measurement, so that Bob can apply one of four unique single qubit gates to recover the original state $\\ket{\\psi}$.  \n",
    "\n",
    "Does teleportation violate the Theory of Relativity? No, because the protocol requires that Alice communicates the measurement result to Bob, and this (classical)  communication can't move faster than the speed of light. \n",
    "\n",
    "Teleportation shows that a quantum state can be moved between different physical informations. Quantum teleportation is also crucial for constructing gates that are protected from the environment, using redundant encoding in error correction codes. Quantum teleportation is also crucial for enabling efficient gates in certain quantum computation implementations, such as linear optics quantum computation.   "
   ]
  },
  {
   "cell_type": "markdown",
   "metadata": {},
   "source": [
    "### Teleportation Without CNOT\n",
    "\n",
    "We will consider a slightly different scheme that was used to experimentally implement quantum teleportation between two entangled photons. Assume these are in the state\n",
    "\n",
    "$\\ket{\\psi_{AB}} = \\frac{1}{\\sqrt{2}} \\big ( \\ket{0_A \\times 0_B} - \\ket{1_A \\times 1_B} \\big )$\n",
    "\n",
    "where again A and B are in possition by two Alice and Bob at different locations. Alice again has her state $\\ket{\\psi} = c_0\\ket{0} + c_1\\ket{1}$, and the full state at the beginning of the protocol is given by\n",
    "\n",
    "$\\begin{array}\n",
    " \\ket{\\psi_i} &= (c_0\\ket{0} + c_1\\ket{1}) \\bigotimes \\frac{1}{\\sqrt{2}} \\big ( \\ket{0_A \\times 0_B} + \\ket{1_A \\times 1_B} \\big ) \\\\\n",
    "              &= \\frac{1}{\\sqrt{2}} \\bigg [ \n",
    "                  c_0 \\ket{0} \\big ( \\ket{0_A \\times 0_B} + \\ket{1_A \\times 1_B} \\big ) + \n",
    "                  c_1 \\ket{1} \\big ( \\ket{0_A \\times 0_B} + \\ket{1_A \\times 1_B} \\big )\n",
    "                 \\bigg ]\n",
    " \\end{array}$\n",
    " \n",
    "The four Bell states are given by:\n",
    "\n",
    "$\\ket{\\Phi^{(\\pm)}} = \\frac{1}{\\sqrt{2}} \\big ( \\ket{00} \\pm \\ket{11} \\big )$\n",
    "\n",
    "$\\ket{\\Psi^{(\\pm)}} = \\frac{1}{\\sqrt{2}} \\big ( \\ket{01} \\pm \\ket{10} \\big )$\n",
    "\n",
    "The state $\\ket{\\psi_1}$ can be written in terms of the four Bell states:\n",
    "\n",
    "*FIXME: SEEMS LIKE THERE IS MATERIAL MISSING HERE...*"
   ]
  },
  {
   "cell_type": "markdown",
   "metadata": {},
   "source": [
    "## XX.4 Quantum Error Correction\n",
    "\n",
    "````{margin}\n",
    "```{note}\n",
    "This section follows the discussion by M. A. Nielsen and I. L. Chuang, Quantum Computation and Quantum Information  (Cambridge Univ. Press, Cambridge, 2000), Chapter 10.\n",
    "```\n",
    "````\n",
    "\n",
    "One of the primary challenges of quantum information processing is dealing with system-environment interactions. Quantum error correcting codes are a way to process quantum information reliably in the presence of noise.  Quantum error correction is a complex subject. Here, we'll consider just a simple example that protects against bit-flip errors in quantum channels. Bit flip errors is just one class of a range of sources of noise, which also include phase flip errors. \n",
    "\n",
    "Let's first consider an example of consider error correction codes: majority voting with three bits. Suppose you have a classical bit in a noisy channel, where the channel just refers to a path in space or time.  The channel could represent a photon flying from point A to B in a fiber, or a magnetic domain in a hard drive sitting there for some time interval.  Suppose that the noise in the channel causes the bit to flip with some probability p over the duration of the channel. In certain applications, a single bit error could have serious consequences, so we'd like to protect the bit.  We can do this by encoding it in redundant bits. To be specific, let's copy the single bit into three bits:\n",
    "\n",
    "$0 \\rightarrow 000$\n",
    "\n",
    "$1 \\rightarrow 111$\n",
    "\n",
    "The noisy channel could cause bit flips such as $000 \\rightarrow 001$, which happens with a probability of $p$. In majority voting, we would set the register back to $000$ after the channel. Clearly, if two or more bits flip, then majority voting fails. This happens with probability given by binomial statistics:\n",
    "\n",
    "$\\begin{eqnarray}\n",
    "  P_\\text{fail} =& \\sum_{n=2}^3 p^n (1-p)^{3-n} \n",
    "   \\begin{pmatrix}\n",
    "     3 \\\\\n",
    "     n\n",
    "   \\end{pmatrix} \\\\\n",
    "   =& 3 p^2 (1 - p) + p^3 = 3 p^2 - 2 p^3\n",
    " \\end{eqnarray}$"
   ]
  },
  {
   "cell_type": "code",
   "execution_count": 28,
   "metadata": {
    "tags": [
     "hide_input"
    ]
   },
   "outputs": [
    {
     "data": {
      "image/png": "[encoded data removed]",
      "text/plain": [
       "<Figure size 720x504 with 1 Axes>"
      ]
     },
     "metadata": {
      "needs_background": "light"
     },
     "output_type": "display_data"
    }
   ],
   "source": [
    "fig = plt.figure()\n",
    "fig.set_size_inches(10, 7)\n",
    "\n",
    "p = np.linspace(0, 1, 1000)\n",
    "P_fail_1 = p\n",
    "P_fail_3 = 3*p**2 - 2*p**3\n",
    "\n",
    "plt.plot(p, P_fail_1, label='single-bit', linewidth=3);\n",
    "plt.plot(p, P_fail_3, label='three-bit', linewidth=3);\n",
    "plt.axvline(0.5, linestyle='--', color='k')\n",
    "plt.legend(fontsize=20)\n",
    "plt.xlabel('$p$', fontsize=20)\n",
    "plt.ylabel('$P_\\mathrm{fail}$', fontsize=20)\n",
    "plt.tick_params(labelsize='14')"
   ]
  },
  {
   "cell_type": "markdown",
   "metadata": {},
   "source": [
    "We see that the majority voting code is better if $p<1/2$.\n",
    "\n",
    "The quantum error correction code must overcome three major difficulties: (1) we can't copy a quantum state; (2) errors are continuous (not discrete, as for the classical system); (3) we can't measure an unknown quantum state without perturbing it. \n",
    "\n",
    "The following example illustrates that quantum error correction is nevertheless possible and improves on the stabilty of a qubit. In analogy to the classical code, let's consider encoding a qubit into three qubits. Consider a state\n",
    "\n",
    "$\\ket{\\psi} = c_0 \\ket{0} + c_1 \\ket{1}$\n",
    "\n",
    "and encode the basis states\n",
    "\n",
    "$\\ket{0} \\rightarrow \\ket{000}$\n",
    "\n",
    "and\n",
    "\n",
    "$\\ket{1} \\rightarrow \\ket{111}$\n",
    "\n",
    "where the encoding operation can be done with the following circuit involving two CNOT gates, where we use the notation that the channel with the solid circles is the control:\n",
    "\n",
    "*FIXME: THIS FIGURE IS NOT VISIBLE TO ME WHEN I OPEN THE MATHEMATICA NOTEBOOK*\n",
    "\n",
    "Thus our information is encoded in the state\n",
    "\n",
    "$\\ket{\\psi'} = c_0\\ket{000} + c_1\\ket{111}$\n",
    "\n",
    "Now we detect if a single bit is flipped using the following *error-detection projectors*:\n",
    "\n",
    "$\\begin{eqnarray}\n",
    "P_0 =& \\ket{000}\\bra{000} + \\ket{111}\\bra{111} \\\\\n",
    "P_1 =& \\ket{100}\\bra{100} + \\ket{011}\\bra{011} \\\\\n",
    "P_2 =& \\ket{010}\\bra{010} + \\ket{101}\\bra{101} \\\\\n",
    "P_3 =& \\ket{001}\\bra{001} + \\ket{110}\\bra{110}\n",
    " \\end{eqnarray}$\n",
    " \n",
    "Suppose that with probability $p$, one of the qubits flipped, producing, say, the state\n",
    "\n",
    "$\\ket{\\psi''} = c_0 \\ket{001} + c_1 \\ket{110}$\n",
    "\n",
    "Let's check the probabilties of measuring our different projectors:\n",
    "\n",
    "$\\begin{eqnarray}\n",
    "p_0 =& \\bra{\\psi''}P_0\\ket{\\psi''} \\\\\n",
    "p_1 =& \\bra{\\psi''}P_1\\ket{\\psi''} \\\\\n",
    "p_2 =& \\bra{\\psi''}P_2\\ket{\\psi''} \\\\\n",
    "p_3 =& \\bra{\\psi''}P_3\\ket{\\psi''}\n",
    " \\end{eqnarray}$\n",
    " \n",
    "So we would certainly measure $P_3$, telling us which of the bits was flipped. The state after the measurement is \n",
    "\n",
    "$\\begin{eqnarray}\n",
    " \\ket{\\psi'''} = \\frac{P_3 \\ket{\\psi''}}{\\bra{\\psi''}P_3\\ket{\\psi''}} =& c_0\\ket{001} + c_1\\ket{110} \\\\\n",
    "               =& \\ket{\\psi}\n",
    " \\end{eqnarray}$\n",
    "\n",
    "*i.e.*, the error-detection projector did not change the state! Thus we didn't learn anything more about the coefficients in\n",
    "\n",
    "$\\ket{\\psi'} = c_0\\ket{000} + c_1\\ket{111}$\n",
    "\n",
    "so the state is still protected. All four error detection operators have this property. \n",
    "\n",
    "Conditional on the outcome of the measurement by $P_i$, we can finally restore the state by applying a NOT to the $i^{\\text{th}}$ qubit, i.e., by applying $X_i$.  \n",
    "\n",
    "Clearly, our procedure does not work when two or more spin flips have occurred. Thus, the error correction again fails with probabilty\n",
    "\n",
    "$\\begin{eqnarray}\n",
    "  P_\\text{fail} =& \\sum_{n=2}^3 p^n (1-p)^{3-n} \n",
    "   \\begin{pmatrix}\n",
    "     3 \\\\\n",
    "     n\n",
    "   \\end{pmatrix} \\\\\n",
    "   =& 3 p^2 (1 - p) + p^3 = 3 p^2 - 2 p^3\n",
    " \\end{eqnarray}$\n",
    " \n",
    "just like for the classical error correction code. "
   ]
  },
  {
   "cell_type": "markdown",
   "metadata": {},
   "source": [
    "## XX.5 Entanglement-Based QKD\n",
    "\n",
    "Alice and Bob share many entangled photon pairs of the form\n",
    "\n",
    "$\\ket{\\psi} = \\frac{\\ket{XX} + \\ket{YY}}{\\sqrt{2}}$\n",
    "\n",
    "where $x$ and $y$ are two orthogonal states; for example, $x$ and $y$ could refer to the polarization states of a photon.  We can consider another basis,\n",
    "\n",
    "$\\ket{u} = \\frac{\\ket{x} + \\ket{y}}{\\sqrt{2}}, \\ket{v} = \\frac{\\ket{x} - \\ket{y}}{\\sqrt{2}} \\text{.}$\n",
    "\n",
    "Note, the states are then also maximally entangled:\n",
    "\n",
    "$\\ket{\\psi} = \\frac{1}{\\sqrt{2}} \\bigg ( \\frac{\\ket{u} + \\ket{v}}{\\sqrt{2}} \\frac{\\ket{u} + \\ket{v}}{\\sqrt{2}} + \n",
    "              \\frac{\\ket{u} - \\ket{v}}{\\sqrt{2}} \\frac{\\ket{u} - \\ket{v}}{\\sqrt{2}} \\bigg )$\n",
    "              \n",
    "$\\ket{\\psi} = \\frac{1}{\\sqrt{2}} \\frac{\\ket{uu} + \\ket{vv}}{\\sqrt{2}}$\n",
    "\n",
    "Thus, whether Alice and Bob both measure in the x-y basis or both in the u-v basis, their results will be perfectly correlated. If they measure in different bases, their measurements are completely uncorrelated. Alice and Bob publically compare their basis choice and agree to keep only those cases where they chose the same basis. This forms the *sifted key*.\n",
    "\n",
    "Any communication will have some chance of errors, and QKD is no exception. These errors are mostly related to experimental imperfections -- for instance, imperfect detectors, lossy channels, etc. Importantly, errors can also come from eavesdropping! We therefore need to employ error correction to achieve noise-free communication. \n",
    "\n",
    "Alice, Bob, and Eve possess strings $X$, $Y$, an $Z$ after the key sifting. Alice sends Bob a message $U$ so that knowledge of $Y$ and $U$ leaves little uncertainty of $X$. \n",
    "\n",
    "To see this we can use the Shannon entropy function\n",
    "\n",
    "$H(X) = -\\sum_x p(x) \\log_2 p(x)$\n",
    "\n",
    "... and the conditional entropy function\n",
    "\n",
    "$H(X|Y = y) = \\sum_y p(y) H(X | Y = y)$\n",
    "\n",
    "The message $U$ should give Bob enough information so that\n",
    "\n",
    "$H(X|Y U) \\approx 0$\n",
    "\n",
    "*FIXME -- CONTINUE FROM HERE*"
   ]
  }
 ],
 "metadata": {
  "colab": {
   "collapsed_sections": [],
   "name": "recitation_4.ipynb",
   "provenance": []
  },
  "kernelspec": {
   "display_name": "Python 3 (ipykernel)",
   "language": "python",
   "name": "python3"
  },
  "language_info": {
   "codemirror_mode": {
    "name": "ipython",
    "version": 3
   },
   "file_extension": ".py",
   "mimetype": "text/x-python",
   "name": "python",
   "nbconvert_exporter": "python",
   "pygments_lexer": "ipython3",
   "version": "3.8.13"
  },
  "widgets": {
   "application/vnd.jupyter.widget-state+json": {
    "state": {},
    "version_major": 2,
    "version_minor": 0
   }
  }
 },
 "nbformat": 4,
 "nbformat_minor": 4
}
